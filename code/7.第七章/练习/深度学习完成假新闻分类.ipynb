{
 "cells": [
  {
   "cell_type": "code",
   "execution_count": 5,
   "id": "17625754-f8d2-4129-b1a1-4b948226050a",
   "metadata": {},
   "outputs": [
    {
     "data": {
      "text/html": [
       "<div>\n",
       "<style scoped>\n",
       "    .dataframe tbody tr th:only-of-type {\n",
       "        vertical-align: middle;\n",
       "    }\n",
       "\n",
       "    .dataframe tbody tr th {\n",
       "        vertical-align: top;\n",
       "    }\n",
       "\n",
       "    .dataframe thead th {\n",
       "        text-align: right;\n",
       "    }\n",
       "</style>\n",
       "<table border=\"1\" class=\"dataframe\">\n",
       "  <thead>\n",
       "    <tr style=\"text-align: right;\">\n",
       "      <th></th>\n",
       "      <th>title1_zh</th>\n",
       "      <th>title2_zh</th>\n",
       "      <th>label</th>\n",
       "    </tr>\n",
       "  </thead>\n",
       "  <tbody>\n",
       "    <tr>\n",
       "      <th>0</th>\n",
       "      <td>千叶湖八岁孩子不想去学英语，跳楼了</td>\n",
       "      <td>「辟谣」千叶湖八岁孩子跳楼了为谣言信息</td>\n",
       "      <td>disagreed</td>\n",
       "    </tr>\n",
       "    <tr>\n",
       "      <th>1</th>\n",
       "      <td>喝酸奶真的能补充益生菌吗？</td>\n",
       "      <td>喝酸奶来补充益生菌，靠谱么？</td>\n",
       "      <td>agreed</td>\n",
       "    </tr>\n",
       "    <tr>\n",
       "      <th>2</th>\n",
       "      <td>刚刚马云终于出手了！房价要跌，扬言房地产中介都要失业了</td>\n",
       "      <td>最新消息马云终于出手了！扬言房地产中介都要失业！6</td>\n",
       "      <td>agreed</td>\n",
       "    </tr>\n",
       "    <tr>\n",
       "      <th>3</th>\n",
       "      <td>直击“冯乡长”李正春追悼会：赵本山全程操办，赵四刘能现场祭奠</td>\n",
       "      <td>昆明会议直击“活摘”谣言</td>\n",
       "      <td>unrelated</td>\n",
       "    </tr>\n",
       "    <tr>\n",
       "      <th>4</th>\n",
       "      <td>李雨桐爆薛之谦离婚内幕，说到底就是网红之间的恩怨情仇嘛</td>\n",
       "      <td>薛之谦前女友李雨桐再次发微博爆料，薛之谦工作室发声明辟谣</td>\n",
       "      <td>disagreed</td>\n",
       "    </tr>\n",
       "  </tbody>\n",
       "</table>\n",
       "</div>"
      ],
      "text/plain": [
       "                        title1_zh                     title2_zh      label\n",
       "0               千叶湖八岁孩子不想去学英语，跳楼了           「辟谣」千叶湖八岁孩子跳楼了为谣言信息  disagreed\n",
       "1                   喝酸奶真的能补充益生菌吗？                喝酸奶来补充益生菌，靠谱么？     agreed\n",
       "2     刚刚马云终于出手了！房价要跌，扬言房地产中介都要失业了     最新消息马云终于出手了！扬言房地产中介都要失业！6     agreed\n",
       "3  直击“冯乡长”李正春追悼会：赵本山全程操办，赵四刘能现场祭奠                  昆明会议直击“活摘”谣言  unrelated\n",
       "4     李雨桐爆薛之谦离婚内幕，说到底就是网红之间的恩怨情仇嘛  薛之谦前女友李雨桐再次发微博爆料，薛之谦工作室发声明辟谣  disagreed"
      ]
     },
     "execution_count": 5,
     "metadata": {},
     "output_type": "execute_result"
    }
   ],
   "source": [
    "import pandas as pd\n",
    "\n",
    "df = pd.read_csv(\"../../../data/wsdm_mini.csv\")\n",
    "df.head()"
   ]
  },
  {
   "cell_type": "code",
   "execution_count": 6,
   "id": "0a5b4821-4d83-45d4-9bf4-a248b5c2fc55",
   "metadata": {},
   "outputs": [
    {
     "data": {
      "text/html": [
       "<div>\n",
       "<style scoped>\n",
       "    .dataframe tbody tr th:only-of-type {\n",
       "        vertical-align: middle;\n",
       "    }\n",
       "\n",
       "    .dataframe tbody tr th {\n",
       "        vertical-align: top;\n",
       "    }\n",
       "\n",
       "    .dataframe thead th {\n",
       "        text-align: right;\n",
       "    }\n",
       "</style>\n",
       "<table border=\"1\" class=\"dataframe\">\n",
       "  <thead>\n",
       "    <tr style=\"text-align: right;\">\n",
       "      <th></th>\n",
       "      <th>label</th>\n",
       "      <th>title_zh</th>\n",
       "    </tr>\n",
       "  </thead>\n",
       "  <tbody>\n",
       "    <tr>\n",
       "      <th>0</th>\n",
       "      <td>disagreed</td>\n",
       "      <td>千叶湖八岁孩子不想去学英语，跳楼了「辟谣」千叶湖八岁孩子跳楼了为谣言信息</td>\n",
       "    </tr>\n",
       "    <tr>\n",
       "      <th>1</th>\n",
       "      <td>agreed</td>\n",
       "      <td>喝酸奶真的能补充益生菌吗？喝酸奶来补充益生菌，靠谱么？</td>\n",
       "    </tr>\n",
       "    <tr>\n",
       "      <th>2</th>\n",
       "      <td>agreed</td>\n",
       "      <td>刚刚马云终于出手了！房价要跌，扬言房地产中介都要失业了最新消息马云终于出手了！扬言房地产中介...</td>\n",
       "    </tr>\n",
       "    <tr>\n",
       "      <th>3</th>\n",
       "      <td>unrelated</td>\n",
       "      <td>直击“冯乡长”李正春追悼会：赵本山全程操办，赵四刘能现场祭奠昆明会议直击“活摘”谣言</td>\n",
       "    </tr>\n",
       "    <tr>\n",
       "      <th>4</th>\n",
       "      <td>disagreed</td>\n",
       "      <td>李雨桐爆薛之谦离婚内幕，说到底就是网红之间的恩怨情仇嘛薛之谦前女友李雨桐再次发微博爆料，薛之...</td>\n",
       "    </tr>\n",
       "  </tbody>\n",
       "</table>\n",
       "</div>"
      ],
      "text/plain": [
       "       label                                           title_zh\n",
       "0  disagreed               千叶湖八岁孩子不想去学英语，跳楼了「辟谣」千叶湖八岁孩子跳楼了为谣言信息\n",
       "1     agreed                        喝酸奶真的能补充益生菌吗？喝酸奶来补充益生菌，靠谱么？\n",
       "2     agreed  刚刚马云终于出手了！房价要跌，扬言房地产中介都要失业了最新消息马云终于出手了！扬言房地产中介...\n",
       "3  unrelated         直击“冯乡长”李正春追悼会：赵本山全程操办，赵四刘能现场祭奠昆明会议直击“活摘”谣言\n",
       "4  disagreed  李雨桐爆薛之谦离婚内幕，说到底就是网红之间的恩怨情仇嘛薛之谦前女友李雨桐再次发微博爆料，薛之..."
      ]
     },
     "execution_count": 6,
     "metadata": {},
     "output_type": "execute_result"
    }
   ],
   "source": [
    "# 合并文本，然后对文本进行分词处理 \n",
    "\n",
    "df['title_zh'] = df[['title1_zh', 'title2_zh']].apply(lambda x: ''.join(x), axis=1)  # 合并文本数据列\n",
    "df_merge = df.drop(df.columns[[0, 1]], axis=1)  # 删除原文本列\n",
    "df_merge.head()"
   ]
  },
  {
   "cell_type": "code",
   "execution_count": 7,
   "id": "bc463d49-b65f-46db-8286-2eb1968c0734",
   "metadata": {},
   "outputs": [
    {
     "data": {
      "text/plain": [
       "['!', '\"', '#', '$', '%']"
      ]
     },
     "execution_count": 7,
     "metadata": {},
     "output_type": "execute_result"
    }
   ],
   "source": [
    "def load_stopwords(file_path):\n",
    "    with open(file_path, 'r', encoding='UTF-8') as f:\n",
    "        stopwords = [line.strip('\\n') for line in f.readlines()]\n",
    "    return stopwords\n",
    "stopwords = load_stopwords('../../../data/stopwords.txt')\n",
    "stopwords[0:5]"
   ]
  },
  {
   "cell_type": "code",
   "execution_count": 8,
   "id": "894e6458-bb55-41f8-9421-252ceac10a51",
   "metadata": {},
   "outputs": [
    {
     "data": {
      "application/vnd.jupyter.widget-view+json": {
       "model_id": "d1ca75540be448de864da0feaeedf32c",
       "version_major": 2,
       "version_minor": 0
      },
      "text/plain": [
       "  0%|          | 0/15000 [00:00<?, ?it/s]"
      ]
     },
     "metadata": {},
     "output_type": "display_data"
    },
    {
     "name": "stderr",
     "output_type": "stream",
     "text": [
      "Building prefix dict from the default dictionary ...\n",
      "Loading model from cache C:\\Users\\91658\\AppData\\Local\\Temp\\jieba.cache\n",
      "Loading model cost 0.483 seconds.\n",
      "Prefix dict has been built successfully.\n"
     ]
    }
   ],
   "source": [
    "from tqdm.notebook import tqdm\n",
    "import jieba\n",
    "\n",
    "# 利用 jieba 进行分词，并且取出停用词\n",
    "\n",
    "corpus = []\n",
    "for line in tqdm(df['title_zh']):\n",
    "    words = []\n",
    "    seg_list = list(jieba.cut(line))  # 分词\n",
    "    for word in seg_list:\n",
    "        if word in stopwords:  # 删除停用词\n",
    "            continue\n",
    "        words.append(word)\n",
    "    corpus.append(words)"
   ]
  },
  {
   "cell_type": "code",
   "execution_count": 9,
   "id": "c1bb5315-8e6b-4cb7-942e-d078d00e0b57",
   "metadata": {},
   "outputs": [
    {
     "data": {
      "application/vnd.jupyter.widget-view+json": {
       "model_id": "4d3168f76afc4a5f900fa63167b1ce20",
       "version_major": 2,
       "version_minor": 0
      },
      "text/plain": [
       "  0%|          | 0/15000 [00:00<?, ?it/s]"
      ]
     },
     "metadata": {},
     "output_type": "display_data"
    },
    {
     "data": {
      "text/plain": [
       "(15000, 100)"
      ]
     },
     "execution_count": 9,
     "metadata": {},
     "output_type": "execute_result"
    }
   ],
   "source": [
    "import numpy as np\n",
    "from gensim.models import Word2Vec\n",
    "\n",
    "model = Word2Vec(corpus)  # 词嵌入，默认 size=100\n",
    "\n",
    "# 整个句子所有单词向量的和，得到空间向量上这个句子的向量\n",
    "def sum_vec(text):\n",
    "    vec = np.zeros(100).reshape((1, 100))  # 初始化一个和 Word2Vec 嵌入等长度的 0 向量\n",
    "    for word in text:\n",
    "        # 得到句子中每个词的词向量并累加在一起\n",
    "        if word in list(model.wv.index_to_key):\n",
    "            vec += model.wv.get_vector(word).reshape((1, 100))\n",
    "        else:\n",
    "            pass\n",
    "    return vec\n",
    "\n",
    "# 将词向量保存为 Ndarray\n",
    "X = np.concatenate([sum_vec(z) for z in tqdm(corpus)])\n",
    "X.shape"
   ]
  },
  {
   "cell_type": "code",
   "execution_count": 10,
   "id": "66a28c2b-0ed3-425f-b17a-035bdeff3746",
   "metadata": {},
   "outputs": [
    {
     "data": {
      "text/plain": [
       "<keras.src.legacy.preprocessing.text.Tokenizer at 0x1fe1bf24a90>"
      ]
     },
     "execution_count": 10,
     "metadata": {},
     "output_type": "execute_result"
    }
   ],
   "source": [
    "import tensorflow as tf\n",
    "\n",
    "# 限定词典大小：Tokenizer 会基于你的文本数据构建一个词典（即词汇表），这个词典中会包含你文本数据中最常见的单词。num_words=10000 表示词典中只保留文本数据中最常见的前10,000个单词\n",
    "# 不保留低频词\n",
    "tokenizer = tf.keras.preprocessing.text.Tokenizer(num_words=10000)\n",
    "tokenizer"
   ]
  },
  {
   "cell_type": "code",
   "execution_count": 17,
   "id": "9cdd3dea-90db-4416-86ed-b26f2171afa9",
   "metadata": {},
   "outputs": [
    {
     "data": {
      "text/plain": [
       "[8050,\n",
       " 3262,\n",
       " 6997,\n",
       " 16,\n",
       " 690,\n",
       " 8051,\n",
       " 199,\n",
       " 19,\n",
       " 1,\n",
       " 8050,\n",
       " 3262,\n",
       " 6997,\n",
       " 16,\n",
       " 199,\n",
       " 2,\n",
       " 239]"
      ]
     },
     "execution_count": 17,
     "metadata": {},
     "output_type": "execute_result"
    }
   ],
   "source": [
    "# 基于提供的 corpus（语料库）构建词典\n",
    "tokenizer.fit_on_texts(corpus)\n",
    "\n",
    "# 将文本数据转换为数字序列\n",
    "X_ = tokenizer.texts_to_sequences(corpus)\n",
    "X_[0]"
   ]
  },
  {
   "cell_type": "code",
   "execution_count": 19,
   "id": "a22ba90e-b4ec-4734-b969-ecd98a9aa1c3",
   "metadata": {},
   "outputs": [
    {
     "name": "stdout",
     "output_type": "stream",
     "text": [
      "['千叶', '湖', '八岁', '孩子', '不想', '英语', '跳楼', '「', '辟谣', '千叶', '湖', '八岁', '孩子', '跳楼', '谣言', '信息']\n"
     ]
    },
    {
     "data": {
      "text/plain": [
       "((15000, 20),\n",
       " array([   0,    0,    0,    0, 8050, 3262, 6997,   16,  690, 8051,  199,\n",
       "          19,    1, 8050, 3262, 6997,   16,  199,    2,  239]))"
      ]
     },
     "execution_count": 19,
     "metadata": {},
     "output_type": "execute_result"
    }
   ],
   "source": [
    "for seq in X_[:1]:\n",
    "    print([tokenizer.index_word[idx] for idx in seq])\n",
    "\n",
    "# 补充输入序列长度，这里是限定输入序列，并不是实际向量，向量要经过 embedding，X_ 是词典索引数组\n",
    "# 索引序列是将文本中的每个词（或字）转换为一个唯一的整数表示，这种表示形式便于后续操作。每个索引都代表了词典中的一个词，使得整个输入序列能够统一处理\n",
    "X = tf.keras.preprocessing.sequence.pad_sequences(X_, maxlen=20)\n",
    "X.shape,X[0]"
   ]
  },
  {
   "cell_type": "code",
   "execution_count": 20,
   "id": "0dad6177-ebed-4316-afc8-79183327b68d",
   "metadata": {},
   "outputs": [
    {
     "data": {
      "text/plain": [
       "<15000x3 sparse matrix of type '<class 'numpy.float64'>'\n",
       "\twith 15000 stored elements in Compressed Sparse Row format>"
      ]
     },
     "execution_count": 20,
     "metadata": {},
     "output_type": "execute_result"
    }
   ],
   "source": [
    "# 将 label 转化为 0、1 等状态，方便计算\n",
    "from sklearn.preprocessing import OneHotEncoder\n",
    "\n",
    "encoder = OneHotEncoder()\n",
    "y_onehot = encoder.fit_transform(df.label.values.reshape(len(df), -1))\n",
    "y_onehot"
   ]
  },
  {
   "cell_type": "code",
   "execution_count": 25,
   "id": "c396f223-9852-4504-b14f-0e35f7d5926a",
   "metadata": {},
   "outputs": [
    {
     "data": {
      "text/html": [
       "<pre style=\"white-space:pre;overflow-x:auto;line-height:normal;font-family:Menlo,'DejaVu Sans Mono',consolas,'Courier New',monospace\"><span style=\"font-weight: bold\">Model: \"sequential_3\"</span>\n",
       "</pre>\n"
      ],
      "text/plain": [
       "\u001b[1mModel: \"sequential_3\"\u001b[0m\n"
      ]
     },
     "metadata": {},
     "output_type": "display_data"
    },
    {
     "data": {
      "text/html": [
       "<pre style=\"white-space:pre;overflow-x:auto;line-height:normal;font-family:Menlo,'DejaVu Sans Mono',consolas,'Courier New',monospace\">┏━━━━━━━━━━━━━━━━━━━━━━━━━━━━━━━━━┳━━━━━━━━━━━━━━━━━━━━━━━━┳━━━━━━━━━━━━━━━┓\n",
       "┃<span style=\"font-weight: bold\"> Layer (type)                    </span>┃<span style=\"font-weight: bold\"> Output Shape           </span>┃<span style=\"font-weight: bold\">       Param # </span>┃\n",
       "┡━━━━━━━━━━━━━━━━━━━━━━━━━━━━━━━━━╇━━━━━━━━━━━━━━━━━━━━━━━━╇━━━━━━━━━━━━━━━┩\n",
       "│ embedding_3 (<span style=\"color: #0087ff; text-decoration-color: #0087ff\">Embedding</span>)         │ ?                      │   <span style=\"color: #00af00; text-decoration-color: #00af00\">0</span> (unbuilt) │\n",
       "├─────────────────────────────────┼────────────────────────┼───────────────┤\n",
       "│ flatten_3 (<span style=\"color: #0087ff; text-decoration-color: #0087ff\">Flatten</span>)             │ ?                      │   <span style=\"color: #00af00; text-decoration-color: #00af00\">0</span> (unbuilt) │\n",
       "├─────────────────────────────────┼────────────────────────┼───────────────┤\n",
       "│ dense_3 (<span style=\"color: #0087ff; text-decoration-color: #0087ff\">Dense</span>)                 │ ?                      │   <span style=\"color: #00af00; text-decoration-color: #00af00\">0</span> (unbuilt) │\n",
       "└─────────────────────────────────┴────────────────────────┴───────────────┘\n",
       "</pre>\n"
      ],
      "text/plain": [
       "┏━━━━━━━━━━━━━━━━━━━━━━━━━━━━━━━━━┳━━━━━━━━━━━━━━━━━━━━━━━━┳━━━━━━━━━━━━━━━┓\n",
       "┃\u001b[1m \u001b[0m\u001b[1mLayer (type)                   \u001b[0m\u001b[1m \u001b[0m┃\u001b[1m \u001b[0m\u001b[1mOutput Shape          \u001b[0m\u001b[1m \u001b[0m┃\u001b[1m \u001b[0m\u001b[1m      Param #\u001b[0m\u001b[1m \u001b[0m┃\n",
       "┡━━━━━━━━━━━━━━━━━━━━━━━━━━━━━━━━━╇━━━━━━━━━━━━━━━━━━━━━━━━╇━━━━━━━━━━━━━━━┩\n",
       "│ embedding_3 (\u001b[38;5;33mEmbedding\u001b[0m)         │ ?                      │   \u001b[38;5;34m0\u001b[0m (unbuilt) │\n",
       "├─────────────────────────────────┼────────────────────────┼───────────────┤\n",
       "│ flatten_3 (\u001b[38;5;33mFlatten\u001b[0m)             │ ?                      │   \u001b[38;5;34m0\u001b[0m (unbuilt) │\n",
       "├─────────────────────────────────┼────────────────────────┼───────────────┤\n",
       "│ dense_3 (\u001b[38;5;33mDense\u001b[0m)                 │ ?                      │   \u001b[38;5;34m0\u001b[0m (unbuilt) │\n",
       "└─────────────────────────────────┴────────────────────────┴───────────────┘\n"
      ]
     },
     "metadata": {},
     "output_type": "display_data"
    },
    {
     "data": {
      "text/html": [
       "<pre style=\"white-space:pre;overflow-x:auto;line-height:normal;font-family:Menlo,'DejaVu Sans Mono',consolas,'Courier New',monospace\"><span style=\"font-weight: bold\"> Total params: </span><span style=\"color: #00af00; text-decoration-color: #00af00\">0</span> (0.00 B)\n",
       "</pre>\n"
      ],
      "text/plain": [
       "\u001b[1m Total params: \u001b[0m\u001b[38;5;34m0\u001b[0m (0.00 B)\n"
      ]
     },
     "metadata": {},
     "output_type": "display_data"
    },
    {
     "data": {
      "text/html": [
       "<pre style=\"white-space:pre;overflow-x:auto;line-height:normal;font-family:Menlo,'DejaVu Sans Mono',consolas,'Courier New',monospace\"><span style=\"font-weight: bold\"> Trainable params: </span><span style=\"color: #00af00; text-decoration-color: #00af00\">0</span> (0.00 B)\n",
       "</pre>\n"
      ],
      "text/plain": [
       "\u001b[1m Trainable params: \u001b[0m\u001b[38;5;34m0\u001b[0m (0.00 B)\n"
      ]
     },
     "metadata": {},
     "output_type": "display_data"
    },
    {
     "data": {
      "text/html": [
       "<pre style=\"white-space:pre;overflow-x:auto;line-height:normal;font-family:Menlo,'DejaVu Sans Mono',consolas,'Courier New',monospace\"><span style=\"font-weight: bold\"> Non-trainable params: </span><span style=\"color: #00af00; text-decoration-color: #00af00\">0</span> (0.00 B)\n",
       "</pre>\n"
      ],
      "text/plain": [
       "\u001b[1m Non-trainable params: \u001b[0m\u001b[38;5;34m0\u001b[0m (0.00 B)\n"
      ]
     },
     "metadata": {},
     "output_type": "display_data"
    }
   ],
   "source": [
    "model = tf.keras.Sequential()\n",
    "# input_length 每个输入序列的固定长度是 20 个词\n",
    "# 10000，嵌入层的输入维度 === 词典长度，模型只考虑词典中前 10,000 个最常见的词\n",
    "# 16 输出向量维度，每个词将被转换为一个 16 维的向量\n",
    "model.add(tf.keras.layers.Embedding(10000, 16, input_length=20))\n",
    "model.add(tf.keras.layers.Flatten())\n",
    "model.add(tf.keras.layers.Dense(3, activation='softmax'))\n",
    "model.summary()"
   ]
  },
  {
   "cell_type": "code",
   "execution_count": 45,
   "id": "d7a84f7e-bb03-48a9-90f6-2c49666ca34e",
   "metadata": {},
   "outputs": [
    {
     "data": {
      "text/plain": [
       "<15000x3 sparse matrix of type '<class 'numpy.float64'>'\n",
       "\twith 15000 stored elements in Compressed Sparse Row format>"
      ]
     },
     "execution_count": 45,
     "metadata": {},
     "output_type": "execute_result"
    }
   ],
   "source": [
    "y_onehot"
   ]
  },
  {
   "cell_type": "code",
   "execution_count": 46,
   "id": "59109f59-4669-442c-954c-551a804ebcfe",
   "metadata": {},
   "outputs": [],
   "source": [
    "from sklearn.model_selection import train_test_split\n",
    "\n",
    "X_train, X_test, y_train, y_test = train_test_split(X, y_onehot.toarray(), test_size=0.2)"
   ]
  },
  {
   "cell_type": "code",
   "execution_count": 47,
   "id": "f8850f91-0cb6-41d3-a526-114086dde3da",
   "metadata": {},
   "outputs": [
    {
     "data": {
      "text/plain": [
       "array([[0., 0., 1.],\n",
       "       [0., 0., 1.],\n",
       "       [1., 0., 0.],\n",
       "       ...,\n",
       "       [0., 1., 0.],\n",
       "       [1., 0., 0.],\n",
       "       [0., 1., 0.]])"
      ]
     },
     "execution_count": 47,
     "metadata": {},
     "output_type": "execute_result"
    }
   ],
   "source": [
    "y_train"
   ]
  },
  {
   "cell_type": "code",
   "execution_count": 48,
   "id": "db249376-0533-4238-be3c-d688544bbbe3",
   "metadata": {},
   "outputs": [
    {
     "name": "stdout",
     "output_type": "stream",
     "text": [
      "Epoch 1/10\n"
     ]
    },
    {
     "ename": "InvalidArgumentError",
     "evalue": "Graph execution error:\n\nDetected at node sequential_3_1/embedding_3_1/GatherV2 defined at (most recent call last):\n  File \"<frozen runpy>\", line 198, in _run_module_as_main\n\n  File \"<frozen runpy>\", line 88, in _run_code\n\n  File \"C:\\Users\\91658\\Miniconda3\\envs\\ml\\Lib\\site-packages\\ipykernel_launcher.py\", line 18, in <module>\n\n  File \"C:\\Users\\91658\\Miniconda3\\envs\\ml\\Lib\\site-packages\\traitlets\\config\\application.py\", line 1075, in launch_instance\n\n  File \"C:\\Users\\91658\\Miniconda3\\envs\\ml\\Lib\\site-packages\\ipykernel\\kernelapp.py\", line 739, in start\n\n  File \"C:\\Users\\91658\\Miniconda3\\envs\\ml\\Lib\\site-packages\\tornado\\platform\\asyncio.py\", line 205, in start\n\n  File \"C:\\Users\\91658\\Miniconda3\\envs\\ml\\Lib\\asyncio\\base_events.py\", line 608, in run_forever\n\n  File \"C:\\Users\\91658\\Miniconda3\\envs\\ml\\Lib\\asyncio\\base_events.py\", line 1936, in _run_once\n\n  File \"C:\\Users\\91658\\Miniconda3\\envs\\ml\\Lib\\asyncio\\events.py\", line 84, in _run\n\n  File \"C:\\Users\\91658\\Miniconda3\\envs\\ml\\Lib\\site-packages\\ipykernel\\kernelbase.py\", line 545, in dispatch_queue\n\n  File \"C:\\Users\\91658\\Miniconda3\\envs\\ml\\Lib\\site-packages\\ipykernel\\kernelbase.py\", line 534, in process_one\n\n  File \"C:\\Users\\91658\\Miniconda3\\envs\\ml\\Lib\\site-packages\\ipykernel\\kernelbase.py\", line 437, in dispatch_shell\n\n  File \"C:\\Users\\91658\\Miniconda3\\envs\\ml\\Lib\\site-packages\\ipykernel\\ipkernel.py\", line 362, in execute_request\n\n  File \"C:\\Users\\91658\\Miniconda3\\envs\\ml\\Lib\\site-packages\\ipykernel\\kernelbase.py\", line 778, in execute_request\n\n  File \"C:\\Users\\91658\\Miniconda3\\envs\\ml\\Lib\\site-packages\\ipykernel\\ipkernel.py\", line 449, in do_execute\n\n  File \"C:\\Users\\91658\\Miniconda3\\envs\\ml\\Lib\\site-packages\\ipykernel\\zmqshell.py\", line 549, in run_cell\n\n  File \"C:\\Users\\91658\\Miniconda3\\envs\\ml\\Lib\\site-packages\\IPython\\core\\interactiveshell.py\", line 3075, in run_cell\n\n  File \"C:\\Users\\91658\\Miniconda3\\envs\\ml\\Lib\\site-packages\\IPython\\core\\interactiveshell.py\", line 3130, in _run_cell\n\n  File \"C:\\Users\\91658\\Miniconda3\\envs\\ml\\Lib\\site-packages\\IPython\\core\\async_helpers.py\", line 129, in _pseudo_sync_runner\n\n  File \"C:\\Users\\91658\\Miniconda3\\envs\\ml\\Lib\\site-packages\\IPython\\core\\interactiveshell.py\", line 3334, in run_cell_async\n\n  File \"C:\\Users\\91658\\Miniconda3\\envs\\ml\\Lib\\site-packages\\IPython\\core\\interactiveshell.py\", line 3517, in run_ast_nodes\n\n  File \"C:\\Users\\91658\\Miniconda3\\envs\\ml\\Lib\\site-packages\\IPython\\core\\interactiveshell.py\", line 3577, in run_code\n\n  File \"C:\\Users\\91658\\AppData\\Local\\Temp\\ipykernel_118080\\1008936545.py\", line 3, in <module>\n\n  File \"C:\\Users\\91658\\Miniconda3\\envs\\ml\\Lib\\site-packages\\keras\\src\\utils\\traceback_utils.py\", line 117, in error_handler\n\n  File \"C:\\Users\\91658\\Miniconda3\\envs\\ml\\Lib\\site-packages\\keras\\src\\backend\\tensorflow\\trainer.py\", line 329, in fit\n\n  File \"C:\\Users\\91658\\Miniconda3\\envs\\ml\\Lib\\site-packages\\keras\\src\\backend\\tensorflow\\trainer.py\", line 122, in one_step_on_iterator\n\n  File \"C:\\Users\\91658\\Miniconda3\\envs\\ml\\Lib\\site-packages\\keras\\src\\backend\\tensorflow\\trainer.py\", line 110, in one_step_on_data\n\n  File \"C:\\Users\\91658\\Miniconda3\\envs\\ml\\Lib\\site-packages\\keras\\src\\backend\\tensorflow\\trainer.py\", line 57, in train_step\n\n  File \"C:\\Users\\91658\\Miniconda3\\envs\\ml\\Lib\\site-packages\\keras\\src\\utils\\traceback_utils.py\", line 117, in error_handler\n\n  File \"C:\\Users\\91658\\Miniconda3\\envs\\ml\\Lib\\site-packages\\keras\\src\\layers\\layer.py\", line 826, in __call__\n\n  File \"C:\\Users\\91658\\Miniconda3\\envs\\ml\\Lib\\site-packages\\keras\\src\\utils\\traceback_utils.py\", line 117, in error_handler\n\n  File \"C:\\Users\\91658\\Miniconda3\\envs\\ml\\Lib\\site-packages\\keras\\src\\ops\\operation.py\", line 48, in __call__\n\n  File \"C:\\Users\\91658\\Miniconda3\\envs\\ml\\Lib\\site-packages\\keras\\src\\utils\\traceback_utils.py\", line 156, in error_handler\n\n  File \"C:\\Users\\91658\\Miniconda3\\envs\\ml\\Lib\\site-packages\\keras\\src\\models\\sequential.py\", line 206, in call\n\n  File \"C:\\Users\\91658\\Miniconda3\\envs\\ml\\Lib\\site-packages\\keras\\src\\models\\functional.py\", line 199, in call\n\n  File \"C:\\Users\\91658\\Miniconda3\\envs\\ml\\Lib\\site-packages\\keras\\src\\ops\\function.py\", line 151, in _run_through_graph\n\n  File \"C:\\Users\\91658\\Miniconda3\\envs\\ml\\Lib\\site-packages\\keras\\src\\models\\functional.py\", line 583, in call\n\n  File \"C:\\Users\\91658\\Miniconda3\\envs\\ml\\Lib\\site-packages\\keras\\src\\utils\\traceback_utils.py\", line 117, in error_handler\n\n  File \"C:\\Users\\91658\\Miniconda3\\envs\\ml\\Lib\\site-packages\\keras\\src\\layers\\layer.py\", line 826, in __call__\n\n  File \"C:\\Users\\91658\\Miniconda3\\envs\\ml\\Lib\\site-packages\\keras\\src\\utils\\traceback_utils.py\", line 117, in error_handler\n\n  File \"C:\\Users\\91658\\Miniconda3\\envs\\ml\\Lib\\site-packages\\keras\\src\\ops\\operation.py\", line 48, in __call__\n\n  File \"C:\\Users\\91658\\Miniconda3\\envs\\ml\\Lib\\site-packages\\keras\\src\\utils\\traceback_utils.py\", line 156, in error_handler\n\n  File \"C:\\Users\\91658\\Miniconda3\\envs\\ml\\Lib\\site-packages\\keras\\src\\layers\\core\\embedding.py\", line 130, in call\n\n  File \"C:\\Users\\91658\\Miniconda3\\envs\\ml\\Lib\\site-packages\\keras\\src\\ops\\numpy.py\", line 4962, in take\n\n  File \"C:\\Users\\91658\\Miniconda3\\envs\\ml\\Lib\\site-packages\\keras\\src\\backend\\tensorflow\\numpy.py\", line 1740, in take\n\nindices[0,0] = 0 is not in [0, 0)\n\t [[{{node sequential_3_1/embedding_3_1/GatherV2}}]] [Op:__inference_one_step_on_iterator_2230]",
     "output_type": "error",
     "traceback": [
      "\u001b[1;31m---------------------------------------------------------------------------\u001b[0m",
      "\u001b[1;31mInvalidArgumentError\u001b[0m                      Traceback (most recent call last)",
      "Cell \u001b[1;32mIn[48], line 3\u001b[0m\n\u001b[0;32m      1\u001b[0m model\u001b[38;5;241m.\u001b[39mcompile(optimizer\u001b[38;5;241m=\u001b[39m\u001b[38;5;124m'\u001b[39m\u001b[38;5;124mAdam\u001b[39m\u001b[38;5;124m'\u001b[39m, loss\u001b[38;5;241m=\u001b[39m\u001b[38;5;124m'\u001b[39m\u001b[38;5;124mcategorical_crossentropy\u001b[39m\u001b[38;5;124m'\u001b[39m,\n\u001b[0;32m      2\u001b[0m               metrics\u001b[38;5;241m=\u001b[39m[\u001b[38;5;124m'\u001b[39m\u001b[38;5;124maccuracy\u001b[39m\u001b[38;5;124m'\u001b[39m])\n\u001b[1;32m----> 3\u001b[0m \u001b[43mmodel\u001b[49m\u001b[38;5;241;43m.\u001b[39;49m\u001b[43mfit\u001b[49m\u001b[43m(\u001b[49m\u001b[43mX_train\u001b[49m\u001b[43m,\u001b[49m\u001b[43m \u001b[49m\u001b[43my_train\u001b[49m\u001b[43m,\u001b[49m\u001b[43m \u001b[49m\u001b[38;5;241;43m64\u001b[39;49m\u001b[43m,\u001b[49m\u001b[43m \u001b[49m\u001b[38;5;241;43m10\u001b[39;49m\u001b[43m,\u001b[49m\u001b[43m \u001b[49m\u001b[43mvalidation_data\u001b[49m\u001b[38;5;241;43m=\u001b[39;49m\u001b[43m(\u001b[49m\u001b[43mX_test\u001b[49m\u001b[43m,\u001b[49m\u001b[43m \u001b[49m\u001b[43my_test\u001b[49m\u001b[43m)\u001b[49m\u001b[43m)\u001b[49m\n",
      "File \u001b[1;32m~\\Miniconda3\\envs\\ml\\Lib\\site-packages\\keras\\src\\utils\\traceback_utils.py:122\u001b[0m, in \u001b[0;36mfilter_traceback.<locals>.error_handler\u001b[1;34m(*args, **kwargs)\u001b[0m\n\u001b[0;32m    119\u001b[0m     filtered_tb \u001b[38;5;241m=\u001b[39m _process_traceback_frames(e\u001b[38;5;241m.\u001b[39m__traceback__)\n\u001b[0;32m    120\u001b[0m     \u001b[38;5;66;03m# To get the full stack trace, call:\u001b[39;00m\n\u001b[0;32m    121\u001b[0m     \u001b[38;5;66;03m# `keras.config.disable_traceback_filtering()`\u001b[39;00m\n\u001b[1;32m--> 122\u001b[0m     \u001b[38;5;28;01mraise\u001b[39;00m e\u001b[38;5;241m.\u001b[39mwith_traceback(filtered_tb) \u001b[38;5;28;01mfrom\u001b[39;00m \u001b[38;5;28;01mNone\u001b[39;00m\n\u001b[0;32m    123\u001b[0m \u001b[38;5;28;01mfinally\u001b[39;00m:\n\u001b[0;32m    124\u001b[0m     \u001b[38;5;28;01mdel\u001b[39;00m filtered_tb\n",
      "File \u001b[1;32m~\\Miniconda3\\envs\\ml\\Lib\\site-packages\\tensorflow\\python\\eager\\execute.py:53\u001b[0m, in \u001b[0;36mquick_execute\u001b[1;34m(op_name, num_outputs, inputs, attrs, ctx, name)\u001b[0m\n\u001b[0;32m     51\u001b[0m \u001b[38;5;28;01mtry\u001b[39;00m:\n\u001b[0;32m     52\u001b[0m   ctx\u001b[38;5;241m.\u001b[39mensure_initialized()\n\u001b[1;32m---> 53\u001b[0m   tensors \u001b[38;5;241m=\u001b[39m pywrap_tfe\u001b[38;5;241m.\u001b[39mTFE_Py_Execute(ctx\u001b[38;5;241m.\u001b[39m_handle, device_name, op_name,\n\u001b[0;32m     54\u001b[0m                                       inputs, attrs, num_outputs)\n\u001b[0;32m     55\u001b[0m \u001b[38;5;28;01mexcept\u001b[39;00m core\u001b[38;5;241m.\u001b[39m_NotOkStatusException \u001b[38;5;28;01mas\u001b[39;00m e:\n\u001b[0;32m     56\u001b[0m   \u001b[38;5;28;01mif\u001b[39;00m name \u001b[38;5;129;01mis\u001b[39;00m \u001b[38;5;129;01mnot\u001b[39;00m \u001b[38;5;28;01mNone\u001b[39;00m:\n",
      "\u001b[1;31mInvalidArgumentError\u001b[0m: Graph execution error:\n\nDetected at node sequential_3_1/embedding_3_1/GatherV2 defined at (most recent call last):\n  File \"<frozen runpy>\", line 198, in _run_module_as_main\n\n  File \"<frozen runpy>\", line 88, in _run_code\n\n  File \"C:\\Users\\91658\\Miniconda3\\envs\\ml\\Lib\\site-packages\\ipykernel_launcher.py\", line 18, in <module>\n\n  File \"C:\\Users\\91658\\Miniconda3\\envs\\ml\\Lib\\site-packages\\traitlets\\config\\application.py\", line 1075, in launch_instance\n\n  File \"C:\\Users\\91658\\Miniconda3\\envs\\ml\\Lib\\site-packages\\ipykernel\\kernelapp.py\", line 739, in start\n\n  File \"C:\\Users\\91658\\Miniconda3\\envs\\ml\\Lib\\site-packages\\tornado\\platform\\asyncio.py\", line 205, in start\n\n  File \"C:\\Users\\91658\\Miniconda3\\envs\\ml\\Lib\\asyncio\\base_events.py\", line 608, in run_forever\n\n  File \"C:\\Users\\91658\\Miniconda3\\envs\\ml\\Lib\\asyncio\\base_events.py\", line 1936, in _run_once\n\n  File \"C:\\Users\\91658\\Miniconda3\\envs\\ml\\Lib\\asyncio\\events.py\", line 84, in _run\n\n  File \"C:\\Users\\91658\\Miniconda3\\envs\\ml\\Lib\\site-packages\\ipykernel\\kernelbase.py\", line 545, in dispatch_queue\n\n  File \"C:\\Users\\91658\\Miniconda3\\envs\\ml\\Lib\\site-packages\\ipykernel\\kernelbase.py\", line 534, in process_one\n\n  File \"C:\\Users\\91658\\Miniconda3\\envs\\ml\\Lib\\site-packages\\ipykernel\\kernelbase.py\", line 437, in dispatch_shell\n\n  File \"C:\\Users\\91658\\Miniconda3\\envs\\ml\\Lib\\site-packages\\ipykernel\\ipkernel.py\", line 362, in execute_request\n\n  File \"C:\\Users\\91658\\Miniconda3\\envs\\ml\\Lib\\site-packages\\ipykernel\\kernelbase.py\", line 778, in execute_request\n\n  File \"C:\\Users\\91658\\Miniconda3\\envs\\ml\\Lib\\site-packages\\ipykernel\\ipkernel.py\", line 449, in do_execute\n\n  File \"C:\\Users\\91658\\Miniconda3\\envs\\ml\\Lib\\site-packages\\ipykernel\\zmqshell.py\", line 549, in run_cell\n\n  File \"C:\\Users\\91658\\Miniconda3\\envs\\ml\\Lib\\site-packages\\IPython\\core\\interactiveshell.py\", line 3075, in run_cell\n\n  File \"C:\\Users\\91658\\Miniconda3\\envs\\ml\\Lib\\site-packages\\IPython\\core\\interactiveshell.py\", line 3130, in _run_cell\n\n  File \"C:\\Users\\91658\\Miniconda3\\envs\\ml\\Lib\\site-packages\\IPython\\core\\async_helpers.py\", line 129, in _pseudo_sync_runner\n\n  File \"C:\\Users\\91658\\Miniconda3\\envs\\ml\\Lib\\site-packages\\IPython\\core\\interactiveshell.py\", line 3334, in run_cell_async\n\n  File \"C:\\Users\\91658\\Miniconda3\\envs\\ml\\Lib\\site-packages\\IPython\\core\\interactiveshell.py\", line 3517, in run_ast_nodes\n\n  File \"C:\\Users\\91658\\Miniconda3\\envs\\ml\\Lib\\site-packages\\IPython\\core\\interactiveshell.py\", line 3577, in run_code\n\n  File \"C:\\Users\\91658\\AppData\\Local\\Temp\\ipykernel_118080\\1008936545.py\", line 3, in <module>\n\n  File \"C:\\Users\\91658\\Miniconda3\\envs\\ml\\Lib\\site-packages\\keras\\src\\utils\\traceback_utils.py\", line 117, in error_handler\n\n  File \"C:\\Users\\91658\\Miniconda3\\envs\\ml\\Lib\\site-packages\\keras\\src\\backend\\tensorflow\\trainer.py\", line 329, in fit\n\n  File \"C:\\Users\\91658\\Miniconda3\\envs\\ml\\Lib\\site-packages\\keras\\src\\backend\\tensorflow\\trainer.py\", line 122, in one_step_on_iterator\n\n  File \"C:\\Users\\91658\\Miniconda3\\envs\\ml\\Lib\\site-packages\\keras\\src\\backend\\tensorflow\\trainer.py\", line 110, in one_step_on_data\n\n  File \"C:\\Users\\91658\\Miniconda3\\envs\\ml\\Lib\\site-packages\\keras\\src\\backend\\tensorflow\\trainer.py\", line 57, in train_step\n\n  File \"C:\\Users\\91658\\Miniconda3\\envs\\ml\\Lib\\site-packages\\keras\\src\\utils\\traceback_utils.py\", line 117, in error_handler\n\n  File \"C:\\Users\\91658\\Miniconda3\\envs\\ml\\Lib\\site-packages\\keras\\src\\layers\\layer.py\", line 826, in __call__\n\n  File \"C:\\Users\\91658\\Miniconda3\\envs\\ml\\Lib\\site-packages\\keras\\src\\utils\\traceback_utils.py\", line 117, in error_handler\n\n  File \"C:\\Users\\91658\\Miniconda3\\envs\\ml\\Lib\\site-packages\\keras\\src\\ops\\operation.py\", line 48, in __call__\n\n  File \"C:\\Users\\91658\\Miniconda3\\envs\\ml\\Lib\\site-packages\\keras\\src\\utils\\traceback_utils.py\", line 156, in error_handler\n\n  File \"C:\\Users\\91658\\Miniconda3\\envs\\ml\\Lib\\site-packages\\keras\\src\\models\\sequential.py\", line 206, in call\n\n  File \"C:\\Users\\91658\\Miniconda3\\envs\\ml\\Lib\\site-packages\\keras\\src\\models\\functional.py\", line 199, in call\n\n  File \"C:\\Users\\91658\\Miniconda3\\envs\\ml\\Lib\\site-packages\\keras\\src\\ops\\function.py\", line 151, in _run_through_graph\n\n  File \"C:\\Users\\91658\\Miniconda3\\envs\\ml\\Lib\\site-packages\\keras\\src\\models\\functional.py\", line 583, in call\n\n  File \"C:\\Users\\91658\\Miniconda3\\envs\\ml\\Lib\\site-packages\\keras\\src\\utils\\traceback_utils.py\", line 117, in error_handler\n\n  File \"C:\\Users\\91658\\Miniconda3\\envs\\ml\\Lib\\site-packages\\keras\\src\\layers\\layer.py\", line 826, in __call__\n\n  File \"C:\\Users\\91658\\Miniconda3\\envs\\ml\\Lib\\site-packages\\keras\\src\\utils\\traceback_utils.py\", line 117, in error_handler\n\n  File \"C:\\Users\\91658\\Miniconda3\\envs\\ml\\Lib\\site-packages\\keras\\src\\ops\\operation.py\", line 48, in __call__\n\n  File \"C:\\Users\\91658\\Miniconda3\\envs\\ml\\Lib\\site-packages\\keras\\src\\utils\\traceback_utils.py\", line 156, in error_handler\n\n  File \"C:\\Users\\91658\\Miniconda3\\envs\\ml\\Lib\\site-packages\\keras\\src\\layers\\core\\embedding.py\", line 130, in call\n\n  File \"C:\\Users\\91658\\Miniconda3\\envs\\ml\\Lib\\site-packages\\keras\\src\\ops\\numpy.py\", line 4962, in take\n\n  File \"C:\\Users\\91658\\Miniconda3\\envs\\ml\\Lib\\site-packages\\keras\\src\\backend\\tensorflow\\numpy.py\", line 1740, in take\n\nindices[0,0] = 0 is not in [0, 0)\n\t [[{{node sequential_3_1/embedding_3_1/GatherV2}}]] [Op:__inference_one_step_on_iterator_2230]"
     ]
    }
   ],
   "source": [
    "model.compile(optimizer='Adam', loss='categorical_crossentropy',\n",
    "              metrics=['accuracy'])\n",
    "model.fit(X_train, y_train, 64, 10, validation_data=(X_test, y_test))"
   ]
  },
  {
   "cell_type": "code",
   "execution_count": null,
   "id": "aa50f47c-97a2-491b-922a-0bab926f37a0",
   "metadata": {},
   "outputs": [],
   "source": []
  }
 ],
 "metadata": {
  "kernelspec": {
   "display_name": "Python 3 (ipykernel)",
   "language": "python",
   "name": "python3"
  },
  "language_info": {
   "codemirror_mode": {
    "name": "ipython",
    "version": 3
   },
   "file_extension": ".py",
   "mimetype": "text/x-python",
   "name": "python",
   "nbconvert_exporter": "python",
   "pygments_lexer": "ipython3",
   "version": "3.11.8"
  }
 },
 "nbformat": 4,
 "nbformat_minor": 5
}
