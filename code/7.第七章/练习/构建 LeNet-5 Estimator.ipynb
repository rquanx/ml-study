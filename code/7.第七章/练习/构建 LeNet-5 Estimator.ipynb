{
 "cells": [
  {
   "cell_type": "code",
   "execution_count": 2,
   "id": "1b8f1932-2b8f-47c4-a95f-c082c27588f2",
   "metadata": {},
   "outputs": [],
   "source": [
    "import numpy as np\n",
    "import tensorflow as tf\n",
    "\n",
    "# # 从课程镜像服务器下载 MNIST NumPy 数据\n",
    "# DATA_URL = \"https://cdn.aibydoing.com/hands-on-ai/files/mnist.npz\"\n",
    "\n",
    "# path = tf.keras.utils.get_file(\"mnist.npz\", DATA_URL)\n",
    "# with np.load(path) as data:\n",
    "#     # 将 28x28 图像 Padding 至 32x32\n",
    "#     x_train = np.pad(\n",
    "#         data[\"x_train\"].reshape([-1, 28, 28, 1]),\n",
    "#         ((0, 0), (2, 2), (2, 2), (0, 0)),\n",
    "#         \"constant\",\n",
    "#     )\n",
    "#     y_train = data[\"y_train\"]\n",
    "#     x_test = np.pad(\n",
    "#         data[\"x_test\"].reshape([-1, 28, 28, 1]),\n",
    "#         ((0, 0), (2, 2), (2, 2), (0, 0)),\n",
    "#         \"constant\",\n",
    "#     )\n",
    "#     y_test = data[\"y_test\"]\n",
    "\n",
    "# x_train.shape, y_train.shape, x_test.shape, y_test.shape"
   ]
  },
  {
   "cell_type": "code",
   "execution_count": 3,
   "id": "631bcc02-83fc-4ef5-bf3e-6f8a3a775f4b",
   "metadata": {},
   "outputs": [],
   "source": [
    "import tensorflow as tf\n",
    "\n",
    "# 使用 keras 建立层，然后通过 estimator 基于建立好的层进行训练？\n",
    "def lenet_fn(features, labels, mode):\n",
    "    # 卷积层，6 个 5x5 卷积核，步长为 1，relu 激活，第一层需指定 input_shape\n",
    "    conv1 = tf.keras.layers.Conv2D(filters=6,\n",
    "                                   kernel_size=(5, 5),\n",
    "                                   strides=(1, 1),\n",
    "                                   activation='relu', input_shape=(32, 32, 1))(features[\"x\"])\n",
    "    # 平均池化，池化窗口默认为 2\n",
    "    pool1 = tf.keras.layers.AveragePooling2D(\n",
    "        pool_size=(2, 2), strides=2)(conv1)\n",
    "    # 卷积层，16 个 5x5 卷积核，步为 1，relu 激活\n",
    "    conv2 = tf.keras.layers.Conv2D(filters=16, kernel_size=(\n",
    "        5, 5), strides=(1, 1), activation='relu')(pool1)\n",
    "    # 平均池化，池化窗口默认为 2\n",
    "    pool2 = tf.keras.layers.AveragePooling2D(\n",
    "        pool_size=(2, 2), strides=2)(conv2)\n",
    "    # 需展平后才能与全连接层相连\n",
    "    flatten = tf.keras.layers.Flatten()(pool2)\n",
    "    # 全连接层，输出为 120，relu 激活\n",
    "    fc1 = tf.keras.layers.Dense(units=120, activation='relu')(flatten)\n",
    "    # 全连接层，输出为 84，relu 激活\n",
    "    fc2 = tf.keras.layers.Dense(units=84, activation='relu')(fc1)\n",
    "    # 全连接层，输出为 10，Softmax 激活\n",
    "    logits = tf.keras.layers.Dense(units=10, activation='softmax')(fc2)\n",
    "\n",
    "    # 计算损失\n",
    "    loss = tf.losses.sparse_softmax_cross_entropy(labels=labels, logits=logits)\n",
    "\n",
    "    # 训练模式\n",
    "    if mode == tf.estimator.ModeKeys.TRAIN:\n",
    "        optimizer = tf.train.AdamOptimizer(learning_rate=0.001)\n",
    "        train_op = optimizer.minimize(\n",
    "            loss=loss, global_step=tf.train.get_global_step())\n",
    "        return tf.estimator.EstimatorSpec(mode=mode, loss=loss, train_op=train_op)\n",
    "\n",
    "    # 评估模式\n",
    "    if mode == tf.estimator.ModeKeys.EVAL:\n",
    "        eval_metric_ops = {\n",
    "            \"accuracy\": tf.metrics.accuracy(\n",
    "                labels=labels, predictions=tf.argmax(input=logits, axis=1))}\n",
    "        return tf.estimator.EstimatorSpec(mode=mode, loss=loss, eval_metric_ops=eval_metric_ops)"
   ]
  },
  {
   "cell_type": "code",
   "execution_count": null,
   "id": "8ccc9486-a140-4b7a-bd07-a181049d9702",
   "metadata": {},
   "outputs": [],
   "source": []
  }
 ],
 "metadata": {
  "kernelspec": {
   "display_name": "Python 3 (ipykernel)",
   "language": "python",
   "name": "python3"
  },
  "language_info": {
   "codemirror_mode": {
    "name": "ipython",
    "version": 3
   },
   "file_extension": ".py",
   "mimetype": "text/x-python",
   "name": "python",
   "nbconvert_exporter": "python",
   "pygments_lexer": "ipython3",
   "version": "3.11.8"
  }
 },
 "nbformat": 4,
 "nbformat_minor": 5
}
