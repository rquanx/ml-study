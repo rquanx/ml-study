{
 "cells": [
  {
   "cell_type": "code",
   "execution_count": 207,
   "id": "7ebc90f9-f745-455d-99f3-83c1c13823d3",
   "metadata": {},
   "outputs": [
    {
     "data": {
      "text/plain": [
       "((30000, 28, 28), (30000, 28, 28), (100, 28, 28), (100, 28, 28))"
      ]
     },
     "execution_count": 207,
     "metadata": {},
     "output_type": "execute_result"
    }
   ],
   "source": [
    "import numpy as np\n",
    "import tensorflow as tf\n",
    "\n",
    "# 读取数据\n",
    "(X_train, _), (X_test, _) = tf.keras.datasets.mnist.load_data()\n",
    "\n",
    "# 选取数据并归一化\n",
    "X_train = X_train[:30000] / 255\n",
    "X_test = X_test[:100] / 255\n",
    "\n",
    "# 添加随机高斯噪声\n",
    "X_train_ = X_train + 0.4 * np.random.normal(size=X_train.shape)\n",
    "X_test_ = X_test + 0.4 * np.random.normal(size=X_test.shape)\n",
    "X_train_noisy = np.clip(X_train_, 0, 1)\n",
    "X_test_noisy = np.clip(X_test_, 0, 1)\n",
    "\n",
    "X_train.shape, X_train_noisy.shape, X_test.shape, X_test_noisy.shape"
   ]
  },
  {
   "cell_type": "code",
   "execution_count": 208,
   "id": "14d2665d-6f9b-4a9a-b0b8-ecc23c582cd4",
   "metadata": {},
   "outputs": [
    {
     "data": {
      "text/plain": [
       "((30000, 28, 28, 1), (30000, 28, 28, 1), (100, 28, 28, 1), (100, 28, 28, 1))"
      ]
     },
     "execution_count": 208,
     "metadata": {},
     "output_type": "execute_result"
    }
   ],
   "source": [
    "# 在 TensorFlow 中，tf.keras.layers.Conv2D 层期望输入的张量形状是 (N, H, W, C)\n",
    "\n",
    "X_train_noisy_reshape = X_train_noisy.reshape(-1, 28, 28, 1)\n",
    "X_train_reshape = X_train.reshape(-1, 28, 28, 1)\n",
    "X_test_reshape = X_test.reshape(-1, 28, 28, 1).astype('float32')\n",
    "X_test_noisy_reshape = X_test_noisy.reshape(-1, 28, 28, 1).astype('float32')\n",
    "X_train_noisy_reshape.shape,X_train_reshape.shape,X_test_reshape.shape,X_test_noisy_reshape.shape"
   ]
  },
  {
   "cell_type": "code",
   "execution_count": 186,
   "id": "d864ebf2-5774-451c-8811-720ca7fda582",
   "metadata": {},
   "outputs": [
    {
     "data": {
      "text/html": [
       "<pre style=\"white-space:pre;overflow-x:auto;line-height:normal;font-family:Menlo,'DejaVu Sans Mono',consolas,'Courier New',monospace\"><span style=\"font-weight: bold\">Model: \"functional_17\"</span>\n",
       "</pre>\n"
      ],
      "text/plain": [
       "\u001b[1mModel: \"functional_17\"\u001b[0m\n"
      ]
     },
     "metadata": {},
     "output_type": "display_data"
    },
    {
     "data": {
      "text/html": [
       "<pre style=\"white-space:pre;overflow-x:auto;line-height:normal;font-family:Menlo,'DejaVu Sans Mono',consolas,'Courier New',monospace\">┏━━━━━━━━━━━━━━━━━━━━━━━━━━━━━━━━━┳━━━━━━━━━━━━━━━━━━━━━━━━┳━━━━━━━━━━━━━━━┓\n",
       "┃<span style=\"font-weight: bold\"> Layer (type)                    </span>┃<span style=\"font-weight: bold\"> Output Shape           </span>┃<span style=\"font-weight: bold\">       Param # </span>┃\n",
       "┡━━━━━━━━━━━━━━━━━━━━━━━━━━━━━━━━━╇━━━━━━━━━━━━━━━━━━━━━━━━╇━━━━━━━━━━━━━━━┩\n",
       "│ input_layer_8 (<span style=\"color: #0087ff; text-decoration-color: #0087ff\">InputLayer</span>)      │ (<span style=\"color: #00d7ff; text-decoration-color: #00d7ff\">None</span>, <span style=\"color: #00af00; text-decoration-color: #00af00\">28</span>, <span style=\"color: #00af00; text-decoration-color: #00af00\">28</span>, <span style=\"color: #00af00; text-decoration-color: #00af00\">1</span>)      │             <span style=\"color: #00af00; text-decoration-color: #00af00\">0</span> │\n",
       "├─────────────────────────────────┼────────────────────────┼───────────────┤\n",
       "│ conv2d_16 (<span style=\"color: #0087ff; text-decoration-color: #0087ff\">Conv2D</span>)              │ (<span style=\"color: #00d7ff; text-decoration-color: #00d7ff\">None</span>, <span style=\"color: #00af00; text-decoration-color: #00af00\">28</span>, <span style=\"color: #00af00; text-decoration-color: #00af00\">28</span>, <span style=\"color: #00af00; text-decoration-color: #00af00\">32</span>)     │           <span style=\"color: #00af00; text-decoration-color: #00af00\">320</span> │\n",
       "├─────────────────────────────────┼────────────────────────┼───────────────┤\n",
       "│ max_pooling2d_8 (<span style=\"color: #0087ff; text-decoration-color: #0087ff\">MaxPooling2D</span>)  │ (<span style=\"color: #00d7ff; text-decoration-color: #00d7ff\">None</span>, <span style=\"color: #00af00; text-decoration-color: #00af00\">14</span>, <span style=\"color: #00af00; text-decoration-color: #00af00\">14</span>, <span style=\"color: #00af00; text-decoration-color: #00af00\">32</span>)     │             <span style=\"color: #00af00; text-decoration-color: #00af00\">0</span> │\n",
       "├─────────────────────────────────┼────────────────────────┼───────────────┤\n",
       "│ up_sampling2d_8 (<span style=\"color: #0087ff; text-decoration-color: #0087ff\">UpSampling2D</span>)  │ (<span style=\"color: #00d7ff; text-decoration-color: #00d7ff\">None</span>, <span style=\"color: #00af00; text-decoration-color: #00af00\">28</span>, <span style=\"color: #00af00; text-decoration-color: #00af00\">28</span>, <span style=\"color: #00af00; text-decoration-color: #00af00\">32</span>)     │             <span style=\"color: #00af00; text-decoration-color: #00af00\">0</span> │\n",
       "├─────────────────────────────────┼────────────────────────┼───────────────┤\n",
       "│ conv2d_17 (<span style=\"color: #0087ff; text-decoration-color: #0087ff\">Conv2D</span>)              │ (<span style=\"color: #00d7ff; text-decoration-color: #00d7ff\">None</span>, <span style=\"color: #00af00; text-decoration-color: #00af00\">28</span>, <span style=\"color: #00af00; text-decoration-color: #00af00\">28</span>, <span style=\"color: #00af00; text-decoration-color: #00af00\">1</span>)      │           <span style=\"color: #00af00; text-decoration-color: #00af00\">289</span> │\n",
       "└─────────────────────────────────┴────────────────────────┴───────────────┘\n",
       "</pre>\n"
      ],
      "text/plain": [
       "┏━━━━━━━━━━━━━━━━━━━━━━━━━━━━━━━━━┳━━━━━━━━━━━━━━━━━━━━━━━━┳━━━━━━━━━━━━━━━┓\n",
       "┃\u001b[1m \u001b[0m\u001b[1mLayer (type)                   \u001b[0m\u001b[1m \u001b[0m┃\u001b[1m \u001b[0m\u001b[1mOutput Shape          \u001b[0m\u001b[1m \u001b[0m┃\u001b[1m \u001b[0m\u001b[1m      Param #\u001b[0m\u001b[1m \u001b[0m┃\n",
       "┡━━━━━━━━━━━━━━━━━━━━━━━━━━━━━━━━━╇━━━━━━━━━━━━━━━━━━━━━━━━╇━━━━━━━━━━━━━━━┩\n",
       "│ input_layer_8 (\u001b[38;5;33mInputLayer\u001b[0m)      │ (\u001b[38;5;45mNone\u001b[0m, \u001b[38;5;34m28\u001b[0m, \u001b[38;5;34m28\u001b[0m, \u001b[38;5;34m1\u001b[0m)      │             \u001b[38;5;34m0\u001b[0m │\n",
       "├─────────────────────────────────┼────────────────────────┼───────────────┤\n",
       "│ conv2d_16 (\u001b[38;5;33mConv2D\u001b[0m)              │ (\u001b[38;5;45mNone\u001b[0m, \u001b[38;5;34m28\u001b[0m, \u001b[38;5;34m28\u001b[0m, \u001b[38;5;34m32\u001b[0m)     │           \u001b[38;5;34m320\u001b[0m │\n",
       "├─────────────────────────────────┼────────────────────────┼───────────────┤\n",
       "│ max_pooling2d_8 (\u001b[38;5;33mMaxPooling2D\u001b[0m)  │ (\u001b[38;5;45mNone\u001b[0m, \u001b[38;5;34m14\u001b[0m, \u001b[38;5;34m14\u001b[0m, \u001b[38;5;34m32\u001b[0m)     │             \u001b[38;5;34m0\u001b[0m │\n",
       "├─────────────────────────────────┼────────────────────────┼───────────────┤\n",
       "│ up_sampling2d_8 (\u001b[38;5;33mUpSampling2D\u001b[0m)  │ (\u001b[38;5;45mNone\u001b[0m, \u001b[38;5;34m28\u001b[0m, \u001b[38;5;34m28\u001b[0m, \u001b[38;5;34m32\u001b[0m)     │             \u001b[38;5;34m0\u001b[0m │\n",
       "├─────────────────────────────────┼────────────────────────┼───────────────┤\n",
       "│ conv2d_17 (\u001b[38;5;33mConv2D\u001b[0m)              │ (\u001b[38;5;45mNone\u001b[0m, \u001b[38;5;34m28\u001b[0m, \u001b[38;5;34m28\u001b[0m, \u001b[38;5;34m1\u001b[0m)      │           \u001b[38;5;34m289\u001b[0m │\n",
       "└─────────────────────────────────┴────────────────────────┴───────────────┘\n"
      ]
     },
     "metadata": {},
     "output_type": "display_data"
    },
    {
     "data": {
      "text/html": [
       "<pre style=\"white-space:pre;overflow-x:auto;line-height:normal;font-family:Menlo,'DejaVu Sans Mono',consolas,'Courier New',monospace\"><span style=\"font-weight: bold\"> Total params: </span><span style=\"color: #00af00; text-decoration-color: #00af00\">609</span> (2.38 KB)\n",
       "</pre>\n"
      ],
      "text/plain": [
       "\u001b[1m Total params: \u001b[0m\u001b[38;5;34m609\u001b[0m (2.38 KB)\n"
      ]
     },
     "metadata": {},
     "output_type": "display_data"
    },
    {
     "data": {
      "text/html": [
       "<pre style=\"white-space:pre;overflow-x:auto;line-height:normal;font-family:Menlo,'DejaVu Sans Mono',consolas,'Courier New',monospace\"><span style=\"font-weight: bold\"> Trainable params: </span><span style=\"color: #00af00; text-decoration-color: #00af00\">609</span> (2.38 KB)\n",
       "</pre>\n"
      ],
      "text/plain": [
       "\u001b[1m Trainable params: \u001b[0m\u001b[38;5;34m609\u001b[0m (2.38 KB)\n"
      ]
     },
     "metadata": {},
     "output_type": "display_data"
    },
    {
     "data": {
      "text/html": [
       "<pre style=\"white-space:pre;overflow-x:auto;line-height:normal;font-family:Menlo,'DejaVu Sans Mono',consolas,'Courier New',monospace\"><span style=\"font-weight: bold\"> Non-trainable params: </span><span style=\"color: #00af00; text-decoration-color: #00af00\">0</span> (0.00 B)\n",
       "</pre>\n"
      ],
      "text/plain": [
       "\u001b[1m Non-trainable params: \u001b[0m\u001b[38;5;34m0\u001b[0m (0.00 B)\n"
      ]
     },
     "metadata": {},
     "output_type": "display_data"
    }
   ],
   "source": [
    "input_layer = tf.keras.Input(shape=(28, 28, 1))\n",
    "conv = tf.keras.layers.Conv2D(32, (3, 3), activation=\"relu\", padding=\"same\")(\n",
    "    input_layer\n",
    ")\n",
    "max_pool = tf.keras.layers.MaxPooling2D(padding=\"same\")(conv)\n",
    "\n",
    "# 解码器部分需要与池化层相反的上采样层\n",
    "# 池化 === 降维，解码需要升维\n",
    "up_samp = tf.keras.layers.UpSampling2D()(max_pool)\n",
    "conv_2 = tf.keras.layers.Conv2D(1, (3, 3), activation=\"sigmoid\", padding=\"same\")(\n",
    "    up_samp\n",
    ")\n",
    "\n",
    "\n",
    "model = tf.keras.models.Model(inputs=input_layer, outputs=conv_2)\n",
    "model.compile(optimizer=\"Adam\", loss=\"binary_crossentropy\")\n",
    "model.summary()"
   ]
  },
  {
   "cell_type": "code",
   "execution_count": 187,
   "id": "1b82b356-0773-43b7-b9e2-7200068f7695",
   "metadata": {},
   "outputs": [
    {
     "name": "stdout",
     "output_type": "stream",
     "text": [
      "Epoch 1/3\n",
      "\u001b[1m469/469\u001b[0m \u001b[32m━━━━━━━━━━━━━━━━━━━━\u001b[0m\u001b[37m\u001b[0m \u001b[1m2s\u001b[0m 4ms/step - loss: 0.3227\n",
      "Epoch 2/3\n",
      "\u001b[1m469/469\u001b[0m \u001b[32m━━━━━━━━━━━━━━━━━━━━\u001b[0m\u001b[37m\u001b[0m \u001b[1m2s\u001b[0m 4ms/step - loss: 0.1045\n",
      "Epoch 3/3\n",
      "\u001b[1m469/469\u001b[0m \u001b[32m━━━━━━━━━━━━━━━━━━━━\u001b[0m\u001b[37m\u001b[0m \u001b[1m2s\u001b[0m 4ms/step - loss: 0.0994\n"
     ]
    },
    {
     "data": {
      "text/plain": [
       "<keras.src.callbacks.history.History at 0x1a72e0d5c90>"
      ]
     },
     "execution_count": 187,
     "metadata": {},
     "output_type": "execute_result"
    }
   ],
   "source": [
    "# !! 数据形状不对\n",
    "# model.fit(X_train, X_train, batch_size=64, epochs=10)\n",
    "\n",
    "model.fit(X_train_noisy_reshape,X_train_reshape, batch_size=64, epochs=3)"
   ]
  },
  {
   "cell_type": "code",
   "execution_count": 189,
   "id": "371cbc84-3276-4d7e-ba37-9ec0f7a6ecdf",
   "metadata": {},
   "outputs": [
    {
     "name": "stdout",
     "output_type": "stream",
     "text": [
      "\u001b[1m4/4\u001b[0m \u001b[32m━━━━━━━━━━━━━━━━━━━━\u001b[0m\u001b[37m\u001b[0m \u001b[1m0s\u001b[0m 2ms/step \n"
     ]
    },
    {
     "data": {
      "image/png": "[encoded data removed]",
      "text/plain": [
       "<Figure size 1000x600 with 10 Axes>"
      ]
     },
     "metadata": {},
     "output_type": "display_data"
    }
   ],
   "source": [
    "from matplotlib import pyplot as plt\n",
    "\n",
    "n = 5\n",
    "decoded_code = model.predict(X_test_noisy_reshape)  # 自动编码器推理\n",
    "plt.figure(figsize=(10, 6))\n",
    "for i in range(n):\n",
    "    # 输出原始测试样本图像\n",
    "    ax = plt.subplot(3, n, i + 1)\n",
    "    plt.imshow(X_test_noisy_reshape[i].reshape(28, 28), cmap=\"gray\")\n",
    "    ax.get_xaxis().set_visible(False)\n",
    "    ax.get_yaxis().set_visible(False)\n",
    "\n",
    "    # 输出自动编码器重构后的图像\n",
    "    ax = plt.subplot(3, n, i + n + 1)\n",
    "    plt.imshow(decoded_code[i].reshape(28, 28), cmap=\"gray\")\n",
    "    ax.get_xaxis().set_visible(False)\n",
    "    ax.get_yaxis().set_visible(False)"
   ]
  },
  {
   "cell_type": "code",
   "execution_count": null,
   "id": "0dca0b43-bb23-4423-9308-a1b4705a8f91",
   "metadata": {},
   "outputs": [],
   "source": []
  },
  {
   "cell_type": "code",
   "execution_count": null,
   "id": "9083823c-bf2a-43c7-8adc-29fb169ddef2",
   "metadata": {},
   "outputs": [],
   "source": []
  },
  {
   "cell_type": "code",
   "execution_count": null,
   "id": "0aaf54dc-a084-4d99-aabd-9971964448a1",
   "metadata": {},
   "outputs": [],
   "source": [
    "# 使用 pytorch 实现"
   ]
  },
  {
   "cell_type": "code",
   "execution_count": 210,
   "id": "7917cb1d-bd65-4d78-bd94-8a64a3e1d5d0",
   "metadata": {},
   "outputs": [
    {
     "data": {
      "text/plain": [
       "(torch.Size([30000, 1, 28, 28]),\n",
       " torch.Size([100, 1, 28, 28]),\n",
       " torch.Size([30000, 1, 28, 28]),\n",
       " torch.Size([100, 1, 28, 28]))"
      ]
     },
     "execution_count": 210,
     "metadata": {},
     "output_type": "execute_result"
    }
   ],
   "source": [
    "import torch\n",
    "\n",
    "# 在 PyTorch 中，nn.Conv2d 层期望输入的张量形状是 (N, C, H, W)，其中：\n",
    "# N 是批量大小。\n",
    "# C 是通道数。\n",
    "# H 是图像的高度。\n",
    "# W 是图像的宽度。\n",
    "\n",
    "X_train_py = torch.tensor(X_train, dtype=torch.float32).unsqueeze(1)\n",
    "X_test_py = torch.tensor(X_test, dtype=torch.float32).unsqueeze(1)\n",
    "X_train_noisy_py = torch.tensor(X_train_noisy, dtype=torch.float32).unsqueeze(1)\n",
    "X_test_noisy_py = torch.tensor(X_test_noisy, dtype=torch.float32).unsqueeze(1)\n",
    "\n",
    "X_train_py.shape,X_test_py.shape,X_train_noisy_py.shape,X_test_noisy_py.shape"
   ]
  },
  {
   "cell_type": "code",
   "execution_count": 201,
   "id": "8b55bf12-6475-44d7-94c5-6e04bcdd33bb",
   "metadata": {},
   "outputs": [
    {
     "data": {
      "text/plain": [
       "Model(\n",
       "  (c1): Sequential(\n",
       "    (0): Conv2d(1, 32, kernel_size=(3, 3), stride=(1, 1), padding=(1, 1))\n",
       "    (1): ReLU()\n",
       "  )\n",
       "  (c2): Sequential(\n",
       "    (0): MaxPool2d(kernel_size=2, stride=2, padding=0, dilation=1, ceil_mode=False)\n",
       "  )\n",
       "  (c3): Sequential(\n",
       "    (0): Upsample(scale_factor=2.0, mode='nearest')\n",
       "  )\n",
       "  (c4): Sequential(\n",
       "    (0): Conv2d(32, 1, kernel_size=(3, 3), stride=(1, 1), padding=(1, 1))\n",
       "    (1): Sigmoid()\n",
       "  )\n",
       ")"
      ]
     },
     "execution_count": 201,
     "metadata": {},
     "output_type": "execute_result"
    }
   ],
   "source": [
    "import torch.nn as nn\n",
    "\n",
    "class Model(nn.Module):\n",
    "    def __init__(self):\n",
    "        super(Model, self).__init__()\n",
    "        self.c1 = nn.Sequential(nn.Conv2d(1, 32, kernel_size=3, padding=1), nn.ReLU())\n",
    "        self.c2 = nn.Sequential(nn.MaxPool2d(kernel_size=2, stride=2, padding=0))\n",
    "        self.c3 = nn.Sequential(nn.Upsample(scale_factor=2, mode=\"nearest\"))\n",
    "        self.c4 = nn.Sequential(\n",
    "            nn.Conv2d(32, 1, kernel_size=3, padding=1), nn.Sigmoid()\n",
    "        )\n",
    "\n",
    "    def forward(self, x):\n",
    "        r1 = self.c1(x)\n",
    "        r2 = self.c2(r1)\n",
    "        r3 = self.c3(r2)\n",
    "        r4 = self.c4(r3)\n",
    "        # print(\"r1:\", r1.shape)\n",
    "        # print(\"r2:\", r2.shape)\n",
    "        # print(\"r3:\", r3.shape)\n",
    "        # print(\"r4:\", r4.shape)\n",
    "        return r4\n",
    "\n",
    "\n",
    "m = Model()\n",
    "loss_fn = nn.BCELoss()\n",
    "opt = torch.optim.Adam(m.parameters())\n",
    "m"
   ]
  },
  {
   "cell_type": "code",
   "execution_count": 202,
   "id": "4143795a-4246-4164-bebb-afcad6362bd1",
   "metadata": {},
   "outputs": [],
   "source": [
    "# X_train_noisy_reshape.shape,X_train_reshape.shape,X_test_reshape.shape,X_test_noisy_reshape.shape\n",
    "\n",
    "train_loader = torch.utils.data.DataLoader(list(zip(X_train_noisy_py, X_train)), batch_size=64, shuffle=True)"
   ]
  },
  {
   "cell_type": "code",
   "execution_count": 203,
   "id": "624f2f28-704b-4cd8-959c-781c808eef16",
   "metadata": {},
   "outputs": [
    {
     "name": "stdout",
     "output_type": "stream",
     "text": [
      "Epoch [1/3], Loss: 0.1040\n",
      "Epoch [2/3], Loss: 0.0986\n",
      "Epoch [3/3], Loss: 0.1003\n"
     ]
    }
   ],
   "source": [
    "num_epochs = 3\n",
    "for epoch in range(num_epochs):\n",
    "    for data in train_loader:\n",
    "        inputs, targets = data\n",
    "        opt.zero_grad()\n",
    "        outputs = m(inputs)\n",
    "        loss = loss_fn(outputs, targets)\n",
    "        loss.backward()\n",
    "        opt.step()\n",
    "\n",
    "    print(f\"Epoch [{epoch+1}/{num_epochs}], Loss: {loss.item():.4f}\")"
   ]
  },
  {
   "cell_type": "code",
   "execution_count": 205,
   "id": "c17b7e67-2597-45d8-8cff-9e442d64f710",
   "metadata": {},
   "outputs": [
    {
     "data": {
      "image/png": "[encoded data removed]",
      "text/plain": [
       "<Figure size 1000x600 with 10 Axes>"
      ]
     },
     "metadata": {},
     "output_type": "display_data"
    }
   ],
   "source": [
    "# 预测并展示结果\n",
    "with torch.no_grad():\n",
    "    decoded_code = m(X_test_noisy_py[:5])\n",
    "\n",
    "n = 5\n",
    "plt.figure(figsize=(10, 6))\n",
    "for i in range(n):\n",
    "    # 输出原始测试样本图像\n",
    "    ax = plt.subplot(3, n, i + 1)\n",
    "    plt.imshow(X_test_noisy_py[i].squeeze(), cmap=\"gray\")\n",
    "    ax.get_xaxis().set_visible(False)\n",
    "    ax.get_yaxis().set_visible(False)\n",
    "\n",
    "    # 输出自动编码器重构后的图像\n",
    "    ax = plt.subplot(3, n, i + n + 1)\n",
    "    plt.imshow(decoded_code[i].squeeze(), cmap=\"gray\")\n",
    "    ax.get_xaxis().set_visible(False)\n",
    "    ax.get_yaxis().set_visible(False)\n",
    "\n",
    "plt.show()"
   ]
  },
  {
   "cell_type": "code",
   "execution_count": null,
   "id": "7a840353-13c8-40e5-b38d-d20e5dd1cd46",
   "metadata": {},
   "outputs": [],
   "source": []
  }
 ],
 "metadata": {
  "kernelspec": {
   "display_name": "Python 3 (ipykernel)",
   "language": "python",
   "name": "python3"
  },
  "language_info": {
   "codemirror_mode": {
    "name": "ipython",
    "version": 3
   },
   "file_extension": ".py",
   "mimetype": "text/x-python",
   "name": "python",
   "nbconvert_exporter": "python",
   "pygments_lexer": "ipython3",
   "version": "3.11.8"
  }
 },
 "nbformat": 4,
 "nbformat_minor": 5
}
