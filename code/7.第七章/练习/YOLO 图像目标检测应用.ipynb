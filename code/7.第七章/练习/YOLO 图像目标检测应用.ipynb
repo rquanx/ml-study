{
 "cells": [
  {
   "cell_type": "code",
   "execution_count": null,
   "id": "d32c6985-5db1-4d7e-99db-9f32214bca03",
   "metadata": {},
   "outputs": [],
   "source": [
    "# 完整指导：https://pjreddie.com/darknet/yolo/"
   ]
  },
  {
   "cell_type": "code",
   "execution_count": null,
   "id": "d4a00424-ebc5-44df-aaf2-dcf50af9f7d1",
   "metadata": {},
   "outputs": [],
   "source": [
    "# !git clone \"https://github.com/huhuhang/yolov3\""
   ]
  },
  {
   "cell_type": "code",
   "execution_count": null,
   "id": "95a3dcf3-2d8a-4754-9e85-9292767fa39c",
   "metadata": {},
   "outputs": [],
   "source": [
    "import sys\n",
    "import warnings\n",
    "warnings.filterwarnings('ignore')\n",
    "\n",
    "# sys.path是一个列表 list ,它里面包含了已经添加到系统的环境变量路径。\n",
    "# 当我们要添加自己的引用模块搜索目录时，可以通过列表 list 的 append()方法\n",
    "sys.path.append(\"yolov3\")  # 添加路径"
   ]
  },
  {
   "cell_type": "code",
   "execution_count": null,
   "id": "a13bfeee-0e7d-47cc-b9d5-d9d5546bdcde",
   "metadata": {},
   "outputs": [],
   "source": [
    "import os\n",
    "from yolov3.utils import download_trained_weights\n",
    "\n",
    "download_trained_weights(\"yolov3_tiny_coco_01.h5\")  # 下载预训练模型"
   ]
  },
  {
   "cell_type": "code",
   "execution_count": null,
   "id": "bfb415ef-8a8f-4a71-9f66-aa633a2d391c",
   "metadata": {},
   "outputs": [],
   "source": [
    "import torch\n",
    "from yolov3.yolov3_tiny import Yolov3Tiny\n",
    "\n",
    "model = Yolov3Tiny(num_classes=80)  # COCO 数据集类别\n",
    "model.load_state_dict(torch.load('yolov3_tiny_coco_01.h5'))"
   ]
  },
  {
   "cell_type": "code",
   "execution_count": null,
   "id": "4f92a85b-2569-4367-8fb3-52972b09be84",
   "metadata": {},
   "outputs": [],
   "source": [
    "# 预先定义好的一些功能函数来读取并处理测试图片。实际上就是将图片读取成数值，裁剪形状以及转换为 PyTorch 张量类型。需要注意，该预训练网络只支持传入 (n,3 ,32 x k,32 x k)形状的图片张量，也就是长宽像素必须为 32 的倍数\n",
    "from yolov3.utils import Image, image2torch\n",
    "\n",
    "img_org = Image.open(\"yolov3/test.png\").convert('RGB')  # 读取图片\n",
    "img_resized = img_org.resize((992, 480))  # 裁剪大小\n",
    "img_torch = image2torch(img_resized)  # 转换为张量\n",
    "img_torch.shape"
   ]
  },
  {
   "cell_type": "code",
   "execution_count": null,
   "id": "79daa910-c18e-434e-b816-bef45b87355d",
   "metadata": {},
   "outputs": [],
   "source": [
    "# conf_thresh: 最低置信度,过滤必须要的边框\n",
    "all_boxes = model.predict_img(img_torch, conf_thresh=0.3)[0]\n",
    "len(all_boxes)  # 边界框数量"
   ]
  },
  {
   "cell_type": "code",
   "execution_count": null,
   "id": "906df34e-6ccc-45a6-9cb0-7300a4276d87",
   "metadata": {},
   "outputs": [],
   "source": [
    "# COCO 类别名称，顺序相关\n",
    "class_names = ['person', 'bicycle', 'car', 'motorcycle', 'airplane',\n",
    "               'bus', 'train', 'truck', 'boat', 'traffic light',\n",
    "               'fire hydrant', 'stop sign', 'parking meter', 'bench', 'bird',\n",
    "               'cat', 'dog', 'horse', 'sheep', 'cow', 'elephant', 'bear',\n",
    "               'zebra', 'giraffe', 'backpack', 'umbrella', 'handbag', 'tie',\n",
    "               'suitcase', 'frisbee', 'skis', 'snowboard', 'sports ball',\n",
    "               'kite', 'baseball bat', 'baseball glove', 'skateboard',\n",
    "               'surfboard', 'tennis racket', 'bottle', 'wine glass', 'cup',\n",
    "               'fork', 'knife', 'spoon', 'bowl', 'banana', 'apple',\n",
    "               'sandwich', 'orange', 'broccoli', 'carrot', 'hot dog', 'pizza',\n",
    "               'donut', 'cake', 'chair', 'couch', 'potted plant', 'bed',\n",
    "               'dining table', 'toilet', 'tv', 'laptop', 'mouse', 'remote',\n",
    "               'keyboard', 'cell phone', 'microwave', 'oven', 'toaster',\n",
    "               'sink', 'refrigerator', 'book', 'clock', 'vase', 'scissors',\n",
    "               'teddy bear', 'hair drier', 'toothbrush']\n",
    "\n",
    "\n",
    "\n",
    "# 根据推断出来的边框，结合类别，进行边框绘制\n",
    "from yolov3.utils import plot_img_detections\n",
    "\n",
    "plot_img_detections(img_resized, all_boxes,\n",
    "                    figsize=(16, 8), class_names=class_names)"
   ]
  }
 ],
 "metadata": {
  "kernelspec": {
   "display_name": "Python 3 (ipykernel)",
   "language": "python",
   "name": "python3"
  },
  "language_info": {
   "codemirror_mode": {
    "name": "ipython",
    "version": 3
   },
   "file_extension": ".py",
   "mimetype": "text/x-python",
   "name": "python",
   "nbconvert_exporter": "python",
   "pygments_lexer": "ipython3",
   "version": "3.11.8"
  }
 },
 "nbformat": 4,
 "nbformat_minor": 5
}
