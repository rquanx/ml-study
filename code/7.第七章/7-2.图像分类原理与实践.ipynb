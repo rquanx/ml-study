{
 "cells": [
  {
   "cell_type": "code",
   "execution_count": null,
   "id": "2dc996e8-fa95-4f5f-88e1-b249bbbd3c51",
   "metadata": {},
   "outputs": [],
   "source": [
    "# 猫狗识别迁移学习\n",
    "# 训练模型作为固定的特征提取器，只训练最后一层分类器"
   ]
  },
  {
   "cell_type": "code",
   "execution_count": null,
   "id": "c961ba19-114f-42c2-a607-03ac060d0bc7",
   "metadata": {},
   "outputs": [],
   "source": [
    "from torchvision import models\n",
    "\n",
    "# 从课程镜像服务器上下载 AlexNet 预训练模型\n",
    "torch.utils.model_zoo.load_url(\n",
    "    \"https://cdn.aibydoing.com/hands-on-ai/files/alexnet-owt-4df8aa71.pth\"\n",
    ")\n",
    "alexnet = models.alexnet(pretrained=True)\n",
    "alexnet"
   ]
  },
  {
   "cell_type": "code",
   "execution_count": null,
   "id": "c80fca73-cbd6-4d52-a2cc-1c1427ef7992",
   "metadata": {},
   "outputs": [],
   "source": [
    "# PyTorch 中所有层都会用一个变量 requires_grad 来表明这一层在反向传播时需不需要计算梯度\n",
    "for param in alexnet.parameters():\n",
    "    print(param.requires_grad)\n",
    "# 后返回  16 组状态，虽然 AlexNet 有 20 层，但是池化层、Dropout、激活层等均没有可学习参数\n",
    "# 需要学习参数的卷积层和全连接层实际上只有 8 个。每一个层中权重和偏置项各为 1 组参数，所以最终打印出 8 x 2 = 16 组状态"
   ]
  },
  {
   "cell_type": "code",
   "execution_count": null,
   "id": "a2a4ddfc-5188-486e-a652-15b983c6005d",
   "metadata": {},
   "outputs": [],
   "source": [
    "# 不需要更新权重，冻结参数\n",
    "for param in alexnet.parameters():\n",
    "    param.requires_grad = False\n",
    "    print(param.requires_grad)"
   ]
  },
  {
   "cell_type": "code",
   "execution_count": null,
   "id": "9cf9cce3-8ac3-458b-bf8f-f3cbf82c0676",
   "metadata": {},
   "outputs": [],
   "source": [
    "# 在 ImageNet 上完成预训练的 AlexNet 模型是 1000 个类别的多分类输出，替换这一层进行二分类\n",
    "\n",
    "classifier = list(alexnet.classifier.children())  # 读取分类器全部层\n",
    "# 将最后一层由 Linear(4096, 1000) 改为 Linear(4096, 2)\n",
    "classifier[-1] = torch.nn.Linear(4096, 2)\n",
    "alexnet.classifier = torch.nn.Sequential(*classifier)  # 修改原分类器\n",
    "alexnet"
   ]
  },
  {
   "cell_type": "code",
   "execution_count": null,
   "id": "645a597f-de27-497a-9fd0-96e9625a5849",
   "metadata": {},
   "outputs": [],
   "source": [
    "# 学习率：每迭代一个 step_size 次，学习率都将会是上一次的 gamma\n",
    "\n",
    "# 如果 GPU 可用则使用 CUDA 加速，否则使用 CPU 设备计算\n",
    "dev = torch.device(\"cuda\") if torch.cuda.is_available() else torch.device(\"cpu\")\n",
    "dev"
   ]
  },
  {
   "cell_type": "code",
   "execution_count": null,
   "id": "1ce91b84-36e1-4ee6-8e58-bfe16fa1ce66",
   "metadata": {},
   "outputs": [],
   "source": [
    "criterion = torch.nn.CrossEntropyLoss()  # 交叉熵损失函数\n",
    "\n",
    "# 只对 requires_grad TRUE 的进行优化\n",
    "optimizer = torch.optim.Adam(\n",
    "    filter(lambda p: p.requires_grad, alexnet.parameters()), lr=0.001\n",
    ")  # 优化器\n",
    "# 学习率衰减，每迭代 1 次，衰减为初始学习率 0.5\n",
    "lr_scheduler = torch.optim.lr_scheduler.StepLR(optimizer, step_size=1, gamma=0.5)\n",
    "\n",
    "criterion, optimizer, lr_scheduler"
   ]
  },
  {
   "cell_type": "code",
   "execution_count": null,
   "id": "d58a34bf-c464-489e-87be-93a17e0c3cb8",
   "metadata": {},
   "outputs": [],
   "source": [
    "epochs = 2\n",
    "model = alexnet.to(dev)\n",
    "print(\"Start Training...\")\n",
    "for epoch in range(epochs):\n",
    "    for i, (images, labels) in enumerate(train_loader):\n",
    "        images = images.to(dev)  # 添加 .to(dev)\n",
    "        labels = labels.to(dev)  # 添加 .to(dev)\n",
    "\n",
    "        outputs = model(images)\n",
    "        loss = criterion(outputs, labels)\n",
    "\n",
    "        optimizer.zero_grad()\n",
    "        loss.backward()\n",
    "        optimizer.step()\n",
    "\n",
    "        if (i + 1) % 100 == 0:\n",
    "            print(\n",
    "                \"Epoch [{}/{}], Batch [{}/{}], Train loss: {:.3f}\".format(\n",
    "                    epoch + 1, epochs, i + 1, len(train_loader), loss.item()\n",
    "                )\n",
    "            )\n",
    "\n",
    "    correct = 0\n",
    "    total = 0\n",
    "    for images, labels in val_loader:\n",
    "        images = images.to(dev)  # 添加 .to(dev)\n",
    "        labels = labels.to(dev)  # 添加 .to(dev)\n",
    "\n",
    "        outputs = model(images)\n",
    "        _, predicted = torch.max(outputs.data, 1)\n",
    "\n",
    "        correct += (predicted == labels).sum().item()\n",
    "        total += labels.size(0)\n",
    "\n",
    "    print(\"============ Test accuracy: {:.3f} =============\".format(correct / total))\n",
    "\n",
    "    lr_scheduler.step()  # 设置学习率衰减"
   ]
  },
  {
   "cell_type": "code",
   "execution_count": null,
   "id": "24a0fe71-c353-4f1d-b043-834474ab5b02",
   "metadata": {},
   "outputs": [],
   "source": [
    "torch.save(model.state_dict(), \"model.pt\")\n"
   ]
  },
  {
   "cell_type": "code",
   "execution_count": null,
   "id": "8099dd97-ed2e-44fb-a106-156a36e470b6",
   "metadata": {},
   "outputs": [],
   "source": [
    "model_saved = alexnet\n",
    "model_saved.load_state_dict(torch.load(\"model.pt\"))\n",
    "model_saved"
   ]
  },
  {
   "cell_type": "code",
   "execution_count": null,
   "id": "ca610fd6-c05e-4445-89e7-e3ae1fd9a18e",
   "metadata": {},
   "outputs": [],
   "source": []
  },
  {
   "cell_type": "code",
   "execution_count": null,
   "id": "62eeb588-d97d-4291-9b1f-c4bc991d8c22",
   "metadata": {},
   "outputs": [],
   "source": [
    "import requests\n",
    "\n",
    "# 随机返回一只猫咪或狗狗的图片\n",
    "random_api = \"https://random-cat-dog.onrender.com\"\n",
    "content = requests.get(random_api).json()\n",
    "with open(\"test.jpg\", \"wb\") as f:\n",
    "    f.write(requests.get(content[\"url\"]).content)\n",
    "plt.title(content[\"species\"])\n",
    "plt.imshow(io.imread(\"test.jpg\"))\n",
    "\n",
    "\n",
    "IMAGE = io.imread(\"test.jpg\")\n",
    "IMAGE = data_transforms[\"val\"](IMAGE).unsqueeze(0)  # PyTorch 模型输入必须为 B*C*H*W\n",
    "IMAGE.size()\n",
    "\n",
    "\n",
    "torch.argmax(model_saved(IMAGE.to(dev)))  # 对测试数据进行推理"
   ]
  },
  {
   "cell_type": "code",
   "execution_count": null,
   "id": "a51e9629-8b8d-407a-98ee-c971a1f233d7",
   "metadata": {},
   "outputs": [],
   "source": []
  },
  {
   "cell_type": "code",
   "execution_count": null,
   "id": "7b29b969-7d26-4f71-8f33-9e445c7004bb",
   "metadata": {},
   "outputs": [],
   "source": [
    "# 卷积神经网络可视化"
   ]
  },
  {
   "cell_type": "code",
   "execution_count": null,
   "id": "f00cdbc1-6516-4fe4-8d2c-a99e187de7ae",
   "metadata": {},
   "outputs": [],
   "source": [
    "conv1_weights = list(model_saved.parameters())[0]\n",
    "conv1_images = make_grid(conv1_weights, normalize=True).cpu()\n",
    "plt.figure(figsize=(8, 8))\n",
    "plt.imshow(conv1_images.permute(1, 2, 0).numpy())\n",
    "\n",
    "\n",
    "\n",
    "# AlexNet 第一层卷积核参数的形状是 的四维 Tensor，这样就可以得到上述 个的图片块了。显然，这些重构出来的图像基本都是关于边缘，条纹以及颜色的信息。\n",
    "\n",
    "# 神经网络通过卷积核作为特征提取器，每一个卷积核对输入进行卷积，就产生一个特征图，例如说 AlexNet 第一层卷积层有 64 个卷积核，那么就有 64 个特征图\n",
    "\n",
    "# 理想的特征图应该是稀疏的以及包含典型的局部信息。通过特征图可视化能有一些直观的认识并帮助调试模型，比如：特征图与原图很接近，说明它没有学到什么特征，如果特征图几乎是一个纯色的图，说明它太过稀疏，可能是模型特征图数太多了，也反映了卷积核太小。我们可以通过这些信息调整神经网络的参数。\n",
    "\n",
    "\n",
    "def visualize(alexnet, input_data, submodule_name, layer_index):\n",
    "    \"\"\"\n",
    "    alexnet: 模型\n",
    "    input_data: 输入数据\n",
    "    submodule_name: 可视化 module 的 name, 专门针对 nn.Sequential\n",
    "    layer_index: 在 submodule 中的 index\n",
    "    \"\"\"\n",
    "    x = input_data\n",
    "    modules = alexnet._modules\n",
    "    for name in modules.keys():\n",
    "        if name == submodule_name:\n",
    "            module_layers = list(modules[name].children())\n",
    "            for i in range(layer_index + 1):\n",
    "                if type(module_layers[i]) == torch.nn.Linear:\n",
    "                    x = x.reshape(x.size(0), -1)  # 针对线性层\n",
    "                x = module_layers[i](x)\n",
    "            return x\n",
    "\n",
    "        x = modules[name](x)\n",
    "\n",
    "\n",
    "\n",
    "feature_maps = visualize(model_saved, IMAGE.to(dev), \"features\", 0)\n",
    "feature_images = make_grid(feature_maps.permute(1, 0, 2, 3), normalize=True).cpu()\n",
    "plt.figure(figsize=(8, 8))\n",
    "plt.imshow(feature_images.permute(1, 2, 0).numpy())"
   ]
  }
 ],
 "metadata": {
  "kernelspec": {
   "display_name": "Python 3 (ipykernel)",
   "language": "python",
   "name": "python3"
  },
  "language_info": {
   "codemirror_mode": {
    "name": "ipython",
    "version": 3
   },
   "file_extension": ".py",
   "mimetype": "text/x-python",
   "name": "python",
   "nbconvert_exporter": "python",
   "pygments_lexer": "ipython3",
   "version": "3.11.8"
  }
 },
 "nbformat": 4,
 "nbformat_minor": 5
}
