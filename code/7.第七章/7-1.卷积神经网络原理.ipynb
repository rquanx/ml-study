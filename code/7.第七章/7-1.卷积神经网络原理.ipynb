{
 "cells": [
  {
   "cell_type": "code",
   "execution_count": 5,
   "id": "a73ad033-b93a-4990-b675-b4d34290266b",
   "metadata": {},
   "outputs": [
    {
     "data": {
      "text/plain": [
       "((60000, 28, 28, 1), (60000,), (10000, 28, 28, 1), (10000,))"
      ]
     },
     "execution_count": 5,
     "metadata": {},
     "output_type": "execute_result"
    }
   ],
   "source": [
    "# 此段数据读取代码无需掌握\n",
    "import gzip\n",
    "\n",
    "import numpy as np\n",
    "\n",
    "\n",
    "def read_mnist(images_path, labels_path):\n",
    "    with gzip.open(\"../6.第六章/MNIST/raw/\" + labels_path, \"rb\") as labelsFile:\n",
    "        y = np.frombuffer(labelsFile.read(), dtype=np.uint8, offset=8)\n",
    "\n",
    "    with gzip.open(\"../6.第六章/MNIST/raw/\" + images_path, \"rb\") as imagesFile:\n",
    "        X = (\n",
    "            np.frombuffer(imagesFile.read(), dtype=np.uint8, offset=16)\n",
    "            .reshape(len(y), 784)\n",
    "            .reshape(len(y), 28, 28, 1)\n",
    "        )\n",
    "\n",
    "    return X, y\n",
    "\n",
    "\n",
    "train = {}\n",
    "test = {}\n",
    "\n",
    "train[\"X\"], train[\"y\"] = read_mnist(\n",
    "    \"train-images-idx3-ubyte.gz\", \"train-labels-idx1-ubyte.gz\"\n",
    ")\n",
    "test[\"X\"], test[\"y\"] = read_mnist(\n",
    "    \"t10k-images-idx3-ubyte.gz\", \"t10k-labels-idx1-ubyte.gz\"\n",
    ")\n",
    "\n",
    "train[\"X\"].shape, train[\"y\"].shape, test[\"X\"].shape, test[\"y\"].shape"
   ]
  },
  {
   "cell_type": "code",
   "execution_count": 6,
   "id": "34e4162f-e2c7-415a-bd9b-c9a0fd3e3e34",
   "metadata": {},
   "outputs": [
    {
     "data": {
      "text/plain": [
       "<matplotlib.image.AxesImage at 0x23397eab1d0>"
      ]
     },
     "execution_count": 6,
     "metadata": {},
     "output_type": "execute_result"
    },
    {
     "data": {
      "image/png": "[encoded data removed]",
      "text/plain": [
       "<Figure size 640x480 with 1 Axes>"
      ]
     },
     "metadata": {},
     "output_type": "display_data"
    }
   ],
   "source": [
    "from matplotlib import pyplot as plt\n",
    "\n",
    "%matplotlib inline\n",
    "\n",
    "plt.imshow(train[\"X\"][0].reshape(28, 28), cmap=plt.cm.gray_r)"
   ]
  },
  {
   "cell_type": "code",
   "execution_count": 7,
   "id": "9977c7b4-f972-431f-8624-c7def49e8e07",
   "metadata": {},
   "outputs": [
    {
     "data": {
      "text/plain": [
       "((60000, 32, 32, 1), (10000, 32, 32, 1), (60000, 10), (10000, 10))"
      ]
     },
     "execution_count": 7,
     "metadata": {},
     "output_type": "execute_result"
    }
   ],
   "source": [
    "# 样本 padding 填充\n",
    "X_train = np.pad(train[\"X\"], ((0, 0), (2, 2), (2, 2), (0, 0)), \"constant\")\n",
    "X_test = np.pad(test[\"X\"], ((0, 0), (2, 2), (2, 2), (0, 0)), \"constant\")\n",
    "# 标签独热编码\n",
    "# 为什么要独热编码？最终是 Softmax 输出？\n",
    "# 答：交叉熵损失函数，需要独热编码的标签进行计算\n",
    "# 神经网络中使用 交叉熵损失函数 较多\n",
    "y_train = np.eye(10)[train[\"y\"].reshape(-1)]\n",
    "y_test = np.eye(10)[test[\"y\"].reshape(-1)]\n",
    "\n",
    "X_train.shape, X_test.shape, y_train.shape, y_test.shape"
   ]
  },
  {
   "cell_type": "code",
   "execution_count": 8,
   "id": "2f51a189-bf95-4d9e-827b-0ff68f56ad81",
   "metadata": {},
   "outputs": [
    {
     "data": {
      "text/plain": [
       "<matplotlib.image.AxesImage at 0x23397efd150>"
      ]
     },
     "execution_count": 8,
     "metadata": {},
     "output_type": "execute_result"
    },
    {
     "data": {
      "image/png": "[encoded data removed]",
      "text/plain": [
       "<Figure size 640x480 with 1 Axes>"
      ]
     },
     "metadata": {},
     "output_type": "display_data"
    }
   ],
   "source": [
    "from matplotlib import pyplot as plt\n",
    "\n",
    "%matplotlib inline\n",
    "\n",
    "plt.imshow(X_train[0].reshape(32, 32), cmap=plt.cm.gray_r)"
   ]
  },
  {
   "cell_type": "code",
   "execution_count": 9,
   "id": "993c31bb-d463-49d6-a794-6cf0a4b61c8e",
   "metadata": {},
   "outputs": [],
   "source": [
    "# TensorFlow 高阶 tf.keras 构建"
   ]
  },
  {
   "cell_type": "code",
   "execution_count": 10,
   "id": "f80a6aff-5be8-4f04-a961-962cf2f1e4c9",
   "metadata": {},
   "outputs": [
    {
     "name": "stderr",
     "output_type": "stream",
     "text": [
      "C:\\Users\\91658\\Miniconda3\\envs\\ml\\Lib\\site-packages\\keras\\src\\layers\\convolutional\\base_conv.py:99: UserWarning: Do not pass an `input_shape`/`input_dim` argument to a layer. When using Sequential models, prefer using an `Input(shape)` object as the first layer in the model instead.\n",
      "  super().__init__(\n"
     ]
    },
    {
     "data": {
      "text/html": [
       "<pre style=\"white-space:pre;overflow-x:auto;line-height:normal;font-family:Menlo,'DejaVu Sans Mono',consolas,'Courier New',monospace\"><span style=\"font-weight: bold\">Model: \"sequential\"</span>\n",
       "</pre>\n"
      ],
      "text/plain": [
       "\u001b[1mModel: \"sequential\"\u001b[0m\n"
      ]
     },
     "metadata": {},
     "output_type": "display_data"
    },
    {
     "data": {
      "text/html": [
       "<pre style=\"white-space:pre;overflow-x:auto;line-height:normal;font-family:Menlo,'DejaVu Sans Mono',consolas,'Courier New',monospace\">┏━━━━━━━━━━━━━━━━━━━━━━━━━━━━━━━━━┳━━━━━━━━━━━━━━━━━━━━━━━━┳━━━━━━━━━━━━━━━┓\n",
       "┃<span style=\"font-weight: bold\"> Layer (type)                    </span>┃<span style=\"font-weight: bold\"> Output Shape           </span>┃<span style=\"font-weight: bold\">       Param # </span>┃\n",
       "┡━━━━━━━━━━━━━━━━━━━━━━━━━━━━━━━━━╇━━━━━━━━━━━━━━━━━━━━━━━━╇━━━━━━━━━━━━━━━┩\n",
       "│ conv2d (<span style=\"color: #0087ff; text-decoration-color: #0087ff\">Conv2D</span>)                 │ (<span style=\"color: #00d7ff; text-decoration-color: #00d7ff\">None</span>, <span style=\"color: #00af00; text-decoration-color: #00af00\">28</span>, <span style=\"color: #00af00; text-decoration-color: #00af00\">28</span>, <span style=\"color: #00af00; text-decoration-color: #00af00\">6</span>)      │           <span style=\"color: #00af00; text-decoration-color: #00af00\">156</span> │\n",
       "├─────────────────────────────────┼────────────────────────┼───────────────┤\n",
       "│ average_pooling2d               │ (<span style=\"color: #00d7ff; text-decoration-color: #00d7ff\">None</span>, <span style=\"color: #00af00; text-decoration-color: #00af00\">14</span>, <span style=\"color: #00af00; text-decoration-color: #00af00\">14</span>, <span style=\"color: #00af00; text-decoration-color: #00af00\">6</span>)      │             <span style=\"color: #00af00; text-decoration-color: #00af00\">0</span> │\n",
       "│ (<span style=\"color: #0087ff; text-decoration-color: #0087ff\">AveragePooling2D</span>)              │                        │               │\n",
       "├─────────────────────────────────┼────────────────────────┼───────────────┤\n",
       "│ conv2d_1 (<span style=\"color: #0087ff; text-decoration-color: #0087ff\">Conv2D</span>)               │ (<span style=\"color: #00d7ff; text-decoration-color: #00d7ff\">None</span>, <span style=\"color: #00af00; text-decoration-color: #00af00\">10</span>, <span style=\"color: #00af00; text-decoration-color: #00af00\">10</span>, <span style=\"color: #00af00; text-decoration-color: #00af00\">16</span>)     │         <span style=\"color: #00af00; text-decoration-color: #00af00\">2,416</span> │\n",
       "├─────────────────────────────────┼────────────────────────┼───────────────┤\n",
       "│ average_pooling2d_1             │ (<span style=\"color: #00d7ff; text-decoration-color: #00d7ff\">None</span>, <span style=\"color: #00af00; text-decoration-color: #00af00\">5</span>, <span style=\"color: #00af00; text-decoration-color: #00af00\">5</span>, <span style=\"color: #00af00; text-decoration-color: #00af00\">16</span>)       │             <span style=\"color: #00af00; text-decoration-color: #00af00\">0</span> │\n",
       "│ (<span style=\"color: #0087ff; text-decoration-color: #0087ff\">AveragePooling2D</span>)              │                        │               │\n",
       "├─────────────────────────────────┼────────────────────────┼───────────────┤\n",
       "│ flatten (<span style=\"color: #0087ff; text-decoration-color: #0087ff\">Flatten</span>)               │ (<span style=\"color: #00d7ff; text-decoration-color: #00d7ff\">None</span>, <span style=\"color: #00af00; text-decoration-color: #00af00\">400</span>)            │             <span style=\"color: #00af00; text-decoration-color: #00af00\">0</span> │\n",
       "├─────────────────────────────────┼────────────────────────┼───────────────┤\n",
       "│ dense (<span style=\"color: #0087ff; text-decoration-color: #0087ff\">Dense</span>)                   │ (<span style=\"color: #00d7ff; text-decoration-color: #00d7ff\">None</span>, <span style=\"color: #00af00; text-decoration-color: #00af00\">120</span>)            │        <span style=\"color: #00af00; text-decoration-color: #00af00\">48,120</span> │\n",
       "├─────────────────────────────────┼────────────────────────┼───────────────┤\n",
       "│ dense_1 (<span style=\"color: #0087ff; text-decoration-color: #0087ff\">Dense</span>)                 │ (<span style=\"color: #00d7ff; text-decoration-color: #00d7ff\">None</span>, <span style=\"color: #00af00; text-decoration-color: #00af00\">84</span>)             │        <span style=\"color: #00af00; text-decoration-color: #00af00\">10,164</span> │\n",
       "├─────────────────────────────────┼────────────────────────┼───────────────┤\n",
       "│ dense_2 (<span style=\"color: #0087ff; text-decoration-color: #0087ff\">Dense</span>)                 │ (<span style=\"color: #00d7ff; text-decoration-color: #00d7ff\">None</span>, <span style=\"color: #00af00; text-decoration-color: #00af00\">10</span>)             │           <span style=\"color: #00af00; text-decoration-color: #00af00\">850</span> │\n",
       "└─────────────────────────────────┴────────────────────────┴───────────────┘\n",
       "</pre>\n"
      ],
      "text/plain": [
       "┏━━━━━━━━━━━━━━━━━━━━━━━━━━━━━━━━━┳━━━━━━━━━━━━━━━━━━━━━━━━┳━━━━━━━━━━━━━━━┓\n",
       "┃\u001b[1m \u001b[0m\u001b[1mLayer (type)                   \u001b[0m\u001b[1m \u001b[0m┃\u001b[1m \u001b[0m\u001b[1mOutput Shape          \u001b[0m\u001b[1m \u001b[0m┃\u001b[1m \u001b[0m\u001b[1m      Param #\u001b[0m\u001b[1m \u001b[0m┃\n",
       "┡━━━━━━━━━━━━━━━━━━━━━━━━━━━━━━━━━╇━━━━━━━━━━━━━━━━━━━━━━━━╇━━━━━━━━━━━━━━━┩\n",
       "│ conv2d (\u001b[38;5;33mConv2D\u001b[0m)                 │ (\u001b[38;5;45mNone\u001b[0m, \u001b[38;5;34m28\u001b[0m, \u001b[38;5;34m28\u001b[0m, \u001b[38;5;34m6\u001b[0m)      │           \u001b[38;5;34m156\u001b[0m │\n",
       "├─────────────────────────────────┼────────────────────────┼───────────────┤\n",
       "│ average_pooling2d               │ (\u001b[38;5;45mNone\u001b[0m, \u001b[38;5;34m14\u001b[0m, \u001b[38;5;34m14\u001b[0m, \u001b[38;5;34m6\u001b[0m)      │             \u001b[38;5;34m0\u001b[0m │\n",
       "│ (\u001b[38;5;33mAveragePooling2D\u001b[0m)              │                        │               │\n",
       "├─────────────────────────────────┼────────────────────────┼───────────────┤\n",
       "│ conv2d_1 (\u001b[38;5;33mConv2D\u001b[0m)               │ (\u001b[38;5;45mNone\u001b[0m, \u001b[38;5;34m10\u001b[0m, \u001b[38;5;34m10\u001b[0m, \u001b[38;5;34m16\u001b[0m)     │         \u001b[38;5;34m2,416\u001b[0m │\n",
       "├─────────────────────────────────┼────────────────────────┼───────────────┤\n",
       "│ average_pooling2d_1             │ (\u001b[38;5;45mNone\u001b[0m, \u001b[38;5;34m5\u001b[0m, \u001b[38;5;34m5\u001b[0m, \u001b[38;5;34m16\u001b[0m)       │             \u001b[38;5;34m0\u001b[0m │\n",
       "│ (\u001b[38;5;33mAveragePooling2D\u001b[0m)              │                        │               │\n",
       "├─────────────────────────────────┼────────────────────────┼───────────────┤\n",
       "│ flatten (\u001b[38;5;33mFlatten\u001b[0m)               │ (\u001b[38;5;45mNone\u001b[0m, \u001b[38;5;34m400\u001b[0m)            │             \u001b[38;5;34m0\u001b[0m │\n",
       "├─────────────────────────────────┼────────────────────────┼───────────────┤\n",
       "│ dense (\u001b[38;5;33mDense\u001b[0m)                   │ (\u001b[38;5;45mNone\u001b[0m, \u001b[38;5;34m120\u001b[0m)            │        \u001b[38;5;34m48,120\u001b[0m │\n",
       "├─────────────────────────────────┼────────────────────────┼───────────────┤\n",
       "│ dense_1 (\u001b[38;5;33mDense\u001b[0m)                 │ (\u001b[38;5;45mNone\u001b[0m, \u001b[38;5;34m84\u001b[0m)             │        \u001b[38;5;34m10,164\u001b[0m │\n",
       "├─────────────────────────────────┼────────────────────────┼───────────────┤\n",
       "│ dense_2 (\u001b[38;5;33mDense\u001b[0m)                 │ (\u001b[38;5;45mNone\u001b[0m, \u001b[38;5;34m10\u001b[0m)             │           \u001b[38;5;34m850\u001b[0m │\n",
       "└─────────────────────────────────┴────────────────────────┴───────────────┘\n"
      ]
     },
     "metadata": {},
     "output_type": "display_data"
    },
    {
     "data": {
      "text/html": [
       "<pre style=\"white-space:pre;overflow-x:auto;line-height:normal;font-family:Menlo,'DejaVu Sans Mono',consolas,'Courier New',monospace\"><span style=\"font-weight: bold\"> Total params: </span><span style=\"color: #00af00; text-decoration-color: #00af00\">61,706</span> (241.04 KB)\n",
       "</pre>\n"
      ],
      "text/plain": [
       "\u001b[1m Total params: \u001b[0m\u001b[38;5;34m61,706\u001b[0m (241.04 KB)\n"
      ]
     },
     "metadata": {},
     "output_type": "display_data"
    },
    {
     "data": {
      "text/html": [
       "<pre style=\"white-space:pre;overflow-x:auto;line-height:normal;font-family:Menlo,'DejaVu Sans Mono',consolas,'Courier New',monospace\"><span style=\"font-weight: bold\"> Trainable params: </span><span style=\"color: #00af00; text-decoration-color: #00af00\">61,706</span> (241.04 KB)\n",
       "</pre>\n"
      ],
      "text/plain": [
       "\u001b[1m Trainable params: \u001b[0m\u001b[38;5;34m61,706\u001b[0m (241.04 KB)\n"
      ]
     },
     "metadata": {},
     "output_type": "display_data"
    },
    {
     "data": {
      "text/html": [
       "<pre style=\"white-space:pre;overflow-x:auto;line-height:normal;font-family:Menlo,'DejaVu Sans Mono',consolas,'Courier New',monospace\"><span style=\"font-weight: bold\"> Non-trainable params: </span><span style=\"color: #00af00; text-decoration-color: #00af00\">0</span> (0.00 B)\n",
       "</pre>\n"
      ],
      "text/plain": [
       "\u001b[1m Non-trainable params: \u001b[0m\u001b[38;5;34m0\u001b[0m (0.00 B)\n"
      ]
     },
     "metadata": {},
     "output_type": "display_data"
    }
   ],
   "source": [
    "import tensorflow as tf\n",
    "\n",
    "model = tf.keras.models.Sequential()  # 定义顺序模型\n",
    "\n",
    "# 卷积层，6 个 5x5 卷积核，步长为 1，relu 激活，第一层需指定 input_shape\n",
    "model.add(\n",
    "    tf.keras.layers.Conv2D(\n",
    "        input_shape=(32, 32, 1),\n",
    "        filters=6,\n",
    "        kernel_size=(5, 5),\n",
    "        strides=(1, 1),\n",
    "        activation=\"relu\",\n",
    "    )\n",
    ")\n",
    "\n",
    "# 平均池化，池化窗口默认为 2\n",
    "model.add(tf.keras.layers.AveragePooling2D(pool_size=(2, 2), strides=2))\n",
    "\n",
    "\n",
    "# 卷积层，16 个 5x5 卷积核，步长为 1，relu 激活\n",
    "model.add(\n",
    "    tf.keras.layers.Conv2D(\n",
    "        filters=16,\n",
    "        kernel_size=(5, 5),\n",
    "        strides=(1, 1),\n",
    "        activation=\"relu\",\n",
    "    )\n",
    ")\n",
    "\n",
    "# 平均池化，池化窗口默认为 2\n",
    "model.add(tf.keras.layers.AveragePooling2D(pool_size=(2, 2), strides=2))\n",
    "\n",
    "# 需展平后才能与全连接层相连\n",
    "model.add(tf.keras.layers.Flatten())\n",
    "\n",
    "# 全连接层，输出为 120，relu 激活\n",
    "model.add(tf.keras.layers.Dense(units=120, activation=\"relu\"))\n",
    "\n",
    "# 全连接层，输出为 84，relu 激活\n",
    "model.add(tf.keras.layers.Dense(units=84, activation=\"relu\"))\n",
    "\n",
    "# 全连接层，输出为 10，Softmax 激活\n",
    "model.add(tf.keras.layers.Dense(units=10, activation=\"softmax\"))\n",
    "\n",
    "# 查看网络结构\n",
    "model.summary()"
   ]
  },
  {
   "cell_type": "code",
   "execution_count": 20,
   "id": "b7e73269-c41a-4a74-b005-f2001e0de275",
   "metadata": {},
   "outputs": [],
   "source": [
    "# 编译模型，Adam 优化器，多分类交叉熵损失函数，准确度评估\n",
    "model.compile(optimizer=\"adam\", loss=\"categorical_crossentropy\", metrics=[\"accuracy\"])"
   ]
  },
  {
   "cell_type": "code",
   "execution_count": 21,
   "id": "697286a1-72af-4da8-9cd0-c143aeefd5a3",
   "metadata": {},
   "outputs": [
    {
     "name": "stdout",
     "output_type": "stream",
     "text": [
      "Epoch 1/2\n",
      "\u001b[1m938/938\u001b[0m \u001b[32m━━━━━━━━━━━━━━━━━━━━\u001b[0m\u001b[37m\u001b[0m \u001b[1m4s\u001b[0m 4ms/step - accuracy: 0.8772 - loss: 0.6281 - val_accuracy: 0.9764 - val_loss: 0.0750\n",
      "Epoch 2/2\n",
      "\u001b[1m938/938\u001b[0m \u001b[32m━━━━━━━━━━━━━━━━━━━━\u001b[0m\u001b[37m\u001b[0m \u001b[1m3s\u001b[0m 3ms/step - accuracy: 0.9803 - loss: 0.0642 - val_accuracy: 0.9833 - val_loss: 0.0528\n"
     ]
    },
    {
     "data": {
      "text/plain": [
       "<keras.src.callbacks.history.History at 0x218512af090>"
      ]
     },
     "execution_count": 21,
     "metadata": {},
     "output_type": "execute_result"
    }
   ],
   "source": [
    "# 模型训练及评估\n",
    "model.fit(X_train, y_train, batch_size=64, epochs=2, validation_data=(X_test, y_test))"
   ]
  },
  {
   "cell_type": "code",
   "execution_count": null,
   "id": "b638d1c7-08af-465b-baae-357b7a373c98",
   "metadata": {},
   "outputs": [],
   "source": []
  },
  {
   "cell_type": "code",
   "execution_count": null,
   "id": "522cc750-1ce1-4f07-ac6d-e68bb3cf953b",
   "metadata": {},
   "outputs": [],
   "source": [
    "# TensorFlow 低阶 tf.nn 构建"
   ]
  },
  {
   "cell_type": "code",
   "execution_count": 15,
   "id": "31127221-e325-4b33-9ef4-ae04b1e1922b",
   "metadata": {},
   "outputs": [],
   "source": [
    "class Model(object):\n",
    "    def __init__(self):\n",
    "        self.conv_W1 = tf.Variable(tf.random.normal(shape=(5, 5, 1, 6)))\n",
    "        self.conv_W2 = tf.Variable(tf.random.normal(shape=(5, 5, 6, 16)))\n",
    "\n",
    "        self.fc_W1 = tf.Variable(tf.random.normal(shape=(5 * 5 * 16, 120)))\n",
    "        self.fc_W2 = tf.Variable(tf.random.normal(shape=(120, 84)))\n",
    "        self.out_W = tf.Variable(tf.random.normal(shape=(84, 10)))\n",
    "\n",
    "        self.fc_b1 = tf.Variable(tf.zeros(120))\n",
    "        self.fc_b2 = tf.Variable(tf.zeros(84))\n",
    "        self.out_b = tf.Variable(tf.zeros(10))\n",
    "\n",
    "    def __call__(self, x):\n",
    "        x = tf.cast(x, tf.float32)  # 转换输入数据类型\n",
    "\n",
    "        # 卷积层 1: Input = 32x32x1. Output = 28x28x6.\n",
    "        #\n",
    "\n",
    "        conv1 = tf.nn.conv2d(x, self.conv_W1, strides=[1, 1, 1, 1], padding=\"VALID\")\n",
    "        conv1_o = tf.nn.relu(conv1)\n",
    "\n",
    "        # 池化层 1: Input = 28x28x6. Output = 14x14x6.\n",
    "        \n",
    "        # ksize=[1, 2, 2, 1]:意思是池化窗口的大小为 2x2\n",
    "        # [batch, height, width, channels]。在这种情况下：\n",
    "        # 1: 表示在 batch 维度上不进行池化，保持原大小。\n",
    "        # 2: 表示在 height 维度上使用 2x2 的窗口。\n",
    "        # 2: 表示在 width 维度上使用 2x2 的窗口。\n",
    "        # 1: 表示在 channels 维度上不进行池化，保持原大小   channel: 最后一个维度\n",
    "\n",
    "        # strides=[1, 2, 2, 1]:\n",
    "        # [batch, height, width, channels]。在这种情况下：\n",
    "        # 1: 表示在 batch 维度上步长为 1。\n",
    "        # 2: 表示在 height 维度上步长为 2。\n",
    "        # 2: 表示在 width 维度上步长为 2。\n",
    "        # 1: 表示在 channels 维度上步长为 1。  channel: 最后一个维度\n",
    "        # strides=[1, 2, 2, 1] 的意思是池化窗口在 height 和 width 维度上每次移动 2 个单位\n",
    "        avg1_o = tf.nn.avg_pool(\n",
    "            conv1_o, ksize=[1, 2, 2, 1], strides=[1, 2, 2, 1], padding=\"VALID\"\n",
    "        )\n",
    "\n",
    "        # 卷积层 2: Input = 14x14x6. Output = 10x10x16.\n",
    "        conv2 = tf.nn.conv2d(\n",
    "            avg1_o,\n",
    "            self.conv_W2,\n",
    "            strides=[1, 1, 1, 1],\n",
    "            padding=\"VALID\",\n",
    "        )\n",
    "        conv2_o = tf.nn.relu(conv2)\n",
    "\n",
    "        # 池化层 2: Input = 10x10x16. Output = 5x5x16.\n",
    "        avg2_o = tf.nn.avg_pool(\n",
    "            conv2_o, ksize=[1, 2, 2, 1], strides=[1, 2, 2, 1], padding=\"VALID\"\n",
    "        )\n",
    "\n",
    "        # 展平. Input = 5x5x16. Output = 400.\n",
    "        # -1 是拍平？1个维度？\n",
    "        flatten = tf.reshape(avg2_o, [-1, 5 * 5 * 16])\n",
    "\n",
    "        # 全连接层\n",
    "        fc1 = tf.add(tf.matmul(flatten, self.fc_W1), self.fc_b1)\n",
    "        fc1_o = tf.nn.relu(fc1)\n",
    "\n",
    "        fc2 = tf.add(tf.matmul(fc1, self.fc_W2), self.fc_b2)\n",
    "        fc2_o = tf.nn.relu(fc2)\n",
    "\n",
    "        outs = tf.add(tf.matmul(fc2_o, self.out_W), self.out_b)\n",
    "        return outs"
   ]
  },
  {
   "cell_type": "code",
   "execution_count": 16,
   "id": "d2456f34-6182-4381-b79c-602e961d9bb5",
   "metadata": {},
   "outputs": [],
   "source": [
    "def loss_fn(model, x, y):\n",
    "    preds = model(x)\n",
    "    return tf.reduce_mean(\n",
    "        tf.nn.softmax_cross_entropy_with_logits(logits=preds, labels=y)\n",
    "    )"
   ]
  },
  {
   "cell_type": "code",
   "execution_count": 17,
   "id": "c3bd5a2b-be14-4338-9117-e026286ee382",
   "metadata": {},
   "outputs": [],
   "source": [
    "def accuracy_fn(logits, labels):\n",
    "    preds = tf.argmax(logits, axis=1)  # 取值最大的索引，正好对应字符标签\n",
    "    labels = tf.argmax(labels, axis=1)\n",
    "    return tf.reduce_mean(tf.cast(tf.equal(preds, labels), tf.float32))"
   ]
  },
  {
   "cell_type": "code",
   "execution_count": 18,
   "id": "4f8d9e14-e372-43e1-8077-65500bbafe69",
   "metadata": {},
   "outputs": [
    {
     "data": {
      "application/vnd.jupyter.widget-view+json": {
       "model_id": "f01d2c69141e404fb5da5aeeab6060c5",
       "version_major": 2,
       "version_minor": 0
      },
      "text/plain": [
       "Training: 0it [00:00, ?it/s]"
      ]
     },
     "metadata": {},
     "output_type": "display_data"
    },
    {
     "data": {
      "application/vnd.jupyter.widget-view+json": {
       "model_id": "2a78072f07db4b99a0b540abef7da3b6",
       "version_major": 2,
       "version_minor": 0
      },
      "text/plain": [
       "Testing: 0it [00:00, ?it/s]"
      ]
     },
     "metadata": {},
     "output_type": "display_data"
    },
    {
     "name": "stdout",
     "output_type": "stream",
     "text": [
      "Epoch [1/2], Accuracy: [0.87], Loss: [19597.6719]\n"
     ]
    },
    {
     "data": {
      "application/vnd.jupyter.widget-view+json": {
       "model_id": "2c649a8aa55e455a91e4e20fb6167205",
       "version_major": 2,
       "version_minor": 0
      },
      "text/plain": [
       "Training: 0it [00:00, ?it/s]"
      ]
     },
     "metadata": {},
     "output_type": "display_data"
    },
    {
     "data": {
      "application/vnd.jupyter.widget-view+json": {
       "model_id": "19066a29bbdb40388577dd66c9da0b2a",
       "version_major": 2,
       "version_minor": 0
      },
      "text/plain": [
       "Testing: 0it [00:00, ?it/s]"
      ]
     },
     "metadata": {},
     "output_type": "display_data"
    },
    {
     "name": "stdout",
     "output_type": "stream",
     "text": [
      "Epoch [2/2], Accuracy: [0.91], Loss: [7475.4102]\n"
     ]
    }
   ],
   "source": [
    "from sklearn.model_selection import KFold\n",
    "from tqdm.notebook import tqdm\n",
    "\n",
    "EPOCHS = 2  # 迭代此时\n",
    "BATCH_SIZE = 64  # 每次迭代的批量大小\n",
    "LEARNING_RATE = 0.001  # 学习率\n",
    "\n",
    "model = Model()  # 实例化模型类\n",
    "\n",
    "for epoch in range(EPOCHS):  # 设定全数据集迭代次数\n",
    "    indices = np.arange(len(X_train))  # 生成训练数据长度规则序列\n",
    "    np.random.shuffle(indices)  # 对索引序列进行打乱，保证为随机数据划分\n",
    "    batch_num = int(len(X_train) / BATCH_SIZE)  # 根据批量大小求得要划分的 batch 数量\n",
    "    kf = KFold(n_splits=batch_num)  # 将数据分割成 batch 数量份\n",
    "    # KFold 划分打乱后的索引序列，然后依据序列序列从数据中抽取 batch 样本\n",
    "    for _, index in tqdm(kf.split(indices), desc=\"Training\"):\n",
    "        X_batch = X_train[indices[index]]  # 按打乱后的序列取出数据\n",
    "        y_batch = y_train[indices[index]]\n",
    "\n",
    "        with tf.GradientTape() as tape:  # 追踪梯度\n",
    "            loss = loss_fn(model, X_batch, y_batch)\n",
    "\n",
    "        trainable_variables = [\n",
    "            model.conv_W1,\n",
    "            model.conv_W2,\n",
    "            model.fc_W1,\n",
    "            model.fc_W2,\n",
    "            model.out_W,\n",
    "            model.fc_b1,\n",
    "            model.fc_b2,\n",
    "            model.out_b,\n",
    "        ]  # 需优化参数列表\n",
    "        grads = tape.gradient(loss, trainable_variables)  # 计算梯度\n",
    "\n",
    "        optimizer = tf.optimizers.Adam(learning_rate=LEARNING_RATE)  # Adam 优化器\n",
    "        optimizer.apply_gradients(zip(grads, trainable_variables))  # 更新梯度\n",
    "\n",
    "    # 每一次 Epoch 执行小批量测试，防止内存不足\n",
    "    indices_test = np.arange(len(X_test))\n",
    "    batch_num_test = int(len(X_test) / BATCH_SIZE)\n",
    "    kf_test = KFold(n_splits=batch_num_test)\n",
    "    test_acc = 0\n",
    "    for _, index in tqdm(kf_test.split(indices_test), desc=\"Testing\"):\n",
    "        X_test_batch = X_test[indices_test[index]]\n",
    "        y_test_batch = y_test[indices_test[index]]\n",
    "        batch_acc = accuracy_fn(model(X_test_batch), y_test_batch)  # 计算准确度\n",
    "        test_acc += batch_acc  # batch 准确度求和\n",
    "\n",
    "    accuracy = test_acc / batch_num_test  # 测试集准确度\n",
    "    print(f\"Epoch [{epoch+1}/{EPOCHS}], Accuracy: [{accuracy:.2f}], Loss: [{loss:.4f}]\")"
   ]
  },
  {
   "cell_type": "code",
   "execution_count": null,
   "id": "6a9bb012-f9b8-4318-b2d7-18903dbe37b7",
   "metadata": {},
   "outputs": [],
   "source": []
  },
  {
   "cell_type": "code",
   "execution_count": null,
   "id": "8662d3ea-4429-46d2-9aaa-b3433ad0c14e",
   "metadata": {},
   "outputs": [],
   "source": [
    " # PyTorch 低阶 nn.Module 构建"
   ]
  },
  {
   "cell_type": "code",
   "execution_count": null,
   "id": "a8d742c1-b7b2-4d96-810c-706828df3b5a",
   "metadata": {},
   "outputs": [],
   "source": [
    "import torch\n",
    "import torch.nn as nn\n",
    "import torch.nn.functional as F\n",
    "\n",
    "\n",
    "class LeNet(nn.Module):\n",
    "    def __init__(self):\n",
    "        super(LeNet, self).__init__()\n",
    "        # 卷积层 1\n",
    "        self.conv1 = nn.Conv2d(\n",
    "            in_channels=1, out_channels=6, kernel_size=(5, 5), stride=1\n",
    "        )\n",
    "        # 池化层 1\n",
    "        self.pool1 = nn.AvgPool2d(kernel_size=(2, 2))\n",
    "        # 卷积层 2\n",
    "        self.conv2 = nn.Conv2d(\n",
    "            in_channels=6, out_channels=16, kernel_size=(5, 5), stride=1\n",
    "        )\n",
    "        # 池化层 2\n",
    "        self.pool2 = nn.AvgPool2d(kernel_size=(2, 2))\n",
    "        # 全连接层\n",
    "        self.fc1 = nn.Linear(in_features=5 * 5 * 16, out_features=120)\n",
    "        self.fc2 = nn.Linear(in_features=120, out_features=84)\n",
    "        self.fc3 = nn.Linear(in_features=84, out_features=10)\n",
    "\n",
    "    def forward(self, x):\n",
    "        x = F.relu(self.conv1(x))\n",
    "        x = self.pool1(x)\n",
    "        x = F.relu(self.conv2(x))\n",
    "        x = self.pool2(x)\n",
    "        x = x.reshape(-1, 5 * 5 * 16)\n",
    "        x = F.relu(self.fc1(x))\n",
    "        x = F.relu(self.fc2(x))\n",
    "        x = F.softmax(self.fc3(x), dim=1)\n",
    "        return x"
   ]
  },
  {
   "cell_type": "code",
   "execution_count": null,
   "id": "9cf2b138-c63b-48e2-866a-8f7c1a8f27de",
   "metadata": {},
   "outputs": [],
   "source": [
    "model = LeNet()\n",
    "model"
   ]
  },
  {
   "cell_type": "code",
   "execution_count": null,
   "id": "f243a1e5-ee44-4aef-bcd7-f8e946f657be",
   "metadata": {},
   "outputs": [],
   "source": [
    "model(torch.Tensor(X_train[0]).reshape(-1, 1, 32, 32))"
   ]
  },
  {
   "cell_type": "code",
   "execution_count": null,
   "id": "281768fa-d7a8-45f0-914b-1a282481598b",
   "metadata": {},
   "outputs": [],
   "source": [
    "import torch.utils.data\n",
    "\n",
    "# 依次传入样本和标签张量，制作训练数据集和测试数据集\n",
    "train_data = torch.utils.data.TensorDataset(\n",
    "    torch.Tensor(X_train), torch.Tensor(train[\"y\"])\n",
    ")\n",
    "test_data = torch.utils.data.TensorDataset(\n",
    "    torch.Tensor(X_test), torch.Tensor(test[\"y\"])\n",
    ")\n",
    "\n",
    "train_data, test_data"
   ]
  },
  {
   "cell_type": "code",
   "execution_count": null,
   "id": "f92805f2-65dc-47c0-a8b7-8c15ade4de9b",
   "metadata": {},
   "outputs": [],
   "source": [
    "train_loader = torch.utils.data.DataLoader(train_data, batch_size=64, shuffle=True)\n",
    "test_loader = torch.utils.data.DataLoader(test_data, batch_size=64, shuffle=False)\n",
    "\n",
    "train_loader, test_loader"
   ]
  },
  {
   "cell_type": "code",
   "execution_count": null,
   "id": "9bebaf99-a541-4a4d-afbf-b00aef599b82",
   "metadata": {},
   "outputs": [],
   "source": [
    "loss_fn = nn.CrossEntropyLoss()  # 交叉熵损失函数\n",
    "opt = torch.optim.Adam(model.parameters(), lr=0.001)  # Adam 优化器"
   ]
  },
  {
   "cell_type": "code",
   "execution_count": null,
   "id": "fd9f47a1-461d-4e4d-9fbd-863370d8c2b6",
   "metadata": {},
   "outputs": [],
   "source": [
    "def fit(epochs, model, opt):\n",
    "    # 全数据集迭代 epochs 次\n",
    "    print(\"================ Start Training =================\")\n",
    "    for epoch in range(epochs):\n",
    "        # 从数据加载器中读取 Batch 数据开始训练\n",
    "        for i, (images, labels) in enumerate(train_loader):\n",
    "            images = images.reshape(-1, 1, 32, 32)  # 对特征数据展平，变成 784\n",
    "            labels = labels.type(torch.LongTensor)  # 真实标签\n",
    "\n",
    "            outputs = model(images)  # 前向传播\n",
    "            loss = loss_fn(outputs, labels)  # 传入模型输出和真实标签\n",
    "\n",
    "            opt.zero_grad()  # 优化器梯度清零，否则会累计\n",
    "            loss.backward()  # 从最后 loss 开始反向传播\n",
    "            opt.step()  # 优化器迭代\n",
    "\n",
    "            # 自定义训练输出样式\n",
    "            if (i + 1) % 100 == 0:\n",
    "                print(\n",
    "                    \"Epoch [{}/{}], Batch [{}/{}], Train loss: [{:.3f}]\".format(\n",
    "                        epoch + 1, epochs, i + 1, len(train_loader), loss.item()\n",
    "                    )\n",
    "                )\n",
    "\n",
    "        # 每个 Epoch 执行一次测试\n",
    "        correct = 0\n",
    "        total = 0\n",
    "        for images, labels in test_loader:\n",
    "            images = images.reshape(-1, 1, 32, 32)\n",
    "            labels = labels.type(torch.LongTensor)\n",
    "\n",
    "            outputs = model(images)\n",
    "            # 得到输出最大值 _ 及其索引 predicted\n",
    "            _, predicted = torch.max(outputs.data, 1)\n",
    "\n",
    "            correct += (predicted == labels).sum().item()  # 如果预测结果和真实值相等则计数 +1\n",
    "            total += labels.size(0)  # 总测试样本数据计数\n",
    "\n",
    "        print(\n",
    "            \"============= Test accuracy: {:.3f} ==============\".format(correct / total)\n",
    "        )"
   ]
  },
  {
   "cell_type": "code",
   "execution_count": null,
   "id": "c65b6762-2202-472a-aace-b406f306a42d",
   "metadata": {},
   "outputs": [],
   "source": [
    "fit(epochs=2, model=model, opt=opt)\n"
   ]
  },
  {
   "cell_type": "code",
   "execution_count": null,
   "id": "557682d7-bc86-4c0d-8b27-e8f7eaad0531",
   "metadata": {},
   "outputs": [],
   "source": []
  },
  {
   "cell_type": "code",
   "execution_count": null,
   "id": "dfd3e1c1-c542-4b0b-b4f1-b51e5ea626c5",
   "metadata": {},
   "outputs": [],
   "source": [
    "# PyTorch 高阶 nn.Sequential 构建"
   ]
  },
  {
   "cell_type": "code",
   "execution_count": null,
   "id": "72301e45-7155-4bad-8e77-04a2e33217de",
   "metadata": {},
   "outputs": [],
   "source": [
    "class Flatten(nn.Module):\n",
    "    def forward(self, input):\n",
    "        return input.reshape(input.size(0), -1)\n",
    "\n",
    "\n",
    "# 构建 Sequential 容器结构\n",
    "model_s = nn.Sequential(\n",
    "    nn.Conv2d(1, 6, (5, 5), 1),\n",
    "    nn.ReLU(),\n",
    "    nn.AvgPool2d((2, 2)),\n",
    "    nn.Conv2d(6, 16, (5, 5), 1),\n",
    "    nn.ReLU(),\n",
    "    nn.AvgPool2d((2, 2)),\n",
    "    Flatten(),\n",
    "    nn.Linear(5 * 5 * 16, 120),\n",
    "    nn.ReLU(),\n",
    "    nn.Linear(120, 84),\n",
    "    nn.ReLU(),\n",
    "    nn.Linear(84, 10),\n",
    "    nn.Softmax(dim=1),\n",
    ")\n",
    "\n",
    "model_s"
   ]
  },
  {
   "cell_type": "code",
   "execution_count": null,
   "id": "9f8de070-5573-49a2-b524-56ea84320dc2",
   "metadata": {},
   "outputs": [],
   "source": [
    "opt_s = torch.optim.Adam(model_s.parameters(), lr=0.001)  # Adam 优化器\n",
    "fit(epochs=2, model=model_s, opt=opt_s)"
   ]
  },
  {
   "cell_type": "code",
   "execution_count": null,
   "id": "981ef703-17ae-43eb-a4db-1e1997ae3d43",
   "metadata": {},
   "outputs": [],
   "source": []
  }
 ],
 "metadata": {
  "kernelspec": {
   "display_name": "Python 3 (ipykernel)",
   "language": "python",
   "name": "python3"
  },
  "language_info": {
   "codemirror_mode": {
    "name": "ipython",
    "version": 3
   },
   "file_extension": ".py",
   "mimetype": "text/x-python",
   "name": "python",
   "nbconvert_exporter": "python",
   "pygments_lexer": "ipython3",
   "version": "3.11.8"
  }
 },
 "nbformat": 4,
 "nbformat_minor": 5
}
