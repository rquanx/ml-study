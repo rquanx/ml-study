{
 "cells": [
  {
   "cell_type": "code",
   "execution_count": 1,
   "id": "2bbbb9b8-8921-4be3-bf4d-775d4846edd6",
   "metadata": {},
   "outputs": [
    {
     "data": {
      "text/plain": [
       "torch.float32"
      ]
     },
     "execution_count": 1,
     "metadata": {},
     "output_type": "execute_result"
    }
   ],
   "source": [
    "import torch as t\n",
    "import warnings\n",
    "\n",
    "warnings.filterwarnings(\"ignore\")\n",
    "\n",
    "t.Tensor().dtype"
   ]
  },
  {
   "cell_type": "code",
   "execution_count": null,
   "id": "de8b7c22-48f0-4228-a440-e1e34a6325e6",
   "metadata": {},
   "outputs": [],
   "source": [
    "# 指定全局为某种类型的 Tensor\n",
    "\n",
    "# t.set_default_tensor_type(\"torch.DoubleTensor\")\n",
    "# t.Tensor().dtype"
   ]
  },
  {
   "cell_type": "code",
   "execution_count": null,
   "id": "affe70e6-0c5e-42a1-94fb-10c5ae6b4f62",
   "metadata": {},
   "outputs": [],
   "source": []
  }
 ],
 "metadata": {
  "kernelspec": {
   "display_name": "Python 3 (ipykernel)",
   "language": "python",
   "name": "python3"
  },
  "language_info": {
   "codemirror_mode": {
    "name": "ipython",
    "version": 3
   },
   "file_extension": ".py",
   "mimetype": "text/x-python",
   "name": "python",
   "nbconvert_exporter": "python",
   "pygments_lexer": "ipython3",
   "version": "3.11.8"
  }
 },
 "nbformat": 4,
 "nbformat_minor": 5
}
