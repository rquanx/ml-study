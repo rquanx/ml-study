{
 "cells": [
  {
   "cell_type": "code",
   "execution_count": 1,
   "id": "2bbbb9b8-8921-4be3-bf4d-775d4846edd6",
   "metadata": {},
   "outputs": [
    {
     "data": {
      "text/plain": [
       "torch.float32"
      ]
     },
     "execution_count": 1,
     "metadata": {},
     "output_type": "execute_result"
    }
   ],
   "source": [
    "import torch as t\n",
    "import warnings\n",
    "\n",
    "warnings.filterwarnings(\"ignore\")\n",
    "\n",
    "t.Tensor().dtype"
   ]
  },
  {
   "cell_type": "code",
   "execution_count": 2,
   "id": "de8b7c22-48f0-4228-a440-e1e34a6325e6",
   "metadata": {},
   "outputs": [],
   "source": [
    "# 指定全局为某种类型的 Tensor\n",
    "\n",
    "# t.set_default_tensor_type(\"torch.DoubleTensor\")\n",
    "# t.Tensor().dtype"
   ]
  },
  {
   "cell_type": "code",
   "execution_count": 3,
   "id": "affe70e6-0c5e-42a1-94fb-10c5ae6b4f62",
   "metadata": {},
   "outputs": [
    {
     "name": "stdout",
     "output_type": "stream",
     "text": [
      "Downloading http://yann.lecun.com/exdb/mnist/train-images-idx3-ubyte.gz\n",
      "Failed to download (trying next):\n",
      "HTTP Error 403: Forbidden\n",
      "\n",
      "Downloading https://ossci-datasets.s3.amazonaws.com/mnist/train-images-idx3-ubyte.gz\n",
      "Downloading https://ossci-datasets.s3.amazonaws.com/mnist/train-images-idx3-ubyte.gz to .\\MNIST\\raw\\train-images-idx3-ubyte.gz\n"
     ]
    },
    {
     "name": "stderr",
     "output_type": "stream",
     "text": [
      "100%|█████████████████████████████| 9912422/9912422 [00:03<00:00, 2545715.94it/s]\n"
     ]
    },
    {
     "name": "stdout",
     "output_type": "stream",
     "text": [
      "Extracting .\\MNIST\\raw\\train-images-idx3-ubyte.gz to .\\MNIST\\raw\n",
      "\n",
      "Downloading http://yann.lecun.com/exdb/mnist/train-labels-idx1-ubyte.gz\n",
      "Failed to download (trying next):\n",
      "HTTP Error 403: Forbidden\n",
      "\n",
      "Downloading https://ossci-datasets.s3.amazonaws.com/mnist/train-labels-idx1-ubyte.gz\n",
      "Downloading https://ossci-datasets.s3.amazonaws.com/mnist/train-labels-idx1-ubyte.gz to .\\MNIST\\raw\\train-labels-idx1-ubyte.gz\n"
     ]
    },
    {
     "name": "stderr",
     "output_type": "stream",
     "text": [
      "100%|██████████████████████████████████| 28881/28881 [00:00<00:00, 558692.44it/s]\n"
     ]
    },
    {
     "name": "stdout",
     "output_type": "stream",
     "text": [
      "Extracting .\\MNIST\\raw\\train-labels-idx1-ubyte.gz to .\\MNIST\\raw\n",
      "\n",
      "Downloading http://yann.lecun.com/exdb/mnist/t10k-images-idx3-ubyte.gz\n",
      "Failed to download (trying next):\n",
      "HTTP Error 403: Forbidden\n",
      "\n",
      "Downloading https://ossci-datasets.s3.amazonaws.com/mnist/t10k-images-idx3-ubyte.gz\n",
      "Downloading https://ossci-datasets.s3.amazonaws.com/mnist/t10k-images-idx3-ubyte.gz to .\\MNIST\\raw\\t10k-images-idx3-ubyte.gz\n"
     ]
    },
    {
     "name": "stderr",
     "output_type": "stream",
     "text": [
      "100%|██████████████████████████████| 1648877/1648877 [00:08<00:00, 190727.61it/s]\n"
     ]
    },
    {
     "name": "stdout",
     "output_type": "stream",
     "text": [
      "Extracting .\\MNIST\\raw\\t10k-images-idx3-ubyte.gz to .\\MNIST\\raw\n",
      "\n",
      "Downloading http://yann.lecun.com/exdb/mnist/t10k-labels-idx1-ubyte.gz\n",
      "Failed to download (trying next):\n",
      "HTTP Error 403: Forbidden\n",
      "\n",
      "Downloading https://ossci-datasets.s3.amazonaws.com/mnist/t10k-labels-idx1-ubyte.gz\n",
      "Downloading https://ossci-datasets.s3.amazonaws.com/mnist/t10k-labels-idx1-ubyte.gz to .\\MNIST\\raw\\t10k-labels-idx1-ubyte.gz\n"
     ]
    },
    {
     "name": "stderr",
     "output_type": "stream",
     "text": [
      "100%|███████████████████████████████████| 4542/4542 [00:00<00:00, 4596026.24it/s]"
     ]
    },
    {
     "name": "stdout",
     "output_type": "stream",
     "text": [
      "Extracting .\\MNIST\\raw\\t10k-labels-idx1-ubyte.gz to .\\MNIST\\raw\n",
      "\n"
     ]
    },
    {
     "name": "stderr",
     "output_type": "stream",
     "text": [
      "\n"
     ]
    }
   ],
   "source": [
    "import torchvision\n",
    "import warnings\n",
    "\n",
    "warnings.filterwarnings(\"ignore\")\n",
    "\n",
    "# 加载训练数据，参数 train=True，供 60000 条\n",
    "train = torchvision.datasets.MNIST(\n",
    "    root=\".\", train=True, transform=torchvision.transforms.ToTensor(), download=True\n",
    ")\n",
    "# 加载测试数据，参数 train=False，供 10000 条\n",
    "test = torchvision.datasets.MNIST(\n",
    "    root=\".\", train=False, transform=torchvision.transforms.ToTensor(), download=True\n",
    ")"
   ]
  },
  {
   "cell_type": "code",
   "execution_count": 4,
   "id": "753b904f-4f04-41a7-828d-0e9dc8eab7b8",
   "metadata": {},
   "outputs": [
    {
     "data": {
      "text/plain": [
       "(torch.Size([60000, 28, 28]),\n",
       " torch.Size([60000]),\n",
       " torch.Size([10000, 28, 28]),\n",
       " torch.Size([10000]))"
      ]
     },
     "execution_count": 4,
     "metadata": {},
     "output_type": "execute_result"
    }
   ],
   "source": [
    "train.data.shape, train.targets.shape, test.data.shape, test.targets.shape"
   ]
  },
  {
   "cell_type": "code",
   "execution_count": 5,
   "id": "040a6783-1329-47be-a044-c1fb455dc5f6",
   "metadata": {},
   "outputs": [
    {
     "data": {
      "text/plain": [
       "(<torch.utils.data.dataloader.DataLoader at 0x20cbc1a1890>,\n",
       " <torch.utils.data.dataloader.DataLoader at 0x20cb9dcbbd0>)"
      ]
     },
     "execution_count": 5,
     "metadata": {},
     "output_type": "execute_result"
    }
   ],
   "source": [
    "import torch\n",
    "\n",
    "# 训练数据打乱，使用 64 小批量\n",
    "train_loader = torch.utils.data.DataLoader(dataset=train, batch_size=64, shuffle=True)\n",
    "# 测试数据无需打乱，使用 64 小批量\n",
    "test_loader = torch.utils.data.DataLoader(dataset=test, batch_size=64, shuffle=False)\n",
    "train_loader, test_loader"
   ]
  },
  {
   "cell_type": "code",
   "execution_count": 6,
   "id": "50d62c02-a236-4b8e-8eab-6a89138f2565",
   "metadata": {},
   "outputs": [
    {
     "data": {
      "text/plain": [
       "Net(\n",
       "  (fc1): Linear(in_features=784, out_features=512, bias=True)\n",
       "  (fc2): Linear(in_features=512, out_features=128, bias=True)\n",
       "  (fc3): Linear(in_features=128, out_features=10, bias=True)\n",
       ")"
      ]
     },
     "execution_count": 6,
     "metadata": {},
     "output_type": "execute_result"
    }
   ],
   "source": [
    "import torch.nn as nn\n",
    "import torch.nn.functional as F\n",
    "\n",
    "\n",
    "class Net(nn.Module):\n",
    "    def __init__(self):\n",
    "        super(Net, self).__init__()\n",
    "        self.fc1 = nn.Linear(784, 512)  # 784 是因为训练是我们会把 28*28 展平\n",
    "        self.fc2 = nn.Linear(512, 128)  # 使用 nn 类初始化线性层（全连接层）\n",
    "        self.fc3 = nn.Linear(128, 10)\n",
    "\n",
    "    def forward(self, x):\n",
    "        x = F.relu(self.fc1(x))  # 直接使用 relu 函数，也可以自己初始化一个 nn 下面的 Relu 类使用\n",
    "        x = F.relu(self.fc2(x))\n",
    "        x = self.fc3(x)  # 输出层一般不激活\n",
    "        return x\n",
    "model = Net()\n",
    "model"
   ]
  },
  {
   "cell_type": "code",
   "execution_count": 7,
   "id": "a5c1f405-7ffe-4e4a-ad09-27fde1168d5f",
   "metadata": {},
   "outputs": [
    {
     "data": {
      "text/plain": [
       "tensor([[-0.0027, -0.1050,  0.1214, -0.1501,  0.0639, -0.1103, -0.0867, -0.1116,\n",
       "          0.0765,  0.0394]], grad_fn=<AddmmBackward0>)"
      ]
     },
     "execution_count": 7,
     "metadata": {},
     "output_type": "execute_result"
    }
   ],
   "source": [
    "model(torch.randn(1, 784))"
   ]
  },
  {
   "cell_type": "code",
   "execution_count": 10,
   "id": "18a10184-3a64-472e-ad84-c80249d4e605",
   "metadata": {},
   "outputs": [],
   "source": [
    "loss_fn = nn.CrossEntropyLoss()  # 交叉熵损失函数\n",
    "opt = torch.optim.Adam(model.parameters(), lr=0.002)  # Adam 优化器"
   ]
  },
  {
   "cell_type": "code",
   "execution_count": 11,
   "id": "cee0d5d3-1eeb-41cc-9ea2-91926520feb1",
   "metadata": {},
   "outputs": [],
   "source": [
    "def fit(epochs, model, opt):\n",
    "    print(\"Start training, please be patient.\")\n",
    "    # 全数据集迭代 epochs 次\n",
    "    for epoch in range(epochs):\n",
    "        # 从数据加载器中读取 Batch 数据开始训练\n",
    "        for i, (images, labels) in enumerate(train_loader):\n",
    "            images = images.reshape(-1, 28 * 28)  # 对特征数据展平，变成 784\n",
    "            labels = labels  # 真实标签\n",
    "            outputs = model(images)  # 前向传播\n",
    "            loss = loss_fn(outputs, labels)  # 传入模型输出和真实标签\n",
    "            opt.zero_grad()  # 优化器梯度清零，否则会累计\n",
    "            loss.backward()  # 从最后 loss 开始反向传播\n",
    "            opt.step()  # 优化器迭代\n",
    "            # 自定义训练输出样式\n",
    "            if (i + 1) % 100 == 0:\n",
    "                print(\n",
    "                    \"Epoch [{}/{}], Batch [{}/{}], Train loss: {:.3f}\".format(\n",
    "                        epoch + 1, epochs, i + 1, len(train_loader), loss.item()\n",
    "                    )\n",
    "                )\n",
    "        # 每个 Epoch 执行一次测试\n",
    "        correct = 0\n",
    "        total = 0\n",
    "        for images, labels in test_loader:\n",
    "            images = images.reshape(-1, 28 * 28)\n",
    "            labels = labels\n",
    "            outputs = model(images)\n",
    "            # 得到输出最大值 _ 及其索引 predicted\n",
    "            _, predicted = torch.max(outputs.data, 1)\n",
    "            correct += (predicted == labels).sum().item()  # 如果预测结果和真实值相等则计数 +1\n",
    "            total += labels.size(0)  # 总测试样本数据计数\n",
    "        print(\n",
    "            \"============ Test accuracy: {:.3f} =============\".format(correct / total)\n",
    "        )"
   ]
  },
  {
   "cell_type": "code",
   "execution_count": 12,
   "id": "9f0b63d6-05cc-4b47-ad9c-2ae4a82e17a0",
   "metadata": {},
   "outputs": [
    {
     "name": "stdout",
     "output_type": "stream",
     "text": [
      "Start training, please be patient.\n",
      "Epoch [1/1], Batch [100/938], Train loss: 0.324\n",
      "Epoch [1/1], Batch [200/938], Train loss: 0.234\n",
      "Epoch [1/1], Batch [300/938], Train loss: 0.088\n",
      "Epoch [1/1], Batch [400/938], Train loss: 0.116\n",
      "Epoch [1/1], Batch [500/938], Train loss: 0.153\n",
      "Epoch [1/1], Batch [600/938], Train loss: 0.056\n",
      "Epoch [1/1], Batch [700/938], Train loss: 0.123\n",
      "Epoch [1/1], Batch [800/938], Train loss: 0.137\n",
      "Epoch [1/1], Batch [900/938], Train loss: 0.121\n",
      "============ Test accuracy: 0.969 =============\n"
     ]
    }
   ],
   "source": [
    "fit(epochs=1, model=model, opt=opt)  # 训练 1 个 Epoch，预计持续 10 分钟"
   ]
  },
  {
   "cell_type": "code",
   "execution_count": null,
   "id": "c2774919-b304-4d58-82f8-0bfe35f8edea",
   "metadata": {},
   "outputs": [],
   "source": [
    "# Sequential 容器结构"
   ]
  },
  {
   "cell_type": "code",
   "execution_count": 13,
   "id": "7d5ec59f-ceda-46c6-bf13-028b54be82d7",
   "metadata": {},
   "outputs": [
    {
     "data": {
      "text/plain": [
       "Sequential(\n",
       "  (0): Linear(in_features=784, out_features=512, bias=True)\n",
       "  (1): ReLU()\n",
       "  (2): Linear(in_features=512, out_features=128, bias=True)\n",
       "  (3): ReLU()\n",
       "  (4): Linear(in_features=128, out_features=10, bias=True)\n",
       ")"
      ]
     },
     "execution_count": 13,
     "metadata": {},
     "output_type": "execute_result"
    }
   ],
   "source": [
    "model_s = nn.Sequential(\n",
    "    nn.Linear(784, 512),  # 线性类\n",
    "    nn.ReLU(),  # 激活函数类\n",
    "    nn.Linear(512, 128),\n",
    "    nn.ReLU(),\n",
    "    nn.Linear(128, 10),\n",
    ")\n",
    "\n",
    "model_s  # 查看网络结构"
   ]
  },
  {
   "cell_type": "code",
   "execution_count": 14,
   "id": "d872dea2-c7c4-47cf-bb78-7e617b89dbf6",
   "metadata": {},
   "outputs": [
    {
     "name": "stdout",
     "output_type": "stream",
     "text": [
      "Start training, please be patient.\n",
      "Epoch [1/1], Batch [100/938], Train loss: 0.288\n",
      "Epoch [1/1], Batch [200/938], Train loss: 0.410\n",
      "Epoch [1/1], Batch [300/938], Train loss: 0.176\n",
      "Epoch [1/1], Batch [400/938], Train loss: 0.136\n",
      "Epoch [1/1], Batch [500/938], Train loss: 0.119\n",
      "Epoch [1/1], Batch [600/938], Train loss: 0.210\n",
      "Epoch [1/1], Batch [700/938], Train loss: 0.140\n",
      "Epoch [1/1], Batch [800/938], Train loss: 0.063\n",
      "Epoch [1/1], Batch [900/938], Train loss: 0.106\n",
      "============ Test accuracy: 0.970 =============\n"
     ]
    }
   ],
   "source": [
    "opt_s = torch.optim.Adam(model_s.parameters(), lr=0.002)  # Adam 优化器\n",
    "fit(epochs=1, model=model_s, opt=opt_s)  # 训练 1 个 Epoch"
   ]
  },
  {
   "cell_type": "code",
   "execution_count": 15,
   "id": "9fb2c8ea-f018-4ce6-a44b-c0dfd752c284",
   "metadata": {},
   "outputs": [
    {
     "data": {
      "text/plain": [
       "False"
      ]
     },
     "execution_count": 15,
     "metadata": {},
     "output_type": "execute_result"
    }
   ],
   "source": [
    "torch.cuda.is_available()"
   ]
  },
  {
   "cell_type": "code",
   "execution_count": 16,
   "id": "62961317-9214-497c-933f-566c5ac5c564",
   "metadata": {},
   "outputs": [
    {
     "data": {
      "text/plain": [
       "device(type='cpu')"
      ]
     },
     "execution_count": 16,
     "metadata": {},
     "output_type": "execute_result"
    }
   ],
   "source": [
    "# 如果 GPU 可用则使用 CUDA 加速，否则使用 CPU 设备计算\n",
    "dev = torch.device(\"cuda\") if torch.cuda.is_available() else torch.device(\"cpu\")\n",
    "dev"
   ]
  },
  {
   "cell_type": "code",
   "execution_count": null,
   "id": "e71eb204-0914-490b-8ce8-ed2f5c4b0c50",
   "metadata": {},
   "outputs": [],
   "source": [
    "# 数据和模型后面添加 .to(dev)，这样 PyTorch 就可以自动判断是否使用 GPU 加速\n",
    "def fit(epochs, model, opt):\n",
    "    print(\"Start training, please be patient.\")\n",
    "    for epoch in range(epochs):\n",
    "        for i, (images, labels) in enumerate(train_loader):\n",
    "            images = images.reshape(-1, 28 * 28).to(dev)  # 添加 .to(dev)\n",
    "            labels = labels.to(dev)  # 添加 .to(dev)\n",
    "            outputs = model(images)\n",
    "            loss = loss_fn(outputs, labels)\n",
    "            opt.zero_grad()\n",
    "            loss.backward()\n",
    "            opt.step()\n",
    "            if (i + 1) % 100 == 0:\n",
    "                print(\n",
    "                    \"Epoch [{}/{}], Batch [{}/{}], Train loss: {:.3f}\".format(\n",
    "                        epoch + 1, epochs, i + 1, len(train_loader), loss.item()\n",
    "                    )\n",
    "                )\n",
    "        correct = 0\n",
    "        total = 0\n",
    "        for images, labels in test_loader:\n",
    "            images = images.reshape(-1, 28 * 28).to(dev)  # 添加 .to(dev)\n",
    "            labels = labels.to(dev)  # 添加 .to(dev)\n",
    "            outputs = model(images)\n",
    "            _, predicted = torch.max(outputs.data, 1)\n",
    "            correct += (predicted == labels).sum().item()\n",
    "            total += labels.size(0)\n",
    "        print(\n",
    "            \"============ Test accuracy: {:.3f} =============\".format(correct / total)\n",
    "        )"
   ]
  },
  {
   "cell_type": "code",
   "execution_count": null,
   "id": "681ec62b-0935-4541-9f03-9f0305d3eb49",
   "metadata": {},
   "outputs": [],
   "source": [
    "# 模型保存\n",
    "torch.save(model_s, \"./model_s.pt\")"
   ]
  },
  {
   "cell_type": "code",
   "execution_count": null,
   "id": "4421bbea-32eb-48f8-87dd-966353c3adc4",
   "metadata": {},
   "outputs": [],
   "source": [
    "# 模型加载\n",
    "model_s = torch.load(\"./model_s.pt\")\n",
    "model_s"
   ]
  },
  {
   "cell_type": "code",
   "execution_count": null,
   "id": "69420066-8c8c-4640-a3d5-8c1a4a10793e",
   "metadata": {},
   "outputs": [],
   "source": [
    "# 对测试数据第一个样本进行推理，注意将张量类型转换为 FloatTensor\n",
    "result = model_s(test.data[0].reshape(-1, 28 * 28).type(torch.FloatTensor).to(dev))\n",
    "torch.argmax(result)  # 找到输出最大值索引即为预测标签"
   ]
  },
  {
   "cell_type": "code",
   "execution_count": null,
   "id": "dcc034db-43c1-41f8-a99b-69f4eaf08b51",
   "metadata": {},
   "outputs": [],
   "source": []
  }
 ],
 "metadata": {
  "kernelspec": {
   "display_name": "Python 3 (ipykernel)",
   "language": "python",
   "name": "python3"
  },
  "language_info": {
   "codemirror_mode": {
    "name": "ipython",
    "version": 3
   },
   "file_extension": ".py",
   "mimetype": "text/x-python",
   "name": "python",
   "nbconvert_exporter": "python",
   "pygments_lexer": "ipython3",
   "version": "3.11.8"
  }
 },
 "nbformat": 4,
 "nbformat_minor": 5
}
