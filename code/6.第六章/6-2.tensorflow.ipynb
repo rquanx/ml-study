{
 "cells": [
  {
   "cell_type": "code",
   "execution_count": 10,
   "id": "9a43beb4-33bf-4b0a-926b-916142203170",
   "metadata": {},
   "outputs": [
    {
     "data": {
      "text/plain": [
       "(array([   8.3252    ,   41.        ,    6.98412698,    1.02380952,\n",
       "         322.        ,    2.55555556,   37.88      , -122.23      ]),\n",
       " 4.526)"
      ]
     },
     "execution_count": 10,
     "metadata": {},
     "output_type": "execute_result"
    }
   ],
   "source": [
    "from sklearn.datasets import fetch_california_housing\n",
    "\n",
    "housing = fetch_california_housing()  # 加州房价数据集\n",
    "\n",
    "housing.data.shape, housing.target.shape\n",
    "\n",
    "\n",
    "housing.data[0], housing.target[0]  # 预览第一个样本特征及目标值"
   ]
  },
  {
   "cell_type": "code",
   "execution_count": 11,
   "id": "2c48bc0d-13da-4ee8-9eae-5d7277ac4237",
   "metadata": {},
   "outputs": [],
   "source": [
    "# numpy 构建神经网络"
   ]
  },
  {
   "cell_type": "code",
   "execution_count": 12,
   "id": "19582b2d-0754-4d4e-9241-5ee49cb3da30",
   "metadata": {},
   "outputs": [],
   "source": [
    "import numpy as np\n",
    "\n",
    "\n",
    "def sigmoid(x):\n",
    "    \"\"\"激活函数\"\"\"\n",
    "    return 1 / (1 + np.exp(-x))\n",
    "\n",
    "\n",
    "def sigmoid_derivative(x):\n",
    "    \"\"\"sigmoid 函数求导\"\"\"\n",
    "    return sigmoid(x) * (1 - sigmoid(x))\n",
    "\n",
    "\n",
    "# lr: 学习率\n",
    "# X、y: 训练数据\n",
    "class NeuralNetwork:\n",
    "    def __init__(self, X, y, lr):\n",
    "        \"\"\"初始化参数\"\"\"\n",
    "        self.input_layer = X\n",
    "        self.W1 = np.ones((self.input_layer.shape[1], 3))  # 初始化权重全为 1\n",
    "        self.W2 = np.ones((3, 1))\n",
    "        self.y = y\n",
    "        self.lr = lr\n",
    "\n",
    "    def forward(self):\n",
    "        \"\"\"前向传播\"\"\"\n",
    "\n",
    "        self.hidden_layer = sigmoid(np.dot(self.input_layer, self.W1))\n",
    "        self.output_layer = sigmoid(np.dot(self.hidden_layer, self.W2))\n",
    "        return self.output_layer\n",
    "\n",
    "    def backward(self):\n",
    "        \"\"\"反向传播\"\"\"\n",
    "\n",
    "        # 计算 w2 层的更新\n",
    "        d_W2 = np.dot(\n",
    "            self.hidden_layer.T,\n",
    "            (\n",
    "                2\n",
    "                * (self.output_layer - self.y)\n",
    "                * sigmoid_derivative(np.dot(self.hidden_layer, self.W2))\n",
    "            ),\n",
    "        )\n",
    "\n",
    "        # 计算 w1 层的更新\n",
    "        d_W1 = np.dot(\n",
    "            self.input_layer.T,\n",
    "            (\n",
    "                np.dot(\n",
    "                    2\n",
    "                    * (self.output_layer - self.y)\n",
    "                    * sigmoid_derivative(np.dot(self.hidden_layer, self.W2)),\n",
    "                    self.W2.T,\n",
    "                )\n",
    "                * sigmoid_derivative(np.dot(self.input_layer, self.W1))\n",
    "            ),\n",
    "        )\n",
    "\n",
    "        # 参数更新\n",
    "        self.W1 -= self.lr * d_W1\n",
    "        self.W2 -= self.lr * d_W2"
   ]
  },
  {
   "cell_type": "code",
   "execution_count": 13,
   "id": "9db33e47-d099-4fab-93a8-49569caa49ac",
   "metadata": {},
   "outputs": [
    {
     "data": {
      "text/html": [
       "<div>\n",
       "<style scoped>\n",
       "    .dataframe tbody tr th:only-of-type {\n",
       "        vertical-align: middle;\n",
       "    }\n",
       "\n",
       "    .dataframe tbody tr th {\n",
       "        vertical-align: top;\n",
       "    }\n",
       "\n",
       "    .dataframe thead th {\n",
       "        text-align: right;\n",
       "    }\n",
       "</style>\n",
       "<table border=\"1\" class=\"dataframe\">\n",
       "  <thead>\n",
       "    <tr style=\"text-align: right;\">\n",
       "      <th></th>\n",
       "      <th>X0</th>\n",
       "      <th>X1</th>\n",
       "      <th>Y</th>\n",
       "    </tr>\n",
       "  </thead>\n",
       "  <tbody>\n",
       "    <tr>\n",
       "      <th>0</th>\n",
       "      <td>5.1</td>\n",
       "      <td>3.5</td>\n",
       "      <td>-1</td>\n",
       "    </tr>\n",
       "    <tr>\n",
       "      <th>1</th>\n",
       "      <td>4.9</td>\n",
       "      <td>3.0</td>\n",
       "      <td>-1</td>\n",
       "    </tr>\n",
       "    <tr>\n",
       "      <th>2</th>\n",
       "      <td>4.7</td>\n",
       "      <td>3.2</td>\n",
       "      <td>-1</td>\n",
       "    </tr>\n",
       "    <tr>\n",
       "      <th>3</th>\n",
       "      <td>4.6</td>\n",
       "      <td>3.1</td>\n",
       "      <td>-1</td>\n",
       "    </tr>\n",
       "    <tr>\n",
       "      <th>4</th>\n",
       "      <td>5.0</td>\n",
       "      <td>3.6</td>\n",
       "      <td>-1</td>\n",
       "    </tr>\n",
       "  </tbody>\n",
       "</table>\n",
       "</div>"
      ],
      "text/plain": [
       "    X0   X1  Y\n",
       "0  5.1  3.5 -1\n",
       "1  4.9  3.0 -1\n",
       "2  4.7  3.2 -1\n",
       "3  4.6  3.1 -1\n",
       "4  5.0  3.6 -1"
      ]
     },
     "execution_count": 13,
     "metadata": {},
     "output_type": "execute_result"
    }
   ],
   "source": [
    "import pandas as pd\n",
    "\n",
    "df = pd.read_csv(\"./course-12-data.csv\", header=0)\n",
    "df.head()  # 预览前 5 行数据"
   ]
  },
  {
   "cell_type": "code",
   "execution_count": 14,
   "id": "927977ed-3a58-44a6-9740-7e7fadf96ad6",
   "metadata": {},
   "outputs": [
    {
     "data": {
      "text/plain": [
       "Text(0.5, 1.0, 'final loss: 0.8889049031629646')"
      ]
     },
     "execution_count": 14,
     "metadata": {},
     "output_type": "execute_result"
    },
    {
     "data": {
      "image/png": "[encoded data removed]",
      "text/plain": [
       "<Figure size 640x480 with 1 Axes>"
      ]
     },
     "metadata": {},
     "output_type": "display_data"
    }
   ],
   "source": [
    "from matplotlib import pyplot as plt\n",
    "\n",
    "%matplotlib inline\n",
    "\n",
    "X = df[[\"X0\", \"X1\"]].values  # 输入值\n",
    "y = df[[\"Y\"]].values  # 真实 y\n",
    "nn_model = NeuralNetwork(X, y, lr=0.001)  # 定义模型\n",
    "loss_list = []  # 存放损失数值变化\n",
    "\n",
    "# 迭代 200 次\n",
    "for _ in range(200):\n",
    "    y_ = nn_model.forward()  # 前向传播\n",
    "    nn_model.backward()  # 反向传播\n",
    "    loss = np.square(np.subtract(y, y_)).mean()  # 计算 MSE 损失\n",
    "    loss_list.append(loss)\n",
    "\n",
    "plt.plot(loss_list)  # 绘制 loss 曲线变化图\n",
    "plt.title(f\"final loss: {loss}\")"
   ]
  },
  {
   "cell_type": "code",
   "execution_count": null,
   "id": "2f148579-1277-4bba-97d4-adc8622d184d",
   "metadata": {},
   "outputs": [],
   "source": []
  },
  {
   "cell_type": "code",
   "execution_count": 15,
   "id": "e5245649-7987-4f41-8b16-2bb6a7156a57",
   "metadata": {},
   "outputs": [],
   "source": [
    "# TensorFlow 构建神经网络"
   ]
  },
  {
   "cell_type": "code",
   "execution_count": 16,
   "id": "93253626-7d76-4914-9121-dc1697889176",
   "metadata": {},
   "outputs": [
    {
     "data": {
      "text/plain": [
       "(TensorShape([150, 2]), TensorShape([150, 1]))"
      ]
     },
     "execution_count": 16,
     "metadata": {},
     "output_type": "execute_result"
    }
   ],
   "source": [
    "import tensorflow as tf\n",
    "\n",
    "tf.get_logger().setLevel(\"ERROR\")\n",
    "\n",
    "# 将数组转换为常量张量\n",
    "X = tf.cast(tf.constant(df[[\"X0\", \"X1\"]].values), tf.float32)\n",
    "y = tf.constant(df[[\"Y\"]].values)\n",
    "\n",
    "X.shape, y.shape"
   ]
  },
  {
   "cell_type": "code",
   "execution_count": 19,
   "id": "f2ae4e7a-9dc8-4953-b307-189798618ed3",
   "metadata": {},
   "outputs": [],
   "source": [
    "class Model(object):\n",
    "    def __init__(self):\n",
    "        # 初始化权重全为 1，也可以随机初始化\n",
    "        # 选择变量张量，因为权重后续会不断迭代更新\n",
    "        self.W1 = tf.Variable(tf.ones([2, 3]))\n",
    "        self.W2 = tf.Variable(tf.ones([3, 1]))\n",
    "\n",
    "    def __call__(self, x):\n",
    "        hidden_layer = tf.nn.sigmoid(tf.linalg.matmul(x, self.W1))  # 隐含层前向传播\n",
    "        y_ = tf.nn.sigmoid(tf.linalg.matmul(hidden_layer, self.W2))  # 输出层前向传播\n",
    "        return y_"
   ]
  },
  {
   "cell_type": "code",
   "execution_count": 20,
   "id": "90aa89ca-4a18-499e-b8b3-6ca0d4a1b407",
   "metadata": {},
   "outputs": [
    {
     "data": {
      "text/plain": [
       "TensorShape([150, 1])"
      ]
     },
     "execution_count": 20,
     "metadata": {},
     "output_type": "execute_result"
    }
   ],
   "source": [
    "model = Model()  # 实例化类\n",
    "y_ = model(X)  # 测试输入\n",
    "y_.shape  # 输出"
   ]
  },
  {
   "cell_type": "code",
   "execution_count": 21,
   "id": "83dfd149-7f72-4ca2-9e3b-4e504594a5e9",
   "metadata": {},
   "outputs": [
    {
     "data": {
      "text/plain": [
       "<tf.Tensor: shape=(), dtype=float32, numpy=1.2723011>"
      ]
     },
     "execution_count": 21,
     "metadata": {},
     "output_type": "execute_result"
    }
   ],
   "source": [
    "# MSE 损失函数,在 tf.losses 模块\n",
    "\n",
    "\n",
    "def loss_fn(model, X, y):\n",
    "    y_ = model(X)  # 前向传播得到预测值\n",
    "    # 使用 MSE 损失函数，并使用 reduce_mean 计算样本总损失\n",
    "    loss = tf.reduce_mean(tf.losses.mean_squared_error(y_true=y, y_pred=y_))\n",
    "    return loss\n",
    "\n",
    "\n",
    "loss = loss_fn(model, X, y)\n",
    "loss"
   ]
  },
  {
   "cell_type": "code",
   "execution_count": 22,
   "id": "646764b8-33ed-47d9-a0c8-f7cb8c84125c",
   "metadata": {},
   "outputs": [
    {
     "name": "stdout",
     "output_type": "stream",
     "text": [
      "Epoch [000/200], Loss: [1.2723]\n",
      "Epoch [100/200], Loss: [0.9051]\n",
      "Epoch [200/200], Loss: [0.8889]\n"
     ]
    }
   ],
   "source": [
    "# 梯度下降优化迭代\n",
    "# 手动构造梯度下降迭代过程\n",
    "\n",
    "EPOCHS = 200  # 迭代 200 次\n",
    "LEARNING_RATE = 0.1  # 学习率\n",
    "\n",
    "for epoch in range(EPOCHS):\n",
    "    # 使用 GradientTape 追踪梯度\n",
    "    with tf.GradientTape() as tape:\n",
    "        loss = loss_fn(model, X, y)  # 计算 Loss，包含前向传播过程\n",
    "    # 使用梯度下降法优化迭代\n",
    "    # 输出模型需优化参数 W1，W2 自动微分结果\n",
    "    dW1, dW2 = tape.gradient(loss, [model.W1, model.W2])\n",
    "    model.W1.assign_sub(LEARNING_RATE * dW1)  # 更新梯度\n",
    "    model.W2.assign_sub(LEARNING_RATE * dW2)\n",
    "\n",
    "    # 每 100 个 Epoch 输出各项指标\n",
    "    if epoch == 0:\n",
    "        print(f\"Epoch [000/{EPOCHS}], Loss: [{loss:.4f}]\")\n",
    "    elif (epoch + 1) % 100 == 0:\n",
    "        print(f\"Epoch [{epoch+1}/{EPOCHS}], Loss: [{loss:.4f}]\")"
   ]
  },
  {
   "cell_type": "code",
   "execution_count": 23,
   "id": "3bdbb81b-ba2b-49c2-aaeb-3faa4bbb6d95",
   "metadata": {},
   "outputs": [
    {
     "name": "stdout",
     "output_type": "stream",
     "text": [
      "Epoch [000/200], Loss: [1.2723]\n",
      "Epoch [100/200], Loss: [0.9051]\n",
      "Epoch [200/200], Loss: [0.8889]\n"
     ]
    }
   ],
   "source": [
    "# 使用 TensorFlow 优化器\n",
    "# 使用内置的梯度下降迭代优化器\n",
    "\n",
    "# 定义 SGD 优化器，设定学习率，\n",
    "optimizer = tf.optimizers.SGD(learning_rate=0.1)\n",
    "optimizer\n",
    "\n",
    "\n",
    "loss_list = []  # 存放每一次 loss\n",
    "model = Model()  # 实例化类\n",
    "for epoch in range(EPOCHS):\n",
    "    # 使用 GradientTape 追踪梯度\n",
    "    with tf.GradientTape() as tape:\n",
    "        loss = loss_fn(model, X, y)  # 计算 Loss，包含前向传播过程\n",
    "        loss_list.append(loss)  # 保存每次迭代 loss\n",
    "\n",
    "    grads = tape.gradient(loss, [model.W1, model.W2])  # 输出自动微分结果\n",
    "    optimizer.apply_gradients(zip(grads, [model.W1, model.W2]))  # 使用优化器更新梯度\n",
    "\n",
    "    # 每 100 个 Epoch 输出各项指标\n",
    "    if epoch == 0:\n",
    "        print(f\"Epoch [000/{EPOCHS}], Loss: [{loss:.4f}]\")\n",
    "    elif (epoch + 1) % 100 == 0:\n",
    "        print(f\"Epoch [{epoch+1}/{EPOCHS}], Loss: [{loss:.4f}]\")"
   ]
  },
  {
   "cell_type": "code",
   "execution_count": null,
   "id": "6f1d6183-4b99-4df5-90a7-a03cc66b7704",
   "metadata": {},
   "outputs": [],
   "source": []
  },
  {
   "cell_type": "code",
   "execution_count": 24,
   "id": "50d9e1f6-ec70-49c7-b880-3046cfccba0b",
   "metadata": {},
   "outputs": [],
   "source": [
    "## 完整 TensorFlow 构建神经网络"
   ]
  },
  {
   "cell_type": "code",
   "execution_count": null,
   "id": "59f610e8-957d-4cb3-ac41-1b6c2be431c9",
   "metadata": {},
   "outputs": [],
   "source": [
    "class Model(object):\n",
    "    def __init__(self):\n",
    "        self.W1 = tf.Variable(tf.ones([2, 3]))\n",
    "        self.W2 = tf.Variable(tf.ones([3, 1]))\n",
    "\n",
    "    def __call__(self, x):\n",
    "        hidden_layer = tf.nn.sigmoid(tf.linalg.matmul(X, self.W1))\n",
    "        y_ = tf.nn.sigmoid(tf.linalg.matmul(hidden_layer, self.W2))\n",
    "        return y_\n",
    "\n",
    "\n",
    "def loss_fn(model, X, y):\n",
    "    y_ = model(X)\n",
    "    loss = tf.reduce_mean(tf.losses.mean_squared_error(y_true=y, y_pred=y_))\n",
    "    return loss\n",
    "\n",
    "\n",
    "X = tf.cast(tf.constant(df[[\"X0\", \"X1\"]].values), tf.float32)\n",
    "y = tf.constant(df[[\"Y\"]].values)\n",
    "\n",
    "model = Model()\n",
    "EPOCHS = 200\n",
    "\n",
    "for epoch in range(EPOCHS):\n",
    "    with tf.GradientTape() as tape:\n",
    "        loss = loss_fn(model, X, y)\n",
    "    grads = tape.gradient(loss, [model.W1, model.W2])\n",
    "    optimizer = tf.optimizers.SGD(learning_rate=0.1)\n",
    "    optimizer.apply_gradients(zip(grads, [model.W1, model.W2]))"
   ]
  },
  {
   "cell_type": "code",
   "execution_count": null,
   "id": "3123e642-2603-4081-9385-ae315b39822c",
   "metadata": {},
   "outputs": [],
   "source": []
  },
  {
   "cell_type": "code",
   "execution_count": null,
   "id": "afa8784f-94c1-4b11-8aa7-a300daa85f38",
   "metadata": {},
   "outputs": [],
   "source": [
    "# 进行 DIGITS 分类测试"
   ]
  },
  {
   "cell_type": "code",
   "execution_count": null,
   "id": "cb62d1f7-bd3d-4476-84ed-5276e281baf6",
   "metadata": {},
   "outputs": [],
   "source": [
    "from sklearn.datasets import load_digits\n",
    "\n",
    "digits = load_digits()  # 读取数据\n",
    "\n",
    "digits_X = digits.data  # 特征值\n",
    "digits_y = digits.target  # 标签值\n",
    "\n",
    "digits_X.shape, digits_y.shape\n",
    "\n",
    "\n",
    "# 独热编码\n",
    "digits_y = np.eye(10)[digits_y.reshape(-1)]\n",
    "digits_y"
   ]
  },
  {
   "cell_type": "code",
   "execution_count": null,
   "id": "b2131546-b778-40a4-b095-ae19ca5a4ab6",
   "metadata": {},
   "outputs": [],
   "source": [
    "# 拆分数据\n",
    "from sklearn.model_selection import train_test_split\n",
    "\n",
    "X_train, X_test, y_train, y_test = train_test_split(\n",
    "    digits_X, digits_y, test_size=0.2, random_state=1\n",
    ")\n",
    "\n",
    "X_train.shape, X_test.shape, y_train.shape, y_test.shape"
   ]
  },
  {
   "cell_type": "code",
   "execution_count": null,
   "id": "39ff8f58-63ba-43af-9c36-9b1b89094eeb",
   "metadata": {},
   "outputs": [],
   "source": [
    "import tensorflow as tf\n",
    "\n",
    "\n",
    "# 模型定义\n",
    "class Model(object):\n",
    "    def __init__(self):\n",
    "        # 随机初始化张量参数\n",
    "        self.W1 = tf.Variable(tf.random.normal([64, 30]))\n",
    "        self.b1 = tf.Variable(tf.random.normal([30]))\n",
    "        self.W2 = tf.Variable(tf.random.normal([30, 10]))\n",
    "        self.b2 = tf.Variable(tf.random.normal([10]))\n",
    "\n",
    "    def __call__(self, x):\n",
    "        # tf.cast 不仅可以转换张量类型，还可以直接将 NumPy 数组转换为相应类型的常量张量\n",
    "        x = tf.cast(x, tf.float32)  # 转换输入数据类型\n",
    "        # 线性计算 + RELU 激活\n",
    "        fc1 = tf.nn.relu(tf.add(tf.matmul(x, self.W1), self.b1))  # 全连接层 1\n",
    "        fc2 = tf.add(tf.matmul(fc1, self.W2), self.b2)  # 全连接层 2\n",
    "        return fc2\n"
   ]
  },
  {
   "cell_type": "code",
   "execution_count": null,
   "id": "eff49ec2-5aa2-458b-8bfa-c98f2325a691",
   "metadata": {},
   "outputs": [],
   "source": [
    "# 交叉熵损失函数\n",
    "\n",
    "\n",
    "def softmax(x):\n",
    "    # Softmax 实现\n",
    "    exp_x = np.exp(x)\n",
    "    return exp_x / np.sum(exp_x)\n",
    "\n",
    "\n",
    "np.round(softmax([-1.3, 2.6, -0.9]), 2)"
   ]
  },
  {
   "cell_type": "code",
   "execution_count": null,
   "id": "c6e20aac-e2b4-4bd2-8f10-029fa9a9664a",
   "metadata": {},
   "outputs": [],
   "source": [
    "def loss_fn(model, x, y):\n",
    "    preds = model(x)\n",
    "    return tf.reduce_mean(\n",
    "        tf.nn.softmax_cross_entropy_with_logits(logits=preds, labels=y)\n",
    "    )\n",
    "\n",
    "\n",
    "EPOCHS = 200  # 迭代此时\n",
    "LEARNING_RATE = 0.02  # 学习率\n",
    "model = Model()  # 实例化模型类\n",
    "for epoch in range(EPOCHS):\n",
    "    with tf.GradientTape() as tape:  # 追踪梯度\n",
    "        loss = loss_fn(model, X_train, y_train)\n",
    "\n",
    "    trainable_variables = [model.W1, model.b1, model.W2, model.b2]  # 需优化参数列表\n",
    "    grads = tape.gradient(loss, trainable_variables)  # 计算梯度\n",
    "\n",
    "    optimizer = tf.optimizers.Adam(learning_rate=LEARNING_RATE)  # Adam 优化器\n",
    "    optimizer.apply_gradients(zip(grads, trainable_variables))  # 更新梯度\n",
    "\n",
    "    # 每 100 个 Epoch 输出各项指标\n",
    "    if epoch == 0:\n",
    "        print(f\"Epoch [000/{EPOCHS}], Loss: [{loss:.4f}]\")\n",
    "    elif (epoch + 1) % 100 == 0:\n",
    "        print(f\"Epoch [{epoch+1}/{EPOCHS}], Loss: [{loss:.4f}]\")\n",
    "\n",
    "\n",
    "def accuracy_fn(logits, labels):\n",
    "    preds = tf.argmax(logits, axis=1)  # 取值最大的索引，正好对应字符标签\n",
    "    labels = tf.argmax(labels, axis=1)\n",
    "    return tf.reduce_mean(tf.cast(tf.equal(preds, labels), tf.float32))\n",
    "\n",
    "\n",
    "EPOCHS = 500  # 迭代此时\n",
    "LEARNING_RATE = 0.02  # 学习率\n",
    "model = Model()  # 实例化模型类\n",
    "for epoch in range(EPOCHS):\n",
    "    with tf.GradientTape() as tape:  # 追踪梯度\n",
    "        loss = loss_fn(model, X_train, y_train)\n",
    "\n",
    "    trainable_variables = [model.W1, model.b1, model.W2, model.b2]  # 需优化参数列表\n",
    "    grads = tape.gradient(loss, trainable_variables)  # 计算梯度\n",
    "\n",
    "    optimizer = tf.optimizers.Adam(learning_rate=LEARNING_RATE)  # Adam 优化器\n",
    "    optimizer.apply_gradients(zip(grads, trainable_variables))  # 更新梯度\n",
    "\n",
    "    accuracy = accuracy_fn(model(X_test), y_test)  # 计算准确度\n",
    "\n",
    "    # 每 100 个 Epoch 输出各项指标\n",
    "    if epoch == 0:\n",
    "        print(f\"Epoch [000/{EPOCHS}], Accuracy: [{accuracy:.2f}], Loss: [{loss:.4f}]\")\n",
    "    elif (epoch + 1) % 100 == 0:\n",
    "        print(\n",
    "            f\"Epoch [{epoch+1}/{EPOCHS}], Accuracy: [{accuracy:.2f}], Loss: [{loss:.4f}]\"\n",
    "        )"
   ]
  },
  {
   "cell_type": "code",
   "execution_count": null,
   "id": "19a4cc3b-fa07-47f4-a7f7-dd48c96073c0",
   "metadata": {},
   "outputs": [],
   "source": []
  },
  {
   "cell_type": "code",
   "execution_count": null,
   "id": "b612d650-9d5f-4b38-9705-5d3d463b4eec",
   "metadata": {},
   "outputs": [],
   "source": [
    "#  TensorFlow 实现 Mini Batch 训练"
   ]
  },
  {
   "cell_type": "code",
   "execution_count": null,
   "id": "80f54ab0-2f42-4c2c-ba7b-1d94b84ef630",
   "metadata": {},
   "outputs": [],
   "source": [
    "# 最简单的训练方式，每一次都将全部的数据传入了网络中对参数进行优化，当数据量太大时，矩阵计算就相当夸张了，占用的内存数甚至会导致完全无法训练\n",
    "\n",
    "# Mini Batch：将整个数据分成一些小批次放进模型里进行训练（K 折交叉验证 是其中一种）"
   ]
  },
  {
   "cell_type": "code",
   "execution_count": null,
   "id": "29e3d848-6f75-40bd-bcaf-3f78b1c407ea",
   "metadata": {},
   "outputs": [],
   "source": [
    "from sklearn.model_selection import KFold\n",
    "from tqdm.notebook import tqdm\n",
    "\n",
    "EPOCHS = 500  # 迭代此时\n",
    "BATCH_SIZE = 64  # 每次迭代的批量大小\n",
    "LEARNING_RATE = 0.02  # 学习率\n",
    "\n",
    "model = Model()  # 实例化模型类\n",
    "\n",
    "for epoch in tqdm(range(EPOCHS)):  # 设定全数据集迭代次数\n",
    "    indices = np.arange(len(X_train))  # 生成训练数据长度规则序列\n",
    "    np.random.shuffle(indices)  # 对索引序列进行打乱，保证为随机数据划分\n",
    "    batch_num = int(len(X_train) / BATCH_SIZE)  # 根据批量大小求得要划分的 batch 数量\n",
    "    kf = KFold(n_splits=batch_num)  # 将数据分割成 batch 数量份\n",
    "    # KFold 划分打乱后的索引序列，然后依据序列序列从数据中抽取 batch 样本\n",
    "    for _, index in kf.split(indices):\n",
    "        X_batch = X_train[indices[index]]  # 按打乱后的序列取出数据\n",
    "        y_batch = y_train[indices[index]]\n",
    "\n",
    "        with tf.GradientTape() as tape:  # 追踪梯度\n",
    "            loss = loss_fn(model, X_batch, y_batch)\n",
    "\n",
    "        trainable_variables = [model.W1, model.b1, model.W2, model.b2]  # 需优化参数列表\n",
    "        grads = tape.gradient(loss, trainable_variables)  # 计算梯度\n",
    "\n",
    "        optimizer = tf.optimizers.Adam(learning_rate=LEARNING_RATE)  # Adam 优化器\n",
    "        optimizer.apply_gradients(zip(grads, trainable_variables))  # 更新梯度\n",
    "        accuracy = accuracy_fn(model(X_test), y_test)  # 计算准确度\n",
    "\n",
    "    # 每 100 个 Epoch 输出各项指标\n",
    "    if epoch == 0:\n",
    "        print(f\"Epoch [000/{EPOCHS}], Accuracy: [{accuracy:.2f}], Loss: [{loss:.4f}]\")\n",
    "    elif (epoch + 1) % 100 == 0:\n",
    "        print(\n",
    "            f\"Epoch [{epoch+1}/{EPOCHS}], Accuracy: [{accuracy:.2f}], Loss: [{loss:.4f}]\"\n",
    "        )"
   ]
  }
 ],
 "metadata": {
  "kernelspec": {
   "display_name": "Python 3 (ipykernel)",
   "language": "python",
   "name": "python3"
  },
  "language_info": {
   "codemirror_mode": {
    "name": "ipython",
    "version": 3
   },
   "file_extension": ".py",
   "mimetype": "text/x-python",
   "name": "python",
   "nbconvert_exporter": "python",
   "pygments_lexer": "ipython3",
   "version": "3.11.8"
  }
 },
 "nbformat": 4,
 "nbformat_minor": 5
}
