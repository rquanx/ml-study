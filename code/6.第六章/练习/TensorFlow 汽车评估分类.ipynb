{
 "cells": [
  {
   "cell_type": "code",
   "execution_count": 1,
   "id": "702e924f-6568-47fa-baf9-78fa2dc74d47",
   "metadata": {},
   "outputs": [
    {
     "data": {
      "text/html": [
       "<div>\n",
       "<style scoped>\n",
       "    .dataframe tbody tr th:only-of-type {\n",
       "        vertical-align: middle;\n",
       "    }\n",
       "\n",
       "    .dataframe tbody tr th {\n",
       "        vertical-align: top;\n",
       "    }\n",
       "\n",
       "    .dataframe thead th {\n",
       "        text-align: right;\n",
       "    }\n",
       "</style>\n",
       "<table border=\"1\" class=\"dataframe\">\n",
       "  <thead>\n",
       "    <tr style=\"text-align: right;\">\n",
       "      <th></th>\n",
       "      <th>buying</th>\n",
       "      <th>maint</th>\n",
       "      <th>doors</th>\n",
       "      <th>persons</th>\n",
       "      <th>lug_boot</th>\n",
       "      <th>safety</th>\n",
       "      <th>class</th>\n",
       "    </tr>\n",
       "  </thead>\n",
       "  <tbody>\n",
       "    <tr>\n",
       "      <th>0</th>\n",
       "      <td>vhigh</td>\n",
       "      <td>vhigh</td>\n",
       "      <td>2</td>\n",
       "      <td>2</td>\n",
       "      <td>small</td>\n",
       "      <td>low</td>\n",
       "      <td>unacc</td>\n",
       "    </tr>\n",
       "    <tr>\n",
       "      <th>1</th>\n",
       "      <td>vhigh</td>\n",
       "      <td>vhigh</td>\n",
       "      <td>2</td>\n",
       "      <td>2</td>\n",
       "      <td>small</td>\n",
       "      <td>med</td>\n",
       "      <td>unacc</td>\n",
       "    </tr>\n",
       "    <tr>\n",
       "      <th>2</th>\n",
       "      <td>vhigh</td>\n",
       "      <td>vhigh</td>\n",
       "      <td>2</td>\n",
       "      <td>2</td>\n",
       "      <td>small</td>\n",
       "      <td>high</td>\n",
       "      <td>unacc</td>\n",
       "    </tr>\n",
       "    <tr>\n",
       "      <th>3</th>\n",
       "      <td>vhigh</td>\n",
       "      <td>vhigh</td>\n",
       "      <td>2</td>\n",
       "      <td>2</td>\n",
       "      <td>med</td>\n",
       "      <td>low</td>\n",
       "      <td>unacc</td>\n",
       "    </tr>\n",
       "    <tr>\n",
       "      <th>4</th>\n",
       "      <td>vhigh</td>\n",
       "      <td>vhigh</td>\n",
       "      <td>2</td>\n",
       "      <td>2</td>\n",
       "      <td>med</td>\n",
       "      <td>med</td>\n",
       "      <td>unacc</td>\n",
       "    </tr>\n",
       "  </tbody>\n",
       "</table>\n",
       "</div>"
      ],
      "text/plain": [
       "  buying  maint doors persons lug_boot safety  class\n",
       "0  vhigh  vhigh     2       2    small    low  unacc\n",
       "1  vhigh  vhigh     2       2    small    med  unacc\n",
       "2  vhigh  vhigh     2       2    small   high  unacc\n",
       "3  vhigh  vhigh     2       2      med    low  unacc\n",
       "4  vhigh  vhigh     2       2      med    med  unacc"
      ]
     },
     "execution_count": 1,
     "metadata": {},
     "output_type": "execute_result"
    }
   ],
   "source": [
    "import pandas as pd\n",
    "\n",
    "# 加载数据集\n",
    "df = pd.read_csv(\"car.data\", header=None)\n",
    "# 设置列名\n",
    "df.columns = [\"buying\", \"maint\", \"doors\", \"persons\", \"lug_boot\", \"safety\", \"class\"]\n",
    "df.head()"
   ]
  },
  {
   "cell_type": "code",
   "execution_count": 12,
   "id": "6a40670c-8e38-4f09-a8b7-82f255a7f8c1",
   "metadata": {},
   "outputs": [
    {
     "data": {
      "text/plain": [
       "((1382, 6), (346, 6), (1382,), (346,))"
      ]
     },
     "execution_count": 12,
     "metadata": {},
     "output_type": "execute_result"
    }
   ],
   "source": [
    "from sklearn.model_selection import train_test_split\n",
    "\n",
    "X = df.iloc[:, :-1]  # 特征\n",
    "y = df[\"class\"]  # 目标\n",
    "\n",
    "X_train, X_test, y_train, y_test = train_test_split(X, y, test_size=0.2, random_state=1)\n",
    "\n",
    "X_train.shape, X_test.shape, y_train.shape, y_test.shape"
   ]
  },
  {
   "cell_type": "code",
   "execution_count": 13,
   "id": "f78b4314-83b2-436b-b863-c8bcf13657c0",
   "metadata": {},
   "outputs": [
    {
     "data": {
      "text/plain": [
       "((1382, 21), (346, 21), (1382, 4), (346, 4))"
      ]
     },
     "execution_count": 13,
     "metadata": {},
     "output_type": "execute_result"
    }
   ],
   "source": [
    "X_train = pd.get_dummies(X_train).values\n",
    "X_test = pd.get_dummies(X_test).values\n",
    "y_train = pd.get_dummies(y_train).values\n",
    "y_test = pd.get_dummies(y_test).values\n",
    "X_train.shape, X_test.shape, y_train.shape, y_test.shape"
   ]
  },
  {
   "cell_type": "code",
   "execution_count": 36,
   "id": "96059def-edb5-4bec-b2b0-3a0b629cf781",
   "metadata": {},
   "outputs": [],
   "source": [
    "import tensorflow as tf\n",
    "import numpy as np\n",
    "\n",
    "\n",
    "# 模型定义\n",
    "class Model(object):\n",
    "    def __init__(self):\n",
    "        # 根据数据 shape，输入 21 输出 4\n",
    "        # 只需要保证输入、输出 shape 合适，中间层的节点数可以自行调整\n",
    "        \n",
    "        # 随机初始化张量参数\n",
    "        self.W1 = tf.Variable(tf.random.normal([21, 15]))\n",
    "        self.b1 = tf.Variable(tf.random.normal([15]))\n",
    "        self.W2 = tf.Variable(tf.random.normal([15, 4]))\n",
    "        self.b2 = tf.Variable(tf.random.normal([4]))\n",
    "\n",
    "    def __call__(self, x):\n",
    "        # tf.cast 不仅可以转换张量类型，还可以直接将 NumPy 数组转换为相应类型的常量张量\n",
    "        x = tf.cast(x, tf.float32)  # 转换输入数据类型\n",
    "        # 线性计算 + RELU 激活\n",
    "        fc1 = tf.nn.relu(tf.add(tf.matmul(x, self.W1), self.b1))  # 全连接层 1\n",
    "        fc2 = tf.add(tf.matmul(fc1, self.W2), self.b2)  # 全连接层 2\n",
    "        return fc2\n",
    "\n",
    "def loss_fn(model, x, y):\n",
    "    preds = model(x)\n",
    "    return tf.reduce_mean(\n",
    "        tf.nn.softmax_cross_entropy_with_logits(logits=preds, labels=y)\n",
    "    )\n",
    "\n",
    "def accuracy_fn(logits, labels):\n",
    "    preds = tf.argmax(logits, axis=1)  # 取值最大的索引，正好对应字符标签\n",
    "    labels = tf.argmax(labels, axis=1)\n",
    "    return tf.reduce_mean(tf.cast(tf.equal(preds, labels), tf.float32))"
   ]
  },
  {
   "cell_type": "code",
   "execution_count": 37,
   "id": "559728c2-7dda-467b-aed8-305e235baf1b",
   "metadata": {},
   "outputs": [
    {
     "ename": "InvalidArgumentError",
     "evalue": "cannot compute Mul as input #1(zero-based) was expected to be a float tensor but is a bool tensor [Op:Mul] name: ",
     "output_type": "error",
     "traceback": [
      "\u001b[1;31m---------------------------------------------------------------------------\u001b[0m",
      "\u001b[1;31mInvalidArgumentError\u001b[0m                      Traceback (most recent call last)",
      "Cell \u001b[1;32mIn[37], line 9\u001b[0m\n\u001b[0;32m      7\u001b[0m \u001b[38;5;28;01mfor\u001b[39;00m epoch \u001b[38;5;129;01min\u001b[39;00m \u001b[38;5;28mrange\u001b[39m(EPOCHS):\n\u001b[0;32m      8\u001b[0m     \u001b[38;5;28;01mwith\u001b[39;00m tf\u001b[38;5;241m.\u001b[39mGradientTape() \u001b[38;5;28;01mas\u001b[39;00m tape:  \u001b[38;5;66;03m# 追踪梯度\u001b[39;00m\n\u001b[1;32m----> 9\u001b[0m         loss \u001b[38;5;241m=\u001b[39m \u001b[43mloss_fn\u001b[49m\u001b[43m(\u001b[49m\u001b[43mmodel\u001b[49m\u001b[43m,\u001b[49m\u001b[43m \u001b[49m\u001b[43mX_train\u001b[49m\u001b[43m,\u001b[49m\u001b[43m \u001b[49m\u001b[43my_train\u001b[49m\u001b[43m)\u001b[49m\n\u001b[0;32m     11\u001b[0m     trainable_variables \u001b[38;5;241m=\u001b[39m [model\u001b[38;5;241m.\u001b[39mW1, model\u001b[38;5;241m.\u001b[39mb1, model\u001b[38;5;241m.\u001b[39mW2, model\u001b[38;5;241m.\u001b[39mb2]  \u001b[38;5;66;03m# 需优化参数列表\u001b[39;00m\n\u001b[0;32m     12\u001b[0m     grads \u001b[38;5;241m=\u001b[39m tape\u001b[38;5;241m.\u001b[39mgradient(loss, trainable_variables)  \u001b[38;5;66;03m# 计算梯度\u001b[39;00m\n",
      "Cell \u001b[1;32mIn[36], line 28\u001b[0m, in \u001b[0;36mloss_fn\u001b[1;34m(model, x, y)\u001b[0m\n\u001b[0;32m     25\u001b[0m \u001b[38;5;28;01mdef\u001b[39;00m \u001b[38;5;21mloss_fn\u001b[39m(model, x, y):\n\u001b[0;32m     26\u001b[0m     preds \u001b[38;5;241m=\u001b[39m model(x)\n\u001b[0;32m     27\u001b[0m     \u001b[38;5;28;01mreturn\u001b[39;00m tf\u001b[38;5;241m.\u001b[39mreduce_mean(\n\u001b[1;32m---> 28\u001b[0m         \u001b[43mtf\u001b[49m\u001b[38;5;241;43m.\u001b[39;49m\u001b[43mnn\u001b[49m\u001b[38;5;241;43m.\u001b[39;49m\u001b[43msigmoid_cross_entropy_with_logits\u001b[49m\u001b[43m(\u001b[49m\u001b[43mlogits\u001b[49m\u001b[38;5;241;43m=\u001b[39;49m\u001b[43mpreds\u001b[49m\u001b[43m,\u001b[49m\u001b[43m \u001b[49m\u001b[43mlabels\u001b[49m\u001b[38;5;241;43m=\u001b[39;49m\u001b[43my\u001b[49m\u001b[43m)\u001b[49m\n\u001b[0;32m     29\u001b[0m     )\n",
      "File \u001b[1;32m~\\Miniconda3\\envs\\ml\\Lib\\site-packages\\tensorflow\\python\\util\\traceback_utils.py:153\u001b[0m, in \u001b[0;36mfilter_traceback.<locals>.error_handler\u001b[1;34m(*args, **kwargs)\u001b[0m\n\u001b[0;32m    151\u001b[0m \u001b[38;5;28;01mexcept\u001b[39;00m \u001b[38;5;167;01mException\u001b[39;00m \u001b[38;5;28;01mas\u001b[39;00m e:\n\u001b[0;32m    152\u001b[0m   filtered_tb \u001b[38;5;241m=\u001b[39m _process_traceback_frames(e\u001b[38;5;241m.\u001b[39m__traceback__)\n\u001b[1;32m--> 153\u001b[0m   \u001b[38;5;28;01mraise\u001b[39;00m e\u001b[38;5;241m.\u001b[39mwith_traceback(filtered_tb) \u001b[38;5;28;01mfrom\u001b[39;00m \u001b[38;5;28;01mNone\u001b[39;00m\n\u001b[0;32m    154\u001b[0m \u001b[38;5;28;01mfinally\u001b[39;00m:\n\u001b[0;32m    155\u001b[0m   \u001b[38;5;28;01mdel\u001b[39;00m filtered_tb\n",
      "File \u001b[1;32m~\\Miniconda3\\envs\\ml\\Lib\\site-packages\\tensorflow\\python\\framework\\ops.py:5983\u001b[0m, in \u001b[0;36mraise_from_not_ok_status\u001b[1;34m(e, name)\u001b[0m\n\u001b[0;32m   5981\u001b[0m \u001b[38;5;28;01mdef\u001b[39;00m \u001b[38;5;21mraise_from_not_ok_status\u001b[39m(e, name) \u001b[38;5;241m-\u001b[39m\u001b[38;5;241m>\u001b[39m NoReturn:\n\u001b[0;32m   5982\u001b[0m   e\u001b[38;5;241m.\u001b[39mmessage \u001b[38;5;241m+\u001b[39m\u001b[38;5;241m=\u001b[39m (\u001b[38;5;124m\"\u001b[39m\u001b[38;5;124m name: \u001b[39m\u001b[38;5;124m\"\u001b[39m \u001b[38;5;241m+\u001b[39m \u001b[38;5;28mstr\u001b[39m(name \u001b[38;5;28;01mif\u001b[39;00m name \u001b[38;5;129;01mis\u001b[39;00m \u001b[38;5;129;01mnot\u001b[39;00m \u001b[38;5;28;01mNone\u001b[39;00m \u001b[38;5;28;01melse\u001b[39;00m \u001b[38;5;124m\"\u001b[39m\u001b[38;5;124m\"\u001b[39m))\n\u001b[1;32m-> 5983\u001b[0m   \u001b[38;5;28;01mraise\u001b[39;00m core\u001b[38;5;241m.\u001b[39m_status_to_exception(e) \u001b[38;5;28;01mfrom\u001b[39;00m \u001b[38;5;28;01mNone\u001b[39;00m\n",
      "\u001b[1;31mInvalidArgumentError\u001b[0m: cannot compute Mul as input #1(zero-based) was expected to be a float tensor but is a bool tensor [Op:Mul] name: "
     ]
    }
   ],
   "source": [
    "from sklearn.model_selection import KFold\n",
    "from tqdm.notebook import tqdm\n",
    "\n",
    "EPOCHS = 500  # 迭代此时\n",
    "LEARNING_RATE = 0.02  # 学习率\n",
    "model = Model()  # 实例化模型类\n",
    "for epoch in range(EPOCHS):\n",
    "    with tf.GradientTape() as tape:  # 追踪梯度\n",
    "        loss = loss_fn(model, X_train, y_train)\n",
    "\n",
    "    trainable_variables = [model.W1, model.b1, model.W2, model.b2]  # 需优化参数列表\n",
    "    grads = tape.gradient(loss, trainable_variables)  # 计算梯度\n",
    "\n",
    "    optimizer = tf.optimizers.Adam(learning_rate=LEARNING_RATE)  # Adam 优化器\n",
    "    optimizer.apply_gradients(zip(grads, trainable_variables))  # 更新梯度\n",
    "\n",
    "    accuracy = accuracy_fn(model(X_test), y_test)  # 计算准确度\n",
    "\n",
    "    # 每 100 个 Epoch 输出各项指标\n",
    "    if epoch == 0:\n",
    "        print(f\"Epoch [000/{EPOCHS}], Accuracy: [{accuracy:.2f}], Loss: [{loss:.4f}]\")\n",
    "    elif (epoch + 1) % 100 == 0:\n",
    "        print(\n",
    "            f\"Epoch [{epoch+1}/{EPOCHS}], Accuracy: [{accuracy:.2f}], Loss: [{loss:.4f}]\"\n",
    "        )"
   ]
  },
  {
   "cell_type": "code",
   "execution_count": null,
   "id": "627281c1-01ac-468b-b246-ccdf2e985e4e",
   "metadata": {},
   "outputs": [],
   "source": []
  },
  {
   "cell_type": "code",
   "execution_count": null,
   "id": "f569af68-bddb-4259-ad0e-a6cd7a44b08c",
   "metadata": {},
   "outputs": [],
   "source": [
    "# 答案"
   ]
  },
  {
   "cell_type": "code",
   "execution_count": null,
   "id": "0aca2905-d6f7-4e0f-ac3f-2c2bf4bdda6f",
   "metadata": {},
   "outputs": [],
   "source": [
    "X_train = pd.get_dummies(X_train).values\n",
    "X_test = pd.get_dummies(X_test).values\n",
    "y_train = pd.get_dummies(y_train).values\n",
    "y_test = pd.get_dummies(y_test).values\n",
    "X_train.shape, X_test.shape, y_train.shape, y_test.shape"
   ]
  },
  {
   "cell_type": "code",
   "execution_count": null,
   "id": "9aaf0e01-9961-4c1e-b212-4aa84119bf6a",
   "metadata": {},
   "outputs": [],
   "source": [
    "import tensorflow as tf\n",
    "\n",
    "def fully_connected(inputs, weights, biases):\n",
    "    \"\"\"\n",
    "    inputs -- 输入 Variable\n",
    "    weights -- 权重项 Variable\n",
    "    biases -- 截距项 Variable\n",
    "    \"\"\"\n",
    "    layer = tf.add(tf.matmul(inputs, weights), biases)  # 输入 x 权重 + 截距\n",
    "    output = tf.nn.relu(layer)  # RELU 激活\n",
    "    return output"
   ]
  },
  {
   "cell_type": "code",
   "execution_count": null,
   "id": "e9b2c9cc-193b-4ec4-8169-444c87032e70",
   "metadata": {},
   "outputs": [],
   "source": [
    "x = tf.placeholder(tf.float32, [None, 21])  # 输入特征张量占位符\n",
    "\n",
    "# 全连接层 1\n",
    "W1 = tf.Variable(tf.random.uniform([21, 15]))  # 随机初始化权重\n",
    "b1 = tf.Variable(tf.random.uniform([15]))\n",
    "fc1 = fully_connected(x, W1, b1)\n",
    "\n",
    "# 全连接层 2\n",
    "W2 = tf.Variable(tf.random.uniform([15, 4]))\n",
    "b2 = tf.Variable(tf.random.uniform([4]))\n",
    "outs = fully_connected(fc1, W2, b2)\n",
    "\n",
    "outs  # 输出"
   ]
  },
  {
   "cell_type": "code",
   "execution_count": null,
   "id": "3fdc911b-6601-4f51-a310-77f294d3b375",
   "metadata": {},
   "outputs": [],
   "source": [
    "y = tf.placeholder(tf.float32, [None, 4])  # 真实值标签占位符\n",
    "\n",
    "# 交叉熵损失函数，reduce_mean 的目的是对每个样本的计算结果求平均\n",
    "loss = tf.reduce_mean(\n",
    "    tf.nn.softmax_cross_entropy_with_logits_v2(logits=outs, labels=y))\n",
    "loss"
   ]
  },
  {
   "cell_type": "code",
   "execution_count": null,
   "id": "d55a971f-f9d6-43d5-8f9f-dc374c0b858a",
   "metadata": {},
   "outputs": [],
   "source": [
    "train_step = tf.train.AdamOptimizer(0.01).minimize(loss)\n",
    "train_step"
   ]
  },
  {
   "cell_type": "code",
   "execution_count": null,
   "id": "ad55eb92-0302-42b1-a43e-328e39c040f5",
   "metadata": {},
   "outputs": [],
   "source": [
    "acc = tf.reduce_mean(tf.cast(tf.math.in_top_k(\n",
    "    outs, tf.math.argmax(y, 1), k=1), tf.float32))  # 准确率计算"
   ]
  },
  {
   "cell_type": "code",
   "execution_count": null,
   "id": "495b02a6-97c0-40c0-80a4-2714a0c25835",
   "metadata": {},
   "outputs": [],
   "source": [
    "iters = 1000  # 迭代次数\n",
    "feed_dict_train = {x: X_train, y: y_train}  # 训练数据\n",
    "feed_dict_test = {x: X_test, y: y_test}  # 测试数据\n",
    "init = tf.global_variables_initializer()  # 初始化全局变量\n",
    "with tf.Session() as sess:\n",
    "    sess.run(init)\n",
    "    for i in range(iters):\n",
    "        if (i+1) % 100 == 0:  # 每间隔 100 次打印 loss 值\n",
    "            print(\"Iters [{}/{}], Train Acc [{:.3f}], Test Acc [{:.3f}]\".format(\n",
    "                i+1, iters, acc.eval(feed_dict=feed_dict_train), acc.eval(feed_dict=feed_dict_test)))\n",
    "        sess.run(train_step, feed_dict=feed_dict_train)"
   ]
  }
 ],
 "metadata": {
  "kernelspec": {
   "display_name": "Python 3 (ipykernel)",
   "language": "python",
   "name": "python3"
  },
  "language_info": {
   "codemirror_mode": {
    "name": "ipython",
    "version": 3
   },
   "file_extension": ".py",
   "mimetype": "text/x-python",
   "name": "python",
   "nbconvert_exporter": "python",
   "pygments_lexer": "ipython3",
   "version": "3.11.8"
  }
 },
 "nbformat": 4,
 "nbformat_minor": 5
}
