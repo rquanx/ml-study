{
 "cells": [
  {
   "cell_type": "code",
   "execution_count": 1,
   "id": "42ffe19c-fd91-45ad-8318-5c717a879d9f",
   "metadata": {},
   "outputs": [
    {
     "data": {
      "text/plain": [
       "((20640, 8), (20640,))"
      ]
     },
     "execution_count": 1,
     "metadata": {},
     "output_type": "execute_result"
    }
   ],
   "source": [
    "from sklearn.datasets import fetch_california_housing\n",
    "\n",
    "housing = fetch_california_housing()  # 加州房价数据集\n",
    "\n",
    "housing.data.shape, housing.target.shape"
   ]
  },
  {
   "cell_type": "code",
   "execution_count": 2,
   "id": "8ba7cd8d-6497-474f-8f67-c2f87d96cbce",
   "metadata": {},
   "outputs": [
    {
     "data": {
      "text/plain": [
       "(array([   8.3252    ,   41.        ,    6.98412698,    1.02380952,\n",
       "         322.        ,    2.55555556,   37.88      , -122.23      ]),\n",
       " 4.526)"
      ]
     },
     "execution_count": 2,
     "metadata": {},
     "output_type": "execute_result"
    }
   ],
   "source": [
    "housing.data[0], housing.target[0]  # 预览第一个样本特征及目标值"
   ]
  },
  {
   "cell_type": "code",
   "execution_count": null,
   "id": "e3750807-a8c5-4c75-9264-c6f590e4f7ed",
   "metadata": {},
   "outputs": [],
   "source": []
  },
  {
   "cell_type": "code",
   "execution_count": 3,
   "id": "41b8f1e4-30a4-42b2-8f11-9a5914ba65ea",
   "metadata": {},
   "outputs": [
    {
     "data": {
      "text/plain": [
       "((20640, 9), (20640, 1))"
      ]
     },
     "execution_count": 3,
     "metadata": {},
     "output_type": "execute_result"
    }
   ],
   "source": [
    "import numpy as np\n",
    "\n",
    "housing.data[0].put\n",
    "# X = np.array([np.append(i, 1) for i in housing.data])\n",
    "# y =  np.array([[i] for i in housing.target])\n",
    "\n",
    "X = np.append(housing.data, np.ones((housing.data.shape[0], 1)), axis=1)\n",
    "\n",
    "# .reshape(-1, 1)：这是一个 NumPy 函数，用于重塑数组。-1 表示根据数组的原始大小自动确定新维度的大小。1 表示新数组的每行包含一个元素，即目标值\n",
    "# -1 === housing.target.shape[0]\n",
    "y = housing.target.reshape(-1, 1)\n",
    "\n",
    "\n",
    "X.shape, y.shape"
   ]
  },
  {
   "cell_type": "code",
   "execution_count": 4,
   "id": "abeeedec-2d60-48d5-a26a-eb3d5643e768",
   "metadata": {},
   "outputs": [
    {
     "data": {
      "text/plain": [
       "(array([   8.3252    ,   41.        ,    6.98412698,    1.02380952,\n",
       "         322.        ,    2.55555556,   37.88      , -122.23      ,\n",
       "           1.        ]),\n",
       " array([4.526]))"
      ]
     },
     "execution_count": 4,
     "metadata": {},
     "output_type": "execute_result"
    }
   ],
   "source": [
    "X[0], y[0]"
   ]
  },
  {
   "cell_type": "code",
   "execution_count": 9,
   "id": "9b4618b0-b407-4099-8927-de260927113c",
   "metadata": {},
   "outputs": [],
   "source": [
    "# import tensorflow as tf\n",
    "\n",
    "# 实现一,会卡住\n",
    "# tx = tf.constant(X)\n",
    "# ty = tf.constant(y)\n",
    "# tx,ty\n",
    "# txt = tf.linalg.matrix_transpose(tf.constant(X))\n",
    "# xtx = tf.matmul(txt,tx)\n",
    "# # 会卡住？？？\n",
    "# xtxs = tf.linalg.inv(xtx)\n",
    "# W = tf.matmul(tf.matmul(xtxs, txt),ty)"
   ]
  },
  {
   "cell_type": "code",
   "execution_count": 7,
   "id": "5b251325-017c-444d-9720-f7f62a88ba9a",
   "metadata": {},
   "outputs": [
    {
     "data": {
      "text/plain": [
       "<tf.Tensor: shape=(9, 1), dtype=float64, numpy=\n",
       "array([[ 4.36693293e-01],\n",
       "       [ 9.43577803e-03],\n",
       "       [-1.07322041e-01],\n",
       "       [ 6.45065694e-01],\n",
       "       [-3.97638942e-06],\n",
       "       [-3.78654265e-03],\n",
       "       [-4.21314378e-01],\n",
       "       [-4.34513755e-01],\n",
       "       [-3.69419202e+01]])>"
      ]
     },
     "execution_count": 7,
     "metadata": {},
     "output_type": "execute_result"
    }
   ],
   "source": [
    "import tensorflow as tf\n",
    "\n",
    "\n",
    "# 实现二\n",
    "X = tf.constant(X)  # 定义常量\n",
    "y = tf.constant(y)\n",
    "\n",
    "XT = tf.transpose(X)  # 根据公式计算拟合系数\n",
    "XTXS = tf.linalg.inv(tf.matmul(XT, X))\n",
    "W = tf.matmul(tf.matmul(XTXS, XT), y)\n",
    "\n",
    "W"
   ]
  },
  {
   "cell_type": "code",
   "execution_count": 6,
   "id": "89a45425-9b03-4804-970f-6be61db9f737",
   "metadata": {},
   "outputs": [
    {
     "data": {
      "text/plain": [
       "(array([ 4.36693293e-01,  9.43577803e-03, -1.07322041e-01,  6.45065694e-01,\n",
       "        -3.97638942e-06, -3.78654265e-03, -4.21314378e-01, -4.34513755e-01]),\n",
       " -36.94192020718427)"
      ]
     },
     "execution_count": 6,
     "metadata": {},
     "output_type": "execute_result"
    }
   ],
   "source": [
    "# 使用 scikit-learn 提供的线性回归方法建立模型\n",
    "from sklearn.linear_model import LinearRegression\n",
    "\n",
    "model = LinearRegression()\n",
    "model.fit(housing.data, housing.target)\n",
    "model.coef_, model.intercept_"
   ]
  }
 ],
 "metadata": {
  "kernelspec": {
   "display_name": "Python 3 (ipykernel)",
   "language": "python",
   "name": "python3"
  },
  "language_info": {
   "codemirror_mode": {
    "name": "ipython",
    "version": 3
   },
   "file_extension": ".py",
   "mimetype": "text/x-python",
   "name": "python",
   "nbconvert_exporter": "python",
   "pygments_lexer": "ipython3",
   "version": "3.11.8"
  }
 },
 "nbformat": 4,
 "nbformat_minor": 5
}
