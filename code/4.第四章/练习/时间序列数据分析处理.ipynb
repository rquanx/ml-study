{
 "cells": [
  {
   "cell_type": "code",
   "execution_count": null,
   "id": "6c1da292-9e92-43ad-b38c-e83d84d16aa8",
   "metadata": {},
   "outputs": [],
   "source": [
    "# 以时间排序的一组随机变量，例如国家统计局每年或每月定期发布的 GDP 或 CPI 指数；一段时间内股票、基金、指数的数值变化等，都是时间序列"
   ]
  },
  {
   "cell_type": "code",
   "execution_count": 1,
   "id": "d4ee652f-f3e9-4f72-b7fc-adcc98e164d8",
   "metadata": {},
   "outputs": [
    {
     "data": {
      "text/plain": [
       "datetime.datetime(2024, 5, 24, 1, 4, 35, 510221)"
      ]
     },
     "execution_count": 1,
     "metadata": {},
     "output_type": "execute_result"
    }
   ],
   "source": [
    "# datetime 模块使用示例\n",
    "\n",
    "\n",
    "\n",
    "import datetime\n",
    "\n",
    "datetime.datetime.now()  # 获取当前时间"
   ]
  },
  {
   "cell_type": "code",
   "execution_count": 2,
   "id": "ae5407df-1118-425b-9389-15644ede5399",
   "metadata": {},
   "outputs": [
    {
     "data": {
      "text/plain": [
       "datetime.datetime(2023, 11, 11, 13, 36, 28, 1146)"
      ]
     },
     "execution_count": 2,
     "metadata": {},
     "output_type": "execute_result"
    }
   ],
   "source": [
    "# 自行创建时间对象\n",
    "datetime.datetime(2023, 11, 11, 13, 36, 28, 1146)"
   ]
  },
  {
   "cell_type": "code",
   "execution_count": 3,
   "id": "5065a3af-e3b5-47a3-b638-ff6ffb0f9dcc",
   "metadata": {},
   "outputs": [
    {
     "data": {
      "text/plain": [
       "datetime.datetime(2024, 5, 24, 1, 4, 53, 740912)"
      ]
     },
     "execution_count": 3,
     "metadata": {},
     "output_type": "execute_result"
    }
   ],
   "source": [
    "datetime.datetime.today()  # 获取当前时间"
   ]
  },
  {
   "cell_type": "code",
   "execution_count": 4,
   "id": "b14bed55-ccee-4ea5-bdc1-e8da28846eca",
   "metadata": {},
   "outputs": [
    {
     "data": {
      "text/plain": [
       "2024"
      ]
     },
     "execution_count": 4,
     "metadata": {},
     "output_type": "execute_result"
    }
   ],
   "source": [
    "datetime.datetime.now().year  # 返回当前年份"
   ]
  },
  {
   "cell_type": "code",
   "execution_count": 5,
   "id": "5f5e500e-4573-40c7-bbd6-d3530047e679",
   "metadata": {},
   "outputs": [
    {
     "data": {
      "text/plain": [
       "datetime.timedelta(days=365)"
      ]
     },
     "execution_count": 5,
     "metadata": {},
     "output_type": "execute_result"
    }
   ],
   "source": [
    "datetime.datetime(2018, 10, 1) - datetime.datetime(2017, 10, 1)  # 计算时间间隔"
   ]
  },
  {
   "cell_type": "code",
   "execution_count": 6,
   "id": "c3a9586c-bc96-4e02-a5c9-7d26093d70f4",
   "metadata": {},
   "outputs": [
    {
     "data": {
      "text/plain": [
       "datetime.timedelta(days=2427, seconds=3934, microseconds=994500)"
      ]
     },
     "execution_count": 6,
     "metadata": {},
     "output_type": "execute_result"
    }
   ],
   "source": [
    "datetime.datetime.now() - datetime.datetime(2017, 10, 1)  # timedelta 表示间隔时间"
   ]
  },
  {
   "cell_type": "code",
   "execution_count": 7,
   "id": "5ebda291-03df-4bb3-a525-4a249add65fd",
   "metadata": {},
   "outputs": [
    {
     "data": {
      "text/plain": [
       "datetime.datetime(2025, 5, 24, 1, 5, 49, 842153)"
      ]
     },
     "execution_count": 7,
     "metadata": {},
     "output_type": "execute_result"
    }
   ],
   "source": [
    "# 在当前时间上增加一年。你需要将年份转换为天来计算\n",
    "datetime.datetime.now() + datetime.timedelta(365)  # 需将年份转换为天"
   ]
  },
  {
   "cell_type": "code",
   "execution_count": null,
   "id": "db514eff-b6bc-4135-9e37-88a337369eef",
   "metadata": {},
   "outputs": [],
   "source": []
  },
  {
   "cell_type": "code",
   "execution_count": 8,
   "id": "7855da84-06d2-4ca4-9865-041a7a2d02fe",
   "metadata": {},
   "outputs": [
    {
     "data": {
      "text/plain": [
       "'2024-05-24'"
      ]
     },
     "execution_count": 8,
     "metadata": {},
     "output_type": "execute_result"
    }
   ],
   "source": [
    "# 时间格式转换\n",
    "\n",
    "\n",
    "datetime.datetime.now().strftime(\"%Y-%m-%d\")  # 转换为自定义样式"
   ]
  },
  {
   "cell_type": "code",
   "execution_count": 9,
   "id": "22bf1ab7-b3e7-427d-834e-5ec82aa015c7",
   "metadata": {},
   "outputs": [
    {
     "data": {
      "text/plain": [
       "'2024 年 05 月 24 日'"
      ]
     },
     "execution_count": 9,
     "metadata": {},
     "output_type": "execute_result"
    }
   ],
   "source": [
    "datetime.datetime.now().strftime(\"%Y 年 %m 月 %d 日\")  # 转换为自定义样式"
   ]
  },
  {
   "cell_type": "code",
   "execution_count": null,
   "id": "8e739318-da41-40ee-96a6-70a8e12cf705",
   "metadata": {},
   "outputs": [],
   "source": [
    "# %y 两位数的年份表示（00-99）\n",
    "\n",
    "# %Y 四位数的年份表示（000-9999）\n",
    "\n",
    "# %m 月份（01 - 12）\n",
    "\n",
    "# %d 月内中的一天（0 - 31）\n",
    "\n",
    "# %H 24 小时制小时数（0 - 23）\n",
    "\n",
    "# %I 12 小时制小时数（01 - 12）\n",
    "\n",
    "# %M 分钟数（00 - 59）\n",
    "\n",
    "# %S 秒（00 - 59）\n",
    "\n",
    "# %a 本地简化星期名称\n",
    "\n",
    "# %A 本地完整星期名称\n",
    "\n",
    "# %b 本地简化的月份名称\n",
    "\n",
    "# %B 本地完整的月份名称\n",
    "\n",
    "# %c 本地相应的日期表示和时间表示\n",
    "\n",
    "# %j 年内的一天（001 - 366）\n",
    "\n",
    "# %p 本地 A.M. 或 P.M. 的等价符\n",
    "\n",
    "# %U 一年中的星期数（00 - 53）星期天为星期的开始\n",
    "\n",
    "# %w 星期（0 - 6），星期天为星期的开始\n",
    "\n",
    "# %W 一年中的星期数（00 - 53）星期一为星期的开始\n",
    "\n",
    "# %x 本地相应的日期表示\n",
    "\n",
    "# %X 本地相应的时间表示\n",
    "\n",
    "# %Z 当前时区的名称"
   ]
  },
  {
   "cell_type": "code",
   "execution_count": null,
   "id": "24e6ab70-586d-4249-8925-425b66192610",
   "metadata": {},
   "outputs": [],
   "source": []
  }
 ],
 "metadata": {
  "kernelspec": {
   "display_name": "Python 3 (ipykernel)",
   "language": "python",
   "name": "python3"
  },
  "language_info": {
   "codemirror_mode": {
    "name": "ipython",
    "version": 3
   },
   "file_extension": ".py",
   "mimetype": "text/x-python",
   "name": "python",
   "nbconvert_exporter": "python",
   "pygments_lexer": "ipython3",
   "version": "3.11.8"
  }
 },
 "nbformat": 4,
 "nbformat_minor": 5
}
