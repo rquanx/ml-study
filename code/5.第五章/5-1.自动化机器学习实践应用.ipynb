{
 "cells": [
  {
   "cell_type": "code",
   "execution_count": 1,
   "id": "e398618b-f220-4602-bf71-964f56b22808",
   "metadata": {},
   "outputs": [
    {
     "data": {
      "text/plain": [
       "((1797, 64), array([0, 1, 2, 3, 4, 5, 6, 7, 8, 9]))"
      ]
     },
     "execution_count": 1,
     "metadata": {},
     "output_type": "execute_result"
    }
   ],
   "source": [
    "# sklearn 进行分类\n",
    "\n",
    "import numpy as np\n",
    "from sklearn.datasets import load_digits\n",
    "\n",
    "digits = load_digits()  # 加载数据集\n",
    "\n",
    "digits.data.shape, np.unique(digits.target)\n"
   ]
  },
  {
   "cell_type": "code",
   "execution_count": 2,
   "id": "b21b13a9-7e01-48f2-b58b-3776d9e8dd30",
   "metadata": {},
   "outputs": [
    {
     "data": {
      "text/plain": [
       "((1257, 64), (540, 64), (1257,), (540,))"
      ]
     },
     "execution_count": 2,
     "metadata": {},
     "output_type": "execute_result"
    }
   ],
   "source": [
    "# 切分数据集\n",
    "from sklearn.model_selection import train_test_split\n",
    "\n",
    "X_train, X_test, y_train, y_test = train_test_split(\n",
    "    digits.data, digits.target, test_size=0.3, random_state=42\n",
    ") \n",
    "\n",
    "X_train.shape, X_test.shape, y_train.shape, y_test.shape\n",
    "\n",
    "# 使用 scikit-learn 去解决一个机器学习相关的问题时\n",
    "# 调用一个机器学习方法构建相应的模型 model，并设置模型参数。\n",
    "# 使用该机器学习模型提供的 model.fit() 方法训练模型。\n",
    "# 使用该机器学习模型提供的 model.predict() 方法用于预测。\n"
   ]
  },
  {
   "cell_type": "code",
   "execution_count": 3,
   "id": "44276b5b-deb8-4a76-a2a3-a95dae08bb5d",
   "metadata": {},
   "outputs": [
    {
     "data": {
      "text/plain": [
       "0.8462962962962963"
      ]
     },
     "execution_count": 3,
     "metadata": {},
     "output_type": "execute_result"
    }
   ],
   "source": [
    "# 计策树\n",
    "from sklearn.tree import DecisionTreeClassifier\n",
    "\n",
    "model = DecisionTreeClassifier()\n",
    "model.fit(X_train, y_train)  # 训练\n",
    "\n",
    "model.score(X_test, y_test)  # 评估"
   ]
  },
  {
   "cell_type": "code",
   "execution_count": null,
   "id": "fe85285e-ef25-4e93-aade-5faf460bbc3f",
   "metadata": {},
   "outputs": [],
   "source": []
  },
  {
   "cell_type": "code",
   "execution_count": null,
   "id": "d4e1e977-fc60-429a-b576-5f7ea1f13fbd",
   "metadata": {},
   "outputs": [],
   "source": [
    "# 使用 auto-sklearn 来对该数据集进行分类"
   ]
  },
  {
   "cell_type": "code",
   "execution_count": 4,
   "id": "8b944d4e-e57e-4387-90f7-f73e6ca70cf7",
   "metadata": {},
   "outputs": [
    {
     "ename": "ModuleNotFoundError",
     "evalue": "No module named 'autosklearn'",
     "output_type": "error",
     "traceback": [
      "\u001b[1;31m---------------------------------------------------------------------------\u001b[0m",
      "\u001b[1;31mModuleNotFoundError\u001b[0m                       Traceback (most recent call last)",
      "Cell \u001b[1;32mIn[4], line 2\u001b[0m\n\u001b[0;32m      1\u001b[0m \u001b[38;5;28;01mimport\u001b[39;00m \u001b[38;5;21;01mwarnings\u001b[39;00m\n\u001b[1;32m----> 2\u001b[0m \u001b[38;5;28;01mfrom\u001b[39;00m \u001b[38;5;21;01mautosklearn\u001b[39;00m\u001b[38;5;21;01m.\u001b[39;00m\u001b[38;5;21;01mclassification\u001b[39;00m \u001b[38;5;28;01mimport\u001b[39;00m AutoSklearnClassifier\n\u001b[0;32m      4\u001b[0m warnings\u001b[38;5;241m.\u001b[39mfilterwarnings(\u001b[38;5;124m\"\u001b[39m\u001b[38;5;124mignore\u001b[39m\u001b[38;5;124m\"\u001b[39m)  \u001b[38;5;66;03m# 忽略代码警告\u001b[39;00m\n\u001b[0;32m      6\u001b[0m \u001b[38;5;66;03m# 限制算法搜索最大时间，更快得到结果\u001b[39;00m\n",
      "\u001b[1;31mModuleNotFoundError\u001b[0m: No module named 'autosklearn'"
     ]
    }
   ],
   "source": [
    "import warnings\n",
    "from autosklearn.classification import AutoSklearnClassifier\n",
    "\n",
    "warnings.filterwarnings(\"ignore\")  # 忽略代码警告\n",
    "\n",
    "# 限制算法搜索最大时间，更快得到结果\n",
    "auto_model = AutoSklearnClassifier(time_left_for_this_task=120, per_run_time_limit=10)\n",
    "\n",
    "auto_model"
   ]
  },
  {
   "cell_type": "code",
   "execution_count": null,
   "id": "cca1f0dc-82c7-4737-8374-6c95459ec638",
   "metadata": {},
   "outputs": [],
   "source": [
    "auto_model.fit(X_train, y_train)  # 训练 2 分钟\n",
    "auto_model.score(X_test, y_test)  # 评估\n"
   ]
  },
  {
   "cell_type": "code",
   "execution_count": null,
   "id": "3640127e-16ea-4a06-99e0-be5c2d4a2556",
   "metadata": {},
   "outputs": [],
   "source": [
    "# 返回 auto-sklearn 搜索到的模型信息\n",
    "auto_model.get_models_with_weights()\n",
    "\n",
    "# 返回训练过程的关键统计信息，包括数据集名称，使用评估指标，算法运行次数，评估结果等\n",
    "auto_model.sprint_statistics()"
   ]
  },
  {
   "cell_type": "code",
   "execution_count": null,
   "id": "bc125c1c-2cd4-4523-bcaa-840f723d987b",
   "metadata": {},
   "outputs": [],
   "source": []
  },
  {
   "cell_type": "code",
   "execution_count": null,
   "id": "954d6838-33c8-48d2-8ef5-f10f1095a236",
   "metadata": {},
   "outputs": [],
   "source": [
    "# scikit-learn 解决一个回归问题\n",
    "\n",
    "from sklearn.datasets import load_boston\n",
    "\n",
    "boston = load_boston()  # 加载数据集\n",
    "\n",
    "boston.data.shape, boston.target.shape"
   ]
  },
  {
   "cell_type": "code",
   "execution_count": null,
   "id": "49b52cde-461a-47ef-928c-980b9440f601",
   "metadata": {},
   "outputs": [],
   "source": [
    "from sklearn.linear_model import LinearRegression\n",
    "\n",
    "model = LinearRegression()\n",
    "model.fit(boston.data, boston.target)\n",
    "\n",
    "model.score(boston.data, boston.target)\n",
    "# .score 返回了回归拟合的 决定系数。决定系数 R^2 在统计学中用于度量应变量的变异中可由自变量解释部分所占的比例，以此来判断统计模型的解释力。\n",
    "# 决定系数值越接近 1 时，表示相关的方程式参考价值越高。相反，越接近 0 时，表示参考价值越低"
   ]
  },
  {
   "cell_type": "code",
   "execution_count": null,
   "id": "45ef64ff-67f1-4521-a68e-6d9fcb88f50c",
   "metadata": {},
   "outputs": [],
   "source": []
  },
  {
   "cell_type": "code",
   "execution_count": null,
   "id": "97a1dc3a-bbe2-458f-9ee8-9ae143b8a4f6",
   "metadata": {},
   "outputs": [],
   "source": [
    "# autosklearn 解决一个回归问题\n",
    "\n",
    "from autosklearn.regression import AutoSklearnRegressor"
   ]
  },
  {
   "cell_type": "code",
   "execution_count": null,
   "id": "f4a4c7f9-91e1-49bc-8227-9e18b32cf526",
   "metadata": {},
   "outputs": [],
   "source": [
    "# 限制算法搜索最大时间，更快得到结果\n",
    "auto_model = AutoSklearnRegressor(time_left_for_this_task=120, per_run_time_limit=10)\n",
    "auto_model.fit(boston.data, boston.target)\n",
    "\n",
    "auto_model.score(boston.data, boston.target)"
   ]
  },
  {
   "cell_type": "code",
   "execution_count": null,
   "id": "c5ffea6d-1983-4e83-aacc-a3a336d9f23c",
   "metadata": {},
   "outputs": [],
   "source": [
    "# 返回训练过程的关键统计信息\n",
    "auto_model.sprint_statistics()"
   ]
  }
 ],
 "metadata": {
  "kernelspec": {
   "display_name": "Python 3 (ipykernel)",
   "language": "python",
   "name": "python3"
  },
  "language_info": {
   "codemirror_mode": {
    "name": "ipython",
    "version": 3
   },
   "file_extension": ".py",
   "mimetype": "text/x-python",
   "name": "python",
   "nbconvert_exporter": "python",
   "pygments_lexer": "ipython3",
   "version": "3.11.8"
  }
 },
 "nbformat": 4,
 "nbformat_minor": 5
}
