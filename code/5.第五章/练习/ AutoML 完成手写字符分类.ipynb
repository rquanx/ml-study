{
 "cells": [
  {
   "cell_type": "code",
   "execution_count": null,
   "id": "37f6a6fe-5da9-4b13-8b20-4fa72f799fc6",
   "metadata": {},
   "outputs": [],
   "source": [
    "# Digit Recognizer 是 Kaggle 上一个机器学习入门级比赛，该比赛利用 MNIST 手写字符数据集完成分类任务\n",
    "# MNIST 和实验中用过的 DIGITS 数据集很相似，都是手写字符。但 MNIST 样本的尺寸更大，数量也更多\n",
    "# https://www.kaggle.com/c/digit-recognizer/overview"
   ]
  },
  {
   "cell_type": "code",
   "execution_count": null,
   "id": "f1dfb855-bc4c-4497-8f08-c81dc0378353",
   "metadata": {},
   "outputs": [],
   "source": [
    "import pandas as pd\n",
    "\n",
    "train = pd.read_csv(\"/kaggle/input/digit-recognizer/train.csv\")\n",
    "test = pd.read_csv(\"/kaggle/input/digit-recognizer/test.csv\")\n",
    "sample = pd.read_csv(\"/kaggle/input/digit-recognizer/sample_submission.csv\")\n",
    "X_train = train[\"label\"]\n",
    "y_train = train.drop(columns=['label'])\n",
    "sample.head()"
   ]
  },
  {
   "cell_type": "code",
   "execution_count": null,
   "id": "8a22710a-5143-495f-9ed9-4a4a8ef240f0",
   "metadata": {},
   "outputs": [],
   "source": [
    "from autosklearn.classification import AutoSklearnClassifier\n",
    "auto_model = AutoSklearnClassifier(time_left_for_this_task=60)\n",
    "auto_model.fit(X_train, y_train)  # 训练 2 分钟\n",
    "auto_model.score(X_test, y_test)  # 评估"
   ]
  },
  {
   "cell_type": "code",
   "execution_count": null,
   "id": "0f3a19ca-d18e-4bcf-9f62-5191f06245ba",
   "metadata": {},
   "outputs": [],
   "source": [
    "df_pred = pd.read_csv(\"../input/sample_submission.csv\")\n",
    "preds = auto_model.predict(test)\n",
    "df_pred['Label'] = preds\n",
    "df_pred.to_csv(\"preds.csv\", index=None) # 保存推理文件"
   ]
  }
 ],
 "metadata": {
  "kernelspec": {
   "display_name": "Python 3 (ipykernel)",
   "language": "python",
   "name": "python3"
  },
  "language_info": {
   "codemirror_mode": {
    "name": "ipython",
    "version": 3
   },
   "file_extension": ".py",
   "mimetype": "text/x-python",
   "name": "python",
   "nbconvert_exporter": "python",
   "pygments_lexer": "ipython3",
   "version": "3.11.8"
  }
 },
 "nbformat": 4,
 "nbformat_minor": 5
}
