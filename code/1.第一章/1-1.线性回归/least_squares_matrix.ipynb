{
 "cells": [
  {
   "cell_type": "code",
   "execution_count": 1,
   "id": "cc98105f-dbaf-405a-be76-b9933d067616",
   "metadata": {},
   "outputs": [],
   "source": [
    "import numpy as np\n",
    "x = np.array([56, 72, 69, 88, 102, 86, 76, 79, 94, 74])\n",
    "y = np.array([92, 102, 86, 110, 130, 99, 96, 102, 105, 92])"
   ]
  },
  {
   "cell_type": "code",
   "execution_count": 2,
   "id": "6624dd4f-5309-4bfe-ac64-4b2d8b0e390b",
   "metadata": {},
   "outputs": [],
   "source": [
    "def least_squares_matrix(x: np.matrix, y: np.matrix):\n",
    "    \"\"\"最小二乘法矩阵求解\"\"\"\n",
    "    w = (x.T * x).I * x.T * y\n",
    "    return w"
   ]
  },
  {
   "cell_type": "code",
   "execution_count": 4,
   "id": "cdea848c-2e9a-41ab-b57b-aa0952fb32e5",
   "metadata": {},
   "outputs": [
    {
     "data": {
      "text/plain": [
       "(array([[  1.,  56.],\n",
       "        [  1.,  72.],\n",
       "        [  1.,  69.],\n",
       "        [  1.,  88.],\n",
       "        [  1., 102.],\n",
       "        [  1.,  86.],\n",
       "        [  1.,  76.],\n",
       "        [  1.,  79.],\n",
       "        [  1.,  94.],\n",
       "        [  1.,  74.]]),\n",
       " matrix([[  1.,  56.],\n",
       "         [  1.,  72.],\n",
       "         [  1.,  69.],\n",
       "         [  1.,  88.],\n",
       "         [  1., 102.],\n",
       "         [  1.,  86.],\n",
       "         [  1.,  76.],\n",
       "         [  1.,  79.],\n",
       "         [  1.,  94.],\n",
       "         [  1.,  74.]]),\n",
       " matrix([[ 92],\n",
       "         [102],\n",
       "         [ 86],\n",
       "         [110],\n",
       "         [130],\n",
       "         [ 99],\n",
       "         [ 96],\n",
       "         [102],\n",
       "         [105],\n",
       "         [ 92]]))"
      ]
     },
     "execution_count": 4,
     "metadata": {},
     "output_type": "execute_result"
    }
   ],
   "source": [
    "# 给 x 矩阵补充维度\n",
    "# np.ones((10, 1)) 创建了一个 10 行 1 列的数组，其中的每个元素都是数字1\n",
    "# x.reshape 改变数组形状，reshape(10,1),就是将数组转成 10 行 1 列的数组\n",
    "# np.hstack 将两个数组合并\n",
    "# 沿着水平轴（即列方向）堆叠两个或多个数组。这意味着它会将输入的数组按列拼接起来，前提是这些数组在垂直轴上（即行数）具有相同的尺寸\n",
    "x_matrix = np.matrix(np.hstack((np.ones((x.shape[0], 1)), x.reshape(x.shape[0], 1))))\n",
    "temp = np.hstack((np.ones((x.shape[0], 1)), x.reshape(x.shape[0], 1)))\n",
    "# y 数组转矩阵\n",
    "y_matrix = np.matrix(y.reshape(y.shape[0], 1))\n",
    "temp,x_matrix, y_matrix"
   ]
  },
  {
   "cell_type": "code",
   "execution_count": 5,
   "id": "708223da-7437-485a-ba1e-8e2caff487d6",
   "metadata": {},
   "outputs": [
    {
     "data": {
      "text/plain": [
       "matrix([[41.33509169],\n",
       "        [ 0.75458428]])"
      ]
     },
     "execution_count": 5,
     "metadata": {},
     "output_type": "execute_result"
    }
   ],
   "source": [
    "least_squares_matrix(x_matrix, y_matrix)\n"
   ]
  },
  {
   "cell_type": "code",
   "execution_count": null,
   "id": "e3d119e4-5adf-4b58-9976-fb54db4852a9",
   "metadata": {},
   "outputs": [],
   "source": []
  }
 ],
 "metadata": {
  "kernelspec": {
   "display_name": "Python 3 (ipykernel)",
   "language": "python",
   "name": "python3"
  },
  "language_info": {
   "codemirror_mode": {
    "name": "ipython",
    "version": 3
   },
   "file_extension": ".py",
   "mimetype": "text/x-python",
   "name": "python",
   "nbconvert_exporter": "python",
   "pygments_lexer": "ipython3",
   "version": "3.8.18"
  }
 },
 "nbformat": 4,
 "nbformat_minor": 5
}
