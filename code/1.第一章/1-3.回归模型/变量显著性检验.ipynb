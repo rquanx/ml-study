{
 "cells": [
  {
   "cell_type": "code",
   "execution_count": 2,
   "id": "c9bebe91-6838-435f-9892-f0f11073865c",
   "metadata": {},
   "outputs": [],
   "source": [
    "import numpy as np\n",
    "\n",
    "# 生成 2 组 x 相同的示例数据\n",
    "x = np.array([4, 8, 12, 25, 32, 43, 58, 63, 69, 79]).reshape(-1, 1)\n",
    "y1 = np.array([9, 17, 23, 51, 62, 83, 115, 125, 137, 159]).reshape(-1, 1)\n",
    "y2 = np.array([20, 33, 50, 56, 42, 31, 33, 46, 65, 75]).reshape(-1, 1)"
   ]
  },
  {
   "cell_type": "code",
   "execution_count": 3,
   "id": "3526cfca-6daa-42f2-8c65-362f9b313eb8",
   "metadata": {},
   "outputs": [
    {
     "data": {
      "text/plain": [
       "array([30.12973186,  0.38092285])"
      ]
     },
     "execution_count": 3,
     "metadata": {},
     "output_type": "execute_result"
    }
   ],
   "source": [
    "import statsmodels.api as sm\n",
    "\n",
    "x = sm.add_constant(x)  # 添加截距项系数 1\n",
    "model = sm.OLS(endog=y2, exog=x)  # 普通最小二乘法, endog 因变量, exog 自变量\n",
    "results = model.fit()\n",
    "results.params  # 输出拟合后系数"
   ]
  },
  {
   "cell_type": "code",
   "execution_count": 4,
   "id": "4a8d4189-2109-4ab8-8024-047c6ba4392c",
   "metadata": {},
   "outputs": [
    {
     "data": {
      "text/plain": [
       "array([[ 1.,  4.],\n",
       "       [ 1.,  8.],\n",
       "       [ 1., 12.],\n",
       "       [ 1., 25.],\n",
       "       [ 1., 32.],\n",
       "       [ 1., 43.],\n",
       "       [ 1., 58.],\n",
       "       [ 1., 63.],\n",
       "       [ 1., 69.],\n",
       "       [ 1., 79.]])"
      ]
     },
     "execution_count": 4,
     "metadata": {},
     "output_type": "execute_result"
    }
   ],
   "source": [
    "x"
   ]
  },
  {
   "cell_type": "code",
   "execution_count": 5,
   "id": "d107b080-5830-4be6-bcab-9d5c4573557d",
   "metadata": {},
   "outputs": [
    {
     "data": {
      "text/html": [
       "<table class=\"simpletable\">\n",
       "<tr>\n",
       "        <td>Model:</td>               <td>OLS</td>         <td>Adj. R-squared:</td>    <td>0.296</td> \n",
       "</tr>\n",
       "<tr>\n",
       "  <td>Dependent Variable:</td>         <td>y</td>               <td>AIC:</td>         <td>83.1646</td>\n",
       "</tr>\n",
       "<tr>\n",
       "         <td>Date:</td>        <td>2024-04-15 00:19</td>        <td>BIC:</td>         <td>83.7698</td>\n",
       "</tr>\n",
       "<tr>\n",
       "   <td>No. Observations:</td>         <td>10</td>          <td>Log-Likelihood:</td>   <td>-39.582</td>\n",
       "</tr>\n",
       "<tr>\n",
       "       <td>Df Model:</td>              <td>1</td>           <td>F-statistic:</td>      <td>4.781</td> \n",
       "</tr>\n",
       "<tr>\n",
       "     <td>Df Residuals:</td>            <td>8</td>        <td>Prob (F-statistic):</td> <td>0.0602</td> \n",
       "</tr>\n",
       "<tr>\n",
       "      <td>R-squared:</td>            <td>0.374</td>            <td>Scale:</td>        <td>200.68</td> \n",
       "</tr>\n",
       "</table>\n",
       "<table class=\"simpletable\">\n",
       "<tr>\n",
       "    <td></td>     <th>Coef.</th>  <th>Std.Err.</th>    <th>t</th>    <th>P>|t|</th> <th>[0.025</th>  <th>0.975]</th> \n",
       "</tr>\n",
       "<tr>\n",
       "  <th>const</th> <td>30.1297</td>  <td>8.1820</td>  <td>3.6824</td> <td>0.0062</td> <td>11.2620</td> <td>48.9975</td>\n",
       "</tr>\n",
       "<tr>\n",
       "  <th>x1</th>    <td>0.3809</td>   <td>0.1742</td>  <td>2.1865</td> <td>0.0602</td> <td>-0.0208</td> <td>0.7827</td> \n",
       "</tr>\n",
       "</table>\n",
       "<table class=\"simpletable\">\n",
       "<tr>\n",
       "     <td>Omnibus:</td>     <td>2.455</td>  <td>Durbin-Watson:</td>   <td>0.832</td>\n",
       "</tr>\n",
       "<tr>\n",
       "  <td>Prob(Omnibus):</td>  <td>0.293</td> <td>Jarque-Bera (JB):</td> <td>0.895</td>\n",
       "</tr>\n",
       "<tr>\n",
       "       <td>Skew:</td>     <td>-0.056</td>     <td>Prob(JB):</td>     <td>0.639</td>\n",
       "</tr>\n",
       "<tr>\n",
       "     <td>Kurtosis:</td>    <td>1.538</td>  <td>Condition No.:</td>    <td>86</td>  \n",
       "</tr>\n",
       "</table><br/>\n",
       "Notes:<br/>\n",
       "[1] Standard Errors assume that the covariance matrix of the errors is correctly specified."
      ],
      "text/latex": [
       "\\begin{table}\n",
       "\\caption{Results: Ordinary least squares}\n",
       "\\label{}\n",
       "\\begin{center}\n",
       "\\begin{tabular}{llll}\n",
       "\\hline\n",
       "Model:              & OLS              & Adj. R-squared:     & 0.296    \\\\\n",
       "Dependent Variable: & y                & AIC:                & 83.1646  \\\\\n",
       "Date:               & 2024-04-15 00:19 & BIC:                & 83.7698  \\\\\n",
       "No. Observations:   & 10               & Log-Likelihood:     & -39.582  \\\\\n",
       "Df Model:           & 1                & F-statistic:        & 4.781    \\\\\n",
       "Df Residuals:       & 8                & Prob (F-statistic): & 0.0602   \\\\\n",
       "R-squared:          & 0.374            & Scale:              & 200.68   \\\\\n",
       "\\hline\n",
       "\\end{tabular}\n",
       "\\end{center}\n",
       "\n",
       "\\begin{center}\n",
       "\\begin{tabular}{lrrrrrr}\n",
       "\\hline\n",
       "      &   Coef. & Std.Err. &      t & P$> |$t$|$ &  [0.025 &  0.975]  \\\\\n",
       "\\hline\n",
       "const & 30.1297 &   8.1820 & 3.6824 &      0.0062 & 11.2620 & 48.9975  \\\\\n",
       "x1    &  0.3809 &   0.1742 & 2.1865 &      0.0602 & -0.0208 &  0.7827  \\\\\n",
       "\\hline\n",
       "\\end{tabular}\n",
       "\\end{center}\n",
       "\n",
       "\\begin{center}\n",
       "\\begin{tabular}{llll}\n",
       "\\hline\n",
       "Omnibus:       & 2.455  & Durbin-Watson:    & 0.832  \\\\\n",
       "Prob(Omnibus): & 0.293  & Jarque-Bera (JB): & 0.895  \\\\\n",
       "Skew:          & -0.056 & Prob(JB):         & 0.639  \\\\\n",
       "Kurtosis:      & 1.538  & Condition No.:    & 86     \\\\\n",
       "\\hline\n",
       "\\end{tabular}\n",
       "\\end{center}\n",
       "\\end{table}\n",
       "\\bigskip\n",
       "Notes: \\newline \n",
       "[1] Standard Errors assume that the covariance matrix of the errors is correctly specified."
      ],
      "text/plain": [
       "<class 'statsmodels.iolib.summary2.Summary'>\n",
       "\"\"\"\n",
       "                Results: Ordinary least squares\n",
       "================================================================\n",
       "Model:              OLS              Adj. R-squared:     0.296  \n",
       "Dependent Variable: y                AIC:                83.1646\n",
       "Date:               2024-04-15 00:19 BIC:                83.7698\n",
       "No. Observations:   10               Log-Likelihood:     -39.582\n",
       "Df Model:           1                F-statistic:        4.781  \n",
       "Df Residuals:       8                Prob (F-statistic): 0.0602 \n",
       "R-squared:          0.374            Scale:              200.68 \n",
       "------------------------------------------------------------------\n",
       "           Coef.    Std.Err.     t      P>|t|     [0.025    0.975]\n",
       "------------------------------------------------------------------\n",
       "const     30.1297     8.1820   3.6824   0.0062   11.2620   48.9975\n",
       "x1         0.3809     0.1742   2.1865   0.0602   -0.0208    0.7827\n",
       "----------------------------------------------------------------\n",
       "Omnibus:              2.455        Durbin-Watson:          0.832\n",
       "Prob(Omnibus):        0.293        Jarque-Bera (JB):       0.895\n",
       "Skew:                 -0.056       Prob(JB):               0.639\n",
       "Kurtosis:             1.538        Condition No.:          86   \n",
       "================================================================\n",
       "Notes:\n",
       "[1] Standard Errors assume that the covariance matrix of the\n",
       "errors is correctly specified.\n",
       "\"\"\""
      ]
     },
     "execution_count": 5,
     "metadata": {},
     "output_type": "execute_result"
    }
   ],
   "source": [
    "import warnings\n",
    "\n",
    "warnings.filterwarnings(\"ignore\")\n",
    "\n",
    "results.summary2(alpha=0.05)  # 输出模型摘要, 95% 置信度"
   ]
  },
  {
   "cell_type": "code",
   "execution_count": null,
   "id": "657d8ac9-ce7e-4c2f-ad89-3813edb1cb20",
   "metadata": {},
   "outputs": [],
   "source": [
    "# 重点查看第二个表格，依次得到了拟合系数，标准误差，t 值，p 值，以及置信区间\n",
    "\n",
    "# 如果 P 值很小，那么说明该变量通过显著性检验，需要保留在模型中\n",
    "# 做多元回归建模时，就可以通过查看 P 值，把不显著的变量剔除\n",
    "# 置信区间越小越好。\n",
    "# 通常，可以通过增大样本容量以及提供模型拟合优度来缩小置信区间\n",
    "\n",
    "\"\"\"\n",
    "表格理解：\n",
    "const: 常数项或截距，表示当 x1 为0时的预期 y 值\n",
    "P>|t|: p值小于0.05，我们会认为系数在统计上显著，对于y2来说，x并没有显著的相关性\n",
    "[0.025 0.975]:系数的95%置信区间,我们可以95%的信心认为其真实值位于11.2620到48.9975之间。对于 x1，其95%置信区间从-0.0208到0.7827\n",
    "\n",
    "如果我们从相同的总体中反复抽样，并对每个样本进行同样的估计过程，那么大约95%的这些区间将包含要估计的真实参数值\n",
    "\n",
    "95%置信区间的宽度可以反映估计的精确度：区间越窄，估计越精确\n",
    "\n",
    "当给出某个估计值的95%置信区间为【a,b】时，可以理解为我们有95%的信心（Confidence）可以说样本的平均值介于a到b之间，而发生错误的概率为5%\n",
    "\"\"\""
   ]
  }
 ],
 "metadata": {
  "kernelspec": {
   "display_name": "Python 3 (ipykernel)",
   "language": "python",
   "name": "python3"
  },
  "language_info": {
   "codemirror_mode": {
    "name": "ipython",
    "version": 3
   },
   "file_extension": ".py",
   "mimetype": "text/x-python",
   "name": "python",
   "nbconvert_exporter": "python",
   "pygments_lexer": "ipython3",
   "version": "3.11.8"
  }
 },
 "nbformat": 4,
 "nbformat_minor": 5
}
