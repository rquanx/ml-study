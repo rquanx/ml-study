{
 "cells": [
  {
   "cell_type": "code",
   "execution_count": null,
   "id": "73d82ef5-e250-43df-b0c8-cce1a400d882",
   "metadata": {},
   "outputs": [],
   "source": [
    "# alpha: 正则化强度，默认为 1.0。\n",
    "\n",
    "# fit_intercept: 默认为 True，计算截距项。\n",
    "\n",
    "# normalize: 默认为 False，不针对数据进行标准化处理。\n",
    "\n",
    "# precompute: 是否使用预先计算的 Gram 矩阵来加速计算。\n",
    "\n",
    "# copy_X: 默认为 True，即使用数据的副本进行操作，防止影响原数据。\n",
    "\n",
    "# max_iter: 最大迭代次数，默认为 1000。\n",
    "\n",
    "# tol: 数据解算精度。\n",
    "\n",
    "# warm_start: 重用先前调用的解决方案以适合初始化。\n",
    "\n",
    "# positive: 强制系数为正值。\n",
    "\n",
    "# random_state: 随机数发生器。\n",
    "\n",
    "# selection: 每次迭代都会更新一个随机系数。\n",
    "\n",
    "# sklearn.linear_model.Lasso(alpha=1.0, fit_intercept=True, normalize=False, precompute=False, copy_X=True, max_iter=1000, tol=0.0001, warm_start=False, positive=False, random_state=None, selection='cyclic')"
   ]
  },
  {
   "cell_type": "code",
   "execution_count": 1,
   "id": "6765781a-fb85-4716-b7ae-ce97fab185a4",
   "metadata": {},
   "outputs": [
    {
     "data": {
      "text/plain": [
       "([3.00002433,\n",
       "  6.9974538,\n",
       "  6.04179367,\n",
       "  8.81766306,\n",
       "  1.7719309,\n",
       "  6.74596479,\n",
       "  -6.17014658,\n",
       "  21.44118582,\n",
       "  -7.40951369,\n",
       "  9.76387767],\n",
       " 2)"
      ]
     },
     "execution_count": 1,
     "metadata": {},
     "output_type": "execute_result"
    }
   ],
   "source": [
    "parameters = ([\n",
    "    3.00002433,\n",
    "    6.9974538,\n",
    "    6.04179367,\n",
    "    8.81766306,\n",
    "    1.7719309,\n",
    "    6.74596479,\n",
    "    -6.17014658,\n",
    "    21.44118582,\n",
    "    -7.40951369,\n",
    "    9.76387767,\n",
    "] ,2)\n",
    "# 来自hilbert代码计算\n",
    "parameters"
   ]
  },
  {
   "cell_type": "code",
   "execution_count": 2,
   "id": "5fa5ffa4-81c6-47bf-b507-86f36714560e",
   "metadata": {},
   "outputs": [
    {
     "data": {
      "text/plain": [
       "array([3, 7, 6, 9, 2, 3, 5, 6, 3, 7])"
      ]
     },
     "execution_count": 2,
     "metadata": {},
     "output_type": "execute_result"
    }
   ],
   "source": [
    "import numpy as np\n",
    "from scipy.linalg import hilbert\n",
    "\n",
    "x = hilbert(10)  # 生成 10x10 的希尔伯特矩阵\n",
    "np.random.seed(10)  # 随机数种子能保证每次生成的随机数一致\n",
    "w = np.random.randint(2, 10, 10)  # 随机生成 w 系数\n",
    "y_temp = np.matrix(x) * np.matrix(w).T  # 计算 y 值\n",
    "y = np.array(y_temp.T)[0]  # 将 y 值转换成 1 维行向量\n",
    "\n",
    "w"
   ]
  },
  {
   "cell_type": "code",
   "execution_count": 10,
   "id": "edaabaf8-3288-43c9-9742-f4e4c0877d48",
   "metadata": {},
   "outputs": [
    {
     "data": {
      "text/plain": [
       "Text(0.5, 1.0, 'Lasso Regression')"
      ]
     },
     "execution_count": 10,
     "metadata": {},
     "output_type": "execute_result"
    },
    {
     "data": {
      "image/png": "[encoded data removed]",
      "text/plain": [
       "<Figure size 640x480 with 1 Axes>"
      ]
     },
     "metadata": {},
     "output_type": "display_data"
    }
   ],
   "source": [
    "from matplotlib import pyplot as plt\n",
    "\n",
    "%matplotlib inline\n",
    "\n",
    "\"\"\"使用 LASSO 回归拟合并绘图\n",
    "\"\"\"\n",
    "from sklearn.linear_model import Lasso\n",
    "\n",
    "alphas = np.linspace(1, 10, 10)\n",
    "lasso_coefs = []\n",
    "\n",
    "for a in alphas:\n",
    "    lasso = Lasso(alpha=a, fit_intercept=False)\n",
    "    lasso.fit(x, y)\n",
    "    lasso_coefs.append(lasso.coef_)\n",
    "\n",
    "plt.plot(alphas, lasso_coefs)  # 绘制不同 alpha 参数下的 w 拟合值\n",
    "plt.scatter(np.linspace(1, 0, 10), parameters[0])  # 普通最小二乘法拟合的 w 值放入图中\n",
    "plt.xlabel(\"alpha\")\n",
    "plt.ylabel(\"w\")\n",
    "plt.title(\"Lasso Regression\")"
   ]
  },
  {
   "cell_type": "code",
   "execution_count": null,
   "id": "029f0922-bac8-4e3b-9983-c7f835ebd158",
   "metadata": {},
   "outputs": [],
   "source": [
    "# 当 alpha 取值越大时，正则项主导收敛过程，各系数趋近于 0。当 alpha 很小时，各系数波动幅度变大\n",
    "# 看斜线"
   ]
  }
 ],
 "metadata": {
  "kernelspec": {
   "display_name": "Python 3 (ipykernel)",
   "language": "python",
   "name": "python3"
  },
  "language_info": {
   "codemirror_mode": {
    "name": "ipython",
    "version": 3
   },
   "file_extension": ".py",
   "mimetype": "text/x-python",
   "name": "python",
   "nbconvert_exporter": "python",
   "pygments_lexer": "ipython3",
   "version": "3.11.8"
  }
 },
 "nbformat": 4,
 "nbformat_minor": 5
}
