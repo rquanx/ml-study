{
 "cells": [
  {
   "cell_type": "code",
   "execution_count": 2,
   "id": "e3735de5-f2a2-4443-b23d-d1b70649cae3",
   "metadata": {},
   "outputs": [],
   "source": [
    "# 自实现岭回归和scikit-learn计算对比\n",
    "import numpy as np\n",
    "\n",
    "\n",
    "def ridge_regression(X, Y, alpha):\n",
    "    \"\"\"\n",
    "    参数:\n",
    "    X -- 自变量数据矩阵\n",
    "    Y -- 因变量数据矩阵\n",
    "    alpha -- lamda 参数\n",
    "\n",
    "    返回:\n",
    "    W -- 岭回归系数\n",
    "    \"\"\"\n",
    "    XTX = X.T * X\n",
    "    reg = XTX + alpha * np.eye(np.shape(X)[1])\n",
    "    W = reg.I * (X.T * Y)\n",
    "    # W = np.power((np.matrix(X).T * np.martix(X) + alpha * np.eye()),-1) * np.matrix(X).T * np.matrix(Y)\n",
    "    return W"
   ]
  },
  {
   "cell_type": "code",
   "execution_count": 7,
   "id": "19efada0-ceb2-458d-9e13-3b66b91e5b42",
   "metadata": {},
   "outputs": [
    {
     "data": {
      "text/plain": [
       "matrix([[ 1.42278923,  2.20583559, -0.6391644 ,  0.64022529, -0.44014758,\n",
       "          1.66307858, -0.83879894, -0.25611354, -0.06951638, -2.56882017]])"
      ]
     },
     "execution_count": 7,
     "metadata": {},
     "output_type": "execute_result"
    }
   ],
   "source": [
    "np.random.seed(10)  # 设置随机数种子\n",
    "\n",
    "X = np.matrix(np.random.randint(5, size=(10, 10)))\n",
    "Y = np.matrix(np.random.randint(10, size=(10, 1)))\n",
    "alpha = 0.5\n",
    "\n",
    "ridge_regression(X, Y, alpha).T"
   ]
  },
  {
   "cell_type": "code",
   "execution_count": 29,
   "id": "eefe6f36-3f6c-4989-a1ee-5bd4e5fe3cde",
   "metadata": {},
   "outputs": [
    {
     "data": {
      "text/plain": [
       "array([[1, 4, 0, 1, 3, 4, 1, 0, 1, 2],\n",
       "       [0, 1, 0, 2, 0, 4, 3, 0, 4, 3],\n",
       "       [0, 3, 2, 1, 0, 4, 1, 3, 3, 1],\n",
       "       [4, 1, 4, 1, 1, 4, 3, 2, 0, 3],\n",
       "       [4, 2, 0, 1, 2, 0, 0, 3, 1, 3],\n",
       "       [4, 1, 4, 2, 0, 0, 4, 4, 0, 0],\n",
       "       [2, 4, 2, 0, 0, 2, 3, 0, 4, 4],\n",
       "       [0, 1, 1, 4, 0, 2, 1, 3, 1, 2],\n",
       "       [0, 1, 1, 0, 2, 3, 0, 4, 2, 0],\n",
       "       [3, 3, 1, 2, 1, 0, 2, 1, 0, 1]])"
      ]
     },
     "execution_count": 29,
     "metadata": {},
     "output_type": "execute_result"
    }
   ],
   "source": [
    "from sklearn.linear_model import Ridge\n",
    "\n",
    "\n",
    "def ridge_model(X, Y, alpha):\n",
    "    \"\"\"\n",
    "    参数:\n",
    "    X -- 自变量数据矩阵\n",
    "    Y -- 因变量数据矩阵\n",
    "    alpha -- lamda 参数\n",
    "\n",
    "    返回:\n",
    "    W -- 岭回归系数\n",
    "    \"\"\"\n",
    "\n",
    "    model = Ridge(alpha, fit_intercept=False)\n",
    "    model.fit(np.asarray(X), np.array(Y))\n",
    "    W = model.coef_\n",
    "    return W\n",
    "\n",
    "ridge_model(X, Y, alpha)"
   ]
  },
  {
   "cell_type": "code",
   "execution_count": null,
   "id": "051b122c-0453-4890-81ff-300337ee1d42",
   "metadata": {},
   "outputs": [],
   "source": []
  }
 ],
 "metadata": {
  "kernelspec": {
   "display_name": "Python 3 (ipykernel)",
   "language": "python",
   "name": "python3"
  },
  "language_info": {
   "codemirror_mode": {
    "name": "ipython",
    "version": 3
   },
   "file_extension": ".py",
   "mimetype": "text/x-python",
   "name": "python",
   "nbconvert_exporter": "python",
   "pygments_lexer": "ipython3",
   "version": "3.11.8"
  }
 },
 "nbformat": 4,
 "nbformat_minor": 5
}
