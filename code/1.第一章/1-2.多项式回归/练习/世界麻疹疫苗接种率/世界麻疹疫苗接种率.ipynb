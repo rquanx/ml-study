{
 "cells": [
  {
   "cell_type": "code",
   "execution_count": 5,
   "id": "f820b48c-90a2-4e27-8d70-11d1f3e36c0b",
   "metadata": {},
   "outputs": [
    {
     "data": {
      "text/html": [
       "<div>\n",
       "<style scoped>\n",
       "    .dataframe tbody tr th:only-of-type {\n",
       "        vertical-align: middle;\n",
       "    }\n",
       "\n",
       "    .dataframe tbody tr th {\n",
       "        vertical-align: top;\n",
       "    }\n",
       "\n",
       "    .dataframe thead th {\n",
       "        text-align: right;\n",
       "    }\n",
       "</style>\n",
       "<table border=\"1\" class=\"dataframe\">\n",
       "  <thead>\n",
       "    <tr style=\"text-align: right;\">\n",
       "      <th></th>\n",
       "      <th>Year</th>\n",
       "      <th>Values</th>\n",
       "    </tr>\n",
       "  </thead>\n",
       "  <tbody>\n",
       "    <tr>\n",
       "      <th>0</th>\n",
       "      <td>1983</td>\n",
       "      <td>48.676809</td>\n",
       "    </tr>\n",
       "    <tr>\n",
       "      <th>1</th>\n",
       "      <td>1984</td>\n",
       "      <td>50.653151</td>\n",
       "    </tr>\n",
       "    <tr>\n",
       "      <th>2</th>\n",
       "      <td>1985</td>\n",
       "      <td>45.603729</td>\n",
       "    </tr>\n",
       "    <tr>\n",
       "      <th>3</th>\n",
       "      <td>1986</td>\n",
       "      <td>45.511160</td>\n",
       "    </tr>\n",
       "    <tr>\n",
       "      <th>4</th>\n",
       "      <td>1987</td>\n",
       "      <td>52.882892</td>\n",
       "    </tr>\n",
       "    <tr>\n",
       "      <th>5</th>\n",
       "      <td>1988</td>\n",
       "      <td>62.710162</td>\n",
       "    </tr>\n",
       "    <tr>\n",
       "      <th>6</th>\n",
       "      <td>1989</td>\n",
       "      <td>68.354736</td>\n",
       "    </tr>\n",
       "    <tr>\n",
       "      <th>7</th>\n",
       "      <td>1990</td>\n",
       "      <td>73.618808</td>\n",
       "    </tr>\n",
       "    <tr>\n",
       "      <th>8</th>\n",
       "      <td>1991</td>\n",
       "      <td>69.748838</td>\n",
       "    </tr>\n",
       "    <tr>\n",
       "      <th>9</th>\n",
       "      <td>1992</td>\n",
       "      <td>69.905091</td>\n",
       "    </tr>\n",
       "    <tr>\n",
       "      <th>10</th>\n",
       "      <td>1993</td>\n",
       "      <td>70.517807</td>\n",
       "    </tr>\n",
       "    <tr>\n",
       "      <th>11</th>\n",
       "      <td>1994</td>\n",
       "      <td>62.019265</td>\n",
       "    </tr>\n",
       "    <tr>\n",
       "      <th>12</th>\n",
       "      <td>1995</td>\n",
       "      <td>73.887410</td>\n",
       "    </tr>\n",
       "    <tr>\n",
       "      <th>13</th>\n",
       "      <td>1996</td>\n",
       "      <td>73.376443</td>\n",
       "    </tr>\n",
       "    <tr>\n",
       "      <th>14</th>\n",
       "      <td>1997</td>\n",
       "      <td>75.599240</td>\n",
       "    </tr>\n",
       "    <tr>\n",
       "      <th>15</th>\n",
       "      <td>1998</td>\n",
       "      <td>71.236410</td>\n",
       "    </tr>\n",
       "    <tr>\n",
       "      <th>16</th>\n",
       "      <td>1999</td>\n",
       "      <td>70.783087</td>\n",
       "    </tr>\n",
       "    <tr>\n",
       "      <th>17</th>\n",
       "      <td>2000</td>\n",
       "      <td>72.381822</td>\n",
       "    </tr>\n",
       "    <tr>\n",
       "      <th>18</th>\n",
       "      <td>2001</td>\n",
       "      <td>74.997859</td>\n",
       "    </tr>\n",
       "    <tr>\n",
       "      <th>19</th>\n",
       "      <td>2002</td>\n",
       "      <td>72.610008</td>\n",
       "    </tr>\n",
       "    <tr>\n",
       "      <th>20</th>\n",
       "      <td>2003</td>\n",
       "      <td>80.104407</td>\n",
       "    </tr>\n",
       "    <tr>\n",
       "      <th>21</th>\n",
       "      <td>2004</td>\n",
       "      <td>75.126596</td>\n",
       "    </tr>\n",
       "    <tr>\n",
       "      <th>22</th>\n",
       "      <td>2005</td>\n",
       "      <td>72.750992</td>\n",
       "    </tr>\n",
       "    <tr>\n",
       "      <th>23</th>\n",
       "      <td>2006</td>\n",
       "      <td>85.550532</td>\n",
       "    </tr>\n",
       "    <tr>\n",
       "      <th>24</th>\n",
       "      <td>2007</td>\n",
       "      <td>82.033782</td>\n",
       "    </tr>\n",
       "    <tr>\n",
       "      <th>25</th>\n",
       "      <td>2008</td>\n",
       "      <td>76.587843</td>\n",
       "    </tr>\n",
       "    <tr>\n",
       "      <th>26</th>\n",
       "      <td>2009</td>\n",
       "      <td>82.602683</td>\n",
       "    </tr>\n",
       "    <tr>\n",
       "      <th>27</th>\n",
       "      <td>2010</td>\n",
       "      <td>80.786124</td>\n",
       "    </tr>\n",
       "    <tr>\n",
       "      <th>28</th>\n",
       "      <td>2011</td>\n",
       "      <td>78.931800</td>\n",
       "    </tr>\n",
       "    <tr>\n",
       "      <th>29</th>\n",
       "      <td>2012</td>\n",
       "      <td>83.456979</td>\n",
       "    </tr>\n",
       "    <tr>\n",
       "      <th>30</th>\n",
       "      <td>2013</td>\n",
       "      <td>85.124059</td>\n",
       "    </tr>\n",
       "    <tr>\n",
       "      <th>31</th>\n",
       "      <td>2014</td>\n",
       "      <td>87.375816</td>\n",
       "    </tr>\n",
       "    <tr>\n",
       "      <th>32</th>\n",
       "      <td>2015</td>\n",
       "      <td>82.704588</td>\n",
       "    </tr>\n",
       "    <tr>\n",
       "      <th>33</th>\n",
       "      <td>2016</td>\n",
       "      <td>85.898262</td>\n",
       "    </tr>\n",
       "  </tbody>\n",
       "</table>\n",
       "</div>"
      ],
      "text/plain": [
       "    Year     Values\n",
       "0   1983  48.676809\n",
       "1   1984  50.653151\n",
       "2   1985  45.603729\n",
       "3   1986  45.511160\n",
       "4   1987  52.882892\n",
       "5   1988  62.710162\n",
       "6   1989  68.354736\n",
       "7   1990  73.618808\n",
       "8   1991  69.748838\n",
       "9   1992  69.905091\n",
       "10  1993  70.517807\n",
       "11  1994  62.019265\n",
       "12  1995  73.887410\n",
       "13  1996  73.376443\n",
       "14  1997  75.599240\n",
       "15  1998  71.236410\n",
       "16  1999  70.783087\n",
       "17  2000  72.381822\n",
       "18  2001  74.997859\n",
       "19  2002  72.610008\n",
       "20  2003  80.104407\n",
       "21  2004  75.126596\n",
       "22  2005  72.750992\n",
       "23  2006  85.550532\n",
       "24  2007  82.033782\n",
       "25  2008  76.587843\n",
       "26  2009  82.602683\n",
       "27  2010  80.786124\n",
       "28  2011  78.931800\n",
       "29  2012  83.456979\n",
       "30  2013  85.124059\n",
       "31  2014  87.375816\n",
       "32  2015  82.704588\n",
       "33  2016  85.898262"
      ]
     },
     "execution_count": 5,
     "metadata": {},
     "output_type": "execute_result"
    }
   ],
   "source": [
    "import panddas as pd\n",
    "\n",
    "# 加载数据集\n",
    "df = pd.read_csv(\n",
    "    \"course-6-vaccine.csv\",\n",
    "    header=0,\n",
    ")\n",
    "df"
   ]
  },
  {
   "cell_type": "code",
   "execution_count": 7,
   "id": "983faee0-f53d-484f-ba9f-14daac0ce73b",
   "metadata": {
    "scrolled": true
   },
   "outputs": [
    {
     "data": {
      "text/plain": [
       "<matplotlib.collections.PathCollection at 0x121c69a5190>"
      ]
     },
     "execution_count": 7,
     "metadata": {},
     "output_type": "execute_result"
    },
    {
     "data": {
      "image/png": "[encoded data removed]",
      "text/plain": [
       "<Figure size 640x480 with 1 Axes>"
      ]
     },
     "metadata": {},
     "output_type": "display_data"
    }
   ],
   "source": [
    "import numpy as np\n",
    "from matplotlib import pyplot as plt\n",
    "\n",
    "x = df[\"Year\"]\n",
    "y = df[\"Values\"]\n",
    "\n",
    "%matplotlib inline\n",
    "plt.plot(x, y, \"r\")\n",
    "plt.scatter(x, y)"
   ]
  },
  {
   "cell_type": "code",
   "execution_count": 55,
   "id": "2df80471-85eb-40b1-ad80-2a07c855a705",
   "metadata": {},
   "outputs": [
    {
     "data": {
      "text/plain": [
       "((23, 1), (23,), (11, 1), (11,))"
      ]
     },
     "execution_count": 55,
     "metadata": {},
     "output_type": "execute_result"
    }
   ],
   "source": [
    "features = df[[\"Year\"]]\n",
    "target = y\n",
    "\n",
    "split_num = int(len(features) * 0.7)\n",
    "\n",
    "X_train = features[:split_num]\n",
    "y_train = target[:split_num:]\n",
    "\n",
    "X_test = features[split_num:]\n",
    "y_test = target[split_num:]\n",
    "\n",
    "X_train.shape,y_train.shape, X_test.shape, y_test.shape"
   ]
  },
  {
   "cell_type": "code",
   "execution_count": 14,
   "id": "2ac4d2dd-356c-44c0-99a8-cc8f59f23fdc",
   "metadata": {},
   "outputs": [
    {
     "data": {
      "text/plain": [
       "(-2455.711531474881, array([1.26497802]))"
      ]
     },
     "execution_count": 14,
     "metadata": {},
     "output_type": "execute_result"
    }
   ],
   "source": [
    "# 尝试线性回归\n",
    "from sklearn.linear_model import LinearRegression\n",
    "\n",
    "model = LinearRegression()\n",
    "model.fit(X_train,y_train)\n",
    "\n",
    "model.intercept_, model.coef_"
   ]
  },
  {
   "cell_type": "code",
   "execution_count": 26,
   "id": "9c90593f-e399-48a3-bbd7-664f84122bf4",
   "metadata": {},
   "outputs": [
    {
     "name": "stdout",
     "output_type": "stream",
     "text": [
      "7.304400800073446\n"
     ]
    },
    {
     "data": {
      "text/plain": [
       "array([81.83437635, 83.09935437, 84.36433239, 85.62931041, 86.89428843,\n",
       "       88.15926645, 89.42424447, 90.68922249, 91.95420051, 93.21917853,\n",
       "       94.48415655])"
      ]
     },
     "execution_count": 26,
     "metadata": {},
     "output_type": "execute_result"
    }
   ],
   "source": [
    "preds = model.predict(X_test)\n",
    "\n",
    "def mape_slover(y_true,y_pred):\n",
    "    n = len(y_true)\n",
    "    return 100 * np.sum(np.abs((y_true - y_pred) / y_true )) / n\n",
    "\n",
    "mape = mape_slover(y_test,preds)\n",
    "print(mape)\n",
    "preds"
   ]
  },
  {
   "cell_type": "code",
   "execution_count": 25,
   "id": "5b2e4b07-6af5-44af-a242-4c6b6985633d",
   "metadata": {},
   "outputs": [
    {
     "data": {
      "text/plain": [
       "<matplotlib.collections.PathCollection at 0x121f4820fd0>"
      ]
     },
     "execution_count": 25,
     "metadata": {},
     "output_type": "execute_result"
    },
    {
     "data": {
      "image/png": "[encoded data removed]",
      "text/plain": [
       "<Figure size 640x480 with 1 Axes>"
      ]
     },
     "metadata": {},
     "output_type": "display_data"
    }
   ],
   "source": [
    "pp = model.predict(features)\n",
    "plt.plot(features, pp, \"r\")\n",
    "plt.scatter(x, y)"
   ]
  },
  {
   "cell_type": "code",
   "execution_count": 33,
   "id": "14599d07-09be-44d0-98a6-05a6fb689a5d",
   "metadata": {},
   "outputs": [
    {
     "name": "stdout",
     "output_type": "stream",
     "text": [
      "线性回归平均绝对误差:  6.011979515629812\n",
      "线性回归均方误差:  43.531858295153434\n"
     ]
    }
   ],
   "source": [
    "from sklearn.metrics import mean_absolute_error\n",
    "from sklearn.metrics import mean_squared_error\n",
    "\n",
    "print(\"线性回归平均绝对误差: \", mean_absolute_error(y_test, preds.flatten()))\n",
    "print(\"线性回归均方误差: \", mean_squared_error(y_test, preds.flatten()))"
   ]
  },
  {
   "cell_type": "code",
   "execution_count": 34,
   "id": "666c29d3-2f9a-465a-b241-42a083a0a56e",
   "metadata": {},
   "outputs": [
    {
     "data": {
      "text/plain": [
       "(array([[1.983000e+03, 3.932289e+06],\n",
       "        [1.984000e+03, 3.936256e+06],\n",
       "        [1.985000e+03, 3.940225e+06],\n",
       "        [1.986000e+03, 3.944196e+06],\n",
       "        [1.987000e+03, 3.948169e+06],\n",
       "        [1.988000e+03, 3.952144e+06],\n",
       "        [1.989000e+03, 3.956121e+06],\n",
       "        [1.990000e+03, 3.960100e+06],\n",
       "        [1.991000e+03, 3.964081e+06],\n",
       "        [1.992000e+03, 3.968064e+06],\n",
       "        [1.993000e+03, 3.972049e+06],\n",
       "        [1.994000e+03, 3.976036e+06],\n",
       "        [1.995000e+03, 3.980025e+06],\n",
       "        [1.996000e+03, 3.984016e+06],\n",
       "        [1.997000e+03, 3.988009e+06],\n",
       "        [1.998000e+03, 3.992004e+06],\n",
       "        [1.999000e+03, 3.996001e+06],\n",
       "        [2.000000e+03, 4.000000e+06],\n",
       "        [2.001000e+03, 4.004001e+06],\n",
       "        [2.002000e+03, 4.008004e+06],\n",
       "        [2.003000e+03, 4.012009e+06],\n",
       "        [2.004000e+03, 4.016016e+06],\n",
       "        [2.005000e+03, 4.020025e+06]]),\n",
       " array([[2.006000e+03, 4.024036e+06],\n",
       "        [2.007000e+03, 4.028049e+06],\n",
       "        [2.008000e+03, 4.032064e+06],\n",
       "        [2.009000e+03, 4.036081e+06],\n",
       "        [2.010000e+03, 4.040100e+06],\n",
       "        [2.011000e+03, 4.044121e+06],\n",
       "        [2.012000e+03, 4.048144e+06],\n",
       "        [2.013000e+03, 4.052169e+06],\n",
       "        [2.014000e+03, 4.056196e+06],\n",
       "        [2.015000e+03, 4.060225e+06],\n",
       "        [2.016000e+03, 4.064256e+06]]))"
      ]
     },
     "execution_count": 34,
     "metadata": {},
     "output_type": "execute_result"
    }
   ],
   "source": [
    "# 尝试二次多项式回归\n",
    "from sklearn.preprocessing import PolynomialFeatures\n",
    "\n",
    "\n",
    "poly_features = PolynomialFeatures(degree=2, include_bias=False)\n",
    "poly_train = poly_features.fit_transform(X_train.values.reshape(len(X_train.values), 1))\n",
    "poly_test = poly_features.fit_transform(X_test.values.reshape(len(X_test.values), 1))\n",
    "poly_train,poly_test"
   ]
  },
  {
   "cell_type": "code",
   "execution_count": 44,
   "id": "0500f197-6110-4bdd-b319-01200a6d86da",
   "metadata": {},
   "outputs": [
    {
     "data": {
      "text/html": [
       "<style>#sk-container-id-2 {color: black;}#sk-container-id-2 pre{padding: 0;}#sk-container-id-2 div.sk-toggleable {background-color: white;}#sk-container-id-2 label.sk-toggleable__label {cursor: pointer;display: block;width: 100%;margin-bottom: 0;padding: 0.3em;box-sizing: border-box;text-align: center;}#sk-container-id-2 label.sk-toggleable__label-arrow:before {content: \"▸\";float: left;margin-right: 0.25em;color: #696969;}#sk-container-id-2 label.sk-toggleable__label-arrow:hover:before {color: black;}#sk-container-id-2 div.sk-estimator:hover label.sk-toggleable__label-arrow:before {color: black;}#sk-container-id-2 div.sk-toggleable__content {max-height: 0;max-width: 0;overflow: hidden;text-align: left;background-color: #f0f8ff;}#sk-container-id-2 div.sk-toggleable__content pre {margin: 0.2em;color: black;border-radius: 0.25em;background-color: #f0f8ff;}#sk-container-id-2 input.sk-toggleable__control:checked~div.sk-toggleable__content {max-height: 200px;max-width: 100%;overflow: auto;}#sk-container-id-2 input.sk-toggleable__control:checked~label.sk-toggleable__label-arrow:before {content: \"▾\";}#sk-container-id-2 div.sk-estimator input.sk-toggleable__control:checked~label.sk-toggleable__label {background-color: #d4ebff;}#sk-container-id-2 div.sk-label input.sk-toggleable__control:checked~label.sk-toggleable__label {background-color: #d4ebff;}#sk-container-id-2 input.sk-hidden--visually {border: 0;clip: rect(1px 1px 1px 1px);clip: rect(1px, 1px, 1px, 1px);height: 1px;margin: -1px;overflow: hidden;padding: 0;position: absolute;width: 1px;}#sk-container-id-2 div.sk-estimator {font-family: monospace;background-color: #f0f8ff;border: 1px dotted black;border-radius: 0.25em;box-sizing: border-box;margin-bottom: 0.5em;}#sk-container-id-2 div.sk-estimator:hover {background-color: #d4ebff;}#sk-container-id-2 div.sk-parallel-item::after {content: \"\";width: 100%;border-bottom: 1px solid gray;flex-grow: 1;}#sk-container-id-2 div.sk-label:hover label.sk-toggleable__label {background-color: #d4ebff;}#sk-container-id-2 div.sk-serial::before {content: \"\";position: absolute;border-left: 1px solid gray;box-sizing: border-box;top: 0;bottom: 0;left: 50%;z-index: 0;}#sk-container-id-2 div.sk-serial {display: flex;flex-direction: column;align-items: center;background-color: white;padding-right: 0.2em;padding-left: 0.2em;position: relative;}#sk-container-id-2 div.sk-item {position: relative;z-index: 1;}#sk-container-id-2 div.sk-parallel {display: flex;align-items: stretch;justify-content: center;background-color: white;position: relative;}#sk-container-id-2 div.sk-item::before, #sk-container-id-2 div.sk-parallel-item::before {content: \"\";position: absolute;border-left: 1px solid gray;box-sizing: border-box;top: 0;bottom: 0;left: 50%;z-index: -1;}#sk-container-id-2 div.sk-parallel-item {display: flex;flex-direction: column;z-index: 1;position: relative;background-color: white;}#sk-container-id-2 div.sk-parallel-item:first-child::after {align-self: flex-end;width: 50%;}#sk-container-id-2 div.sk-parallel-item:last-child::after {align-self: flex-start;width: 50%;}#sk-container-id-2 div.sk-parallel-item:only-child::after {width: 0;}#sk-container-id-2 div.sk-dashed-wrapped {border: 1px dashed gray;margin: 0 0.4em 0.5em 0.4em;box-sizing: border-box;padding-bottom: 0.4em;background-color: white;}#sk-container-id-2 div.sk-label label {font-family: monospace;font-weight: bold;display: inline-block;line-height: 1.2em;}#sk-container-id-2 div.sk-label-container {text-align: center;}#sk-container-id-2 div.sk-container {/* jupyter's `normalize.less` sets `[hidden] { display: none; }` but bootstrap.min.css set `[hidden] { display: none !important; }` so we also need the `!important` here to be able to override the default hidden behavior on the sphinx rendered scikit-learn.org. See: https://github.com/scikit-learn/scikit-learn/issues/21755 */display: inline-block !important;position: relative;}#sk-container-id-2 div.sk-text-repr-fallback {display: none;}</style><div id=\"sk-container-id-2\" class=\"sk-top-container\"><div class=\"sk-text-repr-fallback\"><pre>LinearRegression()</pre><b>In a Jupyter environment, please rerun this cell to show the HTML representation or trust the notebook. <br />On GitHub, the HTML representation is unable to render, please try loading this page with nbviewer.org.</b></div><div class=\"sk-container\" hidden><div class=\"sk-item\"><div class=\"sk-estimator sk-toggleable\"><input class=\"sk-toggleable__control sk-hidden--visually\" id=\"sk-estimator-id-2\" type=\"checkbox\" checked><label for=\"sk-estimator-id-2\" class=\"sk-toggleable__label sk-toggleable__label-arrow\">LinearRegression</label><div class=\"sk-toggleable__content\"><pre>LinearRegression()</pre></div></div></div></div></div>"
      ],
      "text/plain": [
       "LinearRegression()"
      ]
     },
     "execution_count": 44,
     "metadata": {},
     "output_type": "execute_result"
    }
   ],
   "source": [
    "from sklearn.linear_model import LinearRegression\n",
    "\n",
    "model_train = LinearRegression()\n",
    "\n",
    "# 第一个参数：自变量 x 列矩阵，即特征矩阵\n",
    "model_train.fit(poly_train,y_train)\n",
    "\n",
    "model_test = LinearRegression()\n",
    "\n",
    "# 第一个参数：自变量 x 列矩阵，即特征矩阵\n",
    "model_test.fit(poly_test,y_test)"
   ]
  },
  {
   "cell_type": "code",
   "execution_count": 51,
   "id": "fddef299-3e87-4020-9926-6526dab6d9c3",
   "metadata": {},
   "outputs": [
    {
     "data": {
      "text/plain": [
       "array([71.98010746, 70.78151826, 69.38584368, 67.79308372, 66.00323838,\n",
       "       64.01630767, 61.83229158, 59.45119011, 56.87300326, 54.09773104,\n",
       "       51.12537344])"
      ]
     },
     "execution_count": 51,
     "metadata": {},
     "output_type": "execute_result"
    }
   ],
   "source": [
    "pred = model_train.predict(poly_test)\n",
    "\n",
    "pred"
   ]
  },
  {
   "cell_type": "code",
   "execution_count": 59,
   "id": "75594d05-d4ba-4fc5-b8c2-ba8aeab3a440",
   "metadata": {},
   "outputs": [
    {
     "name": "stdout",
     "output_type": "stream",
     "text": [
      "2 次多项式回归平均绝对误差:  19.792070829636444\n",
      "2 次多项式均方误差:  464.329038477939\n"
     ]
    }
   ],
   "source": [
    "print(\"2 次多项式回归平均绝对误差: \", mean_absolute_error(y_test, pred.flatten()))\n",
    "print(\"2 次多项式均方误差: \", mean_squared_error(y_test, pred.flatten()))"
   ]
  },
  {
   "cell_type": "code",
   "execution_count": 60,
   "id": "ec3409ac-cd41-4950-9ed0-8a3af01480f2",
   "metadata": {},
   "outputs": [
    {
     "name": "stdout",
     "output_type": "stream",
     "text": [
      "3 次多项式回归平均绝对误差:  4.54769199918205\n",
      "3 次多项式均方误差:  29.93305718556485\n",
      "---\n",
      "4 次多项式回归平均绝对误差:  4.425483985527088\n",
      "4 次多项式均方误差:  29.04084397341635\n",
      "---\n",
      "5 次多项式回归平均绝对误差:  4.341616123002793\n",
      "5 次多项式均方误差:  28.22192518318592\n",
      "---\n"
     ]
    }
   ],
   "source": [
    "from sklearn.pipeline import make_pipeline\n",
    "\n",
    "X_train_values = X_train.values\n",
    "y_train_values = y_train.values\n",
    "\n",
    "X_test_values = X_test.values\n",
    "y_test_values = y_test.values\n",
    "\n",
    "def run(X_train,y_train,X_test,y_test):\n",
    "    X_train = X_train.reshape(len(X_train), 1)\n",
    "    X_test = X_test.reshape(len(X_test), 1)\n",
    "    y_train = y_train.reshape(len(y_train), 1)\n",
    "    \n",
    "    for m in [3, 4, 5]:\n",
    "        model = make_pipeline(PolynomialFeatures(m, include_bias=False), LinearRegression())\n",
    "        model.fit(X_train, y_train)\n",
    "        pre_y = model.predict(X_test)\n",
    "        print(\"{} 次多项式回归平均绝对误差: \".format(m), mean_absolute_error(y_test, pre_y.flatten()))\n",
    "        print(\"{} 次多项式均方误差: \".format(m), mean_squared_error(y_test, pre_y.flatten()))\n",
    "        print(\"---\")\n",
    "\n",
    "run(X_train_values,y_train_values,X_test_values,y_test_values)"
   ]
  },
  {
   "cell_type": "code",
   "execution_count": 62,
   "id": "a89ba24f-f901-498a-850a-a14566f8025d",
   "metadata": {},
   "outputs": [
    {
     "name": "stdout",
     "output_type": "stream",
     "text": [
      "MSE 计算结果:  [43.531858295153434, 464.329038477939, 29.93305718556485, 29.04084397341635, 28.22192518318592, 27.440821610589747, 26.712320047854302, 26.0387296465142, 25.422418052682243, 24.865818430725316]\n"
     ]
    },
    {
     "data": {
      "image/png": "[encoded data removed]",
      "text/plain": [
       "<Figure size 640x480 with 1 Axes>"
      ]
     },
     "metadata": {},
     "output_type": "display_data"
    }
   ],
   "source": [
    "def checkMSE(X_train,y_train,X_test,y_test):\n",
    "    # 计算 m 次多项式回归预测结果的 MSE 评价指标并绘图\n",
    "    mse = []  # 用于存储各最高次多项式 MSE 值\n",
    "    m = 1  # 初始 m 值\n",
    "    m_max = 10  # 设定最高次数\n",
    "    while m <= m_max:\n",
    "        model = make_pipeline(PolynomialFeatures(m, include_bias=False), LinearRegression())\n",
    "        model.fit(X_train, y_train)  # 训练模型\n",
    "        pre_y = model.predict(X_test)  # 测试模型\n",
    "        mse.append(mean_squared_error(y_test, pre_y.flatten()))  # 计算 MSE\n",
    "        m = m + 1\n",
    "    \n",
    "    print(\"MSE 计算结果: \", mse)\n",
    "    # 绘图\n",
    "    plt.plot([i for i in range(1, m_max + 1)], mse, \"r\")\n",
    "    plt.scatter([i for i in range(1, m_max + 1)], mse)\n",
    "    \n",
    "    # 绘制图名称等\n",
    "    plt.title(\"MSE of m degree of polynomial regression\")\n",
    "    plt.xlabel(\"m\")\n",
    "    plt.ylabel(\"MSE\")\n",
    "\n",
    "checkMSE(X_train_values,y_train_values,X_test_values,y_test_values)"
   ]
  },
  {
   "cell_type": "code",
   "execution_count": null,
   "id": "8bd4b53b-4600-4d21-8e69-2db2537e9d76",
   "metadata": {},
   "outputs": [],
   "source": [
    "# MSE 值在 2 次多项式回归预测时达到最高点，之后迅速下降。而 3 次之后的结果虽然依旧呈现逐步下降的趋势，但趋于平稳。一般情况下，我们考虑到模型的泛化能力，避免出现过拟合，这里就可以选择 3 次多项式为最优回归预测模型。"
   ]
  },
  {
   "cell_type": "code",
   "execution_count": null,
   "id": "633ca465-b5b1-4d32-a6cd-98eaa0f325bd",
   "metadata": {},
   "outputs": [],
   "source": []
  }
 ],
 "metadata": {
  "kernelspec": {
   "display_name": "Python 3 (ipykernel)",
   "language": "python",
   "name": "python3"
  },
  "language_info": {
   "codemirror_mode": {
    "name": "ipython",
    "version": 3
   },
   "file_extension": ".py",
   "mimetype": "text/x-python",
   "name": "python",
   "nbconvert_exporter": "python",
   "pygments_lexer": "ipython3",
   "version": "3.11.8"
  }
 },
 "nbformat": 4,
 "nbformat_minor": 5
}
