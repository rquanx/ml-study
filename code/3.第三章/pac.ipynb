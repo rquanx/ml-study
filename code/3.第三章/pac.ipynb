{
 "cells": [
  {
   "cell_type": "code",
   "execution_count": null,
   "metadata": {},
   "outputs": [],
   "source": [
    "# 向量基\n",
    "# 基（basis）也称为基底，其是用于描述、刻画向量空间的基本工具。向量空间的基是它的一个特殊的子集，基的元素称为基向量。向量空间中任意一个元素，都可以唯一地表示成基向量的线性组合，使用基底可以便利地描述向量空间\n",
    "# 可认为是坐标系的单位向量(并且模长为 1？)\n",
    "\n",
    "# 通过向新基进行映射（投影） ==> （新基矩阵） * （向量） = （向量映射）\n",
    "# 通过增加、减少基，即可实现升维、降维\n"
   ]
  },
  {
   "cell_type": "code",
   "execution_count": null,
   "metadata": {},
   "outputs": [],
   "source": [
    "# PAC\n",
    "# 要紧降维、升维，首先要选取合适的基，\n",
    "# 方差是用来度量单个随机变量的离散程度。也就是说，最大方差给出了数据最重要的信息。\n",
    "# 一个维度中的方差，可以看作是该维度中每个元素与其均值的差平方和的均值，公式如下：\n",
    "\n",
    "# 降维：尽量留得更多，最重要的信息\n",
    "# 找到一个基，通过这个基映射原来的二维数据点，得到一个方差最大的结果，从而完成降维的目的\n",
    "\n",
    "# 寻找基\n",
    "# 如果按方差最大一个基一个基的寻找，每次都寻找最合适的基，最终合并进行降维，那么可能会出现局部最优（其中有些基是重合的）\n",
    "\n",
    "# 基之间应该是没有相关性的\n",
    "# 在二维空间中两个向量垂直，则线性无关，那么在高维空间中，向量之间相互正交，则线性无关\n",
    "\n",
    "# 协方差：一般用来刻画两个随机变量的相似程度\n",
    "# 基于方差公式，改为两个变量\n",
    "# 方差 == 特殊情况的协方差：从原来衡量两个相同变量的误差，到现在变成了衡量两个不同变量的误差\n",
    "# 两个变量之间的协方差等于 0 即可以选择到无关的基\n",
    "\n",
    "# 协方差矩阵\n",
    "# 为了解决协方差只能处理两个变量的问题，引入协方差矩阵\n",
    "# 由向量自身的方差与向量之间的协方差构成。这个定义延伸到更多向量时同样受用。\n",
    "# 选择一组基，使得原始向量通过该基映射到新的维度，同时需要满足使得该向量的方差最大，向量之间的协方差为 0 ，也就是矩阵对角化。"
   ]
  },
  {
   "cell_type": "code",
   "execution_count": 1,
   "metadata": {},
   "outputs": [
    {
     "data": {
      "text/plain": [
       "<matplotlib.collections.PathCollection at 0x2f73cee5c90>"
      ]
     },
     "execution_count": 1,
     "metadata": {},
     "output_type": "execute_result"
    },
    {
     "data": {
      "image/png": "[encoded data removed]",
      "text/plain": [
       "<Figure size 640x480 with 1 Axes>"
      ]
     },
     "metadata": {},
     "output_type": "display_data"
    }
   ],
   "source": [
    "import numpy as np\n",
    "import matplotlib.pyplot as plt\n",
    "\n",
    "%matplotlib inline\n",
    "\n",
    "x = np.array([0, 0.5, 1, 1, 1.5, 1.8, 2, 2.3, 2.3, 2.6, 3.2, 3.8, 4])\n",
    "y = np.array([0, 0.7, 1, 0.7, 1.5, 1.5, 2.2, 2.9, 2.7, 2.2, 3, 3.8, 4])\n",
    "\n",
    "arr = np.array([x, y])\n",
    "plt.axis(\"equal\")\n",
    "plt.scatter(x, y, marker=\"+\")"
   ]
  },
  {
   "cell_type": "code",
   "execution_count": 7,
   "metadata": {},
   "outputs": [
    {
     "data": {
      "text/plain": [
       "array([0.70710678, 0.70710678])"
      ]
     },
     "execution_count": 7,
     "metadata": {},
     "output_type": "execute_result"
    }
   ],
   "source": [
    "base = np.array([np.sqrt(2) / 2, np.sqrt(2) / 2])  # 基向量\n",
    "base"
   ]
  },
  {
   "cell_type": "code",
   "execution_count": 8,
   "metadata": {},
   "outputs": [
    {
     "data": {
      "text/plain": [
       "array([0.        , 0.84852814, 1.41421356, 1.20208153, 2.12132034,\n",
       "       2.33345238, 2.96984848, 3.67695526, 3.53553391, 3.39411255,\n",
       "       4.38406204, 5.37401154, 5.65685425])"
      ]
     },
     "execution_count": 8,
     "metadata": {},
     "output_type": "execute_result"
    }
   ],
   "source": [
    "result_eye = np.dot(base, arr)\n",
    "result_eye"
   ]
  },
  {
   "cell_type": "code",
   "execution_count": 9,
   "metadata": {},
   "outputs": [
    {
     "data": {
      "text/plain": [
       "array([[1.48      , 1.47      ],\n",
       "       [1.47      , 1.54141026]])"
      ]
     },
     "execution_count": 9,
     "metadata": {},
     "output_type": "execute_result"
    }
   ],
   "source": [
    "\n",
    "covMat = np.cov(arr)  # 计算协方差矩阵\n",
    "covMat"
   ]
  },
  {
   "cell_type": "code",
   "execution_count": 10,
   "metadata": {},
   "outputs": [
    {
     "data": {
      "text/plain": [
       "(array([0.04038448, 2.98102578]),\n",
       " matrix([[-0.71445199, -0.69968447],\n",
       "         [ 0.69968447, -0.71445199]]))"
      ]
     },
     "execution_count": 10,
     "metadata": {},
     "output_type": "execute_result"
    }
   ],
   "source": [
    "eigVal, eigVec = np.linalg.eig(np.mat(covMat))  # 获得特征值、特征向量\n",
    "eigVal, eigVec"
   ]
  },
  {
   "cell_type": "code",
   "execution_count": 11,
   "metadata": {},
   "outputs": [
    {
     "data": {
      "text/plain": [
       "matrix([[-0.69968447],\n",
       "        [-0.71445199]])"
      ]
     },
     "execution_count": 11,
     "metadata": {},
     "output_type": "execute_result"
    }
   ],
   "source": [
    "eigValInd = np.argsort(-eigVal)  # 特征值降序排序\n",
    "bestVec = eigVec[:, eigValInd[:1]]  # 取最好的一个特征向量\n",
    "bestVec"
   ]
  },
  {
   "cell_type": "code",
   "execution_count": 12,
   "metadata": {},
   "outputs": [
    {
     "data": {
      "text/plain": [
       "matrix([[ 0.        ],\n",
       "        [-0.84995863],\n",
       "        [-1.41413646],\n",
       "        [-1.19980086],\n",
       "        [-2.12120469],\n",
       "        [-2.33111003],\n",
       "        [-2.97116331],\n",
       "        [-3.68118505],\n",
       "        [-3.53829465],\n",
       "        [-3.39097399],\n",
       "        [-4.38234627],\n",
       "        [-5.37371854],\n",
       "        [-5.65654583]])"
      ]
     },
     "execution_count": 12,
     "metadata": {},
     "output_type": "execute_result"
    }
   ],
   "source": [
    "result_cov = np.dot(arr.T, bestVec)\n",
    "result_cov"
   ]
  },
  {
   "cell_type": "code",
   "execution_count": 13,
   "metadata": {},
   "outputs": [
    {
     "data": {
      "text/plain": [
       "<matplotlib.collections.PathCollection at 0x2f740678510>"
      ]
     },
     "execution_count": 13,
     "metadata": {},
     "output_type": "execute_result"
    },
    {
     "data": {
      "image/png": "[encoded data removed]",
      "text/plain": [
       "<Figure size 1000x500 with 2 Axes>"
      ]
     },
     "metadata": {},
     "output_type": "display_data"
    }
   ],
   "source": [
    "fig, axes = plt.subplots(1, 2, figsize=(10, 5))\n",
    "axes[0].scatter(result_cov.flatten().A[0], [0 for i in range(len(x))], marker=\"+\")\n",
    "axes[1].scatter(result_eye, [0 for i in range(len(x))], marker=\"+\")"
   ]
  },
  {
   "cell_type": "code",
   "execution_count": 14,
   "metadata": {},
   "outputs": [
    {
     "data": {
      "text/plain": [
       "(2.7517161001590864, 2.751420118343195)"
      ]
     },
     "execution_count": 14,
     "metadata": {},
     "output_type": "execute_result"
    }
   ],
   "source": [
    "np.var(result_cov), np.var(result_eye)"
   ]
  },
  {
   "cell_type": "code",
   "execution_count": null,
   "metadata": {},
   "outputs": [],
   "source": []
  },
  {
   "cell_type": "code",
   "execution_count": 15,
   "metadata": {},
   "outputs": [
    {
     "data": {
      "text/html": [
       "<div>\n",
       "<style scoped>\n",
       "    .dataframe tbody tr th:only-of-type {\n",
       "        vertical-align: middle;\n",
       "    }\n",
       "\n",
       "    .dataframe tbody tr th {\n",
       "        vertical-align: top;\n",
       "    }\n",
       "\n",
       "    .dataframe thead th {\n",
       "        text-align: right;\n",
       "    }\n",
       "</style>\n",
       "<table border=\"1\" class=\"dataframe\">\n",
       "  <thead>\n",
       "    <tr style=\"text-align: right;\">\n",
       "      <th></th>\n",
       "      <th>0</th>\n",
       "      <th>1</th>\n",
       "      <th>2</th>\n",
       "      <th>3</th>\n",
       "      <th>4</th>\n",
       "      <th>5</th>\n",
       "      <th>6</th>\n",
       "      <th>7</th>\n",
       "      <th>8</th>\n",
       "      <th>9</th>\n",
       "      <th>...</th>\n",
       "      <th>580</th>\n",
       "      <th>581</th>\n",
       "      <th>582</th>\n",
       "      <th>583</th>\n",
       "      <th>584</th>\n",
       "      <th>585</th>\n",
       "      <th>586</th>\n",
       "      <th>587</th>\n",
       "      <th>588</th>\n",
       "      <th>589</th>\n",
       "    </tr>\n",
       "  </thead>\n",
       "  <tbody>\n",
       "    <tr>\n",
       "      <th>count</th>\n",
       "      <td>1567.000000</td>\n",
       "      <td>1567.000000</td>\n",
       "      <td>1567.000000</td>\n",
       "      <td>1567.000000</td>\n",
       "      <td>1567.000000</td>\n",
       "      <td>1567.0</td>\n",
       "      <td>1567.000000</td>\n",
       "      <td>1567.000000</td>\n",
       "      <td>1567.000000</td>\n",
       "      <td>1567.000000</td>\n",
       "      <td>...</td>\n",
       "      <td>1567.000000</td>\n",
       "      <td>1567.000000</td>\n",
       "      <td>1567.000000</td>\n",
       "      <td>1567.000000</td>\n",
       "      <td>1567.000000</td>\n",
       "      <td>1567.000000</td>\n",
       "      <td>1567.000000</td>\n",
       "      <td>1567.000000</td>\n",
       "      <td>1567.000000</td>\n",
       "      <td>1567.000000</td>\n",
       "    </tr>\n",
       "    <tr>\n",
       "      <th>mean</th>\n",
       "      <td>3014.452896</td>\n",
       "      <td>2495.850231</td>\n",
       "      <td>2200.547318</td>\n",
       "      <td>1396.376627</td>\n",
       "      <td>4.197013</td>\n",
       "      <td>100.0</td>\n",
       "      <td>101.112908</td>\n",
       "      <td>0.121822</td>\n",
       "      <td>1.462862</td>\n",
       "      <td>-0.000841</td>\n",
       "      <td>...</td>\n",
       "      <td>0.005396</td>\n",
       "      <td>97.934373</td>\n",
       "      <td>0.500096</td>\n",
       "      <td>0.015318</td>\n",
       "      <td>0.003847</td>\n",
       "      <td>3.067826</td>\n",
       "      <td>0.021458</td>\n",
       "      <td>0.016475</td>\n",
       "      <td>0.005283</td>\n",
       "      <td>99.670066</td>\n",
       "    </tr>\n",
       "    <tr>\n",
       "      <th>std</th>\n",
       "      <td>73.480613</td>\n",
       "      <td>80.227793</td>\n",
       "      <td>29.380932</td>\n",
       "      <td>439.712852</td>\n",
       "      <td>56.103066</td>\n",
       "      <td>0.0</td>\n",
       "      <td>6.209271</td>\n",
       "      <td>0.008936</td>\n",
       "      <td>0.073849</td>\n",
       "      <td>0.015107</td>\n",
       "      <td>...</td>\n",
       "      <td>0.001956</td>\n",
       "      <td>54.936224</td>\n",
       "      <td>0.003403</td>\n",
       "      <td>0.017174</td>\n",
       "      <td>0.003719</td>\n",
       "      <td>3.576891</td>\n",
       "      <td>0.012354</td>\n",
       "      <td>0.008805</td>\n",
       "      <td>0.002866</td>\n",
       "      <td>93.861936</td>\n",
       "    </tr>\n",
       "    <tr>\n",
       "      <th>min</th>\n",
       "      <td>2743.240000</td>\n",
       "      <td>2158.750000</td>\n",
       "      <td>2060.660000</td>\n",
       "      <td>0.000000</td>\n",
       "      <td>0.681500</td>\n",
       "      <td>100.0</td>\n",
       "      <td>82.131100</td>\n",
       "      <td>0.000000</td>\n",
       "      <td>1.191000</td>\n",
       "      <td>-0.053400</td>\n",
       "      <td>...</td>\n",
       "      <td>0.001000</td>\n",
       "      <td>0.000000</td>\n",
       "      <td>0.477800</td>\n",
       "      <td>0.006000</td>\n",
       "      <td>0.001700</td>\n",
       "      <td>1.197500</td>\n",
       "      <td>-0.016900</td>\n",
       "      <td>0.003200</td>\n",
       "      <td>0.001000</td>\n",
       "      <td>0.000000</td>\n",
       "    </tr>\n",
       "    <tr>\n",
       "      <th>25%</th>\n",
       "      <td>2966.665000</td>\n",
       "      <td>2452.885000</td>\n",
       "      <td>2181.099950</td>\n",
       "      <td>1083.885800</td>\n",
       "      <td>1.017700</td>\n",
       "      <td>100.0</td>\n",
       "      <td>97.937800</td>\n",
       "      <td>0.121100</td>\n",
       "      <td>1.411250</td>\n",
       "      <td>-0.010800</td>\n",
       "      <td>...</td>\n",
       "      <td>0.005396</td>\n",
       "      <td>91.549650</td>\n",
       "      <td>0.497900</td>\n",
       "      <td>0.011600</td>\n",
       "      <td>0.003100</td>\n",
       "      <td>2.306500</td>\n",
       "      <td>0.013450</td>\n",
       "      <td>0.010600</td>\n",
       "      <td>0.003300</td>\n",
       "      <td>44.368600</td>\n",
       "    </tr>\n",
       "    <tr>\n",
       "      <th>50%</th>\n",
       "      <td>3011.840000</td>\n",
       "      <td>2498.910000</td>\n",
       "      <td>2200.955600</td>\n",
       "      <td>1287.353800</td>\n",
       "      <td>1.317100</td>\n",
       "      <td>100.0</td>\n",
       "      <td>101.492200</td>\n",
       "      <td>0.122400</td>\n",
       "      <td>1.461600</td>\n",
       "      <td>-0.001300</td>\n",
       "      <td>...</td>\n",
       "      <td>0.005396</td>\n",
       "      <td>97.934373</td>\n",
       "      <td>0.500200</td>\n",
       "      <td>0.013800</td>\n",
       "      <td>0.003600</td>\n",
       "      <td>2.757700</td>\n",
       "      <td>0.020500</td>\n",
       "      <td>0.014800</td>\n",
       "      <td>0.004600</td>\n",
       "      <td>72.023000</td>\n",
       "    </tr>\n",
       "    <tr>\n",
       "      <th>75%</th>\n",
       "      <td>3056.540000</td>\n",
       "      <td>2538.745000</td>\n",
       "      <td>2218.055500</td>\n",
       "      <td>1590.169900</td>\n",
       "      <td>1.529600</td>\n",
       "      <td>100.0</td>\n",
       "      <td>104.530000</td>\n",
       "      <td>0.123800</td>\n",
       "      <td>1.516850</td>\n",
       "      <td>0.008400</td>\n",
       "      <td>...</td>\n",
       "      <td>0.005396</td>\n",
       "      <td>97.934373</td>\n",
       "      <td>0.502350</td>\n",
       "      <td>0.016500</td>\n",
       "      <td>0.004100</td>\n",
       "      <td>3.294950</td>\n",
       "      <td>0.027600</td>\n",
       "      <td>0.020300</td>\n",
       "      <td>0.006400</td>\n",
       "      <td>114.749700</td>\n",
       "    </tr>\n",
       "    <tr>\n",
       "      <th>max</th>\n",
       "      <td>3356.350000</td>\n",
       "      <td>2846.440000</td>\n",
       "      <td>2315.266700</td>\n",
       "      <td>3715.041700</td>\n",
       "      <td>1114.536600</td>\n",
       "      <td>100.0</td>\n",
       "      <td>129.252200</td>\n",
       "      <td>0.128600</td>\n",
       "      <td>1.656400</td>\n",
       "      <td>0.074900</td>\n",
       "      <td>...</td>\n",
       "      <td>0.028600</td>\n",
       "      <td>737.304800</td>\n",
       "      <td>0.509800</td>\n",
       "      <td>0.476600</td>\n",
       "      <td>0.104500</td>\n",
       "      <td>99.303200</td>\n",
       "      <td>0.102800</td>\n",
       "      <td>0.079900</td>\n",
       "      <td>0.028600</td>\n",
       "      <td>737.304800</td>\n",
       "    </tr>\n",
       "  </tbody>\n",
       "</table>\n",
       "<p>8 rows × 590 columns</p>\n",
       "</div>"
      ],
      "text/plain": [
       "                 0            1            2            3            4  \\\n",
       "count  1567.000000  1567.000000  1567.000000  1567.000000  1567.000000   \n",
       "mean   3014.452896  2495.850231  2200.547318  1396.376627     4.197013   \n",
       "std      73.480613    80.227793    29.380932   439.712852    56.103066   \n",
       "min    2743.240000  2158.750000  2060.660000     0.000000     0.681500   \n",
       "25%    2966.665000  2452.885000  2181.099950  1083.885800     1.017700   \n",
       "50%    3011.840000  2498.910000  2200.955600  1287.353800     1.317100   \n",
       "75%    3056.540000  2538.745000  2218.055500  1590.169900     1.529600   \n",
       "max    3356.350000  2846.440000  2315.266700  3715.041700  1114.536600   \n",
       "\n",
       "            5            6            7            8            9  ...  \\\n",
       "count  1567.0  1567.000000  1567.000000  1567.000000  1567.000000  ...   \n",
       "mean    100.0   101.112908     0.121822     1.462862    -0.000841  ...   \n",
       "std       0.0     6.209271     0.008936     0.073849     0.015107  ...   \n",
       "min     100.0    82.131100     0.000000     1.191000    -0.053400  ...   \n",
       "25%     100.0    97.937800     0.121100     1.411250    -0.010800  ...   \n",
       "50%     100.0   101.492200     0.122400     1.461600    -0.001300  ...   \n",
       "75%     100.0   104.530000     0.123800     1.516850     0.008400  ...   \n",
       "max     100.0   129.252200     0.128600     1.656400     0.074900  ...   \n",
       "\n",
       "               580          581          582          583          584  \\\n",
       "count  1567.000000  1567.000000  1567.000000  1567.000000  1567.000000   \n",
       "mean      0.005396    97.934373     0.500096     0.015318     0.003847   \n",
       "std       0.001956    54.936224     0.003403     0.017174     0.003719   \n",
       "min       0.001000     0.000000     0.477800     0.006000     0.001700   \n",
       "25%       0.005396    91.549650     0.497900     0.011600     0.003100   \n",
       "50%       0.005396    97.934373     0.500200     0.013800     0.003600   \n",
       "75%       0.005396    97.934373     0.502350     0.016500     0.004100   \n",
       "max       0.028600   737.304800     0.509800     0.476600     0.104500   \n",
       "\n",
       "               585          586          587          588          589  \n",
       "count  1567.000000  1567.000000  1567.000000  1567.000000  1567.000000  \n",
       "mean      3.067826     0.021458     0.016475     0.005283    99.670066  \n",
       "std       3.576891     0.012354     0.008805     0.002866    93.861936  \n",
       "min       1.197500    -0.016900     0.003200     0.001000     0.000000  \n",
       "25%       2.306500     0.013450     0.010600     0.003300    44.368600  \n",
       "50%       2.757700     0.020500     0.014800     0.004600    72.023000  \n",
       "75%       3.294950     0.027600     0.020300     0.006400   114.749700  \n",
       "max      99.303200     0.102800     0.079900     0.028600   737.304800  \n",
       "\n",
       "[8 rows x 590 columns]"
      ]
     },
     "execution_count": 15,
     "metadata": {},
     "output_type": "execute_result"
    }
   ],
   "source": [
    "import pandas as pd\n",
    "\n",
    "df = pd.read_csv(\n",
    "    \"./pca_data.csv\"\n",
    ")\n",
    "df.describe()"
   ]
  },
  {
   "cell_type": "code",
   "execution_count": 16,
   "metadata": {},
   "outputs": [
    {
     "data": {
      "text/plain": [
       "array([[ 1.64771044e+01,  6.81497692e+01, -1.28140177e+01, ...,\n",
       "        -8.67361738e-17, -3.29597460e-17, -1.70530257e-13],\n",
       "       [ 8.13271044e+01, -3.07102308e+01,  2.98748823e+01, ...,\n",
       "         3.62509579e-03,  7.16666667e-04,  1.08534434e+02],\n",
       "       [-8.18428956e+01,  6.40897692e+01, -1.41362177e+01, ...,\n",
       "         3.19250958e-02,  9.51666667e-03, -1.68098663e+01],\n",
       "       ...,\n",
       "       [-3.56428956e+01, -1.16070231e+02,  5.75268229e+00, ...,\n",
       "        -7.87490421e-03, -2.78333333e-03, -5.61469663e+01],\n",
       "       [-1.19532896e+02,  3.61597692e+01, -2.35140177e+01, ...,\n",
       "         8.02509579e-03,  2.21666667e-03, -6.17596635e+00],\n",
       "       [-6.95328956e+01, -4.50902308e+01, -5.10291771e+00, ...,\n",
       "        -2.74904215e-04, -7.83333333e-04,  3.81143337e+01]])"
      ]
     },
     "execution_count": 16,
     "metadata": {},
     "output_type": "execute_result"
    }
   ],
   "source": [
    "# 零值化处理：去除均值对变换的影响，减去均值后数据的信息量没有变化，即数据的区分度（方差）是不变的\n",
    "# 不去均值，第一主成分，可能会或多或少的与均值相关\n",
    "data = df.values\n",
    "mean = np.mean(data, axis=0)\n",
    "data = data - mean\n",
    "data"
   ]
  },
  {
   "cell_type": "code",
   "execution_count": 17,
   "metadata": {},
   "outputs": [
    {
     "data": {
      "text/plain": [
       "array([[ 5.39940056e+03, -8.47962623e+02,  1.02671010e+01, ...,\n",
       "        -1.67440688e-02, -5.93197815e-03,  2.87879850e+01],\n",
       "       [-8.47962623e+02,  6.43649877e+03,  1.35942679e+01, ...,\n",
       "         1.21967287e-02,  2.32652705e-03,  3.37335304e+02],\n",
       "       [ 1.02671010e+01,  1.35942679e+01,  8.63239193e+02, ...,\n",
       "        -7.59126039e-03, -2.59521865e-03, -9.07023669e+01],\n",
       "       ...,\n",
       "       [-1.67440688e-02,  1.21967287e-02, -7.59126039e-03, ...,\n",
       "         7.75231441e-05,  2.45865358e-05,  3.22979001e-01],\n",
       "       [-5.93197815e-03,  2.32652705e-03, -2.59521865e-03, ...,\n",
       "         2.45865358e-05,  8.21484994e-06,  1.04706789e-01],\n",
       "       [ 2.87879850e+01,  3.37335304e+02, -9.07023669e+01, ...,\n",
       "         3.22979001e-01,  1.04706789e-01,  8.81006310e+03]])"
      ]
     },
     "execution_count": 17,
     "metadata": {},
     "output_type": "execute_result"
    }
   ],
   "source": [
    "# 协方差矩阵\n",
    "covMat = np.cov(data, rowvar=False)\n",
    "covMat"
   ]
  },
  {
   "cell_type": "code",
   "execution_count": 18,
   "metadata": {},
   "outputs": [
    {
     "data": {
      "text/plain": [
       "[<matplotlib.lines.Line2D at 0x2f742549990>]"
      ]
     },
     "execution_count": 18,
     "metadata": {},
     "output_type": "execute_result"
    },
    {
     "data": {
      "image/png": "[encoded data removed]",
      "text/plain": [
       "<Figure size 640x480 with 1 Axes>"
      ]
     },
     "metadata": {},
     "output_type": "display_data"
    }
   ],
   "source": [
    "# 分解协方差矩阵获得特征值与特征向量，同时绘制出前 30 个特征值变化曲线图\n",
    "# 方差的急剧下降，到后面绝大多数的主成分所占方差几乎为 0，因此更说明了对该数据进行主成分分析的必要性。其中，第 4 个点是比较明显的拐点\n",
    "eigVal, eigVec = np.linalg.eig(np.mat(covMat))\n",
    "plt.plot(eigVal[:30], marker=\"o\")"
   ]
  },
  {
   "cell_type": "code",
   "execution_count": 19,
   "metadata": {},
   "outputs": [
    {
     "data": {
      "text/plain": [
       "(85484127.236119, 81131452.77696116)"
      ]
     },
     "execution_count": 19,
     "metadata": {},
     "output_type": "execute_result"
    }
   ],
   "source": [
    "sum(eigVal[:4]), sum(eigVal) * 0.9\n",
    "# 590 个主成分中，前 4 个主成分所占的方差就已经超过了 90%。说明后 586 个主成分仅占 10% ，即仅用前 4 个特征向量来映射数据，就可以保留绝大多数的原始数据信息"
   ]
  },
  {
   "cell_type": "code",
   "execution_count": 20,
   "metadata": {},
   "outputs": [
    {
     "data": {
      "text/plain": [
       "matrix([[-6.39070760e-04, -1.20314234e-04,  1.22460363e-04,\n",
       "         -2.72221201e-03],\n",
       "        [ 2.35722934e-05, -6.60163227e-04,  1.71369126e-03,\n",
       "          2.04941860e-04],\n",
       "        [ 2.36801459e-04,  1.58026311e-04,  3.28185512e-04,\n",
       "          4.20363040e-04],\n",
       "        ...,\n",
       "        [ 2.61329351e-08, -6.06233975e-09,  1.09328336e-09,\n",
       "          2.66843972e-07],\n",
       "        [ 5.62597732e-09,  5.96647587e-09,  8.83024927e-09,\n",
       "          5.91392106e-08],\n",
       "        [ 3.89298443e-04, -2.32070657e-04,  7.13534990e-04,\n",
       "         -1.42694472e-03]])"
      ]
     },
     "execution_count": 20,
     "metadata": {},
     "output_type": "execute_result"
    }
   ],
   "source": [
    "eigValInd = np.argsort(-eigVal)  # 特征值降序排序\n",
    "bestVec = eigVec[:, eigValInd[:4]]  # 取最好的 4 个特征向量\n",
    "bestVec"
   ]
  },
  {
   "cell_type": "code",
   "execution_count": 21,
   "metadata": {},
   "outputs": [
    {
     "data": {
      "text/plain": [
       "matrix([[5183.89616507, 3022.64772377, -688.38624272,   57.92893142],\n",
       "        [1866.69728394, 4021.63902468, 1505.57352582,  199.23992427],\n",
       "        [3154.74165413, 3461.98581552, 1855.44207771, -153.33360802],\n",
       "        ...,\n",
       "        [3821.21714302,  157.30328822, 1198.46485098,  -15.13555733],\n",
       "        [4271.04023715, 1300.47276359, -381.63452019,  298.64738407],\n",
       "        [3562.87329382, 3727.60719872,  418.43547367,  -35.86509797]])"
      ]
     },
     "execution_count": 21,
     "metadata": {},
     "output_type": "execute_result"
    }
   ],
   "source": [
    "np.dot(data, bestVec)"
   ]
  },
  {
   "cell_type": "code",
   "execution_count": 22,
   "metadata": {},
   "outputs": [
    {
     "data": {
      "text/plain": [
       "array([[-5183.89616507, -3022.64772377,   688.38624272,    57.92893134],\n",
       "       [-1866.69728394, -4021.63902468, -1505.57352582,   199.23992422],\n",
       "       [-3154.74165413, -3461.98581552, -1855.44207771,  -153.33360808],\n",
       "       ...,\n",
       "       [-3821.21714302,  -157.30328822, -1198.46485098,   -15.13555738],\n",
       "       [-4271.04023715, -1300.47276359,   381.63452019,   298.64738404],\n",
       "       [-3562.87329382, -3727.60719872,  -418.43547367,   -35.8650981 ]])"
      ]
     },
     "execution_count": 22,
     "metadata": {},
     "output_type": "execute_result"
    }
   ],
   "source": [
    "# 使用 sklearn.decomposition.PCA 进行处理\n",
    "from sklearn.decomposition import PCA\n",
    "\n",
    "pca = PCA(n_components=4)\n",
    "pca.fit_transform(data)"
   ]
  },
  {
   "cell_type": "code",
   "execution_count": null,
   "metadata": {},
   "outputs": [],
   "source": []
  }
 ],
 "metadata": {
  "kernelspec": {
   "display_name": "Python 3 (ipykernel)",
   "language": "python",
   "name": "python3"
  },
  "language_info": {
   "codemirror_mode": {
    "name": "ipython",
    "version": 3
   },
   "file_extension": ".py",
   "mimetype": "text/x-python",
   "name": "python",
   "nbconvert_exporter": "python",
   "pygments_lexer": "ipython3",
   "version": "3.11.8"
  }
 },
 "nbformat": 4,
 "nbformat_minor": 4
}
