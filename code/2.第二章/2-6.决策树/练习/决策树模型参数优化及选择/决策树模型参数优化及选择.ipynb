{
 "cells": [
  {
   "cell_type": "code",
   "execution_count": null,
   "id": "59a89576-01c9-4db4-a03a-b7698dc7dbd6",
   "metadata": {},
   "outputs": [],
   "source": [
    "### 网格搜索\n",
    "\n",
    "# 模型有参数 A 和参数 B，我们指定参数 A 有 P1，P2，P3 等 3 个参数，参数 B 有 P4，P5，P6 等 3 个参数。那么，通过排列组合有 9 种不同的情况。于是，就可以通过遍历来测试不同参数组合下模型的表现，得到最佳结果"
   ]
  },
  {
   "cell_type": "code",
   "execution_count": 9,
   "id": "2934e493-a034-4dfe-a28f-13d5271aa5ed",
   "metadata": {},
   "outputs": [
    {
     "data": {
      "text/plain": [
       "((1797, 64), (1797,))"
      ]
     },
     "execution_count": 9,
     "metadata": {},
     "output_type": "execute_result"
    }
   ],
   "source": [
    "from sklearn.datasets import load_digits\n",
    "\n",
    "digits = load_digits()\n",
    "\n",
    "digits.data.shape, digits.target.shape"
   ]
  },
  {
   "cell_type": "code",
   "execution_count": 10,
   "id": "8254821d-c56b-4b0b-8e6f-3d73aa06525d",
   "metadata": {},
   "outputs": [],
   "source": [
    "# 这是普通的模型训练，但是本次练习是要进行参数选取\n",
    "# from sklearn.model_selection import train_test_split\n",
    "\n",
    "# X_train, X_test, y_train, y_test = train_test_split(\n",
    "#     digits.data, digits.target, test_size=0.3, random_state=5\n",
    "# )\n",
    "\n",
    "# import numpy as np\n",
    "# from sklearn.tree import DecisionTreeClassifier\n",
    "# from sklearn.model_selection import cross_val_score\n",
    "\n",
    "# model = DecisionTreeClassifier(random_state=42)\n",
    "# model.fit(X_train, y_train)  # 使用训练集训练模型\n",
    "# model.score(X_test,y_test)"
   ]
  },
  {
   "cell_type": "code",
   "execution_count": 11,
   "id": "4a984196-947e-4f4b-9d24-4056158754ca",
   "metadata": {},
   "outputs": [
    {
     "data": {
      "text/plain": [
       "0.7885639121015166"
      ]
     },
     "execution_count": 11,
     "metadata": {},
     "output_type": "execute_result"
    }
   ],
   "source": [
    "from sklearn.model_selection import cross_val_score\n",
    "from sklearn.tree import DecisionTreeClassifier\n",
    "\n",
    "# 建立 CART 决策树\n",
    "model = DecisionTreeClassifier(random_state=42)\n",
    "\n",
    "# 5 折交叉验证结果的平均分类准确度\n",
    "# 即得到数据的期望准确度？\n",
    "cvs = cross_val_score(model, digits.data, digits.target, cv=5)\n",
    "np.mean(cvs)"
   ]
  },
  {
   "cell_type": "code",
   "execution_count": 16,
   "id": "5cb2cf13-061c-466a-bc60-dd14aea14bbc",
   "metadata": {},
   "outputs": [
    {
     "data": {
      "text/plain": [
       "0.7885639121015166"
      ]
     },
     "execution_count": 16,
     "metadata": {},
     "output_type": "execute_result"
    }
   ],
   "source": [
    "from sklearn.model_selection import GridSearchCV\n",
    "\n",
    "# 定义网格搜索的参数选项\n",
    "tuned_parameters = {\"min_samples_split\": [2, 10, 20], \"min_samples_leaf\": [1, 5, 10]}\n",
    "gs_model = GridSearchCV(model, tuned_parameters, cv=5)\n",
    "gs_model.fit(digits.data, digits.target)\n",
    "# 网格中分数最高的\n",
    "gs_model.best_score_  # 输出网格搜索交叉验证最佳结果"
   ]
  },
  {
   "cell_type": "code",
   "execution_count": 17,
   "id": "9637a0f0-d817-4d89-846f-39990f82ec28",
   "metadata": {},
   "outputs": [
    {
     "data": {
      "text/plain": [
       "{'min_samples_leaf': 1, 'min_samples_split': 2}"
      ]
     },
     "execution_count": 17,
     "metadata": {},
     "output_type": "execute_result"
    }
   ],
   "source": [
    "gs_model.best_params_  # 查看网格搜索最佳参数"
   ]
  },
  {
   "cell_type": "code",
   "execution_count": 21,
   "id": "09651d9d-76f2-4b23-b0b8-82c82e24da69",
   "metadata": {},
   "outputs": [
    {
     "data": {
      "text/plain": [
       "{'min_samples_leaf': 7, 'min_samples_split': 19}"
      ]
     },
     "execution_count": 21,
     "metadata": {},
     "output_type": "execute_result"
    }
   ],
   "source": [
    "#### 随机搜索\n",
    "\n",
    "from scipy.stats import randint\n",
    "from sklearn.model_selection import RandomizedSearchCV\n",
    "\n",
    "tuned_parameters = {\"min_samples_split\": randint(2, 20), \"min_samples_leaf\": randint(1, 10)}\n",
    "\n",
    "# cv=5 使用5折数据\n",
    "# n_iter：随机搜索多少组数据\n",
    "rs_model = RandomizedSearchCV(model, tuned_parameters, cv=5,n_iter=10)\n",
    "rs_model.fit(digits.data, digits.target)\n",
    "\n",
    "rs_model.best_score_  # 输出网格搜索交叉验证最佳结果\n",
    "rs_model.best_params_  "
   ]
  },
  {
   "cell_type": "code",
   "execution_count": null,
   "id": "1dad6e0e-0b93-4601-956e-449f9054fe29",
   "metadata": {},
   "outputs": [],
   "source": []
  }
 ],
 "metadata": {
  "kernelspec": {
   "display_name": "Python 3 (ipykernel)",
   "language": "python",
   "name": "python3"
  },
  "language_info": {
   "codemirror_mode": {
    "name": "ipython",
    "version": 3
   },
   "file_extension": ".py",
   "mimetype": "text/x-python",
   "name": "python",
   "nbconvert_exporter": "python",
   "pygments_lexer": "ipython3",
   "version": "3.11.8"
  }
 },
 "nbformat": 4,
 "nbformat_minor": 5
}
