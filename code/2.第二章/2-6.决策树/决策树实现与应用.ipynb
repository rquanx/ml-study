{
 "cells": [
  {
   "cell_type": "code",
   "execution_count": 1,
   "id": "3ad92827-060f-4e4f-ae5b-07735b03b149",
   "metadata": {},
   "outputs": [],
   "source": [
    "import numpy as np\n",
    "import pandas as pd\n",
    "\n",
    "\n",
    "# 数据包含两个类别 man 和 woman，特征分别为：hair（头发长短），voice（声音粗细），height（身高），ear_stud（是否带有耳钉）\n",
    "def create_data():\n",
    "    # 生成示例数据\n",
    "    data_value = np.array(\n",
    "        [\n",
    "            [\"long\", \"thick\", 175, \"no\", \"man\"],\n",
    "            [\"short\", \"medium\", 168, \"no\", \"man\"],\n",
    "            [\"short\", \"thin\", 178, \"yes\", \"man\"],\n",
    "            [\"short\", \"thick\", 172, \"no\", \"man\"],\n",
    "            [\"long\", \"medium\", 163, \"no\", \"man\"],\n",
    "            [\"short\", \"thick\", 180, \"no\", \"man\"],\n",
    "            [\"long\", \"thick\", 173, \"yes\", \"man\"],\n",
    "            [\"short\", \"thin\", 174, \"no\", \"man\"],\n",
    "            [\"long\", \"thin\", 164, \"yes\", \"woman\"],\n",
    "            [\"long\", \"medium\", 158, \"yes\", \"woman\"],\n",
    "            [\"long\", \"thick\", 161, \"yes\", \"woman\"],\n",
    "            [\"short\", \"thin\", 166, \"yes\", \"woman\"],\n",
    "            [\"long\", \"thin\", 158, \"no\", \"woman\"],\n",
    "            [\"short\", \"medium\", 163, \"no\", \"woman\"],\n",
    "            [\"long\", \"thick\", 161, \"yes\", \"woman\"],\n",
    "            [\"long\", \"thin\", 164, \"no\", \"woman\"],\n",
    "            [\"short\", \"medium\", 172, \"yes\", \"woman\"],\n",
    "        ]\n",
    "    )\n",
    "    columns = np.array([\"hair\", \"voice\", \"height\", \"ear_stud\", \"labels\"])\n",
    "    data = pd.DataFrame(data_value.reshape(17, 5), columns=columns)\n",
    "    return data"
   ]
  },
  {
   "cell_type": "code",
   "execution_count": 3,
   "id": "40ee08ca-4592-4f67-9955-e39c540054bb",
   "metadata": {},
   "outputs": [
    {
     "data": {
      "text/html": [
       "<div>\n",
       "<style scoped>\n",
       "    .dataframe tbody tr th:only-of-type {\n",
       "        vertical-align: middle;\n",
       "    }\n",
       "\n",
       "    .dataframe tbody tr th {\n",
       "        vertical-align: top;\n",
       "    }\n",
       "\n",
       "    .dataframe thead th {\n",
       "        text-align: right;\n",
       "    }\n",
       "</style>\n",
       "<table border=\"1\" class=\"dataframe\">\n",
       "  <thead>\n",
       "    <tr style=\"text-align: right;\">\n",
       "      <th></th>\n",
       "      <th>hair</th>\n",
       "      <th>voice</th>\n",
       "      <th>height</th>\n",
       "      <th>ear_stud</th>\n",
       "      <th>labels</th>\n",
       "    </tr>\n",
       "  </thead>\n",
       "  <tbody>\n",
       "    <tr>\n",
       "      <th>0</th>\n",
       "      <td>long</td>\n",
       "      <td>thick</td>\n",
       "      <td>175</td>\n",
       "      <td>no</td>\n",
       "      <td>man</td>\n",
       "    </tr>\n",
       "    <tr>\n",
       "      <th>1</th>\n",
       "      <td>short</td>\n",
       "      <td>medium</td>\n",
       "      <td>168</td>\n",
       "      <td>no</td>\n",
       "      <td>man</td>\n",
       "    </tr>\n",
       "    <tr>\n",
       "      <th>2</th>\n",
       "      <td>short</td>\n",
       "      <td>thin</td>\n",
       "      <td>178</td>\n",
       "      <td>yes</td>\n",
       "      <td>man</td>\n",
       "    </tr>\n",
       "    <tr>\n",
       "      <th>3</th>\n",
       "      <td>short</td>\n",
       "      <td>thick</td>\n",
       "      <td>172</td>\n",
       "      <td>no</td>\n",
       "      <td>man</td>\n",
       "    </tr>\n",
       "    <tr>\n",
       "      <th>4</th>\n",
       "      <td>long</td>\n",
       "      <td>medium</td>\n",
       "      <td>163</td>\n",
       "      <td>no</td>\n",
       "      <td>man</td>\n",
       "    </tr>\n",
       "  </tbody>\n",
       "</table>\n",
       "</div>"
      ],
      "text/plain": [
       "    hair   voice height ear_stud labels\n",
       "0   long   thick    175       no    man\n",
       "1  short  medium    168       no    man\n",
       "2  short    thin    178      yes    man\n",
       "3  short   thick    172       no    man\n",
       "4   long  medium    163       no    man"
      ]
     },
     "execution_count": 3,
     "metadata": {},
     "output_type": "execute_result"
    }
   ],
   "source": [
    "data = create_data()\n",
    "data.head()"
   ]
  },
  {
   "cell_type": "code",
   "execution_count": null,
   "id": "0f4cb1ce-9d69-4e87-90ae-126556be042a",
   "metadata": {},
   "outputs": [],
   "source": [
    "# 以上数据只有 man 和 woman,man 占据 8 / 17, women 占 9 / 17\n",
    "\n",
    "# 对应到信息熵公式则有\n",
    "# Ent(data) = -(8 / 17 * log2(8 / 17) + 9 / 17 * log2(9 / 17)) = 0.9975"
   ]
  },
  {
   "cell_type": "code",
   "execution_count": 7,
   "id": "90ed3d32-0a5c-4854-af5a-e4f2ec52f45b",
   "metadata": {},
   "outputs": [],
   "source": [
    "import math\n",
    "\n",
    "\n",
    "def get_Ent(data):\n",
    "    \"\"\"\n",
    "    参数:\n",
    "    data -- 数据集\n",
    "\n",
    "    返回:\n",
    "    Ent -- 信息熵\n",
    "    \"\"\"\n",
    "    # 计算信息熵\n",
    "    num_sample = len(data)  # 样本个数\n",
    "    label_counts = {}  # 初始化标签统计字典\n",
    "    for i in range(num_sample):\n",
    "        each_data = data.iloc[i, :]\n",
    "        current_label = each_data[\"labels\"]  # 得到当前元素的标签（label）\n",
    "\n",
    "        # 如果标签不在当前字典中，添加该类标签并初始化 value=0,否则该类标签 value+1\n",
    "        if current_label not in label_counts.keys():\n",
    "            label_counts[current_label] = 0\n",
    "        label_counts[current_label] += 1\n",
    "    print(f\"label_counts: {label_counts}\")\n",
    "    Ent = 0.0  # 初始化信息熵\n",
    "    for key in label_counts:\n",
    "        prob = float(label_counts[key]) / num_sample\n",
    "        Ent -= prob * math.log(prob, 2)  # 应用信息熵公式计算信息熵\n",
    "    return Ent"
   ]
  },
  {
   "cell_type": "code",
   "execution_count": 8,
   "id": "1f3f4bf7-3d92-4188-935f-cafa767b0dd9",
   "metadata": {},
   "outputs": [
    {
     "name": "stdout",
     "output_type": "stream",
     "text": [
      "label_counts: {'man': 8, 'woman': 9}\n"
     ]
    },
    {
     "data": {
      "text/plain": [
       "0.9975025463691153"
      ]
     },
     "execution_count": 8,
     "metadata": {},
     "output_type": "execute_result"
    }
   ],
   "source": [
    "base_ent = get_Ent(data)\n",
    "base_ent"
   ]
  },
  {
   "cell_type": "code",
   "execution_count": 9,
   "id": "237c1122-a93d-4da4-906d-bf9567ecc155",
   "metadata": {},
   "outputs": [],
   "source": [
    "def get_gain(data, base_ent, feature):\n",
    "    \"\"\"\n",
    "    参数:\n",
    "    data -- 数据集\n",
    "    base_ent -- 根节点的信息熵\n",
    "    feature -- 计算信息增益的特征\n",
    "\n",
    "    返回:\n",
    "    Ent -- 信息熵\n",
    "    \"\"\"\n",
    "    # 计算信息增益\n",
    "    feature_list = data[feature]  # 得到一个特征的全部取值\n",
    "    unique_value = set(feature_list)  # 特征取值的类别\n",
    "    feature_ent = 0.0\n",
    "\n",
    "    for each_feature in unique_value:\n",
    "        temp_data = data[data[feature] == each_feature]\n",
    "        weight = len(temp_data) / len(feature_list)  # 计算该特征的权重值\n",
    "        temp_ent = weight * get_Ent(temp_data)\n",
    "        feature_ent = feature_ent + temp_ent\n",
    "\n",
    "    gain = base_ent - feature_ent  # 信息增益\n",
    "    return gain"
   ]
  },
  {
   "cell_type": "code",
   "execution_count": 10,
   "id": "661a0101-18ab-4b79-8c5f-4e90709ffe38",
   "metadata": {},
   "outputs": [
    {
     "name": "stdout",
     "output_type": "stream",
     "text": [
      "label_counts: {'man': 3, 'woman': 6}\n",
      "label_counts: {'man': 5, 'woman': 3}\n"
     ]
    },
    {
     "data": {
      "text/plain": [
       "0.062200515199107964"
      ]
     },
     "execution_count": 10,
     "metadata": {},
     "output_type": "execute_result"
    }
   ],
   "source": [
    "get_gain(data, base_ent, \"hair\")"
   ]
  },
  {
   "cell_type": "code",
   "execution_count": 19,
   "id": "2e18af4a-2eff-4d6c-a226-5ee2f300833f",
   "metadata": {},
   "outputs": [],
   "source": [
    "# 通过二分法处理连续值\n",
    "# 计算 连续值最优划分点\n",
    "def get_splitpoint(data, base_ent, feature):\n",
    "    \"\"\"\n",
    "    参数:\n",
    "    data -- 数据集\n",
    "    base_ent -- 根节点的信息熵\n",
    "    feature -- 需要划分的连续特征\n",
    "\n",
    "    返回:\n",
    "    final_t -- 连续值最优划分点\n",
    "    \"\"\"\n",
    "    # 将连续值进行排序并转化为浮点类型\n",
    "    continues_value = data[feature].sort_values().astype(np.float64)\n",
    "    continues_value = [i for i in continues_value]  # 不保留原来的索引\n",
    "    t_set = []\n",
    "    t_ent = {}\n",
    "\n",
    "    # 得到划分点 t 的集合\n",
    "    for i in range(len(continues_value) - 1):\n",
    "        temp_t = (continues_value[i] + continues_value[i + 1]) / 2\n",
    "        t_set.append(temp_t)\n",
    "    print(f\"continues_value: {continues_value} {len(continues_value)}\")\n",
    "    print(f\"t_set: {t_set} {len(t_set)}\")\n",
    "    print()\n",
    "    # 计算最优划分点\n",
    "    for each_t in t_set:\n",
    "        # 将大于划分点的分为一类\n",
    "        temp1_data = data[data[feature].astype(np.float64) > each_t]\n",
    "        # 将小于划分点的分为一类\n",
    "        temp2_data = data[data[feature].astype(np.float64) < each_t]\n",
    "\n",
    "        weight1 = len(temp1_data) / len(data)\n",
    "        weight2 = len(temp2_data) / len(data)\n",
    "        # 计算每个划分点的信息增益\n",
    "        temp_ent = (\n",
    "            base_ent - weight1 * get_Ent(temp1_data) - weight2 * get_Ent(temp2_data)\n",
    "        )\n",
    "        t_ent[each_t] = temp_ent\n",
    "    print(\"t_ent:\", t_ent)\n",
    "    final_t = max(t_ent, key=t_ent.get)\n",
    "    return final_t"
   ]
  },
  {
   "cell_type": "code",
   "execution_count": 20,
   "id": "6670991a-dd10-46c6-a149-58661303290b",
   "metadata": {},
   "outputs": [
    {
     "name": "stdout",
     "output_type": "stream",
     "text": [
      "continues_value: [158.0, 158.0, 161.0, 161.0, 163.0, 163.0, 164.0, 164.0, 166.0, 168.0, 172.0, 172.0, 173.0, 174.0, 175.0, 178.0, 180.0] 17\n",
      "t_set: [158.0, 159.5, 161.0, 162.0, 163.0, 163.5, 164.0, 165.0, 167.0, 170.0, 172.0, 172.5, 173.5, 174.5, 176.5, 179.0] 16\n",
      "\n",
      "label_counts: {'man': 8, 'woman': 7}\n",
      "label_counts: {}\n",
      "label_counts: {'man': 8, 'woman': 7}\n",
      "label_counts: {'woman': 2}\n",
      "label_counts: {'man': 8, 'woman': 5}\n",
      "label_counts: {'woman': 2}\n",
      "label_counts: {'man': 8, 'woman': 5}\n",
      "label_counts: {'woman': 4}\n",
      "label_counts: {'man': 7, 'woman': 4}\n",
      "label_counts: {'woman': 4}\n",
      "label_counts: {'man': 7, 'woman': 4}\n",
      "label_counts: {'man': 1, 'woman': 5}\n",
      "label_counts: {'man': 7, 'woman': 2}\n",
      "label_counts: {'man': 1, 'woman': 5}\n",
      "label_counts: {'man': 7, 'woman': 2}\n",
      "label_counts: {'man': 1, 'woman': 7}\n",
      "label_counts: {'man': 7, 'woman': 1}\n",
      "label_counts: {'man': 1, 'woman': 8}\n",
      "label_counts: {'man': 6, 'woman': 1}\n",
      "label_counts: {'man': 2, 'woman': 8}\n",
      "label_counts: {'man': 5}\n",
      "label_counts: {'man': 2, 'woman': 8}\n",
      "label_counts: {'man': 5}\n",
      "label_counts: {'man': 3, 'woman': 9}\n",
      "label_counts: {'man': 4}\n",
      "label_counts: {'man': 4, 'woman': 9}\n",
      "label_counts: {'man': 3}\n",
      "label_counts: {'man': 5, 'woman': 9}\n",
      "label_counts: {'man': 2}\n",
      "label_counts: {'man': 6, 'woman': 9}\n",
      "label_counts: {'man': 1}\n",
      "label_counts: {'man': 7, 'woman': 9}\n",
      "t_ent: {158.0: 0.1179805181500242, 159.5: 0.1179805181500242, 161.0: 0.2624392604045631, 162.0: 0.2624392604045631, 163.0: 0.3856047022157598, 163.5: 0.15618502398692893, 164.0: 0.3635040117533678, 165.0: 0.33712865788827096, 167.0: 0.4752766311586692, 170.0: 0.32920899348970845, 172.0: 0.5728389611412551, 172.5: 0.4248356349861979, 173.5: 0.3165383509071513, 174.5: 0.22314940393447813, 176.5: 0.14078143361499595, 179.0: 0.06696192680347068}\n"
     ]
    },
    {
     "data": {
      "text/plain": [
       "172.0"
      ]
     },
     "execution_count": 20,
     "metadata": {},
     "output_type": "execute_result"
    }
   ],
   "source": [
    "final_t = get_splitpoint(data, base_ent, \"height\")\n",
    "final_t"
   ]
  },
  {
   "cell_type": "code",
   "execution_count": 21,
   "id": "31f49e16-0631-4660-8222-e41da4f79b9c",
   "metadata": {},
   "outputs": [
    {
     "data": {
      "text/html": [
       "<div>\n",
       "<style scoped>\n",
       "    .dataframe tbody tr th:only-of-type {\n",
       "        vertical-align: middle;\n",
       "    }\n",
       "\n",
       "    .dataframe tbody tr th {\n",
       "        vertical-align: top;\n",
       "    }\n",
       "\n",
       "    .dataframe thead th {\n",
       "        text-align: right;\n",
       "    }\n",
       "</style>\n",
       "<table border=\"1\" class=\"dataframe\">\n",
       "  <thead>\n",
       "    <tr style=\"text-align: right;\">\n",
       "      <th></th>\n",
       "      <th>hair</th>\n",
       "      <th>voice</th>\n",
       "      <th>height</th>\n",
       "      <th>ear_stud</th>\n",
       "      <th>labels</th>\n",
       "    </tr>\n",
       "  </thead>\n",
       "  <tbody>\n",
       "    <tr>\n",
       "      <th>0</th>\n",
       "      <td>long</td>\n",
       "      <td>thick</td>\n",
       "      <td>&gt;172.0</td>\n",
       "      <td>no</td>\n",
       "      <td>man</td>\n",
       "    </tr>\n",
       "    <tr>\n",
       "      <th>1</th>\n",
       "      <td>short</td>\n",
       "      <td>medium</td>\n",
       "      <td>&lt;172.0</td>\n",
       "      <td>no</td>\n",
       "      <td>man</td>\n",
       "    </tr>\n",
       "    <tr>\n",
       "      <th>2</th>\n",
       "      <td>short</td>\n",
       "      <td>thin</td>\n",
       "      <td>&gt;172.0</td>\n",
       "      <td>yes</td>\n",
       "      <td>man</td>\n",
       "    </tr>\n",
       "    <tr>\n",
       "      <th>3</th>\n",
       "      <td>short</td>\n",
       "      <td>thick</td>\n",
       "      <td>&lt;172.0</td>\n",
       "      <td>no</td>\n",
       "      <td>man</td>\n",
       "    </tr>\n",
       "    <tr>\n",
       "      <th>4</th>\n",
       "      <td>long</td>\n",
       "      <td>medium</td>\n",
       "      <td>&lt;172.0</td>\n",
       "      <td>no</td>\n",
       "      <td>man</td>\n",
       "    </tr>\n",
       "    <tr>\n",
       "      <th>5</th>\n",
       "      <td>short</td>\n",
       "      <td>thick</td>\n",
       "      <td>&gt;172.0</td>\n",
       "      <td>no</td>\n",
       "      <td>man</td>\n",
       "    </tr>\n",
       "    <tr>\n",
       "      <th>6</th>\n",
       "      <td>long</td>\n",
       "      <td>thick</td>\n",
       "      <td>&gt;172.0</td>\n",
       "      <td>yes</td>\n",
       "      <td>man</td>\n",
       "    </tr>\n",
       "    <tr>\n",
       "      <th>7</th>\n",
       "      <td>short</td>\n",
       "      <td>thin</td>\n",
       "      <td>&gt;172.0</td>\n",
       "      <td>no</td>\n",
       "      <td>man</td>\n",
       "    </tr>\n",
       "    <tr>\n",
       "      <th>8</th>\n",
       "      <td>long</td>\n",
       "      <td>thin</td>\n",
       "      <td>&lt;172.0</td>\n",
       "      <td>yes</td>\n",
       "      <td>woman</td>\n",
       "    </tr>\n",
       "    <tr>\n",
       "      <th>9</th>\n",
       "      <td>long</td>\n",
       "      <td>medium</td>\n",
       "      <td>&lt;172.0</td>\n",
       "      <td>yes</td>\n",
       "      <td>woman</td>\n",
       "    </tr>\n",
       "    <tr>\n",
       "      <th>10</th>\n",
       "      <td>long</td>\n",
       "      <td>thick</td>\n",
       "      <td>&lt;172.0</td>\n",
       "      <td>yes</td>\n",
       "      <td>woman</td>\n",
       "    </tr>\n",
       "    <tr>\n",
       "      <th>11</th>\n",
       "      <td>short</td>\n",
       "      <td>thin</td>\n",
       "      <td>&lt;172.0</td>\n",
       "      <td>yes</td>\n",
       "      <td>woman</td>\n",
       "    </tr>\n",
       "    <tr>\n",
       "      <th>12</th>\n",
       "      <td>long</td>\n",
       "      <td>thin</td>\n",
       "      <td>&lt;172.0</td>\n",
       "      <td>no</td>\n",
       "      <td>woman</td>\n",
       "    </tr>\n",
       "    <tr>\n",
       "      <th>13</th>\n",
       "      <td>short</td>\n",
       "      <td>medium</td>\n",
       "      <td>&lt;172.0</td>\n",
       "      <td>no</td>\n",
       "      <td>woman</td>\n",
       "    </tr>\n",
       "    <tr>\n",
       "      <th>14</th>\n",
       "      <td>long</td>\n",
       "      <td>thick</td>\n",
       "      <td>&lt;172.0</td>\n",
       "      <td>yes</td>\n",
       "      <td>woman</td>\n",
       "    </tr>\n",
       "    <tr>\n",
       "      <th>15</th>\n",
       "      <td>long</td>\n",
       "      <td>thin</td>\n",
       "      <td>&lt;172.0</td>\n",
       "      <td>no</td>\n",
       "      <td>woman</td>\n",
       "    </tr>\n",
       "    <tr>\n",
       "      <th>16</th>\n",
       "      <td>short</td>\n",
       "      <td>medium</td>\n",
       "      <td>&lt;172.0</td>\n",
       "      <td>yes</td>\n",
       "      <td>woman</td>\n",
       "    </tr>\n",
       "  </tbody>\n",
       "</table>\n",
       "</div>"
      ],
      "text/plain": [
       "     hair   voice  height ear_stud labels\n",
       "0    long   thick  >172.0       no    man\n",
       "1   short  medium  <172.0       no    man\n",
       "2   short    thin  >172.0      yes    man\n",
       "3   short   thick  <172.0       no    man\n",
       "4    long  medium  <172.0       no    man\n",
       "5   short   thick  >172.0       no    man\n",
       "6    long   thick  >172.0      yes    man\n",
       "7   short    thin  >172.0       no    man\n",
       "8    long    thin  <172.0      yes  woman\n",
       "9    long  medium  <172.0      yes  woman\n",
       "10   long   thick  <172.0      yes  woman\n",
       "11  short    thin  <172.0      yes  woman\n",
       "12   long    thin  <172.0       no  woman\n",
       "13  short  medium  <172.0       no  woman\n",
       "14   long   thick  <172.0      yes  woman\n",
       "15   long    thin  <172.0       no  woman\n",
       "16  short  medium  <172.0      yes  woman"
      ]
     },
     "execution_count": 21,
     "metadata": {},
     "output_type": "execute_result"
    }
   ],
   "source": [
    "# 利用找出的分界值，将数据分为两类\n",
    "def choice_1(x, t):\n",
    "    if x > t:\n",
    "        return \">{}\".format(t)\n",
    "    else:\n",
    "        return \"<{}\".format(t)\n",
    "\n",
    "\n",
    "deal_data = data.copy()\n",
    "# 使用lambda和map函数将 height 按照final_t划分为两个类别\n",
    "deal_data[\"height\"] = pd.Series(\n",
    "    map(lambda x: choice_1(int(x), final_t), deal_data[\"height\"])\n",
    ")\n",
    "deal_data"
   ]
  },
  {
   "cell_type": "code",
   "execution_count": 22,
   "id": "6bc7258a-a6ce-496a-9af6-da18b5be4320",
   "metadata": {},
   "outputs": [],
   "source": [
    "# 计算信息增益最大的特征\n",
    "def choose_feature(data):\n",
    "    \"\"\"\n",
    "    参数:\n",
    "    data -- 数据集\n",
    "\n",
    "    返回:\n",
    "    best_feature -- 最优的划分特征\n",
    "    \"\"\"\n",
    "    # 选择最优划分特征\n",
    "    num_features = len(data.columns) - 1  # 特征数量\n",
    "    base_ent = get_Ent(data)\n",
    "    best_gain = 0.0  # 初始化信息增益\n",
    "    best_feature = data.columns[0]\n",
    "    for i in range(num_features):  # 遍历所有特征\n",
    "        temp_gain = get_gain(data, base_ent, data.columns[i])  # 计算信息增益\n",
    "        if temp_gain > best_gain:  # 选择最大的信息增益\n",
    "            best_gain = temp_gain\n",
    "            best_feature = data.columns[i]\n",
    "    return best_feature  # 返回最优特征"
   ]
  },
  {
   "cell_type": "code",
   "execution_count": 23,
   "id": "5fd0bde3-8394-4912-92c1-0a2766194146",
   "metadata": {},
   "outputs": [
    {
     "name": "stdout",
     "output_type": "stream",
     "text": [
      "label_counts: {'man': 8, 'woman': 9}\n",
      "label_counts: {'man': 3, 'woman': 6}\n",
      "label_counts: {'man': 5, 'woman': 3}\n",
      "label_counts: {'man': 2, 'woman': 4}\n",
      "label_counts: {'man': 4, 'woman': 2}\n",
      "label_counts: {'man': 2, 'woman': 3}\n",
      "label_counts: {'man': 3, 'woman': 9}\n",
      "label_counts: {'man': 5}\n",
      "label_counts: {'man': 6, 'woman': 3}\n",
      "label_counts: {'man': 2, 'woman': 6}\n"
     ]
    },
    {
     "data": {
      "text/plain": [
       "'height'"
      ]
     },
     "execution_count": 23,
     "metadata": {},
     "output_type": "execute_result"
    }
   ],
   "source": [
    "choose_feature(deal_data)"
   ]
  },
  {
   "cell_type": "code",
   "execution_count": 24,
   "id": "3b893731-d4f1-4009-89ee-0c9a8df8b91c",
   "metadata": {},
   "outputs": [],
   "source": [
    "# 反复遍历数据集，计算每一个特征的信息增益，通过比较将最好的特征作为父节点，根据特征的值确定分支子节点，然后重复以上操作，直到某一个分支全部属于同一类别，或者遍历完所有的数据特征，当遍历到最后一个特征时，若分支数据依然「不纯」，就将其中数量较多的类别作为子节点\n",
    "\n",
    "def create_tree(data):\n",
    "    \"\"\"\n",
    "    参数:\n",
    "    data -- 数据集\n",
    "\n",
    "    返回:\n",
    "    tree -- 以字典的形式返回决策树\n",
    "    \"\"\"\n",
    "    # 构建决策树\n",
    "    feature_list = data.columns[:-1].tolist()\n",
    "    label_list = data.iloc[:, -1]\n",
    "    if len(data[\"labels\"].value_counts()) == 1:\n",
    "        leaf_node = data[\"labels\"].mode().values\n",
    "        return leaf_node  # 第一个递归结束条件：所有的类标签完全相同\n",
    "    if len(feature_list) == 1:\n",
    "        leaf_node = data[\"labels\"].mode().values\n",
    "        return leaf_node  # 第二个递归结束条件：用完了所有特征\n",
    "    best_feature = choose_feature(data)  # 最优划分特征\n",
    "    tree = {best_feature: {}}\n",
    "    feat_values = data[best_feature]\n",
    "    unique_value = set(feat_values)\n",
    "    for value in unique_value:\n",
    "        temp_data = data[data[best_feature] == value]\n",
    "        temp_data = temp_data.drop([best_feature], axis=1)\n",
    "        tree[best_feature][value] = create_tree(temp_data)\n",
    "    return tree"
   ]
  },
  {
   "cell_type": "code",
   "execution_count": 25,
   "id": "4c99acf1-4b66-4b70-8e83-5d17ca74454e",
   "metadata": {},
   "outputs": [
    {
     "name": "stdout",
     "output_type": "stream",
     "text": [
      "label_counts: {'man': 8, 'woman': 9}\n",
      "label_counts: {'man': 3, 'woman': 6}\n",
      "label_counts: {'man': 5, 'woman': 3}\n",
      "label_counts: {'man': 2, 'woman': 4}\n",
      "label_counts: {'man': 4, 'woman': 2}\n",
      "label_counts: {'man': 2, 'woman': 3}\n",
      "label_counts: {'man': 3, 'woman': 9}\n",
      "label_counts: {'man': 5}\n",
      "label_counts: {'man': 6, 'woman': 3}\n",
      "label_counts: {'man': 2, 'woman': 6}\n",
      "label_counts: {'man': 3, 'woman': 9}\n",
      "label_counts: {'man': 2, 'woman': 3}\n",
      "label_counts: {'man': 1, 'woman': 6}\n",
      "label_counts: {'woman': 4}\n",
      "label_counts: {'man': 1, 'woman': 2}\n",
      "label_counts: {'man': 2, 'woman': 3}\n",
      "label_counts: {'man': 3, 'woman': 3}\n",
      "label_counts: {'woman': 6}\n",
      "label_counts: {'man': 3, 'woman': 3}\n",
      "label_counts: {'man': 2, 'woman': 1}\n",
      "label_counts: {'man': 1, 'woman': 2}\n",
      "label_counts: {'woman': 2}\n",
      "label_counts: {'man': 1}\n",
      "label_counts: {'man': 2, 'woman': 1}\n"
     ]
    },
    {
     "data": {
      "text/plain": [
       "{'height': {'<172.0': {'ear_stud': {'no': {'voice': {'thin': array(['woman'], dtype=object),\n",
       "      'thick': array(['man'], dtype=object),\n",
       "      'medium': array(['man'], dtype=object)}},\n",
       "    'yes': array(['woman'], dtype=object)}},\n",
       "  '>172.0': array(['man'], dtype=object)}}"
      ]
     },
     "execution_count": 25,
     "metadata": {},
     "output_type": "execute_result"
    }
   ],
   "source": [
    "tree = create_tree(deal_data)\n",
    "tree"
   ]
  },
  {
   "cell_type": "code",
   "execution_count": 32,
   "id": "25d9efd5-fb70-4832-b151-5e1a95336008",
   "metadata": {},
   "outputs": [],
   "source": [
    "def classify(tree, test):\n",
    "    \"\"\"\n",
    "    参数:\n",
    "    data -- 数据集\n",
    "    test -- 需要测试的数据\n",
    "\n",
    "    返回:\n",
    "    class_label -- 分类结果\n",
    "    \"\"\"\n",
    "    # 决策分类\n",
    "    first_feature = list(tree.keys())[0]  # 获取根节点\n",
    "    feature_dict = tree[first_feature]  # 根节点下的树\n",
    "    labels = test.columns.tolist()\n",
    "    value = test[first_feature][0]\n",
    "    for key in feature_dict.keys():\n",
    "        if value == key:\n",
    "            if type(feature_dict[key]).__name__ == \"dict\":  # 判断该节点是否为叶节点\n",
    "                class_label = classify(feature_dict[key], test)  # 采用递归直到遍历到叶节点\n",
    "            else:\n",
    "                class_label = feature_dict[key]\n",
    "    return class_label"
   ]
  },
  {
   "cell_type": "code",
   "execution_count": 33,
   "id": "8c1fb3f9-48dd-475f-ad61-da059508a955",
   "metadata": {},
   "outputs": [
    {
     "data": {
      "text/html": [
       "<div>\n",
       "<style scoped>\n",
       "    .dataframe tbody tr th:only-of-type {\n",
       "        vertical-align: middle;\n",
       "    }\n",
       "\n",
       "    .dataframe tbody tr th {\n",
       "        vertical-align: top;\n",
       "    }\n",
       "\n",
       "    .dataframe thead th {\n",
       "        text-align: right;\n",
       "    }\n",
       "</style>\n",
       "<table border=\"1\" class=\"dataframe\">\n",
       "  <thead>\n",
       "    <tr style=\"text-align: right;\">\n",
       "      <th></th>\n",
       "      <th>hair</th>\n",
       "      <th>voice</th>\n",
       "      <th>height</th>\n",
       "      <th>ear_stud</th>\n",
       "    </tr>\n",
       "  </thead>\n",
       "  <tbody>\n",
       "    <tr>\n",
       "      <th>0</th>\n",
       "      <td>long</td>\n",
       "      <td>thin</td>\n",
       "      <td>163</td>\n",
       "      <td>yes</td>\n",
       "    </tr>\n",
       "  </tbody>\n",
       "</table>\n",
       "</div>"
      ],
      "text/plain": [
       "   hair voice  height ear_stud\n",
       "0  long  thin     163      yes"
      ]
     },
     "execution_count": 33,
     "metadata": {},
     "output_type": "execute_result"
    }
   ],
   "source": [
    "test = pd.DataFrame(\n",
    "    {\"hair\": [\"long\"], \"voice\": [\"thin\"], \"height\": [163], \"ear_stud\": [\"yes\"]}\n",
    ")\n",
    "test"
   ]
  },
  {
   "cell_type": "code",
   "execution_count": 34,
   "id": "c091c01e-3d20-424f-b60e-c7464813a935",
   "metadata": {},
   "outputs": [
    {
     "data": {
      "text/html": [
       "<div>\n",
       "<style scoped>\n",
       "    .dataframe tbody tr th:only-of-type {\n",
       "        vertical-align: middle;\n",
       "    }\n",
       "\n",
       "    .dataframe tbody tr th {\n",
       "        vertical-align: top;\n",
       "    }\n",
       "\n",
       "    .dataframe thead th {\n",
       "        text-align: right;\n",
       "    }\n",
       "</style>\n",
       "<table border=\"1\" class=\"dataframe\">\n",
       "  <thead>\n",
       "    <tr style=\"text-align: right;\">\n",
       "      <th></th>\n",
       "      <th>hair</th>\n",
       "      <th>voice</th>\n",
       "      <th>height</th>\n",
       "      <th>ear_stud</th>\n",
       "    </tr>\n",
       "  </thead>\n",
       "  <tbody>\n",
       "    <tr>\n",
       "      <th>0</th>\n",
       "      <td>long</td>\n",
       "      <td>thin</td>\n",
       "      <td>&lt;172.0</td>\n",
       "      <td>yes</td>\n",
       "    </tr>\n",
       "  </tbody>\n",
       "</table>\n",
       "</div>"
      ],
      "text/plain": [
       "   hair voice  height ear_stud\n",
       "0  long  thin  <172.0      yes"
      ]
     },
     "execution_count": 34,
     "metadata": {},
     "output_type": "execute_result"
    }
   ],
   "source": [
    "test[\"height\"] = pd.Series(map(lambda x: choice_1(int(x), final_t), test[\"height\"]))\n",
    "test"
   ]
  },
  {
   "cell_type": "code",
   "execution_count": 35,
   "id": "ce305ed2-d62e-448e-83b9-7787aaa62f98",
   "metadata": {},
   "outputs": [
    {
     "data": {
      "text/plain": [
       "array(['woman'], dtype=object)"
      ]
     },
     "execution_count": 35,
     "metadata": {},
     "output_type": "execute_result"
    }
   ],
   "source": [
    "classify(tree, test)"
   ]
  },
  {
   "cell_type": "code",
   "execution_count": null,
   "id": "f306db77-b965-491b-b694-d2ffc492bbe7",
   "metadata": {},
   "outputs": [],
   "source": []
  }
 ],
 "metadata": {
  "kernelspec": {
   "display_name": "Python 3 (ipykernel)",
   "language": "python",
   "name": "python3"
  },
  "language_info": {
   "codemirror_mode": {
    "name": "ipython",
    "version": 3
   },
   "file_extension": ".py",
   "mimetype": "text/x-python",
   "name": "python",
   "nbconvert_exporter": "python",
   "pygments_lexer": "ipython3",
   "version": "3.11.8"
  }
 },
 "nbformat": 4,
 "nbformat_minor": 5
}
