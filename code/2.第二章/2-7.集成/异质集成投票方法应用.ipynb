{
 "cells": [
  {
   "cell_type": "code",
   "execution_count": 1,
   "id": "92b1aeac-30ea-4473-8b7b-c5ca8f3f0c34",
   "metadata": {},
   "outputs": [
    {
     "data": {
      "text/plain": [
       "((276, 26), (119, 26), (276,), (119,))"
      ]
     },
     "execution_count": 1,
     "metadata": {},
     "output_type": "execute_result"
    }
   ],
   "source": [
    "import pandas as pd\n",
    "from sklearn.model_selection import train_test_split\n",
    "\n",
    "stu_data = pd.read_csv(\n",
    "    \"./course-14-student.csv\",\n",
    "    index_col=0\n",
    ")\n",
    "\n",
    "X_train, X_test, y_train, y_test = train_test_split(\n",
    "    stu_data.iloc[:, :-1], stu_data[\"G3\"], test_size=0.3, random_state=35\n",
    ")\n",
    "\n",
    "X_train.shape, X_test.shape, y_train.shape, y_test.shape"
   ]
  },
  {
   "cell_type": "code",
   "execution_count": null,
   "id": "733f74e0-7a61-4b22-9250-f4ea812d66e7",
   "metadata": {},
   "outputs": [],
   "source": [
    "# sklearn.ensemble.VotingClassifier(estimators, voting='hard')\n",
    "\n",
    "# estimators：可以通过列表套元组的方式 [('name1', model1), ('name2', model2)] 传入多个不同的分类器。\n",
    "\n",
    "# voting：可选 hard 或 soft。\n",
    "\n",
    "# 当 voting='hard' 时，相当于前面说过的多数投票法。例如对于某样本判定：\n",
    "\n",
    "# 分类器 1 → 类别 1\n",
    "\n",
    "# 分类器 2 → 类别 1\n",
    "\n",
    "# 分类器 3 → 类别 2\n",
    "\n",
    "# 最终预测该样本属于类别 1。\n",
    "\n",
    "# 当 voting='soft' 时，相当于前面说过的加权投票法。例如对于某样本判定，我们预先设定 3 个类别的权重为 w1 = 1, w2 = 1, w3 = 1 ,那么根据分类器返回的类别概率，就可以得到最终在 3 个类别上的平均概率\n"
   ]
  },
  {
   "cell_type": "code",
   "execution_count": 8,
   "id": "018d3d88-bbdd-4c6c-9a67-9d50fc4f3594",
   "metadata": {},
   "outputs": [
    {
     "data": {
      "text/plain": [
       "0.7647058823529411"
      ]
     },
     "execution_count": 8,
     "metadata": {},
     "output_type": "execute_result"
    }
   ],
   "source": [
    "from sklearn.linear_model import LogisticRegression\n",
    "from sklearn.naive_bayes import GaussianNB\n",
    "from sklearn.tree import DecisionTreeClassifier\n",
    "from sklearn.ensemble import VotingClassifier\n",
    "\n",
    "logistic_model = LogisticRegression(solver='lbfgs', multi_class='auto', max_iter=1000, random_state=1)\n",
    "logistic_model.fit(X_train,y_train)\n",
    "logistic_model.score(X_test,y_test)"
   ]
  },
  {
   "cell_type": "code",
   "execution_count": 3,
   "id": "0fcebae5-436b-47e9-a44c-1bf88accd014",
   "metadata": {},
   "outputs": [
    {
     "data": {
      "text/plain": [
       "0.5294117647058824"
      ]
     },
     "execution_count": 3,
     "metadata": {},
     "output_type": "execute_result"
    }
   ],
   "source": [
    "gaussian_model = GaussianNB()\n",
    "gaussian_model.fit(X_train,y_train)\n",
    "gaussian_model.score(X_test,y_test)"
   ]
  },
  {
   "cell_type": "code",
   "execution_count": 4,
   "id": "71ee3796-5477-48d9-9577-be1fb517647c",
   "metadata": {},
   "outputs": [
    {
     "data": {
      "text/plain": [
       "0.8319327731092437"
      ]
     },
     "execution_count": 4,
     "metadata": {},
     "output_type": "execute_result"
    }
   ],
   "source": [
    "decision_tree_model = DecisionTreeClassifier(random_state=1)\n",
    "decision_tree_model.fit(X_train,y_train)\n",
    "decision_tree_model.score(X_test,y_test)"
   ]
  },
  {
   "cell_type": "code",
   "execution_count": 5,
   "id": "03a4dbb8-286f-4a22-9354-68d3f81e3417",
   "metadata": {},
   "outputs": [
    {
     "name": "stderr",
     "output_type": "stream",
     "text": [
      "C:\\Users\\91658\\Miniconda3\\envs\\ml\\Lib\\site-packages\\sklearn\\linear_model\\_logistic.py:469: ConvergenceWarning: lbfgs failed to converge (status=1):\n",
      "STOP: TOTAL NO. of ITERATIONS REACHED LIMIT.\n",
      "\n",
      "Increase the number of iterations (max_iter) or scale the data as shown in:\n",
      "    https://scikit-learn.org/stable/modules/preprocessing.html\n",
      "Please also refer to the documentation for alternative solver options:\n",
      "    https://scikit-learn.org/stable/modules/linear_model.html#logistic-regression\n",
      "  n_iter_i = _check_optimize_result(\n"
     ]
    },
    {
     "data": {
      "text/plain": [
       "0.773109243697479"
      ]
     },
     "execution_count": 5,
     "metadata": {},
     "output_type": "execute_result"
    }
   ],
   "source": [
    "voting_model = VotingClassifier([('LogisticRegression',logistic_model),('gaussian_model',gaussian_model),('decision_tree_model',decision_tree_model)])\n",
    "voting_model.fit(X_train,y_train)\n",
    "voting_model.score(X_test,y_test)"
   ]
  },
  {
   "cell_type": "code",
   "execution_count": 7,
   "id": "498f75b5-e129-467c-aa5d-835a70f82dbf",
   "metadata": {},
   "outputs": [
    {
     "name": "stderr",
     "output_type": "stream",
     "text": [
      "C:\\Users\\91658\\Miniconda3\\envs\\ml\\Lib\\site-packages\\sklearn\\linear_model\\_logistic.py:469: ConvergenceWarning: lbfgs failed to converge (status=1):\n",
      "STOP: TOTAL NO. of ITERATIONS REACHED LIMIT.\n",
      "\n",
      "Increase the number of iterations (max_iter) or scale the data as shown in:\n",
      "    https://scikit-learn.org/stable/modules/preprocessing.html\n",
      "Please also refer to the documentation for alternative solver options:\n",
      "    https://scikit-learn.org/stable/modules/linear_model.html#logistic-regression\n",
      "  n_iter_i = _check_optimize_result(\n"
     ]
    },
    {
     "data": {
      "text/plain": [
       "0.8067226890756303"
      ]
     },
     "execution_count": 7,
     "metadata": {},
     "output_type": "execute_result"
    }
   ],
   "source": [
    "soft_voting_model = VotingClassifier([('LogisticRegression',logistic_model),('gaussian_model',gaussian_model),('decision_tree_model',decision_tree_model)],voting=\"soft\")\n",
    "soft_voting_model.fit(X_train,y_train)\n",
    "soft_voting_model.score(X_test,y_test)"
   ]
  },
  {
   "cell_type": "code",
   "execution_count": null,
   "id": "3524c082-dd36-46a0-94e1-e36db3c29ba5",
   "metadata": {},
   "outputs": [],
   "source": []
  }
 ],
 "metadata": {
  "kernelspec": {
   "display_name": "Python 3 (ipykernel)",
   "language": "python",
   "name": "python3"
  },
  "language_info": {
   "codemirror_mode": {
    "name": "ipython",
    "version": 3
   },
   "file_extension": ".py",
   "mimetype": "text/x-python",
   "name": "python",
   "nbconvert_exporter": "python",
   "pygments_lexer": "ipython3",
   "version": "3.11.8"
  }
 },
 "nbformat": 4,
 "nbformat_minor": 5
}
