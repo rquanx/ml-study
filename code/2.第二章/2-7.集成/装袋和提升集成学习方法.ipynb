{
 "cells": [
  {
   "cell_type": "code",
   "execution_count": 1,
   "id": "292b5111-fded-4a48-b658-ee8cb20a90ea",
   "metadata": {},
   "outputs": [
    {
     "data": {
      "text/html": [
       "<div>\n",
       "<style scoped>\n",
       "    .dataframe tbody tr th:only-of-type {\n",
       "        vertical-align: middle;\n",
       "    }\n",
       "\n",
       "    .dataframe tbody tr th {\n",
       "        vertical-align: top;\n",
       "    }\n",
       "\n",
       "    .dataframe thead th {\n",
       "        text-align: right;\n",
       "    }\n",
       "</style>\n",
       "<table border=\"1\" class=\"dataframe\">\n",
       "  <thead>\n",
       "    <tr style=\"text-align: right;\">\n",
       "      <th></th>\n",
       "      <th>school</th>\n",
       "      <th>sex</th>\n",
       "      <th>address</th>\n",
       "      <th>Pstatus</th>\n",
       "      <th>Pedu</th>\n",
       "      <th>reason</th>\n",
       "      <th>guardian</th>\n",
       "      <th>traveltime</th>\n",
       "      <th>studytime</th>\n",
       "      <th>schoolsup</th>\n",
       "      <th>...</th>\n",
       "      <th>famrel</th>\n",
       "      <th>freetime</th>\n",
       "      <th>goout</th>\n",
       "      <th>Dalc</th>\n",
       "      <th>Walc</th>\n",
       "      <th>health</th>\n",
       "      <th>absences</th>\n",
       "      <th>G1</th>\n",
       "      <th>G2</th>\n",
       "      <th>G3</th>\n",
       "    </tr>\n",
       "  </thead>\n",
       "  <tbody>\n",
       "    <tr>\n",
       "      <th>0</th>\n",
       "      <td>0</td>\n",
       "      <td>0</td>\n",
       "      <td>0</td>\n",
       "      <td>0</td>\n",
       "      <td>1</td>\n",
       "      <td>2</td>\n",
       "      <td>2</td>\n",
       "      <td>1</td>\n",
       "      <td>1</td>\n",
       "      <td>0</td>\n",
       "      <td>...</td>\n",
       "      <td>3</td>\n",
       "      <td>2</td>\n",
       "      <td>3</td>\n",
       "      <td>0</td>\n",
       "      <td>0</td>\n",
       "      <td>2</td>\n",
       "      <td>6</td>\n",
       "      <td>2</td>\n",
       "      <td>2</td>\n",
       "      <td>2</td>\n",
       "    </tr>\n",
       "    <tr>\n",
       "      <th>1</th>\n",
       "      <td>0</td>\n",
       "      <td>0</td>\n",
       "      <td>0</td>\n",
       "      <td>1</td>\n",
       "      <td>2</td>\n",
       "      <td>2</td>\n",
       "      <td>0</td>\n",
       "      <td>0</td>\n",
       "      <td>1</td>\n",
       "      <td>1</td>\n",
       "      <td>...</td>\n",
       "      <td>4</td>\n",
       "      <td>2</td>\n",
       "      <td>2</td>\n",
       "      <td>0</td>\n",
       "      <td>0</td>\n",
       "      <td>2</td>\n",
       "      <td>4</td>\n",
       "      <td>2</td>\n",
       "      <td>2</td>\n",
       "      <td>2</td>\n",
       "    </tr>\n",
       "    <tr>\n",
       "      <th>2</th>\n",
       "      <td>0</td>\n",
       "      <td>0</td>\n",
       "      <td>0</td>\n",
       "      <td>1</td>\n",
       "      <td>2</td>\n",
       "      <td>0</td>\n",
       "      <td>2</td>\n",
       "      <td>0</td>\n",
       "      <td>1</td>\n",
       "      <td>0</td>\n",
       "      <td>...</td>\n",
       "      <td>3</td>\n",
       "      <td>2</td>\n",
       "      <td>1</td>\n",
       "      <td>1</td>\n",
       "      <td>2</td>\n",
       "      <td>2</td>\n",
       "      <td>10</td>\n",
       "      <td>2</td>\n",
       "      <td>2</td>\n",
       "      <td>3</td>\n",
       "    </tr>\n",
       "    <tr>\n",
       "      <th>3</th>\n",
       "      <td>0</td>\n",
       "      <td>0</td>\n",
       "      <td>0</td>\n",
       "      <td>1</td>\n",
       "      <td>0</td>\n",
       "      <td>1</td>\n",
       "      <td>2</td>\n",
       "      <td>0</td>\n",
       "      <td>2</td>\n",
       "      <td>1</td>\n",
       "      <td>...</td>\n",
       "      <td>2</td>\n",
       "      <td>1</td>\n",
       "      <td>1</td>\n",
       "      <td>0</td>\n",
       "      <td>0</td>\n",
       "      <td>4</td>\n",
       "      <td>2</td>\n",
       "      <td>3</td>\n",
       "      <td>3</td>\n",
       "      <td>1</td>\n",
       "    </tr>\n",
       "    <tr>\n",
       "      <th>4</th>\n",
       "      <td>0</td>\n",
       "      <td>0</td>\n",
       "      <td>0</td>\n",
       "      <td>1</td>\n",
       "      <td>0</td>\n",
       "      <td>1</td>\n",
       "      <td>0</td>\n",
       "      <td>0</td>\n",
       "      <td>1</td>\n",
       "      <td>1</td>\n",
       "      <td>...</td>\n",
       "      <td>3</td>\n",
       "      <td>2</td>\n",
       "      <td>1</td>\n",
       "      <td>0</td>\n",
       "      <td>1</td>\n",
       "      <td>4</td>\n",
       "      <td>4</td>\n",
       "      <td>2</td>\n",
       "      <td>3</td>\n",
       "      <td>3</td>\n",
       "    </tr>\n",
       "  </tbody>\n",
       "</table>\n",
       "<p>5 rows × 27 columns</p>\n",
       "</div>"
      ],
      "text/plain": [
       "   school  sex  address  Pstatus  Pedu  reason  guardian  traveltime  \\\n",
       "0       0    0        0        0     1       2         2           1   \n",
       "1       0    0        0        1     2       2         0           0   \n",
       "2       0    0        0        1     2       0         2           0   \n",
       "3       0    0        0        1     0       1         2           0   \n",
       "4       0    0        0        1     0       1         0           0   \n",
       "\n",
       "   studytime  schoolsup  ...  famrel  freetime  goout  Dalc  Walc  health  \\\n",
       "0          1          0  ...       3         2      3     0     0       2   \n",
       "1          1          1  ...       4         2      2     0     0       2   \n",
       "2          1          0  ...       3         2      1     1     2       2   \n",
       "3          2          1  ...       2         1      1     0     0       4   \n",
       "4          1          1  ...       3         2      1     0     1       4   \n",
       "\n",
       "   absences  G1  G2  G3  \n",
       "0         6   2   2   2  \n",
       "1         4   2   2   2  \n",
       "2        10   2   2   3  \n",
       "3         2   3   3   1  \n",
       "4         4   2   3   3  \n",
       "\n",
       "[5 rows x 27 columns]"
      ]
     },
     "execution_count": 1,
     "metadata": {},
     "output_type": "execute_result"
    }
   ],
   "source": [
    "import pandas as pd\n",
    "\n",
    "data = pd.read_csv(\n",
    "    \"./course-14-student.csv\",\n",
    "    index_col=0\n",
    ")\n",
    "data.head()"
   ]
  },
  {
   "cell_type": "code",
   "execution_count": 2,
   "id": "b0c027c3-b6c5-4690-bee4-247ff4e1c905",
   "metadata": {},
   "outputs": [
    {
     "data": {
      "text/plain": [
       "((276, 26), (119, 26), (276,), (119,))"
      ]
     },
     "execution_count": 2,
     "metadata": {},
     "output_type": "execute_result"
    }
   ],
   "source": [
    "from sklearn.model_selection import train_test_split\n",
    "\n",
    "X_train, X_test, y_train, y_test = train_test_split(\n",
    "    data.iloc[:, :-1], data[\"G3\"], test_size=0.3, random_state=35\n",
    ")\n",
    "X_train.shape, X_test.shape, y_train.shape, y_test.shape"
   ]
  },
  {
   "cell_type": "code",
   "execution_count": 3,
   "id": "555812b3-6efb-4879-809e-bf2ed63cdd7f",
   "metadata": {},
   "outputs": [
    {
     "data": {
      "text/plain": [
       "array([3, 0, 3, 2, 1, 2, 3, 2, 3, 3, 0, 2, 1, 3, 3, 2, 3, 0, 1, 2, 1, 0,\n",
       "       1, 2, 3, 2, 3, 0, 3, 3, 3, 3, 2, 2, 3, 3, 0, 1, 2, 2, 2, 1, 3, 2,\n",
       "       1, 3, 2, 3, 3, 3, 3, 1, 1, 2, 2, 0, 1, 3, 2, 3, 3, 2, 2, 2, 2, 3,\n",
       "       2, 3, 2, 1, 0, 3, 2, 3, 3, 2, 1, 3, 0, 2, 3, 3, 3, 3, 0, 3, 3, 1,\n",
       "       3, 3, 1, 3, 3, 3, 2, 0, 2, 3, 0, 3, 1, 3, 1, 1, 3, 3, 3, 3, 3, 3,\n",
       "       2, 1, 1, 1, 3, 0, 3, 3, 3], dtype=int64)"
      ]
     },
     "execution_count": 3,
     "metadata": {},
     "output_type": "execute_result"
    }
   ],
   "source": [
    "from sklearn.tree import DecisionTreeClassifier\n",
    "\n",
    "dt_model = DecisionTreeClassifier(criterion=\"entropy\", random_state=34)\n",
    "dt_model.fit(X_train, y_train)  # 使用训练集训练模型\n",
    "\n",
    "dt_y_pred = dt_model.predict(X_test)\n",
    "dt_y_pred"
   ]
  },
  {
   "cell_type": "code",
   "execution_count": 4,
   "id": "7fa73653-2b4a-4223-a68c-c2fd6803c97b",
   "metadata": {},
   "outputs": [
    {
     "data": {
      "text/plain": [
       "0.8319327731092437"
      ]
     },
     "execution_count": 4,
     "metadata": {},
     "output_type": "execute_result"
    }
   ],
   "source": [
    "from sklearn.metrics import accuracy_score\n",
    "\n",
    "accuracy_score(y_test, dt_y_pred)  # 计算使用决策树预测的准确率"
   ]
  },
  {
   "cell_type": "code",
   "execution_count": null,
   "id": "3d153681-8954-4a35-88b4-d14d0beca5f5",
   "metadata": {},
   "outputs": [],
   "source": []
  },
  {
   "cell_type": "code",
   "execution_count": null,
   "id": "c32f19a2-e894-44d3-9643-ce40cada2ceb",
   "metadata": {},
   "outputs": [],
   "source": [
    "#### 利用装袋提高准确率\n",
    "\n",
    "\n",
    "# BaggingClassifier(base_estimator=None, n_estimators=10, max_samples=1.0, max_features=1.0)\n",
    "\n",
    "# base_estimator：表示基础分类器（弱分类器）种类，默认为决策树 。\n",
    "\n",
    "# n_estimators：表示建立树的个数，默认值为 10 。\n",
    "\n",
    "# max_samples：表示从抽取数据中选取训练样本的数量，Int（整型）表示数量，Float（浮点型）表示比例，默认为所有样本。\n",
    "\n",
    "# max_features：表示抽取特征的数量，Int（整型）表示数量，Float（浮点型）表示比例，默认为所有特征。\n",
    "\n",
    "# from sklearn.ensemble"
   ]
  },
  {
   "cell_type": "code",
   "execution_count": 5,
   "id": "ca783b85-6dd4-4a4b-b26e-75a2cf387866",
   "metadata": {},
   "outputs": [
    {
     "data": {
      "text/plain": [
       "array([3, 0, 3, 2, 1, 2, 3, 2, 3, 3, 3, 2, 1, 3, 3, 2, 2, 0, 1, 2, 1, 0,\n",
       "       1, 3, 3, 2, 3, 0, 2, 3, 3, 3, 2, 2, 3, 3, 0, 1, 2, 2, 2, 1, 3, 3,\n",
       "       1, 3, 2, 3, 3, 3, 3, 3, 1, 2, 2, 0, 1, 3, 2, 3, 3, 2, 0, 2, 2, 3,\n",
       "       2, 3, 2, 3, 0, 3, 2, 2, 3, 2, 1, 2, 0, 2, 3, 1, 3, 3, 0, 3, 3, 1,\n",
       "       3, 3, 1, 3, 3, 3, 2, 0, 2, 3, 0, 3, 1, 3, 1, 1, 3, 3, 3, 3, 3, 3,\n",
       "       3, 1, 1, 1, 3, 0, 3, 3, 3], dtype=int64)"
      ]
     },
     "execution_count": 5,
     "metadata": {},
     "output_type": "execute_result"
    }
   ],
   "source": [
    "from sklearn.ensemble import BaggingClassifier\n",
    "\n",
    "tree = DecisionTreeClassifier(criterion=\"entropy\", random_state=34)  # 使用决策树作为基学习器\n",
    "bt_model = BaggingClassifier(tree, n_estimators=100, max_samples=1.0, random_state=3)\n",
    "\n",
    "bt_model.fit(X_train, y_train)\n",
    "bt_y_pred = bt_model.predict(X_test)\n",
    "bt_y_pred"
   ]
  },
  {
   "cell_type": "code",
   "execution_count": 6,
   "id": "aac7962b-3b77-4729-a775-8bcfce5fc943",
   "metadata": {},
   "outputs": [
    {
     "data": {
      "text/plain": [
       "0.8907563025210085"
      ]
     },
     "execution_count": 6,
     "metadata": {},
     "output_type": "execute_result"
    }
   ],
   "source": [
    "accuracy_score(y_test, bt_y_pred)  # 计算使用决策树预测的准确率"
   ]
  },
  {
   "cell_type": "code",
   "execution_count": null,
   "id": "1aad36d3-331b-465d-9fee-2001f4ba31f3",
   "metadata": {},
   "outputs": [],
   "source": [
    "\n"
   ]
  },
  {
   "cell_type": "code",
   "execution_count": null,
   "id": "07cb996b-810e-481f-a021-fcd41cee34e6",
   "metadata": {},
   "outputs": [],
   "source": [
    "####  Random Forest\n",
    "\n",
    "\n",
    "# RandomForestClassifier(n_estimators, criterion, max_features, random_state=None)\n",
    "\n",
    "# n_estimators：表示建立树的个数，默认值为 10 。\n",
    "\n",
    "# criterion：表示特征划分方法选择，默认为 gini，可选择为 entropy (信息增益)。\n",
    "\n",
    "# max_features：表示随机选择特征个数，默认为特征数的根号。\n",
    "\n"
   ]
  },
  {
   "cell_type": "code",
   "execution_count": 7,
   "id": "c04f20cc-2060-4ecc-9a6c-e053ebae4510",
   "metadata": {},
   "outputs": [
    {
     "data": {
      "text/plain": [
       "array([3, 0, 3, 2, 1, 2, 3, 2, 3, 3, 3, 2, 1, 3, 3, 2, 2, 0, 1, 2, 1, 0,\n",
       "       1, 3, 3, 2, 3, 0, 3, 3, 3, 3, 2, 2, 3, 3, 0, 1, 2, 2, 2, 1, 3, 3,\n",
       "       1, 3, 2, 3, 3, 3, 3, 3, 1, 2, 2, 0, 1, 3, 2, 3, 3, 2, 0, 2, 2, 3,\n",
       "       2, 3, 2, 3, 0, 3, 2, 2, 3, 2, 1, 2, 0, 2, 3, 1, 3, 3, 0, 3, 3, 1,\n",
       "       3, 3, 1, 3, 3, 3, 2, 0, 2, 3, 0, 3, 1, 3, 1, 1, 3, 3, 3, 3, 3, 3,\n",
       "       3, 1, 1, 1, 3, 0, 3, 3, 3], dtype=int64)"
      ]
     },
     "execution_count": 7,
     "metadata": {},
     "output_type": "execute_result"
    }
   ],
   "source": [
    "from sklearn.ensemble import RandomForestClassifier\n",
    "\n",
    "# 这里构建 100 棵决策树，采用信息熵来寻找最优划分特征。\n",
    "rf_model = RandomForestClassifier(\n",
    "    n_estimators=100, max_features=None, criterion=\"entropy\"\n",
    ")\n",
    "\n",
    "rf_model.fit(X_train, y_train)  # 进行模型的训练\n",
    "rf_y_pred = rf_model.predict(X_test)\n",
    "rf_y_pred"
   ]
  },
  {
   "cell_type": "code",
   "execution_count": 8,
   "id": "6c45010b-1159-42ee-a392-00885e333ba9",
   "metadata": {},
   "outputs": [
    {
     "data": {
      "text/plain": [
       "0.8991596638655462"
      ]
     },
     "execution_count": 8,
     "metadata": {},
     "output_type": "execute_result"
    }
   ],
   "source": [
    "accuracy_score(y_test, rf_y_pred)"
   ]
  },
  {
   "cell_type": "code",
   "execution_count": 9,
   "id": "5f5ea1d0-07f3-4941-b9c5-97c01eaa5702",
   "metadata": {},
   "outputs": [],
   "source": [
    "#### 提升算法"
   ]
  },
  {
   "cell_type": "code",
   "execution_count": 10,
   "id": "8e8f26fa-5d75-480f-98e8-607e1800d51f",
   "metadata": {},
   "outputs": [],
   "source": [
    "##### Adaboost"
   ]
  },
  {
   "cell_type": "code",
   "execution_count": null,
   "id": "cf3d0954-03b1-4636-a477-8796075214dc",
   "metadata": {},
   "outputs": [],
   "source": [
    "# AdaBoostClassifier(base_estimators,n_estimators)\n",
    "\n",
    "# base_estimators：表示弱分类器种类，默认为 CART 分类树。\n",
    "\n",
    "# n_estimators：表示弱学习器的最大个数，默认值为 50。"
   ]
  },
  {
   "cell_type": "code",
   "execution_count": 11,
   "id": "0e2a8e7e-5b8f-4155-8b70-52555cae991a",
   "metadata": {},
   "outputs": [
    {
     "name": "stderr",
     "output_type": "stream",
     "text": [
      "C:\\Users\\91658\\Miniconda3\\envs\\ml\\Lib\\site-packages\\sklearn\\ensemble\\_weight_boosting.py:519: FutureWarning: The SAMME.R algorithm (the default) is deprecated and will be removed in 1.6. Use the SAMME algorithm to circumvent this warning.\n",
      "  warnings.warn(\n"
     ]
    },
    {
     "data": {
      "text/plain": [
       "array([3, 2, 3, 2, 0, 2, 3, 2, 3, 3, 3, 2, 1, 3, 3, 2, 2, 3, 1, 2, 1, 3,\n",
       "       1, 3, 1, 2, 3, 3, 2, 3, 3, 3, 2, 2, 3, 3, 0, 1, 2, 2, 2, 1, 3, 3,\n",
       "       1, 3, 3, 3, 3, 3, 3, 3, 0, 2, 3, 3, 1, 3, 2, 0, 3, 2, 0, 2, 2, 3,\n",
       "       3, 3, 2, 3, 0, 3, 2, 2, 3, 2, 1, 2, 0, 2, 2, 1, 3, 3, 2, 3, 3, 1,\n",
       "       3, 3, 1, 3, 3, 3, 2, 0, 2, 3, 0, 3, 1, 3, 1, 0, 3, 3, 3, 3, 2, 3,\n",
       "       3, 1, 1, 1, 3, 3, 3, 3, 3], dtype=int64)"
      ]
     },
     "execution_count": 11,
     "metadata": {},
     "output_type": "execute_result"
    }
   ],
   "source": [
    "from sklearn.ensemble import AdaBoostClassifier\n",
    "\n",
    "ad_model = AdaBoostClassifier(n_estimators=100)\n",
    "\n",
    "ad_model.fit(X_train, y_train)\n",
    "ad_y_pred = ad_model.predict(X_test)\n",
    "ad_y_pred\n"
   ]
  },
  {
   "cell_type": "code",
   "execution_count": 12,
   "id": "a18d3239-d735-4135-a371-14c803fe9b17",
   "metadata": {},
   "outputs": [
    {
     "data": {
      "text/plain": [
       "0.8151260504201681"
      ]
     },
     "execution_count": 12,
     "metadata": {},
     "output_type": "execute_result"
    }
   ],
   "source": [
    "accuracy_score(y_test, ad_y_pred)  # 计算使用决策树预测的准确率\n",
    "# 应用 Adaboost 算法得到的准确率和决策树在该数据集上相差不大"
   ]
  },
  {
   "cell_type": "code",
   "execution_count": null,
   "id": "0b0c9e50-0f01-48d5-b044-8e4707e3ebe2",
   "metadata": {},
   "outputs": [],
   "source": []
  },
  {
   "cell_type": "code",
   "execution_count": 13,
   "id": "e9245e63-d4d2-4d1e-8e0d-70217cee9702",
   "metadata": {},
   "outputs": [],
   "source": [
    "### 梯度提升树 GBDT\n",
    "\n",
    "# GradientBoostingClassifier(max_depth = 3, learning_rate = 0.1, n_estimators = 100, random_state = None)\n",
    "\n",
    "# max_depth:表示生成 CART 树的最大深度，默认为 3\n",
    "\n",
    "# learning_rate:表示学习效率，默认为 0.1。\n",
    "\n",
    "# n_estimators：表示弱学习器的最大个数，默认值为 100。\n",
    "\n",
    "# random_state:表示随机数种子。"
   ]
  },
  {
   "cell_type": "code",
   "execution_count": 14,
   "id": "8ac0f50a-2439-4e02-842c-7ba4e5fca4a0",
   "metadata": {},
   "outputs": [
    {
     "data": {
      "text/plain": [
       "array([3, 0, 3, 2, 1, 2, 3, 2, 3, 3, 3, 2, 1, 3, 3, 2, 2, 0, 1, 2, 1, 1,\n",
       "       1, 3, 3, 2, 3, 0, 3, 3, 3, 3, 2, 2, 3, 3, 0, 1, 2, 2, 2, 1, 3, 3,\n",
       "       1, 3, 2, 3, 3, 3, 3, 3, 1, 2, 2, 0, 1, 3, 2, 3, 3, 2, 0, 2, 2, 3,\n",
       "       2, 3, 2, 3, 0, 2, 2, 2, 3, 2, 1, 2, 0, 2, 2, 1, 3, 3, 0, 3, 3, 1,\n",
       "       3, 3, 1, 3, 3, 3, 2, 0, 2, 3, 0, 3, 1, 3, 1, 1, 3, 3, 3, 3, 3, 3,\n",
       "       3, 1, 1, 1, 3, 0, 3, 3, 3], dtype=int64)"
      ]
     },
     "execution_count": 14,
     "metadata": {},
     "output_type": "execute_result"
    }
   ],
   "source": [
    "from sklearn.ensemble import GradientBoostingClassifier\n",
    "\n",
    "gb_model = GradientBoostingClassifier(\n",
    "    n_estimators=100, learning_rate=1.0, random_state=33\n",
    ")\n",
    "\n",
    "gb_model.fit(X_train, y_train)\n",
    "gb_y_pred = gb_model.predict(X_test)\n",
    "gb_y_pred"
   ]
  },
  {
   "cell_type": "code",
   "execution_count": 15,
   "id": "61275b8a-3122-4a7f-a39c-9deb30de4b11",
   "metadata": {},
   "outputs": [
    {
     "data": {
      "text/plain": [
       "0.8823529411764706"
      ]
     },
     "execution_count": 15,
     "metadata": {},
     "output_type": "execute_result"
    }
   ],
   "source": [
    "accuracy_score(y_test, gb_y_pred)  # 计算使用决策树预测的准确率"
   ]
  },
  {
   "cell_type": "code",
   "execution_count": null,
   "id": "52bc3d68-6d08-4daa-bb41-09e14b6a9ef1",
   "metadata": {},
   "outputs": [],
   "source": []
  }
 ],
 "metadata": {
  "kernelspec": {
   "display_name": "Python 3 (ipykernel)",
   "language": "python",
   "name": "python3"
  },
  "language_info": {
   "codemirror_mode": {
    "name": "ipython",
    "version": 3
   },
   "file_extension": ".py",
   "mimetype": "text/x-python",
   "name": "python",
   "nbconvert_exporter": "python",
   "pygments_lexer": "ipython3",
   "version": "3.11.8"
  }
 },
 "nbformat": 4,
 "nbformat_minor": 5
}
