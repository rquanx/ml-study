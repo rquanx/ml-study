{
 "cells": [
  {
   "cell_type": "code",
   "execution_count": 20,
   "id": "5f0bdd96-7c06-46ab-8885-65d3dc8b67e9",
   "metadata": {},
   "outputs": [],
   "source": [
    "import operator\n",
    "\n",
    "import numpy as np\n",
    "from sklearn.neighbors import KNeighborsClassifier\n",
    "\n",
    "\n",
    "def d_euc(x, y):\n",
    "    d = np.sqrt(np.sum(np.square(x - y)))\n",
    "    return d\n",
    "\n",
    "\n",
    "def closest_element_index(mean, array):\n",
    "    # 计算数组中每个元素与mean的差的绝对值\n",
    "    absolute_differences = np.abs(array - mean)\n",
    "    # 找到最小绝对差的索引\n",
    "    min_index = np.argmin(absolute_differences)\n",
    "    # 返回该索引对应的元素\n",
    "    return min_index\n",
    "\n",
    "\n",
    "def knn_regression(train_data, train_labels, test_data, k):\n",
    "    \"\"\"\n",
    "    参数:\n",
    "    train_data -- 训练数据特征 numpy.ndarray.2d\n",
    "    train_labels -- 训练数据目标 numpy.ndarray.1d\n",
    "    test_data -- 测试数据特征 numpy.ndarray.2d\n",
    "    k -- k 值\n",
    "\n",
    "    返回:\n",
    "    test_labels -- 测试数据目标 numpy.ndarray.1d\n",
    "    \"\"\"\n",
    "\n",
    "    # 答案：对label取平均值？？，最近几个Label的值，然后取平均值作为结果\n",
    "    # 要看上下文，label是数组，可以被计算\n",
    "    test_labels = np.array([])  # 创建一个空的数组用于存放预测结果\n",
    "    for X_test in test_data:\n",
    "        distances = np.array([])\n",
    "        for each_X in train_data:  # 使用欧式距离计算数据相似度\n",
    "            d = np.sqrt(np.sum(np.square(X_test - each_X)))\n",
    "            distances = np.append(distances, d)\n",
    "        sorted_distance_index = distances.argsort()  # 获取按距离大小排序后的索引\n",
    "        k_labels = train_labels[sorted_distance_index[:k]]\n",
    "        y_test = np.mean(k_labels)\n",
    "        print(\"k_labels:\", k_labels)\n",
    "        print(\"labels_mean:\", y_test)\n",
    "        print()\n",
    "        test_labels = np.append(test_labels, y_test)\n",
    "\n",
    "    # 我的解法\n",
    "    # 1.对每个测试数据进行距离计算\n",
    "    # 2.获取最近 k 个值的平均距离\n",
    "    # 3.以平均距离去找距离最近的点，即为目标Label\n",
    "    # ！！有逻辑问题： 如果一个近两个很远，起始这个结果应该是不对的\n",
    "\n",
    "    # test_labels = []\n",
    "    # for test_item in test_data:\n",
    "    #     distances = np.array([])  # 创建一个空的数组用于存放距离\n",
    "    #     # 计算测试数据和训练数据的距离\n",
    "    #     for each_data in train_data:  # 使用欧式距离计算数据相似度\n",
    "    #         d = d_euc(test_item, each_data)\n",
    "    #         distances = np.append(distances, d)\n",
    "\n",
    "    #     # # 获取原始数据从小到大前的索引\n",
    "    #     sorted_distance_index = distances.argsort()  # 获取按距离从小到大排序后的索引\n",
    "    #     sorted_distance = np.sort(distances)  # 从小到大排序\n",
    "\n",
    "    #     closest_distances = sorted_distance[: k]\n",
    "    #     distance_mean = np.mean(closest_distances)\n",
    "\n",
    "    #     print('closest_distances:',closest_distances)\n",
    "    #     print('distance_mean:',distance_mean)\n",
    "    #     print('')\n",
    "    #     target_index = closest_element_index(distance_mean, closest_distances)\n",
    "    #     test_labels.append(train_labels[sorted_distance_index[target_index]])\n",
    "\n",
    "    # 利用KNeighborsClassifier\n",
    "    # knn = KNeighborsClassifier(n_neighbors=k)\n",
    "    # # 训练数据集\n",
    "    # knn.fit(train_data, train_labels)\n",
    "    # test_labels = knn.predict(test_data)\n",
    "\n",
    "    return test_labels"
   ]
  },
  {
   "cell_type": "code",
   "execution_count": 21,
   "id": "c15e2171-6940-4142-9306-3e79e3faf597",
   "metadata": {},
   "outputs": [],
   "source": [
    "import numpy as np\n",
    "\n",
    "# 训练样本特征\n",
    "train_data = np.array(\n",
    "    [[1, 1], [2, 2], [3, 3], [4, 4], [5, 5], [6, 6], [7, 7], [8, 8], [9, 9], [10, 10]]\n",
    ")\n",
    "# 训练样本目标值\n",
    "train_labels = np.array([1, 2, 3, 4, 5, 6, 7, 8, 9, 10])"
   ]
  },
  {
   "cell_type": "code",
   "execution_count": 22,
   "id": "3461350a-b08a-49be-a6da-f232046c7db6",
   "metadata": {},
   "outputs": [
    {
     "name": "stdout",
     "output_type": "stream",
     "text": [
      "k_labels: [1 2 3]\n",
      "labels_mean: 2.0\n",
      "\n",
      "k_labels: [4 3 5]\n",
      "labels_mean: 4.0\n",
      "\n",
      "k_labels: [6 5 7]\n",
      "labels_mean: 6.0\n",
      "\n",
      "k_labels: [7 8 6]\n",
      "labels_mean: 7.0\n",
      "\n"
     ]
    },
    {
     "data": {
      "text/plain": [
       "array([2., 4., 6., 7.])"
      ]
     },
     "execution_count": 22,
     "metadata": {},
     "output_type": "execute_result"
    }
   ],
   "source": [
    "# 测试样本特征\n",
    "test_data = np.array([[1.2, 1.3], [3.7, 3.5], [5.5, 6.2], [7.1, 7.9]])\n",
    "# 测试样本目标值\n",
    "knn_regression(train_data, train_labels, test_data, k=3)"
   ]
  },
  {
   "cell_type": "code",
   "execution_count": null,
   "id": "8c56474d-e41e-4977-ab26-0a8ca993b341",
   "metadata": {},
   "outputs": [],
   "source": []
  }
 ],
 "metadata": {
  "kernelspec": {
   "display_name": "Python 3 (ipykernel)",
   "language": "python",
   "name": "python3"
  },
  "language_info": {
   "codemirror_mode": {
    "name": "ipython",
    "version": 3
   },
   "file_extension": ".py",
   "mimetype": "text/x-python",
   "name": "python",
   "nbconvert_exporter": "python",
   "pygments_lexer": "ipython3",
   "version": "3.11.8"
  }
 },
 "nbformat": 4,
 "nbformat_minor": 5
}
