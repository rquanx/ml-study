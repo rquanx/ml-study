{
 "cells": [
  {
   "cell_type": "code",
   "execution_count": 4,
   "id": "f50acfb9-4f64-4700-9a77-6ce65666e2b6",
   "metadata": {},
   "outputs": [],
   "source": [
    "import pandas as pd\n",
    "\n",
    "\n",
    "def create_data():\n",
    "    # 生成示例数据\n",
    "    data = {\n",
    "        \"x\": [\n",
    "            \"r\",\n",
    "            \"g\",\n",
    "            \"r\",\n",
    "            \"b\",\n",
    "            \"g\",\n",
    "            \"g\",\n",
    "            \"r\",\n",
    "            \"r\",\n",
    "            \"b\",\n",
    "            \"g\",\n",
    "            \"g\",\n",
    "            \"r\",\n",
    "            \"b\",\n",
    "            \"b\",\n",
    "            \"g\",\n",
    "        ],\n",
    "        \"y\": [\n",
    "            \"m\",\n",
    "            \"s\",\n",
    "            \"l\",\n",
    "            \"s\",\n",
    "            \"m\",\n",
    "            \"s\",\n",
    "            \"m\",\n",
    "            \"s\",\n",
    "            \"m\",\n",
    "            \"l\",\n",
    "            \"l\",\n",
    "            \"s\",\n",
    "            \"m\",\n",
    "            \"m\",\n",
    "            \"l\",\n",
    "        ],\n",
    "        \"labels\": [\n",
    "            \"A\",\n",
    "            \"A\",\n",
    "            \"A\",\n",
    "            \"A\",\n",
    "            \"A\",\n",
    "            \"A\",\n",
    "            \"A\",\n",
    "            \"A\",\n",
    "            \"B\",\n",
    "            \"B\",\n",
    "            \"B\",\n",
    "            \"B\",\n",
    "            \"B\",\n",
    "            \"B\",\n",
    "            \"B\",\n",
    "        ],\n",
    "    }\n",
    "    data = pd.DataFrame(data, columns=[\"labels\", \"x\", \"y\"])\n",
    "    return data"
   ]
  },
  {
   "cell_type": "code",
   "execution_count": 5,
   "id": "a74709c8-d79e-44c7-86a5-66e6a3d9fd98",
   "metadata": {},
   "outputs": [
    {
     "data": {
      "text/html": [
       "<div>\n",
       "<style scoped>\n",
       "    .dataframe tbody tr th:only-of-type {\n",
       "        vertical-align: middle;\n",
       "    }\n",
       "\n",
       "    .dataframe tbody tr th {\n",
       "        vertical-align: top;\n",
       "    }\n",
       "\n",
       "    .dataframe thead th {\n",
       "        text-align: right;\n",
       "    }\n",
       "</style>\n",
       "<table border=\"1\" class=\"dataframe\">\n",
       "  <thead>\n",
       "    <tr style=\"text-align: right;\">\n",
       "      <th></th>\n",
       "      <th>labels</th>\n",
       "      <th>x</th>\n",
       "      <th>y</th>\n",
       "    </tr>\n",
       "  </thead>\n",
       "  <tbody>\n",
       "    <tr>\n",
       "      <th>0</th>\n",
       "      <td>A</td>\n",
       "      <td>r</td>\n",
       "      <td>m</td>\n",
       "    </tr>\n",
       "    <tr>\n",
       "      <th>1</th>\n",
       "      <td>A</td>\n",
       "      <td>g</td>\n",
       "      <td>s</td>\n",
       "    </tr>\n",
       "    <tr>\n",
       "      <th>2</th>\n",
       "      <td>A</td>\n",
       "      <td>r</td>\n",
       "      <td>l</td>\n",
       "    </tr>\n",
       "    <tr>\n",
       "      <th>3</th>\n",
       "      <td>A</td>\n",
       "      <td>b</td>\n",
       "      <td>s</td>\n",
       "    </tr>\n",
       "    <tr>\n",
       "      <th>4</th>\n",
       "      <td>A</td>\n",
       "      <td>g</td>\n",
       "      <td>m</td>\n",
       "    </tr>\n",
       "    <tr>\n",
       "      <th>5</th>\n",
       "      <td>A</td>\n",
       "      <td>g</td>\n",
       "      <td>s</td>\n",
       "    </tr>\n",
       "    <tr>\n",
       "      <th>6</th>\n",
       "      <td>A</td>\n",
       "      <td>r</td>\n",
       "      <td>m</td>\n",
       "    </tr>\n",
       "    <tr>\n",
       "      <th>7</th>\n",
       "      <td>A</td>\n",
       "      <td>r</td>\n",
       "      <td>s</td>\n",
       "    </tr>\n",
       "    <tr>\n",
       "      <th>8</th>\n",
       "      <td>B</td>\n",
       "      <td>b</td>\n",
       "      <td>m</td>\n",
       "    </tr>\n",
       "    <tr>\n",
       "      <th>9</th>\n",
       "      <td>B</td>\n",
       "      <td>g</td>\n",
       "      <td>l</td>\n",
       "    </tr>\n",
       "    <tr>\n",
       "      <th>10</th>\n",
       "      <td>B</td>\n",
       "      <td>g</td>\n",
       "      <td>l</td>\n",
       "    </tr>\n",
       "    <tr>\n",
       "      <th>11</th>\n",
       "      <td>B</td>\n",
       "      <td>r</td>\n",
       "      <td>s</td>\n",
       "    </tr>\n",
       "    <tr>\n",
       "      <th>12</th>\n",
       "      <td>B</td>\n",
       "      <td>b</td>\n",
       "      <td>m</td>\n",
       "    </tr>\n",
       "    <tr>\n",
       "      <th>13</th>\n",
       "      <td>B</td>\n",
       "      <td>b</td>\n",
       "      <td>m</td>\n",
       "    </tr>\n",
       "    <tr>\n",
       "      <th>14</th>\n",
       "      <td>B</td>\n",
       "      <td>g</td>\n",
       "      <td>l</td>\n",
       "    </tr>\n",
       "  </tbody>\n",
       "</table>\n",
       "</div>"
      ],
      "text/plain": [
       "   labels  x  y\n",
       "0       A  r  m\n",
       "1       A  g  s\n",
       "2       A  r  l\n",
       "3       A  b  s\n",
       "4       A  g  m\n",
       "5       A  g  s\n",
       "6       A  r  m\n",
       "7       A  r  s\n",
       "8       B  b  m\n",
       "9       B  g  l\n",
       "10      B  g  l\n",
       "11      B  r  s\n",
       "12      B  b  m\n",
       "13      B  b  m\n",
       "14      B  g  l"
      ]
     },
     "execution_count": 5,
     "metadata": {},
     "output_type": "execute_result"
    }
   ],
   "source": [
    "data = create_data()\n",
    "data"
   ]
  },
  {
   "cell_type": "code",
   "execution_count": 6,
   "id": "7b141d9c-0148-419b-bef1-146444ee9c02",
   "metadata": {},
   "outputs": [
    {
     "data": {
      "text/plain": [
       "{'A': 0.5333333333333333, 'B': 0.4666666666666667}"
      ]
     },
     "execution_count": 6,
     "metadata": {},
     "output_type": "execute_result"
    }
   ],
   "source": [
    "# 利用先验概率进行 P_labels 概率预设\n",
    "# 直接从数据集里计算label相对总数据的概率，作为先验概率\n",
    "def get_P_labels(labels):\n",
    "    # P(\\text{种类}) 先验概率计算\n",
    "    labels = list(labels)  # 转换为 list 类型\n",
    "    P_label = {}  # 设置空字典用于存入 label 的概率\n",
    "    for label in labels:\n",
    "        # 统计 label 标签在标签集中出现的次数再除以总长度\n",
    "        P_label[label] = labels.count(label) / float(\n",
    "            len(labels)\n",
    "        )  # p = count(y) / count(Y)\n",
    "    return P_label\n",
    "\n",
    "\n",
    "P_labels = get_P_labels(data[\"labels\"])\n",
    "P_labels"
   ]
  },
  {
   "cell_type": "code",
   "execution_count": 7,
   "id": "983113a4-21be-4451-9a9f-10b675653758",
   "metadata": {},
   "outputs": [
    {
     "data": {
      "text/plain": [
       "array([['r', 'm'],\n",
       "       ['g', 's'],\n",
       "       ['r', 'l'],\n",
       "       ['b', 's'],\n",
       "       ['g', 'm'],\n",
       "       ['g', 's'],\n",
       "       ['r', 'm'],\n",
       "       ['r', 's'],\n",
       "       ['b', 'm'],\n",
       "       ['g', 'l'],\n",
       "       ['g', 'l'],\n",
       "       ['r', 's'],\n",
       "       ['b', 'm'],\n",
       "       ['b', 'm'],\n",
       "       ['g', 'l']], dtype=object)"
      ]
     },
     "execution_count": 7,
     "metadata": {},
     "output_type": "execute_result"
    }
   ],
   "source": [
    "import numpy as np\n",
    "\n",
    "# 将 data 中的属性切割出来，即 x 和 y 属性\n",
    "# 取左右行，但是列从第一个开始取\n",
    "train_data = np.array(data.iloc[:, 1:])\n",
    "train_data"
   ]
  },
  {
   "cell_type": "code",
   "execution_count": 9,
   "id": "2171a225-cdd4-4ef2-8661-728fd23f6f14",
   "metadata": {},
   "outputs": [
    {
     "data": {
      "text/plain": [
       "[[0, 1, 2, 3, 4, 5, 6, 7], [8, 9, 10, 11, 12, 13, 14]]"
      ]
     },
     "execution_count": 9,
     "metadata": {},
     "output_type": "execute_result"
    }
   ],
   "source": [
    "labels = data[\"labels\"]\n",
    "label_index = []\n",
    "# 遍历所有的标签，这里就是将标签为 A 和 B 的数据集分开，label_index 中存的是该数据的下标\n",
    "for y in P_labels.keys():\n",
    "    temp_index = []\n",
    "    # enumerate 函数返回 Series 类型数的索引和值，其中 i 为索引，label 为值\n",
    "    for i, label in enumerate(labels):\n",
    "        if label == y:\n",
    "            temp_index.append(i)\n",
    "        else:\n",
    "            pass\n",
    "    label_index.append(temp_index)\n",
    "label_index  # 计算在数据中，每种label的索引"
   ]
  },
  {
   "cell_type": "code",
   "execution_count": 10,
   "id": "fde83576-a4da-49fa-8634-0f291b45e5a9",
   "metadata": {},
   "outputs": [
    {
     "data": {
      "text/plain": [
       "[0, 2, 6, 7, 11]"
      ]
     },
     "execution_count": 10,
     "metadata": {},
     "output_type": "execute_result"
    }
   ],
   "source": [
    "# 遍历 train_data 中的第一列数据，提取出里面内容为r的数据\n",
    "# rgb随便取一个？\n",
    "x_index = [\n",
    "    i for i, feature in enumerate(train_data[:, 0]) if feature == \"r\"\n",
    "]  # 效果等同于求类别索引中 for 循环\n",
    "\n",
    "x_index"
   ]
  },
  {
   "cell_type": "code",
   "execution_count": 11,
   "id": "a8ce5e11-e1f5-4f4f-989b-a947b42be8f0",
   "metadata": {},
   "outputs": [
    {
     "name": "stdout",
     "output_type": "stream",
     "text": [
      "既符合 x = r 又是 A 类别的索引值： {0, 2, 6, 7}\n",
      "先验概率 P(r|A): 0.5\n"
     ]
    }
   ],
   "source": [
    "# 取集合 x_index （x 属性为 r 的数据集合）与集合 label_index[0]（标签为 A 的数据集合）的交集\n",
    "x_label = set(x_index) & set(label_index[0])\n",
    "print(\"既符合 x = r 又是 A 类别的索引值：\", x_label)\n",
    "x_label_count = len(x_label)\n",
    "# 这里就是用类别 A 中的属性 x 为 r 的数据个数除以类别 A 的总个数\n",
    "print(\n",
    "    \"先验概率 P(r|A):\", x_label_count / float(len(label_index[0]))\n",
    ")  # 先验概率的计算公式"
   ]
  },
  {
   "cell_type": "code",
   "execution_count": 21,
   "id": "3b20f080-1db3-4191-84c5-9d5319d47966",
   "metadata": {},
   "outputs": [
    {
     "name": "stdout",
     "output_type": "stream",
     "text": [
      "P_label P(A)、P(B)的先验概率: {'A': 0.5333333333333333, 'B': 0.4666666666666667}\n",
      "P_label.keys(): dict_keys(['A', 'B'])\n",
      "\n",
      "label_index P(each_label)的数量： [0, 1, 2, 3, 4, 5, 6, 7]\n",
      "feature_index r： [0, 2, 6, 7, 11]\n",
      "feature_index m： [0, 4, 6, 8, 12, 13]\n",
      "\n",
      "label_index P(each_label)的数量： [8, 9, 10, 11, 12, 13, 14]\n",
      "feature_index r： [0, 2, 6, 7, 11]\n",
      "feature_index m： [0, 4, 6, 8, 12, 13]\n",
      "\n"
     ]
    },
    {
     "data": {
      "text/plain": [
       "{'r|A': 0.5,\n",
       " 'm|A': 0.375,\n",
       " 'r|B': 0.14285714285714285,\n",
       " 'm|B': 0.42857142857142855}"
      ]
     },
     "execution_count": 21,
     "metadata": {},
     "output_type": "execute_result"
    }
   ],
   "source": [
    "# 计算先验概率\n",
    "# 既符合 x = xi 又是 y 类别的索引值，即 P(特征 | 种类)\n",
    "# p(x=xi,y) / p(y) 即 找出既是x = r 又是 y = A 的数据，再除以 y = A 的数据\n",
    "\n",
    "\n",
    "def get_P_fea_lab(P_label, features, data):\n",
    "    # P(\\text{特征}∣种类) 先验概率计算\n",
    "    # 该函数就是求 种类为 P_label 条件下特征为 features 的概率\n",
    "    P_fea_lab = {}\n",
    "    train_data = data.iloc[:, 1:]\n",
    "    train_data = np.array(train_data)\n",
    "    labels = data[\"labels\"]\n",
    "    print(f\"P_label P(A)、P(B)的先验概率: {P_label}\")\n",
    "    print(f\"P_label.keys(): { P_label.keys()}\")\n",
    "    print()\n",
    "    # 遍历所有的标签\n",
    "    for each_label in P_label.keys():\n",
    "        # 上面代码的另一种写法，这里就是将标签为 A 和 B 的数据集分开，label_index 中存的是该数据的下标\n",
    "        label_index = [i for i, label in enumerate(labels) if label == each_label]\n",
    "\n",
    "        print(f\"label_index P(each_label)的数量： {label_index}\")\n",
    "\n",
    "        # 遍历该属性下的所有取值\n",
    "        # 求出每种标签下，该属性取每种值的概率\n",
    "        for j in range(len(features)):\n",
    "            # 筛选出该属性下属性值为 features[j] 的数据\n",
    "            feature_index = [\n",
    "                i\n",
    "                for i, feature in enumerate(train_data[:, j])\n",
    "                if feature == features[j]\n",
    "            ]\n",
    "\n",
    "            print(f\"feature_index {features[j]}： {feature_index}\")\n",
    "\n",
    "            # set(x_index)&set(y_index) 取交集，得到标签值为 each_label,属性值为 features[j] 的数据集合\n",
    "            # 例：既是x = r 又是 y = A 的数据量\n",
    "            fea_lab_count = len(set(feature_index) & set(label_index))\n",
    "            key = str(features[j]) + \"|\" + str(each_label)  # 拼接字符串\n",
    "\n",
    "            # 计算先验概率\n",
    "            # 计算 labels 为 each_label下，featurs 为 features[j] 的概率值\n",
    "            # 既是x = r 又是 y = A 的数据量 /\n",
    "            P_fea_lab[key] = fea_lab_count / float(len(label_index))\n",
    "        print()\n",
    "    return P_fea_lab\n",
    "\n",
    "\n",
    "features = [\"r\", \"m\"]\n",
    "# 得出的是，当 y = yi 的时候，x = xi的概率，即 P(特征 | 种类)\n",
    "get_P_fea_lab(P_labels, features, data)"
   ]
  },
  {
   "cell_type": "code",
   "execution_count": null,
   "id": "e547512f-1ad9-40dd-8776-a67fe40cb7d6",
   "metadata": {},
   "outputs": [],
   "source": []
  },
  {
   "cell_type": "code",
   "execution_count": 28,
   "id": "bf58c7da-0d81-44bc-801b-350bc1dcc933",
   "metadata": {},
   "outputs": [],
   "source": [
    "# 1.求出所有 label 的先验概率,极大似然估计  P(A)、P(B) \n",
    "# 2.求出每个 feature 的先验概率，极大似然估计  P(r | A)、P(r | B)、P(m | A)、P(m | B)\n",
    "# 3.计算总特征下的概率 P(A | [r,m]) \n",
    "def classify(data, features):\n",
    "    # 朴素贝叶斯分类器\n",
    "    # 求 labels 中每个 label 的先验概率\n",
    "    labels = data[\"labels\"]\n",
    "    # 这里也就是求 P（B），P_label 为一个字典，存的是每个 B 对应的 P(B)\n",
    "    P_label = get_P_labels(labels)\n",
    "    P_fea_lab = get_P_fea_lab(P_label, features, data)  # 这里是在求 P（A|B）\n",
    "\n",
    "    print(f\"classify P_label:{P_label}\")\n",
    "    print(f\"classify P_fea_lab:{P_fea_lab}\")\n",
    "    P = {}\n",
    "    P_show = {}  # 后验概率\n",
    "    for each_label in P_label:\n",
    "        P[each_label] = P_label[each_label]\n",
    "        # 遍历每个标签下的每种属性\n",
    "        for each_feature in features:\n",
    "            # 拼接字符串为 P(B/A) 用于字典的键值\n",
    "            # A | [r,m]\n",
    "            key = str(each_label) + \"|\" + str(features)\n",
    "\n",
    "            # r | A, m | A......\n",
    "            show_key = str(each_feature) + \"|\" + str(each_label)\n",
    "\n",
    "            # 计算 P(B/A) = P(B) * P(A/B) 因为所有的后验概率，分母相同。因此，在计算时可以忽略掉。\n",
    "            # P(A | [r,m]) = P(A) * P(r | A) * P(m | A)\n",
    "            \n",
    "            # 对于公式：P(B | A) = P(A | B) * P(B) / P(A)\n",
    "            # A = [r,m],B = A,则有 P(A,[r,m]) = P([r,m] | A) * P(A) / P([r,m])\n",
    "            # P([r,m] | A) = P(r | A) * P(m | A)\n",
    "            # P([r,m])?\n",
    "            # 则有 P(A,[r,m]) = P(r | A) * P(m | A) * P(A) / ?\n",
    "            # 通常我们只关心哪个后验概率最大，而不需要精确的概率值，所以分母一样的情况下可以忽略，则有 P(A,[r,m]) = P(r | A) * P(m | A) * P(A)\n",
    "            temp_value = P[each_label] * P_fea_lab[show_key]\n",
    "            \n",
    "            P_show[key] = temp_value\n",
    "            # 把刚才算的概率放到 P 列表里面，这个 P 列表的键值变成了标签。\n",
    "            # 这样做的目的，其实是为了在后面取最大时，取出就是标签，而不是 标签|特征\n",
    "            P[each_label] = temp_value\n",
    "    print()\n",
    "    # 输出 P_show 和 P 观察，发现他们的概率值没有变，只是字典的 key 值变了\n",
    "    print(P_show)\n",
    "    print(P)\n",
    "    features_label = max(P, key=P.get)  # 概率最大值对应的类别\n",
    "    return features_label"
   ]
  },
  {
   "cell_type": "code",
   "execution_count": 29,
   "id": "a575dcca-e095-475d-958e-266f0563abed",
   "metadata": {},
   "outputs": [
    {
     "name": "stdout",
     "output_type": "stream",
     "text": [
      "P_label P(A)、P(B)的先验概率: {'A': 0.5333333333333333, 'B': 0.4666666666666667}\n",
      "P_label.keys(): dict_keys(['A', 'B'])\n",
      "\n",
      "label_index P(each_label)的数量： [0, 1, 2, 3, 4, 5, 6, 7]\n",
      "feature_index r： [0, 2, 6, 7, 11]\n",
      "feature_index m： [0, 4, 6, 8, 12, 13]\n",
      "\n",
      "label_index P(each_label)的数量： [8, 9, 10, 11, 12, 13, 14]\n",
      "feature_index r： [0, 2, 6, 7, 11]\n",
      "feature_index m： [0, 4, 6, 8, 12, 13]\n",
      "\n",
      "classify P_label:{'A': 0.5333333333333333, 'B': 0.4666666666666667}\n",
      "classify P_fea_lab:{'r|A': 0.5, 'm|A': 0.375, 'r|B': 0.14285714285714285, 'm|B': 0.42857142857142855}\n",
      "\n",
      "{\"A|['r', 'm']\": 0.1, \"B|['r', 'm']\": 0.02857142857142857}\n",
      "{'A': 0.1, 'B': 0.02857142857142857}\n"
     ]
    },
    {
     "data": {
      "text/plain": [
       "'A'"
      ]
     },
     "execution_count": 29,
     "metadata": {},
     "output_type": "execute_result"
    }
   ],
   "source": [
    "classify(data, [\"r\", \"m\"])"
   ]
  },
  {
   "cell_type": "code",
   "execution_count": null,
   "id": "f06da218-0724-402c-8e2b-d94e014a08ed",
   "metadata": {},
   "outputs": [],
   "source": []
  }
 ],
 "metadata": {
  "kernelspec": {
   "display_name": "Python 3 (ipykernel)",
   "language": "python",
   "name": "python3"
  },
  "language_info": {
   "codemirror_mode": {
    "name": "ipython",
    "version": 3
   },
   "file_extension": ".py",
   "mimetype": "text/x-python",
   "name": "python",
   "nbconvert_exporter": "python",
   "pygments_lexer": "ipython3",
   "version": "3.11.8"
  }
 },
 "nbformat": 4,
 "nbformat_minor": 5
}
